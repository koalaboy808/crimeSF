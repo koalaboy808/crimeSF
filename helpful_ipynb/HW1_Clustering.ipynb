{
 "cells": [
  {
   "cell_type": "code",
   "execution_count": 27,
   "metadata": {
    "collapsed": true
   },
   "outputs": [],
   "source": [
    "## import all necessary packages\n",
    "import time\n",
    "import json\n",
    "\n",
    "import numpy as np\n",
    "import matplotlib.pyplot as plt\n",
    "\n",
    "from pandas import *\n",
    "\n",
    "from sklearn.cluster import MiniBatchKMeans, KMeans\n",
    "from sklearn.metrics.pairwise import pairwise_distances_argmin\n",
    "from sklearn.datasets.samples_generator import make_blobs\n",
    "from sklearn.cluster import DBSCAN\n",
    "from sklearn import metrics\n",
    "from sklearn.datasets.samples_generator import make_blobs\n",
    "from sklearn.preprocessing import StandardScaler\n",
    "\n",
    "%matplotlib inline\n",
    "import matplotlib.pyplot as plt"
   ]
  },
  {
   "cell_type": "markdown",
   "metadata": {},
   "source": [
    "# Part 1. Clustering: the baseline (20 points).\n",
    "**1. Write a script that applies the k-means clustering method to the 100K subset. Measure a\n",
    "typical processing time. Experimentally detect the maximum number of clusters k that\n",
    "can be handled with the implementation of the algorithm you are using.**"
   ]
  },
  {
   "cell_type": "code",
   "execution_count": 28,
   "metadata": {
    "collapsed": true
   },
   "outputs": [],
   "source": [
    "with open('tweets_1M.json','r') as f:\n",
    "    tweets = json.load(f)"
   ]
  },
  {
   "cell_type": "code",
   "execution_count": 29,
   "metadata": {
    "collapsed": false
   },
   "outputs": [
    {
     "data": {
      "text/plain": [
       "1000000"
      ]
     },
     "execution_count": 29,
     "metadata": {},
     "output_type": "execute_result"
    }
   ],
   "source": [
    "len(tweets)"
   ]
  },
  {
   "cell_type": "code",
   "execution_count": 30,
   "metadata": {
    "collapsed": false
   },
   "outputs": [
    {
     "data": {
      "text/plain": [
       "100000"
      ]
     },
     "execution_count": 30,
     "metadata": {},
     "output_type": "execute_result"
    }
   ],
   "source": [
    "subset_tweets = tweets[:100000]\n",
    "len(subset_tweets)"
   ]
  },
  {
   "cell_type": "code",
   "execution_count": 31,
   "metadata": {
    "collapsed": false
   },
   "outputs": [
    {
     "data": {
      "text/html": [
       "<div>\n",
       "<table border=\"1\" class=\"dataframe\">\n",
       "  <thead>\n",
       "    <tr style=\"text-align: right;\">\n",
       "      <th></th>\n",
       "      <th>id</th>\n",
       "      <th>lat</th>\n",
       "      <th>lng</th>\n",
       "      <th>text</th>\n",
       "      <th>timeStamp</th>\n",
       "      <th>user_id</th>\n",
       "    </tr>\n",
       "  </thead>\n",
       "  <tbody>\n",
       "    <tr>\n",
       "      <th>0</th>\n",
       "      <td>377652254096228352</td>\n",
       "      <td>37.446100</td>\n",
       "      <td>-121.883557</td>\n",
       "      <td>@Tanner_Cortez hey checkout the website: http:...</td>\n",
       "      <td>Wed Sep 11 04:38:08 +0000 2013</td>\n",
       "      <td>224874450</td>\n",
       "    </tr>\n",
       "    <tr>\n",
       "      <th>1</th>\n",
       "      <td>377652255346159616</td>\n",
       "      <td>34.087406</td>\n",
       "      <td>-117.462604</td>\n",
       "      <td>@Lennayy7 😪</td>\n",
       "      <td>Wed Sep 11 04:38:08 +0000 2013</td>\n",
       "      <td>312179473</td>\n",
       "    </tr>\n",
       "    <tr>\n",
       "      <th>2</th>\n",
       "      <td>377652262325456897</td>\n",
       "      <td>37.356131</td>\n",
       "      <td>-121.842867</td>\n",
       "      <td>i laugh a lot with that line</td>\n",
       "      <td>Wed Sep 11 04:38:10 +0000 2013</td>\n",
       "      <td>54351774</td>\n",
       "    </tr>\n",
       "    <tr>\n",
       "      <th>3</th>\n",
       "      <td>377652264682655744</td>\n",
       "      <td>37.364664</td>\n",
       "      <td>-122.009629</td>\n",
       "      <td>sons of anarchy is back on woop woop</td>\n",
       "      <td>Wed Sep 11 04:38:11 +0000 2013</td>\n",
       "      <td>343219606</td>\n",
       "    </tr>\n",
       "    <tr>\n",
       "      <th>4</th>\n",
       "      <td>377652271116722176</td>\n",
       "      <td>37.382600</td>\n",
       "      <td>-121.995000</td>\n",
       "      <td>Drinking a Fresh Squeezed IPA by @deschutesbee...</td>\n",
       "      <td>Wed Sep 11 04:38:12 +0000 2013</td>\n",
       "      <td>1569395935</td>\n",
       "    </tr>\n",
       "  </tbody>\n",
       "</table>\n",
       "</div>"
      ],
      "text/plain": [
       "                   id        lat         lng  \\\n",
       "0  377652254096228352  37.446100 -121.883557   \n",
       "1  377652255346159616  34.087406 -117.462604   \n",
       "2  377652262325456897  37.356131 -121.842867   \n",
       "3  377652264682655744  37.364664 -122.009629   \n",
       "4  377652271116722176  37.382600 -121.995000   \n",
       "\n",
       "                                                text  \\\n",
       "0  @Tanner_Cortez hey checkout the website: http:...   \n",
       "1                                        @Lennayy7 😪   \n",
       "2                       i laugh a lot with that line   \n",
       "3               sons of anarchy is back on woop woop   \n",
       "4  Drinking a Fresh Squeezed IPA by @deschutesbee...   \n",
       "\n",
       "                        timeStamp     user_id  \n",
       "0  Wed Sep 11 04:38:08 +0000 2013   224874450  \n",
       "1  Wed Sep 11 04:38:08 +0000 2013   312179473  \n",
       "2  Wed Sep 11 04:38:10 +0000 2013    54351774  \n",
       "3  Wed Sep 11 04:38:11 +0000 2013   343219606  \n",
       "4  Wed Sep 11 04:38:12 +0000 2013  1569395935  "
      ]
     },
     "execution_count": 31,
     "metadata": {},
     "output_type": "execute_result"
    }
   ],
   "source": [
    "#subset_tweets[:5]\n",
    "tweet_df = DataFrame(subset_tweets)\n",
    "tweet_df.head()"
   ]
  },
  {
   "cell_type": "code",
   "execution_count": 68,
   "metadata": {
    "collapsed": false
   },
   "outputs": [
    {
     "name": "stdout",
     "output_type": "stream",
     "text": [
      "100000\n",
      "[[3358.915169103, -13736.276859249001], [3057.640302951, -13238.035471927002], [3350.84495967, -13731.691155980001], [3351.610399371, -13750.485163506], [3353.21922, -13748.836500000001]]\n"
     ]
    }
   ],
   "source": [
    "# convert json into list of lat and long\n",
    "coordinate_tweets = [value for item in subset_tweets for key,value in item.items() if key in ['lat','lng']]\n",
    "\n",
    "pair_coordinates = []\n",
    "for i,k in zip(coordinate_tweets[0::2], coordinate_tweets[1::2]):\n",
    "    pair_coordinates.append([k,i])\n",
    "\n",
    "# convert pair to meters\n",
    "pair_coordinates = [[item[0]*89.7, item[1]*112.7] for item in pair_coordinates]\n",
    "\n",
    "print(len(pair_coordinates))\n",
    "print(pair_coordinates[:5])\n"
   ]
  },
  {
   "cell_type": "code",
   "execution_count": 69,
   "metadata": {
    "collapsed": false
   },
   "outputs": [
    {
     "data": {
      "text/plain": [
       "<matplotlib.collections.PathCollection at 0x15b0edc50>"
      ]
     },
     "execution_count": 69,
     "metadata": {},
     "output_type": "execute_result"
    },
    {
     "data": {
      "image/png": "[encoded data removed]",
      "text/plain": [
       "<matplotlib.figure.Figure at 0x15ab64588>"
      ]
     },
     "metadata": {},
     "output_type": "display_data"
    }
   ],
   "source": [
    "# create scater plot\n",
    "lat = [x[0] for x in pair_coordinates]\n",
    "long = [x[1] for x in pair_coordinates]\n",
    "plt.scatter(lat, long, marker=u'.')"
   ]
  },
  {
   "cell_type": "code",
   "execution_count": 70,
   "metadata": {
    "collapsed": false
   },
   "outputs": [
    {
     "name": "stdout",
     "output_type": "stream",
     "text": [
      "0.530174970626831\n"
     ]
    }
   ],
   "source": [
    "# testing how KMeans works\n",
    "k_means = KMeans(init='k-means++', n_clusters=3, n_init=10)\n",
    "t0 = time.time()\n",
    "k_means.fit(pair_coordinates)\n",
    "t_batch = time.time() - t0\n",
    "k_means_labels = k_means.labels_                       \n",
    "k_means_cluster_centers = k_means.cluster_centers_     \n",
    "k_means_labels_unique = np.unique(k_means_labels)      \n",
    "print(t_batch)"
   ]
  },
  {
   "cell_type": "code",
   "execution_count": 71,
   "metadata": {
    "collapsed": false
   },
   "outputs": [
    {
     "name": "stdout",
     "output_type": "stream",
     "text": [
      "the cluster centers through k_means are: [[  3437.67777789 -13667.74174164]\n",
      " [  3046.77374518 -13264.46290665]\n",
      " [  3370.78817178 -13767.02349929]]\n",
      "the unique cluster labels are: [0 1 2]\n"
     ]
    }
   ],
   "source": [
    "print(\"the cluster centers through k_means are: {0}\".format(k_means_cluster_centers))\n",
    "print(\"the unique cluster labels are: {0}\".format(k_means_labels_unique))"
   ]
  },
  {
   "cell_type": "code",
   "execution_count": 72,
   "metadata": {
    "collapsed": false
   },
   "outputs": [],
   "source": [
    "# create function for k_means in order to loop over cluster_size\n",
    "def k_means_time(cluster_size):\n",
    "    k_means = KMeans(init='k-means++', n_clusters=cluster_size, n_init=10)\n",
    "    t0 = time.time()\n",
    "    k_means.fit(pair_coordinates)\n",
    "    t_batch = time.time() - t0\n",
    "    return t_batch\n",
    "\n",
    "k_means_interval = []\n",
    "for x in range(1,50):\n",
    "    k_means_interval.append((x,round(k_means_time(x),2)))\n",
    "    "
   ]
  },
  {
   "cell_type": "code",
   "execution_count": 73,
   "metadata": {
    "collapsed": false
   },
   "outputs": [
    {
     "data": {
      "text/html": [
       "<div>\n",
       "<table border=\"1\" class=\"dataframe\">\n",
       "  <thead>\n",
       "    <tr style=\"text-align: right;\">\n",
       "      <th></th>\n",
       "      <th>0</th>\n",
       "      <th>1</th>\n",
       "    </tr>\n",
       "  </thead>\n",
       "  <tbody>\n",
       "    <tr>\n",
       "      <th>0</th>\n",
       "      <td>1</td>\n",
       "      <td>0.13</td>\n",
       "    </tr>\n",
       "    <tr>\n",
       "      <th>1</th>\n",
       "      <td>2</td>\n",
       "      <td>0.17</td>\n",
       "    </tr>\n",
       "    <tr>\n",
       "      <th>2</th>\n",
       "      <td>3</td>\n",
       "      <td>0.49</td>\n",
       "    </tr>\n",
       "    <tr>\n",
       "      <th>3</th>\n",
       "      <td>4</td>\n",
       "      <td>0.66</td>\n",
       "    </tr>\n",
       "    <tr>\n",
       "      <th>4</th>\n",
       "      <td>5</td>\n",
       "      <td>0.74</td>\n",
       "    </tr>\n",
       "    <tr>\n",
       "      <th>5</th>\n",
       "      <td>6</td>\n",
       "      <td>1.00</td>\n",
       "    </tr>\n",
       "    <tr>\n",
       "      <th>6</th>\n",
       "      <td>7</td>\n",
       "      <td>1.02</td>\n",
       "    </tr>\n",
       "    <tr>\n",
       "      <th>7</th>\n",
       "      <td>8</td>\n",
       "      <td>1.40</td>\n",
       "    </tr>\n",
       "    <tr>\n",
       "      <th>8</th>\n",
       "      <td>9</td>\n",
       "      <td>1.79</td>\n",
       "    </tr>\n",
       "    <tr>\n",
       "      <th>9</th>\n",
       "      <td>10</td>\n",
       "      <td>1.73</td>\n",
       "    </tr>\n",
       "    <tr>\n",
       "      <th>10</th>\n",
       "      <td>11</td>\n",
       "      <td>1.97</td>\n",
       "    </tr>\n",
       "    <tr>\n",
       "      <th>11</th>\n",
       "      <td>12</td>\n",
       "      <td>1.86</td>\n",
       "    </tr>\n",
       "    <tr>\n",
       "      <th>12</th>\n",
       "      <td>13</td>\n",
       "      <td>2.07</td>\n",
       "    </tr>\n",
       "    <tr>\n",
       "      <th>13</th>\n",
       "      <td>14</td>\n",
       "      <td>2.75</td>\n",
       "    </tr>\n",
       "    <tr>\n",
       "      <th>14</th>\n",
       "      <td>15</td>\n",
       "      <td>2.91</td>\n",
       "    </tr>\n",
       "    <tr>\n",
       "      <th>15</th>\n",
       "      <td>16</td>\n",
       "      <td>2.35</td>\n",
       "    </tr>\n",
       "    <tr>\n",
       "      <th>16</th>\n",
       "      <td>17</td>\n",
       "      <td>3.20</td>\n",
       "    </tr>\n",
       "    <tr>\n",
       "      <th>17</th>\n",
       "      <td>18</td>\n",
       "      <td>3.30</td>\n",
       "    </tr>\n",
       "    <tr>\n",
       "      <th>18</th>\n",
       "      <td>19</td>\n",
       "      <td>2.73</td>\n",
       "    </tr>\n",
       "    <tr>\n",
       "      <th>19</th>\n",
       "      <td>20</td>\n",
       "      <td>2.83</td>\n",
       "    </tr>\n",
       "    <tr>\n",
       "      <th>20</th>\n",
       "      <td>21</td>\n",
       "      <td>3.43</td>\n",
       "    </tr>\n",
       "    <tr>\n",
       "      <th>21</th>\n",
       "      <td>22</td>\n",
       "      <td>4.71</td>\n",
       "    </tr>\n",
       "    <tr>\n",
       "      <th>22</th>\n",
       "      <td>23</td>\n",
       "      <td>3.72</td>\n",
       "    </tr>\n",
       "    <tr>\n",
       "      <th>23</th>\n",
       "      <td>24</td>\n",
       "      <td>4.25</td>\n",
       "    </tr>\n",
       "    <tr>\n",
       "      <th>24</th>\n",
       "      <td>25</td>\n",
       "      <td>3.60</td>\n",
       "    </tr>\n",
       "    <tr>\n",
       "      <th>25</th>\n",
       "      <td>26</td>\n",
       "      <td>4.53</td>\n",
       "    </tr>\n",
       "    <tr>\n",
       "      <th>26</th>\n",
       "      <td>27</td>\n",
       "      <td>4.34</td>\n",
       "    </tr>\n",
       "    <tr>\n",
       "      <th>27</th>\n",
       "      <td>28</td>\n",
       "      <td>4.52</td>\n",
       "    </tr>\n",
       "    <tr>\n",
       "      <th>28</th>\n",
       "      <td>29</td>\n",
       "      <td>5.41</td>\n",
       "    </tr>\n",
       "    <tr>\n",
       "      <th>29</th>\n",
       "      <td>30</td>\n",
       "      <td>5.27</td>\n",
       "    </tr>\n",
       "    <tr>\n",
       "      <th>30</th>\n",
       "      <td>31</td>\n",
       "      <td>5.53</td>\n",
       "    </tr>\n",
       "    <tr>\n",
       "      <th>31</th>\n",
       "      <td>32</td>\n",
       "      <td>5.03</td>\n",
       "    </tr>\n",
       "    <tr>\n",
       "      <th>32</th>\n",
       "      <td>33</td>\n",
       "      <td>4.92</td>\n",
       "    </tr>\n",
       "    <tr>\n",
       "      <th>33</th>\n",
       "      <td>34</td>\n",
       "      <td>5.25</td>\n",
       "    </tr>\n",
       "    <tr>\n",
       "      <th>34</th>\n",
       "      <td>35</td>\n",
       "      <td>5.09</td>\n",
       "    </tr>\n",
       "    <tr>\n",
       "      <th>35</th>\n",
       "      <td>36</td>\n",
       "      <td>5.43</td>\n",
       "    </tr>\n",
       "    <tr>\n",
       "      <th>36</th>\n",
       "      <td>37</td>\n",
       "      <td>5.34</td>\n",
       "    </tr>\n",
       "    <tr>\n",
       "      <th>37</th>\n",
       "      <td>38</td>\n",
       "      <td>6.22</td>\n",
       "    </tr>\n",
       "    <tr>\n",
       "      <th>38</th>\n",
       "      <td>39</td>\n",
       "      <td>6.24</td>\n",
       "    </tr>\n",
       "    <tr>\n",
       "      <th>39</th>\n",
       "      <td>40</td>\n",
       "      <td>6.15</td>\n",
       "    </tr>\n",
       "    <tr>\n",
       "      <th>40</th>\n",
       "      <td>41</td>\n",
       "      <td>6.49</td>\n",
       "    </tr>\n",
       "    <tr>\n",
       "      <th>41</th>\n",
       "      <td>42</td>\n",
       "      <td>6.48</td>\n",
       "    </tr>\n",
       "    <tr>\n",
       "      <th>42</th>\n",
       "      <td>43</td>\n",
       "      <td>6.12</td>\n",
       "    </tr>\n",
       "    <tr>\n",
       "      <th>43</th>\n",
       "      <td>44</td>\n",
       "      <td>6.92</td>\n",
       "    </tr>\n",
       "    <tr>\n",
       "      <th>44</th>\n",
       "      <td>45</td>\n",
       "      <td>7.38</td>\n",
       "    </tr>\n",
       "    <tr>\n",
       "      <th>45</th>\n",
       "      <td>46</td>\n",
       "      <td>6.35</td>\n",
       "    </tr>\n",
       "    <tr>\n",
       "      <th>46</th>\n",
       "      <td>47</td>\n",
       "      <td>6.85</td>\n",
       "    </tr>\n",
       "    <tr>\n",
       "      <th>47</th>\n",
       "      <td>48</td>\n",
       "      <td>6.90</td>\n",
       "    </tr>\n",
       "    <tr>\n",
       "      <th>48</th>\n",
       "      <td>49</td>\n",
       "      <td>7.01</td>\n",
       "    </tr>\n",
       "  </tbody>\n",
       "</table>\n",
       "</div>"
      ],
      "text/plain": [
       "     0     1\n",
       "0    1  0.13\n",
       "1    2  0.17\n",
       "2    3  0.49\n",
       "3    4  0.66\n",
       "4    5  0.74\n",
       "5    6  1.00\n",
       "6    7  1.02\n",
       "7    8  1.40\n",
       "8    9  1.79\n",
       "9   10  1.73\n",
       "10  11  1.97\n",
       "11  12  1.86\n",
       "12  13  2.07\n",
       "13  14  2.75\n",
       "14  15  2.91\n",
       "15  16  2.35\n",
       "16  17  3.20\n",
       "17  18  3.30\n",
       "18  19  2.73\n",
       "19  20  2.83\n",
       "20  21  3.43\n",
       "21  22  4.71\n",
       "22  23  3.72\n",
       "23  24  4.25\n",
       "24  25  3.60\n",
       "25  26  4.53\n",
       "26  27  4.34\n",
       "27  28  4.52\n",
       "28  29  5.41\n",
       "29  30  5.27\n",
       "30  31  5.53\n",
       "31  32  5.03\n",
       "32  33  4.92\n",
       "33  34  5.25\n",
       "34  35  5.09\n",
       "35  36  5.43\n",
       "36  37  5.34\n",
       "37  38  6.22\n",
       "38  39  6.24\n",
       "39  40  6.15\n",
       "40  41  6.49\n",
       "41  42  6.48\n",
       "42  43  6.12\n",
       "43  44  6.92\n",
       "44  45  7.38\n",
       "45  46  6.35\n",
       "46  47  6.85\n",
       "47  48  6.90\n",
       "48  49  7.01"
      ]
     },
     "execution_count": 73,
     "metadata": {},
     "output_type": "execute_result"
    }
   ],
   "source": [
    "interval_df = DataFrame(k_means_interval)\n",
    "interval_df"
   ]
  },
  {
   "cell_type": "code",
   "execution_count": 74,
   "metadata": {
    "collapsed": false
   },
   "outputs": [
    {
     "data": {
      "text/plain": [
       "[<matplotlib.lines.Line2D at 0x15b434ba8>]"
      ]
     },
     "execution_count": 74,
     "metadata": {},
     "output_type": "execute_result"
    },
    {
     "data": {
      "image/png": "[encoded data removed]",
      "text/plain": [
       "<matplotlib.figure.Figure at 0x15b31e908>"
      ]
     },
     "metadata": {},
     "output_type": "display_data"
    }
   ],
   "source": [
    "plt.plot(interval_df[0],interval_df[1])"
   ]
  },
  {
   "cell_type": "markdown",
   "metadata": {},
   "source": [
    "### Cluster Size of 100"
   ]
  },
  {
   "cell_type": "code",
   "execution_count": 75,
   "metadata": {
    "collapsed": false
   },
   "outputs": [
    {
     "data": {
      "text/plain": [
       "14.681398868560791"
      ]
     },
     "execution_count": 75,
     "metadata": {},
     "output_type": "execute_result"
    }
   ],
   "source": [
    "k_means_time(100)"
   ]
  },
  {
   "cell_type": "markdown",
   "metadata": {},
   "source": [
    "### Cluster Size of 500"
   ]
  },
  {
   "cell_type": "code",
   "execution_count": 76,
   "metadata": {
    "collapsed": false
   },
   "outputs": [
    {
     "data": {
      "text/plain": [
       "76.9750509262085"
      ]
     },
     "execution_count": 76,
     "metadata": {},
     "output_type": "execute_result"
    }
   ],
   "source": [
    "k_means_time(500)"
   ]
  },
  {
   "cell_type": "markdown",
   "metadata": {},
   "source": [
    "### Cluster Size of 1000"
   ]
  },
  {
   "cell_type": "code",
   "execution_count": 77,
   "metadata": {
    "collapsed": false
   },
   "outputs": [
    {
     "data": {
      "text/plain": [
       "135.70429491996765"
      ]
     },
     "execution_count": 77,
     "metadata": {},
     "output_type": "execute_result"
    }
   ],
   "source": [
    "k_means_time(1000)"
   ]
  },
  {
   "cell_type": "markdown",
   "metadata": {},
   "source": [
    "## Conclusion part 1 k-means:\n",
    "from 20 clusters to 100 clusters (ie x5) takes a difference of ~10 seconds, while 100 clusters to 500 clusters (ie again x5) takes a difference of ~60 seconds, meaning each cluster takes exponentially more time. However, there doesn't seem to a bottleneck\n",
    "\n",
    "**2. Write a script that applies the MiniBatch k-means method to the 100K subset. Select an\n",
    "appropriate value of a batch size. Measure and note the gain in computational time.\n",
    "Evaluate the maximum number of clusters k that can be handled with the implementation\n",
    "of the algorithm you are using.**"
   ]
  },
  {
   "cell_type": "code",
   "execution_count": 78,
   "metadata": {
    "collapsed": true
   },
   "outputs": [],
   "source": [
    "# create mini batch function that takes clustersize and batchsize as parameters\n",
    "def mbk_time(cluster_size, batch_size):\n",
    "    mbk = MiniBatchKMeans(init='k-means++', n_clusters=cluster_size, batch_size=batch_size,\n",
    "                      n_init=10, max_no_improvement=10, verbose=0)\n",
    "    t0 = time.time()\n",
    "    mbk.fit(pair_coordinates)\n",
    "    t_mini_batch = time.time() - t0\n",
    "    return t_mini_batch"
   ]
  },
  {
   "cell_type": "code",
   "execution_count": 79,
   "metadata": {
    "collapsed": false
   },
   "outputs": [],
   "source": [
    "# Find optimal batch size first\n",
    "# keep cluster size content the same (n=3) and see where batch size is optimal\n",
    "mbk_means_batch = []\n",
    "x = 10\n",
    "while x < 2000:\n",
    "    mbk_means_batch.append((x,round(mbk_time(cluster_size=3, batch_size=x),2)))\n",
    "    x += 10"
   ]
  },
  {
   "cell_type": "code",
   "execution_count": 80,
   "metadata": {
    "collapsed": false
   },
   "outputs": [
    {
     "data": {
      "text/plain": [
       "<matplotlib.axes._subplots.AxesSubplot at 0x15b3c6eb8>"
      ]
     },
     "execution_count": 80,
     "metadata": {},
     "output_type": "execute_result"
    },
    {
     "data": {
      "image/png": "[encoded data removed]",
      "text/plain": [
       "<matplotlib.figure.Figure at 0x15b6188d0>"
      ]
     },
     "metadata": {},
     "output_type": "display_data"
    }
   ],
   "source": [
    "# plot optimal max size\n",
    "mbk_batch_df = DataFrame(mbk_means_batch)\n",
    "mbk_batch_df.columns = ['batch_size', 'mbk_time_batch']\n",
    "mbk_batch_df.plot(x = 'batch_size',y = 'mbk_time_batch')"
   ]
  },
  {
   "cell_type": "code",
   "execution_count": 81,
   "metadata": {
    "collapsed": false
   },
   "outputs": [
    {
     "name": "stdout",
     "output_type": "stream",
     "text": [
      "[ 600  620  640  730  830  880  930 1010 1020 1060 1090 1110 1120 1130 1180\n",
      " 1260 1270 1290 1330 1340 1370 1380 1390 1400 1490 1500 1510 1600 1610]\n"
     ]
    }
   ],
   "source": [
    "# minimum batch around 1000\n",
    "min_batch = mbk_batch_df['batch_size'][mbk_batch_df['mbk_time_batch']==mbk_batch_df['mbk_time_batch'].min()].values\n",
    "print(min_batch)"
   ]
  },
  {
   "cell_type": "code",
   "execution_count": 82,
   "metadata": {
    "collapsed": false
   },
   "outputs": [],
   "source": [
    "# Find optimal cluster size using 1000 as the batchsize\n",
    "# keep cluster size content the same (n=3) and see where batch size is optimal\n",
    "mbk_means_cluster = []\n",
    "x = 10\n",
    "while x < 500:\n",
    "    mbk_means_cluster.append((x,round(mbk_time(cluster_size=x, batch_size=1200),2)))\n",
    "    x += 10"
   ]
  },
  {
   "cell_type": "code",
   "execution_count": 83,
   "metadata": {
    "collapsed": false
   },
   "outputs": [
    {
     "data": {
      "text/plain": [
       "<matplotlib.axes._subplots.AxesSubplot at 0x15b4b3c50>"
      ]
     },
     "execution_count": 83,
     "metadata": {},
     "output_type": "execute_result"
    },
    {
     "data": {
      "image/png": "[encoded data removed]",
      "text/plain": [
       "<matplotlib.figure.Figure at 0x15b7194a8>"
      ]
     },
     "metadata": {},
     "output_type": "display_data"
    }
   ],
   "source": [
    "# plot optimal max size\n",
    "mbk_cluster_df = DataFrame(mbk_means_cluster)\n",
    "mbk_cluster_df.columns = ['cluster_size', 'mbk_cluster_time']\n",
    "mbk_cluster_df.plot(x = 'cluster_size',y = 'mbk_cluster_time')"
   ]
  },
  {
   "cell_type": "code",
   "execution_count": 84,
   "metadata": {
    "collapsed": false
   },
   "outputs": [
    {
     "data": {
      "text/plain": [
       "0.9384920597076416"
      ]
     },
     "execution_count": 84,
     "metadata": {},
     "output_type": "execute_result"
    }
   ],
   "source": [
    "mbk_time(100, 1200)"
   ]
  },
  {
   "cell_type": "markdown",
   "metadata": {},
   "source": [
    "## Conclusion Part 1 mini-batch k-means:\n",
    "For mbk the optimal batch size is around 1000 (given 3 clusters). The cluster size has a positive relationship with time; my computer breaks on limit above 500\n",
    "\n",
    "**3. Write a script that applies the DBScan method to the 100K subset. Fix the min number of\n",
    "samples in a cluster as 100. Experimentally explore the influence of the connectivity\n",
    "threshold ε on the number of clusters detected by DBScan.**"
   ]
  },
  {
   "cell_type": "code",
   "execution_count": 85,
   "metadata": {
    "collapsed": false
   },
   "outputs": [],
   "source": [
    "def dbscan_time(eps_n, min_samples_n):\n",
    "    t0 = time.time()\n",
    "    mdb = DBSCAN(eps=eps_n, min_samples=eps_n).fit(pair_coordinates)\n",
    "    n_labels = mdb.labels_ \n",
    "    n_clusters = len(set(n_labels)) - (1 if -1 in n_labels else 0)\n",
    "    t_dbscan = time.time() - t0\n",
    "    return t_dbscan, n_clusters"
   ]
  },
  {
   "cell_type": "code",
   "execution_count": 50,
   "metadata": {
    "collapsed": false
   },
   "outputs": [],
   "source": [
    "# dbscan on epsilon of 0.00001 to 0.1 (NOTE THIS IS APPROPRIATE FOR LAT LONG)\n",
    "# dbscan_interval = []\n",
    "# for x in range(5):\n",
    "#     dbscan_interval.append(((10**(-5))*(10**x), \n",
    "#         dbscan_time(eps_n=(10**(-5))*(10**x), min_samples_n=100)))\n",
    "    "
   ]
  },
  {
   "cell_type": "code",
   "execution_count": 100,
   "metadata": {
    "collapsed": false
   },
   "outputs": [],
   "source": [
    "dbscan_interval = []\n",
    "for x in range(1,8):\n",
    "    dbscan_interval.append(\n",
    "        (x, \n",
    "        dbscan_time(eps_n=x, min_samples_n=100))\n",
    "    )"
   ]
  },
  {
   "cell_type": "code",
   "execution_count": 95,
   "metadata": {
    "collapsed": false
   },
   "outputs": [
    {
     "data": {
      "text/plain": [
       "(15.274581909179688, 99)"
      ]
     },
     "execution_count": 95,
     "metadata": {},
     "output_type": "execute_result"
    }
   ],
   "source": [
    "# dbcan of eps 0.1 will give about 100 clusters\n",
    "dbscan_time(eps_n=6.5, min_samples_n=100)\n",
    "\n"
   ]
  },
  {
   "cell_type": "code",
   "execution_count": 102,
   "metadata": {
    "collapsed": false
   },
   "outputs": [
    {
     "name": "stdout",
     "output_type": "stream",
     "text": [
      "[(1, (2.648797035217285, 2620)), (2, (4.158386945724487, 941)), (3, (5.8765740394592285, 480)), (4, (7.185170888900757, 305)), (5, (9.868433952331543, 183)), (6, (13.288019895553589, 127)), (7, (17.5035400390625, 89))]\n"
     ]
    },
    {
     "data": {
      "text/plain": [
       "[<matplotlib.lines.Line2D at 0x15bd496a0>]"
      ]
     },
     "execution_count": 102,
     "metadata": {},
     "output_type": "execute_result"
    },
    {
     "data": {
      "image/png": "[encoded data removed]",
      "text/plain": [
       "<matplotlib.figure.Figure at 0x15bc9f5c0>"
      ]
     },
     "metadata": {},
     "output_type": "display_data"
    }
   ],
   "source": [
    "# GRAPH BELOW: x = epsilon; y = time\n",
    "\n",
    "print(dbscan_interval)\n",
    "\n",
    "dbscan_eps_x = [x[0] for x in dbscan_interval]\n",
    "dbscan_time_y = [x[1][0] for x in dbscan_interval]\n",
    "\n",
    "plt.plot(dbscan_eps_x,dbscan_time_y)"
   ]
  },
  {
   "cell_type": "code",
   "execution_count": 103,
   "metadata": {
    "collapsed": false
   },
   "outputs": [
    {
     "name": "stdout",
     "output_type": "stream",
     "text": [
      "[(1, (2.648797035217285, 2620)), (2, (4.158386945724487, 941)), (3, (5.8765740394592285, 480)), (4, (7.185170888900757, 305)), (5, (9.868433952331543, 183)), (6, (13.288019895553589, 127)), (7, (17.5035400390625, 89))]\n"
     ]
    },
    {
     "data": {
      "text/plain": [
       "[<matplotlib.lines.Line2D at 0x15bfe7400>]"
      ]
     },
     "execution_count": 103,
     "metadata": {},
     "output_type": "execute_result"
    },
    {
     "data": {
      "image/png": "[encoded data removed]",
      "text/plain": [
       "<matplotlib.figure.Figure at 0x15bf01780>"
      ]
     },
     "metadata": {},
     "output_type": "display_data"
    }
   ],
   "source": [
    "# GRAPH BELOW: x = epsilon; y = number of clusters created\n",
    "\n",
    "print(dbscan_interval)\n",
    "\n",
    "dbscan_eps_x = [x[0] for x in dbscan_interval]\n",
    "dbscan_time_y = [x[1][1] for x in dbscan_interval]\n",
    "\n",
    "plt.plot(dbscan_eps_x,dbscan_time_y)"
   ]
  },
  {
   "cell_type": "markdown",
   "metadata": {},
   "source": [
    "### Conclusion Part 1 DBSCAN\n",
    "The lower the epsilon the faster the dbscan time--exponential growth in time"
   ]
  },
  {
   "cell_type": "markdown",
   "metadata": {
    "collapsed": true
   },
   "source": [
    "# Part 2. Clustering: scalability (40 points).\n",
    "**2.1. For k-means and MiniBatch k-means algorithms, run the experiments and plot the graphs\n",
    "representing the computational time as a function of:\n",
    "a) Number of data samples (consider the range of 100 to 100’000) for a fixed k =100.**\n",
    "\n",
    "** k-means a) Number of data samples (consider the range of 100 to 100’000) for a fixed k =100. **"
   ]
  },
  {
   "cell_type": "code",
   "execution_count": 104,
   "metadata": {
    "collapsed": false
   },
   "outputs": [],
   "source": [
    "def k_means_time_2(index_pair):\n",
    "    k_means = KMeans(init='k-means++', n_clusters=100, n_init=10)\n",
    "    t0 = time.time()\n",
    "    k_means.fit(pair_coordinates[:index_pair])\n",
    "    t_batch = time.time() - t0\n",
    "    return t_batch"
   ]
  },
  {
   "cell_type": "code",
   "execution_count": 105,
   "metadata": {
    "collapsed": false
   },
   "outputs": [],
   "source": [
    "k_means_interval_2 = []\n",
    "x = 100\n",
    "while x <= 100000:\n",
    "    k_means_interval_2.append((x,round(k_means_time_2(x),2)))\n",
    "    x += 5000"
   ]
  },
  {
   "cell_type": "code",
   "execution_count": 106,
   "metadata": {
    "collapsed": false
   },
   "outputs": [
    {
     "data": {
      "text/plain": [
       "[<matplotlib.lines.Line2D at 0x15c1e23c8>]"
      ]
     },
     "execution_count": 106,
     "metadata": {},
     "output_type": "execute_result"
    },
    {
     "data": {
      "image/png": "[encoded data removed]",
      "text/plain": [
       "<matplotlib.figure.Figure at 0x1597b6320>"
      ]
     },
     "metadata": {},
     "output_type": "display_data"
    }
   ],
   "source": [
    "interval_df_2 = DataFrame(k_means_interval_2)\n",
    "plt.plot(interval_df_2[0],interval_df_2[1])"
   ]
  },
  {
   "cell_type": "markdown",
   "metadata": {},
   "source": [
    "** mini-batch a) Number of data samples (consider the range of 100 to 100’000) for a fixed k =100.**"
   ]
  },
  {
   "cell_type": "code",
   "execution_count": 107,
   "metadata": {
    "collapsed": false
   },
   "outputs": [],
   "source": [
    "def mbk_time_2(cluster_size, batch_size, n_points):\n",
    "    mbk = MiniBatchKMeans(init='k-means++', n_clusters=cluster_size, batch_size=batch_size,\n",
    "                      n_init=10, max_no_improvement=10, verbose=0)\n",
    "    t0 = time.time()\n",
    "    mbk.fit(pair_coordinates[100:n_points])\n",
    "    t_mini_batch = time.time() - t0\n",
    "    return t_mini_batch"
   ]
  },
  {
   "cell_type": "code",
   "execution_count": 108,
   "metadata": {
    "collapsed": false
   },
   "outputs": [],
   "source": [
    "mbk_cluster_2 = []\n",
    "x = 500\n",
    "while x <= 100000:\n",
    "    mbk_cluster_2.append((x,round(mbk_time_2(cluster_size=100, batch_size=900, n_points=x),2)))\n",
    "    x += 5000"
   ]
  },
  {
   "cell_type": "code",
   "execution_count": 109,
   "metadata": {
    "collapsed": false
   },
   "outputs": [
    {
     "data": {
      "text/plain": [
       "[<matplotlib.lines.Line2D at 0x15c2d18d0>]"
      ]
     },
     "execution_count": 109,
     "metadata": {},
     "output_type": "execute_result"
    },
    {
     "data": {
      "image/png": "[encoded data removed]",
      "text/plain": [
       "<matplotlib.figure.Figure at 0x1599922e8>"
      ]
     },
     "metadata": {},
     "output_type": "display_data"
    }
   ],
   "source": [
    "mbk_df_2 = DataFrame(mbk_cluster_2)\n",
    "plt.plot(mbk_df_2[0],mbk_df_2[1])"
   ]
  },
  {
   "cell_type": "markdown",
   "metadata": {},
   "source": [
    "** k_means b) Number of requested clusters k (consider the range of 2 to the k_max)**"
   ]
  },
  {
   "cell_type": "code",
   "execution_count": 110,
   "metadata": {
    "collapsed": false
   },
   "outputs": [],
   "source": [
    "k_means_interval_2b = []\n",
    "x = 2\n",
    "while x <= 100:\n",
    "    k_means_interval_2b.append((x,round(k_means_time(x),2)))\n",
    "    x += 10"
   ]
  },
  {
   "cell_type": "code",
   "execution_count": 111,
   "metadata": {
    "collapsed": false
   },
   "outputs": [
    {
     "data": {
      "text/plain": [
       "[<matplotlib.lines.Line2D at 0x15c4aa0b8>]"
      ]
     },
     "execution_count": 111,
     "metadata": {},
     "output_type": "execute_result"
    },
    {
     "data": {
      "image/png": "[encoded data removed]",
      "text/plain": [
       "<matplotlib.figure.Figure at 0x159c078d0>"
      ]
     },
     "metadata": {},
     "output_type": "display_data"
    }
   ],
   "source": [
    "k_means_2b = DataFrame(k_means_interval_2b)\n",
    "plt.plot(k_means_2b[0],k_means_2b[1])"
   ]
  },
  {
   "cell_type": "markdown",
   "metadata": {},
   "source": [
    "** mbk_means b) Number of requested clusters k (consider the range of 2 to the k_max)**"
   ]
  },
  {
   "cell_type": "code",
   "execution_count": 112,
   "metadata": {
    "collapsed": false
   },
   "outputs": [],
   "source": [
    "mbk_cluster_2b = []\n",
    "x = 2\n",
    "while x <= 1000:\n",
    "    mbk_cluster_2b.append((x,round(mbk_time_2(cluster_size=x, batch_size=1200,\n",
    "                                              n_points=100000),2)))\n",
    "    x += 50"
   ]
  },
  {
   "cell_type": "code",
   "execution_count": 113,
   "metadata": {
    "collapsed": false
   },
   "outputs": [
    {
     "data": {
      "text/plain": [
       "[<matplotlib.lines.Line2D at 0x15c75cfd0>]"
      ]
     },
     "execution_count": 113,
     "metadata": {},
     "output_type": "execute_result"
    },
    {
     "data": {
      "image/png": "[encoded data removed]",
      "text/plain": [
       "<matplotlib.figure.Figure at 0x15c4459b0>"
      ]
     },
     "metadata": {},
     "output_type": "display_data"
    }
   ],
   "source": [
    "mbk_2b_df = DataFrame(mbk_cluster_2b)\n",
    "plt.plot(mbk_2b_df[0],mbk_2b_df[1])"
   ]
  },
  {
   "cell_type": "markdown",
   "metadata": {
    "collapsed": true
   },
   "source": [
    "**dbscan 2.2 a) For DBScan algorithm, plot the graphs representing computational time as a function of: a) Number of samples (consider the range of 100 to 100’000) for a fixed ε_100, MinPts = 100.**"
   ]
  },
  {
   "cell_type": "code",
   "execution_count": 114,
   "metadata": {
    "collapsed": true
   },
   "outputs": [],
   "source": [
    "def dbscan_time_nsize(n_size, eps_n, min_samples_n):\n",
    "    t0 = time.time()\n",
    "    mdb = DBSCAN(eps=eps_n, min_samples=min_samples_n).fit(pair_coordinates[:n_size])\n",
    "    t_dbscan = time.time() - t0\n",
    "    return t_dbscan"
   ]
  },
  {
   "cell_type": "code",
   "execution_count": 115,
   "metadata": {
    "collapsed": false
   },
   "outputs": [],
   "source": [
    "x = 100\n",
    "dbscan_nsize = []\n",
    "while x <= 21100:\n",
    "    dbscan_nsize.append(\n",
    "        (\n",
    "            x,\n",
    "            dbscan_time_nsize(n_size = x, eps_n=100, min_samples_n=100)\n",
    "        )\n",
    "    )\n",
    "    x += 1000"
   ]
  },
  {
   "cell_type": "code",
   "execution_count": 116,
   "metadata": {
    "collapsed": false
   },
   "outputs": [
    {
     "data": {
      "text/plain": [
       "[<matplotlib.lines.Line2D at 0x15ca0ea90>]"
      ]
     },
     "execution_count": 116,
     "metadata": {},
     "output_type": "execute_result"
    },
    {
     "data": {
      "image/png": "[encoded data removed]",
      "text/plain": [
       "<matplotlib.figure.Figure at 0x15c69b748>"
      ]
     },
     "metadata": {},
     "output_type": "display_data"
    }
   ],
   "source": [
    "dbscan_nsize_df = DataFrame(dbscan_nsize)\n",
    "plt.plot(dbscan_nsize_df[0],dbscan_nsize_df[1])"
   ]
  },
  {
   "cell_type": "code",
   "execution_count": null,
   "metadata": {
    "collapsed": true
   },
   "outputs": [],
   "source": []
  }
 ],
 "metadata": {
  "kernelspec": {
   "display_name": "Python 3",
   "language": "python",
   "name": "python3"
  },
  "language_info": {
   "codemirror_mode": {
    "name": "ipython",
    "version": 3
   },
   "file_extension": ".py",
   "mimetype": "text/x-python",
   "name": "python",
   "nbconvert_exporter": "python",
   "pygments_lexer": "ipython3",
   "version": "3.4.3"
  }
 },
 "nbformat": 4,
 "nbformat_minor": 0
}
