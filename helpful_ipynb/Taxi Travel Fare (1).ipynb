{
 "cells": [
  {
   "cell_type": "code",
   "execution_count": 25,
   "metadata": {
    "collapsed": false
   },
   "outputs": [],
   "source": [
    "import numpy as np\n",
    "import pandas as pd\n",
    "\n",
    "from scipy.spatial.distance import cdist\n",
    "from sklearn.neighbors import NearestNeighbors\n",
    "from sklearn.tree import DecisionTreeRegressor\n",
    "from sklearn.ensemble.forest import RandomForestRegressor\n",
    "\n",
    "import time\n",
    "from datetime import datetime, timedelta\n",
    "\n",
    "import utm\n",
    "import geopy\n",
    "from geopy.geocoders import Nominatim\n",
    "\n",
    "import folium\n",
    "from IPython.display import HTML\n",
    "\n",
    "import matplotlib.pyplot as plt\n",
    "%matplotlib inline"
   ]
  },
  {
   "cell_type": "code",
   "execution_count": null,
   "metadata": {
    "collapsed": true
   },
   "outputs": [],
   "source": [
    "\n",
    "        "
   ]
  },
  {
   "cell_type": "code",
   "execution_count": 26,
   "metadata": {
    "collapsed": false
   },
   "outputs": [],
   "source": [
    "# Travel Time predictor\n",
    "class TaxiFarePredictor:\n",
    "     \n",
    "    def __init__(self, fname, TTmodel_type = 'RF', Fmodel_type = 'RF'):\n",
    "        \n",
    "        \n",
    "        self.TTmodel_type = TTmodel_type # travel time model type\n",
    "        self.Fmodel_type = Fmodel_type # fare predictor model type\n",
    "        \n",
    "        self.TTmodel = []\n",
    "        self.Fmodel = []\n",
    "        \n",
    "        # load data and process features\n",
    "        self.X, self.T, self.F = self.load_data(fname)\n",
    "    \n",
    "        # train travel time model\n",
    "        self.travel_time_model(model_type = self.TTmodel_type)\n",
    "        \n",
    "        # train fare model\n",
    "        self.fare_model(model_type = self.Fmodel_type)\n",
    "     \n",
    "    \n",
    "    def load_data(self, fname):\n",
    "        \n",
    "        #  File structure must be \n",
    "        #\n",
    "        #  0-4    ['ID', 'STARTDATE', 'ENDDATE', 'Total_amount', 'PASSENGER_NUM',\n",
    "        #  5-10   'GPS_START_LO', 'GPS_START_LA', 'GPS_END_LO', 'GPS_END_LA', 'StartTAZ1454', 'TAZ1454_end]\n",
    "        #\n",
    "        trips = np.genfromtxt(fname, delimiter=',')\n",
    "        features = np.zeros((trips.shape[0],11))\n",
    "\n",
    "        with open(fname,'rU') as f: \n",
    "\n",
    "            for line in f: # go over data file, line by line\n",
    "\n",
    "                l = line.split(',') # get a list of attributes, as strings\n",
    "\n",
    "                # parse the time strings from %m/%d/%Y %H:%M format into seconds\n",
    "                tto = datetime.strptime(l[1], \"%m/%d/%y %H:%M\")\n",
    "                ttd = datetime.strptime(l[2], \"%m/%d/%y %H:%M\")\n",
    "\n",
    "                # trip duration\n",
    "                tdelta = time.mktime(ttd.timetuple()) - time.mktime(tto.timetuple())\n",
    "\n",
    "                # convert to time since midnight\n",
    "                to = (tto - tto.replace(hour=0, minute=0, second=0, microsecond=0)).total_seconds()\n",
    "                td = (ttd - ttd.replace(hour=0, minute=0, second=0, microsecond=0)).total_seconds()\n",
    "\n",
    "                # convert strings to floats\n",
    "                l[5:10] = map(lambda x: float(x), l[5:10])\n",
    "\n",
    "                # convert to meters in UTM\n",
    "                o = np.array(utm.from_latlon(l[6], l[5])[:2])\n",
    "                d = np.array(utm.from_latlon(l[8], l[7])[:2])\n",
    "\n",
    "                # euclidean distance between origin and destination\n",
    "                dist = cdist([o],[d])[0][0]\n",
    "\n",
    "                # collect all features we have computed\n",
    "                features[int(l[0]),:11] = np.append(np.array([int(l[0]), float(l[3]), td, tdelta, float(l[4]), to, dist]), np.append(o, d))\n",
    "                \n",
    "        # return X, travel time, fare          \n",
    "        return features[:,4:], features[:,3], features[:,1]   \n",
    "    \n",
    "    \n",
    "    def travel_time_model(self, model_type='RF'):\n",
    "    \n",
    "        if model_type == 'RF':\n",
    "            self.TTmodel = RandomForestRegressor(random_state=0, n_estimators=50, max_depth=50)\n",
    "            self.TTmodel.fit(self.X, self.T)\n",
    "        else:\n",
    "            print 'Unknown model type for travel times predictor.'\n",
    "            \n",
    "    \n",
    "    def travel_time(self, Xq):\n",
    "    \n",
    "        return self.TTmodel.predict(Xq)\n",
    "    \n",
    "    \n",
    "    def fare_model(self, model_type='RF'):\n",
    "        \n",
    "        T = self.T\n",
    "        X = np.hstack( (self.X, np.array([self.T]).T ))\n",
    "        \n",
    "        if model_type == 'RF':\n",
    "            self.Fmodel = RandomForestRegressor(random_state=0, n_estimators=50, max_depth=50)\n",
    "            self.Fmodel.fit(X, self.F)  \n",
    "        else:\n",
    "            print 'Unknown model type for trip fare predictor.'\n",
    "    \n",
    "    \n",
    "    def fare(self, Xq):\n",
    "        \n",
    "        return self.Fmodel.predict(Xq)\n",
    "\n",
    "    \n",
    "    # can take (lat, lon) pairs or address as text, via geolocator geocoding\n",
    "    def TaxiFare(self, orig, dest, tstart='0:00', npax=1):\n",
    "        \n",
    "        if not isinstance(orig, basestring): \n",
    "            if not isinstance(dest, basestring): \n",
    "                \n",
    "                o = np.array(utm.from_latlon(orig[1], orig[0])[:2])\n",
    "                d = np.array(utm.from_latlon(dest[1], dest[0])[:2])\n",
    "               \n",
    "        else:\n",
    "            \n",
    "            try:\n",
    "                geolocator = Nominatim()\n",
    "\n",
    "                origin = geolocator.geocode(orig)\n",
    "                destination = geolocator.geocode(dest)\n",
    "    \n",
    "                o = np.array(utm.from_latlon(origin.latitude, origin.longitude)[:2])\n",
    "                d = np.array(utm.from_latlon(destination.latitude, destination.longitude)[:2])\n",
    "            \n",
    "            except:\n",
    "                \n",
    "                print 'Geocoding error. Try providing WGS84 coordinates instead.'\n",
    "                \n",
    "                return 0\n",
    "            \n",
    "        # euclidean distance between origin and destination\n",
    "        dist = cdist([o],[d])[0][0]\n",
    "    \n",
    "        #print str(depart_s)\n",
    "        temp = datetime.strptime('09/01/2012 '+ str(tstart), \"%m/%d/%Y %H:%M\")\n",
    "        depart = (temp - temp.replace(hour=0, minute=0, second=0, microsecond=0)).total_seconds()\n",
    "        \n",
    "        # features for travel time prediction\n",
    "        xq = np.append(np.array([float(npax), depart, dist]), np.append(o, d))\n",
    "                \n",
    "        # predict travel time\n",
    "        tt = self.travel_time(xq)\n",
    "        \n",
    "        # predict fare\n",
    "        f = self.fare(np.append(xq, tt))\n",
    "        \n",
    "        return f[0], tt[0]"
   ]
  },
  {
   "cell_type": "code",
   "execution_count": 27,
   "metadata": {
    "collapsed": false
   },
   "outputs": [],
   "source": [
    "TFP = TaxiFarePredictor('train_set.csv')"
   ]
  },
  {
   "cell_type": "code",
   "execution_count": 28,
   "metadata": {
    "collapsed": false
   },
   "outputs": [
    {
     "data": {
      "text/plain": [
       "instance"
      ]
     },
     "execution_count": 28,
     "metadata": {},
     "output_type": "execute_result"
    }
   ],
   "source": [
    "type(TFP)"
   ]
  },
  {
   "cell_type": "code",
   "execution_count": 29,
   "metadata": {
    "collapsed": false
   },
   "outputs": [
    {
     "data": {
      "text/html": [
       "<div>\n",
       "<table border=\"1\" class=\"dataframe\">\n",
       "  <thead>\n",
       "    <tr style=\"text-align: right;\">\n",
       "      <th></th>\n",
       "      <th>1</th>\n",
       "      <th>5</th>\n",
       "      <th>6</th>\n",
       "      <th>7</th>\n",
       "      <th>8</th>\n",
       "    </tr>\n",
       "  </thead>\n",
       "  <tbody>\n",
       "    <tr>\n",
       "      <th>0</th>\n",
       "      <td>21:32</td>\n",
       "      <td>-122.384413</td>\n",
       "      <td>37.617068</td>\n",
       "      <td>-122.431757</td>\n",
       "      <td>37.744140</td>\n",
       "    </tr>\n",
       "    <tr>\n",
       "      <th>1</th>\n",
       "      <td>5:28</td>\n",
       "      <td>-122.399122</td>\n",
       "      <td>37.796990</td>\n",
       "      <td>-122.389815</td>\n",
       "      <td>37.614665</td>\n",
       "    </tr>\n",
       "    <tr>\n",
       "      <th>2</th>\n",
       "      <td>16:52</td>\n",
       "      <td>-122.384203</td>\n",
       "      <td>37.616892</td>\n",
       "      <td>-122.405625</td>\n",
       "      <td>37.785565</td>\n",
       "    </tr>\n",
       "    <tr>\n",
       "      <th>3</th>\n",
       "      <td>6:32</td>\n",
       "      <td>-122.442072</td>\n",
       "      <td>37.751618</td>\n",
       "      <td>-122.387693</td>\n",
       "      <td>37.617440</td>\n",
       "    </tr>\n",
       "    <tr>\n",
       "      <th>4</th>\n",
       "      <td>20:38</td>\n",
       "      <td>-122.417888</td>\n",
       "      <td>37.776878</td>\n",
       "      <td>-122.392063</td>\n",
       "      <td>37.694557</td>\n",
       "    </tr>\n",
       "  </tbody>\n",
       "</table>\n",
       "</div>"
      ],
      "text/plain": [
       "       1           5          6           7          8\n",
       "0  21:32 -122.384413  37.617068 -122.431757  37.744140\n",
       "1   5:28 -122.399122  37.796990 -122.389815  37.614665\n",
       "2  16:52 -122.384203  37.616892 -122.405625  37.785565\n",
       "3   6:32 -122.442072  37.751618 -122.387693  37.617440\n",
       "4  20:38 -122.417888  37.776878 -122.392063  37.694557"
      ]
     },
     "execution_count": 29,
     "metadata": {},
     "output_type": "execute_result"
    }
   ],
   "source": [
    "cols = [1,5,6,7,8]\n",
    "\n",
    "dev_set = pd.read_csv('dev_set.csv', header=None)\n",
    "dev_set = dev_set[cols]\n",
    "dev_set[1] = dev_set[1].str.split()\n",
    "dev_set[1] = dev_set[dev_set.columns[0]].apply(lambda x: x[1])\n",
    "dev_set_values = dev_set.values\n",
    "dev_set.head()\n",
    "\n"
   ]
  },
  {
   "cell_type": "code",
   "execution_count": 30,
   "metadata": {
    "collapsed": false
   },
   "outputs": [],
   "source": [
    "dev_set_final = [TFP.TaxiFare((item[1],item[2]), (item[3],item[4]), item[0]) for item in dev_set_values]"
   ]
  },
  {
   "cell_type": "code",
   "execution_count": 31,
   "metadata": {
    "collapsed": false
   },
   "outputs": [
    {
     "data": {
      "text/plain": [
       "((45.459200000000003, 1083.5999999999999),\n",
       " array(['21:32', -122.384413, 37.617067999999996, -122.431757, 37.74414], dtype=object))"
      ]
     },
     "execution_count": 31,
     "metadata": {},
     "output_type": "execute_result"
    }
   ],
   "source": [
    "dev_zipped = zip(list(dev_set_final), list(dev_set_values))\n",
    "\n",
    "dev_zipped[0]"
   ]
  },
  {
   "cell_type": "code",
   "execution_count": 32,
   "metadata": {
    "collapsed": false
   },
   "outputs": [
    {
     "data": {
      "text/plain": [
       "array([50001, '9/17/12 15:22', -1, -1, 1, -122.38679199999999, 37.61757,\n",
       "       -122.39293700000002, 37.793532, 239, 0], dtype=object)"
      ]
     },
     "execution_count": 32,
     "metadata": {},
     "output_type": "execute_result"
    }
   ],
   "source": [
    "test_set = pd.read_csv('Taxi_Query.csv', header=None)\n",
    "test_set_values = test_set.values\n",
    "test_set_values[0]"
   ]
  },
  {
   "cell_type": "code",
   "execution_count": 33,
   "metadata": {
    "collapsed": false
   },
   "outputs": [],
   "source": [
    "dev_set_fare = pd.read_csv('dev_set.csv', header=None)\n",
    "dev_set_fare = dev_set_fare[3]\n",
    "dev_set_fare = dev_set_fare.values"
   ]
  },
  {
   "cell_type": "code",
   "execution_count": 34,
   "metadata": {
    "collapsed": false
   },
   "outputs": [
    {
     "data": {
      "text/plain": [
       "5.1531979063490274"
      ]
     },
     "execution_count": 34,
     "metadata": {},
     "output_type": "execute_result"
    }
   ],
   "source": [
    "from sklearn.metrics import mean_squared_error\n",
    "fare_pred = [item[0] for item in dev_set_final]\n",
    "fare_true = [item for item in dev_set_fare]\n",
    "mean_squared_error(fare_true, fare_pred)**0.5\n",
    "# print(len(fare_pred))\n",
    "# print(len(fare_true))\n",
    "# print(fare_pred[0])\n",
    "# print(fare_true[0])"
   ]
  },
  {
   "cell_type": "markdown",
   "metadata": {},
   "source": [
    "## Predict Final"
   ]
  },
  {
   "cell_type": "code",
   "execution_count": 35,
   "metadata": {
    "collapsed": false
   },
   "outputs": [],
   "source": [
    "TFP_final = TaxiFarePredictor('Taxi_Train.csv')"
   ]
  },
  {
   "cell_type": "code",
   "execution_count": 65,
   "metadata": {
    "collapsed": false
   },
   "outputs": [
    {
     "data": {
      "text/html": [
       "<div>\n",
       "<table border=\"1\" class=\"dataframe\">\n",
       "  <thead>\n",
       "    <tr style=\"text-align: right;\">\n",
       "      <th></th>\n",
       "      <th>1</th>\n",
       "      <th>5</th>\n",
       "      <th>6</th>\n",
       "      <th>7</th>\n",
       "      <th>8</th>\n",
       "    </tr>\n",
       "  </thead>\n",
       "  <tbody>\n",
       "    <tr>\n",
       "      <th>0</th>\n",
       "      <td>15:22</td>\n",
       "      <td>-122.386792</td>\n",
       "      <td>37.617570</td>\n",
       "      <td>-122.392937</td>\n",
       "      <td>37.793532</td>\n",
       "    </tr>\n",
       "    <tr>\n",
       "      <th>1</th>\n",
       "      <td>22:08</td>\n",
       "      <td>-122.435182</td>\n",
       "      <td>37.762202</td>\n",
       "      <td>-122.438512</td>\n",
       "      <td>37.775893</td>\n",
       "    </tr>\n",
       "    <tr>\n",
       "      <th>2</th>\n",
       "      <td>19:49</td>\n",
       "      <td>-122.459563</td>\n",
       "      <td>37.790625</td>\n",
       "      <td>-122.410492</td>\n",
       "      <td>37.791650</td>\n",
       "    </tr>\n",
       "    <tr>\n",
       "      <th>3</th>\n",
       "      <td>15:53</td>\n",
       "      <td>-122.415940</td>\n",
       "      <td>37.800837</td>\n",
       "      <td>-122.431228</td>\n",
       "      <td>37.801518</td>\n",
       "    </tr>\n",
       "    <tr>\n",
       "      <th>4</th>\n",
       "      <td>15:20</td>\n",
       "      <td>-122.390272</td>\n",
       "      <td>37.615370</td>\n",
       "      <td>-122.417377</td>\n",
       "      <td>37.784307</td>\n",
       "    </tr>\n",
       "  </tbody>\n",
       "</table>\n",
       "</div>"
      ],
      "text/plain": [
       "       1           5          6           7          8\n",
       "0  15:22 -122.386792  37.617570 -122.392937  37.793532\n",
       "1  22:08 -122.435182  37.762202 -122.438512  37.775893\n",
       "2  19:49 -122.459563  37.790625 -122.410492  37.791650\n",
       "3  15:53 -122.415940  37.800837 -122.431228  37.801518\n",
       "4  15:20 -122.390272  37.615370 -122.417377  37.784307"
      ]
     },
     "execution_count": 65,
     "metadata": {},
     "output_type": "execute_result"
    }
   ],
   "source": [
    "cols = [1,5,6,7,8]\n",
    "\n",
    "query_set = pd.read_csv('Taxi_Query.csv', header=None)\n",
    "query_set = query_set[cols]\n",
    "query_set[1] = query_set[1].str.split()\n",
    "query_set[1] = query_set[query_set.columns[0]].apply(lambda x: x[1])\n",
    "query_set_values = query_set.values\n",
    "query_set.head()"
   ]
  },
  {
   "cell_type": "code",
   "execution_count": 37,
   "metadata": {
    "collapsed": true
   },
   "outputs": [],
   "source": [
    "query_set_final = [TFP.TaxiFare((item[1],item[2]), (item[3],item[4]), item[0]) for item in query_set_values]"
   ]
  },
  {
   "cell_type": "code",
   "execution_count": 38,
   "metadata": {
    "collapsed": true
   },
   "outputs": [],
   "source": [
    "query_set_fare = pd.read_csv('Taxi_Query.csv', header=None)\n",
    "query_set_fare = query_set_fare[3]\n",
    "query_set_fare = query_set_fare.values"
   ]
  },
  {
   "cell_type": "code",
   "execution_count": 39,
   "metadata": {
    "collapsed": false
   },
   "outputs": [
    {
     "data": {
      "text/plain": [
       "10000"
      ]
     },
     "execution_count": 39,
     "metadata": {},
     "output_type": "execute_result"
    }
   ],
   "source": [
    "raw_query = pd.read_csv('Taxi_Query.csv', header=None)\n",
    "raw_query = raw_query[raw_query.columns[0]]\n",
    "raw_query = raw_query.values\n",
    "len(raw_query)"
   ]
  },
  {
   "cell_type": "code",
   "execution_count": 40,
   "metadata": {
    "collapsed": false
   },
   "outputs": [],
   "source": [
    "fare_pred = [item[0] for item in query_set_final]\n",
    "_id = raw_query\n",
    "\n",
    "final_df = pd.DataFrame({\"ID\":_id, \"Fare\":fare_pred})\n",
    "final_df = final_df[[\"ID\",\"Fare\"]]\n",
    "# fare_true = [item for item in query_set_fare]\n",
    "# mean_squared_error(fare_true, fare_pred)**0.5\n",
    "# print(fare_pred[:10])\n",
    "# print(fare_true[:10])\n",
    "final_df.head()\n",
    "final_df.to_csv(\"C263_koalakick.csv\",index=False)"
   ]
  },
  {
   "cell_type": "code",
   "execution_count": 74,
   "metadata": {
    "collapsed": false
   },
   "outputs": [],
   "source": [
    "extra_query = pd.read_csv('Taxi_Query.csv', header=None)\n",
    "extra_query[2] = fare_pred\n",
    "extra_query[1] = extra_query[1].str.split()\n",
    "extra_query[11] = extra_query[extra_query.columns[1]].apply(lambda x: x[0])\n",
    "extra_query[12] = extra_query[extra_query.columns[1]].apply(lambda x: x[1])\n",
    "extra_query[13] = extra_query[extra_query.columns[12]].apply(lambda x: x[:2])\n",
    "extra_query.columns = ['index', 'full_date', 'fare', 'non1', 'non2', 'start_long', 'start_lat', 'end_long', 'end_lat', 'shit1', 'shit2','date','time','hour']\n",
    "extra_query.head()\n",
    "extra_query.to_csv(\"C263_extra_cred.csv\",index=False)"
   ]
  },
  {
   "cell_type": "markdown",
   "metadata": {},
   "source": [
    "## DONE DONE DONE ##"
   ]
  },
  {
   "cell_type": "code",
   "execution_count": 18,
   "metadata": {
    "collapsed": false
   },
   "outputs": [
    {
     "data": {
      "text/plain": [
       "5.1531979063490274"
      ]
     },
     "execution_count": 18,
     "metadata": {},
     "output_type": "execute_result"
    }
   ],
   "source": [
    "from sklearn.metrics import mean_squared_error\n",
    "fare_pred = [item[0] for item in dev_set_final]\n",
    "fare_true = [item for item in dev_set_fare]\n",
    "mean_squared_error(fare_true, fare_pred)**0.5"
   ]
  },
  {
   "cell_type": "code",
   "execution_count": 19,
   "metadata": {
    "collapsed": false
   },
   "outputs": [
    {
     "name": "stdout",
     "output_type": "stream",
     "text": [
      "(40.064800000000012, 1836.0)\n",
      "(47.024200000000008, 1192.8)\n"
     ]
    }
   ],
   "source": [
    "print TFP.TaxiFare( '1920, University Ave, Berkeley, CA', '1455 Market Street, SF', '8:20')\n",
    "print TFP.TaxiFare( (-122.403023,37.792692), (-122.386232,37.618057), '3:27')"
   ]
  },
  {
   "cell_type": "code",
   "execution_count": 20,
   "metadata": {
    "collapsed": true
   },
   "outputs": [],
   "source": [
    "# abs(np.mean(cross_val_score(model_tf, fareX_train, fareY_train, cv=5, scoring='mean_squared_error')))**0.5"
   ]
  },
  {
   "cell_type": "code",
   "execution_count": 21,
   "metadata": {
    "collapsed": false
   },
   "outputs": [
    {
     "data": {
      "text/plain": [
       "<matplotlib.text.Text at 0x116c0f5d0>"
      ]
     },
     "execution_count": 21,
     "metadata": {},
     "output_type": "execute_result"
    },
    {
     "data": {
      "image/png": "[encoded data removed]",
      "text/plain": [
       "<matplotlib.figure.Figure at 0x104844110>"
      ]
     },
     "metadata": {},
     "output_type": "display_data"
    }
   ],
   "source": [
    "tt=[]\n",
    "for i in range(1,23):\n",
    "    tt.append( TFP.TaxiFare( '1920, University Ave, Berkeley, CA', '1455 Market Street, SF', '%d:20' % i, 1 ) )\n",
    "    \n",
    "plt.plot([t[0] for t in tt])\n",
    "plt.title('Fare vs hour of departure')"
   ]
  },
  {
   "cell_type": "code",
   "execution_count": 22,
   "metadata": {
    "collapsed": true
   },
   "outputs": [],
   "source": [
    "def inline_map(fmap):\n",
    "    \"\"\"\n",
    "    Embeds the HTML source of the map directly into the IPython notebook.\n",
    "    \n",
    "    This method will not work if the map depends on any files (json data). Also this uses\n",
    "    the HTML5 srcdoc attribute, which may not be supported in all browsers.\n",
    "    \"\"\"\n",
    "    fmap._build_map()\n",
    "    return HTML('<iframe srcdoc=\"{srcdoc}\" style=\"width: 100%; height: 510px; border: none\"></iframe>'.format(srcdoc=fmap.HTML.replace('\"', '&quot;')))\n",
    "\n",
    "def embed_map(fmap, path=\"map.html\"):\n",
    "    \"\"\"\n",
    "    Embeds a linked iframe to the map into the IPython notebook.\n",
    "    \n",
    "    Note: this method will not capture the source of the map into the notebook.\n",
    "    This method should work for all maps (as long as they use relative urls).\n",
    "    \"\"\"\n",
    "    fmap.create_map(path=path)\n",
    "    return HTML('<iframe src=\"files/{path}\" style=\"width: 100%; height: 510px; border: none\"></iframe>'.format(path=path))"
   ]
  },
  {
   "cell_type": "code",
   "execution_count": 23,
   "metadata": {
    "collapsed": false
   },
   "outputs": [
    {
     "data": {
      "text/html": [
       "<iframe srcdoc=\"<!DOCTYPE html>\n",
       "<head>\n",
       "   <meta http-equiv=&quot;content-type&quot; content=&quot;text/html; charset=UTF-8&quot; />\n",
       "   <link rel=&quot;stylesheet&quot; href=&quot;https://cdnjs.cloudflare.com/ajax/libs/leaflet/0.7.3/leaflet.css&quot; />\n",
       "   <script src=&quot;https://cdnjs.cloudflare.com/ajax/libs/leaflet/0.7.3/leaflet.js&quot;></script>\n",
       "\n",
       "   <script src=&quot;https://ajax.googleapis.com/ajax/libs/jquery/1.11.1/jquery.min.js&quot;></script>\n",
       "\n",
       "   <link rel=&quot;stylesheet&quot; href=&quot;https://maxcdn.bootstrapcdn.com/bootstrap/3.2.0/css/bootstrap.min.css&quot;>\n",
       "   <link rel=&quot;stylesheet&quot; href=&quot;https://maxcdn.bootstrapcdn.com/bootstrap/3.2.0/css/bootstrap-theme.min.css&quot;>\n",
       "   <script src=&quot;https://maxcdn.bootstrapcdn.com/bootstrap/3.2.0/js/bootstrap.min.js&quot;></script>\n",
       "\n",
       "   <link href=&quot;https://maxcdn.bootstrapcdn.com/font-awesome/4.1.0/css/font-awesome.min.css&quot; rel=&quot;stylesheet&quot;>\n",
       "\n",
       "   <link rel=&quot;stylesheet&quot; href=&quot;https://rawgit.com/lvoogdt/Leaflet.awesome-markers/2.0/develop/dist/leaflet.awesome-markers.css&quot;>\n",
       "   <script src=&quot;https://rawgithub.com/lvoogdt/Leaflet.awesome-markers/2.0/develop/dist/leaflet.awesome-markers.js&quot;></script>\n",
       "\n",
       "\n",
       "   <link rel=&quot;stylesheet&quot; href=&quot;https://cdnjs.cloudflare.com/ajax/libs/leaflet.markercluster/0.4.0/MarkerCluster.Default.css&quot;>\n",
       "   <link rel=&quot;stylesheet&quot; href=&quot;https://cdnjs.cloudflare.com/ajax/libs/leaflet.markercluster/0.4.0/MarkerCluster.css&quot;>\n",
       "   <script src=&quot;https://cdnjs.cloudflare.com/ajax/libs/leaflet.markercluster/0.4.0/leaflet.markercluster-src.js&quot;></script>\n",
       "   <script src=&quot;https://cdnjs.cloudflare.com/ajax/libs/leaflet.markercluster/0.4.0/leaflet.markercluster.js&quot;></script>\n",
       "\n",
       "   <link rel=&quot;stylesheet&quot; href=&quot;https://birdage.github.io/Leaflet.awesome-markers/dist/leaflet.awesome.rotate.css&quot;>\n",
       "\n",
       "   \n",
       "   \n",
       "   \n",
       "   \n",
       "\n",
       "   <style>\n",
       "\n",
       "      html, body {\n",
       "        width: 100%;\n",
       "        height: 100%;\n",
       "        margin: 0;\n",
       "        padding: 0;\n",
       "      }\n",
       "\n",
       "      #map {\n",
       "        position:absolute;\n",
       "        top:0;\n",
       "        bottom:0;\n",
       "        right:0;\n",
       "        left:0;\n",
       "      }\n",
       "\n",
       "   </style>\n",
       "</head>\n",
       "\n",
       "<body>\n",
       "\n",
       "   <div class=&quot;folium-map&quot; id=&quot;folium_7db4487044d14057a4bd585b8d2425ff&quot; style=&quot;width: 100%; height: 100%&quot;></div>\n",
       "\n",
       "   <script>\n",
       "\n",
       "      \n",
       "\n",
       "      var base_tile = L.tileLayer('https://{s}.tile.openstreetmap.org/{z}/{x}/{y}.png', {\n",
       "          maxZoom: 18,\n",
       "          minZoom: 1,\n",
       "          attribution: 'Map data (c) <a href=&quot;http://openstreetmap.org&quot;>OpenStreetMap</a> contributors'\n",
       "      });\n",
       "\n",
       "      var baseLayer = {\n",
       "        &quot;Base Layer&quot;: base_tile\n",
       "      };\n",
       "\n",
       "      /*\n",
       "      addition of the wms layers\n",
       "      */\n",
       "\n",
       "      \n",
       "\n",
       "      /*\n",
       "      addition of the tile layers\n",
       "      */\n",
       "      \n",
       "\n",
       "      /*\n",
       "      list of layers to be added\n",
       "      */\n",
       "      var layer_list = {\n",
       "      \n",
       "      };\n",
       "\n",
       "      /*\n",
       "      Bounding box.\n",
       "      */\n",
       "      var southWest = L.latLng(-90, -180),\n",
       "          northEast = L.latLng(90, 180),\n",
       "          bounds = L.latLngBounds(southWest, northEast);\n",
       "\n",
       "      /*\n",
       "      Creates the map and adds the selected layers\n",
       "      */\n",
       "      var map = L.map('folium_7db4487044d14057a4bd585b8d2425ff', {\n",
       "                                       center:[37.802683, -122.41354],\n",
       "                                       zoom: 10,\n",
       "                                       maxBounds: bounds,\n",
       "                                       layers: [base_tile]\n",
       "                                     });\n",
       "\n",
       "      L.control.layers(baseLayer, layer_list).addTo(map);\n",
       "\n",
       "      //cluster group\n",
       "      var clusteredmarkers = L.markerClusterGroup();\n",
       "      //section for adding clustered markers\n",
       "      \n",
       "      //add the clustered markers to the group anyway\n",
       "      map.addLayer(clusteredmarkers);\n",
       "\n",
       "      \n",
       "      var marker_1_icon = L.AwesomeMarkers.icon({ icon: 'info-sign',markerColor: 'blue',prefix: 'glyphicon',extraClasses: 'fa-rotate-0'});\n",
       "      var marker_1 = L.marker([37.8714911086, \n",
       "\t\t\t\t\t\t\t-122.272582582],\n",
       "\t\t\t\t\t\t\t{'icon':marker_1_icon}\n",
       "\t\t\t\t\t\t\t);\n",
       "      marker_1.bindPopup(&quot;Trip starts at 8:20&quot;);\n",
       "      marker_1._popup.options.maxWidth = 300;\n",
       "      map.addLayer(marker_1)\n",
       "      \n",
       "      var marker_2_icon = L.AwesomeMarkers.icon({ icon: 'info-sign',markerColor: 'blue',prefix: 'glyphicon',extraClasses: 'fa-rotate-0'});\n",
       "      var marker_2 = L.marker([37.8678664, \n",
       "\t\t\t\t\t\t\t-122.3130528],\n",
       "\t\t\t\t\t\t\t{'icon':marker_2_icon}\n",
       "\t\t\t\t\t\t\t);\n",
       "      marker_2.bindPopup(&quot;Taxi fare for your destination is $14.8&quot;);\n",
       "      marker_2._popup.options.maxWidth = 300;\n",
       "      map.addLayer(marker_2)\n",
       "      \n",
       "\n",
       "      \n",
       "\n",
       "      \n",
       "\n",
       "      \n",
       "\n",
       "      \n",
       "\n",
       "      \n",
       "\n",
       "\n",
       "\n",
       "   </script>\n",
       "\n",
       "</body>\" style=\"width: 100%; height: 510px; border: none\"></iframe>"
      ],
      "text/plain": [
       "<IPython.core.display.HTML object>"
      ]
     },
     "execution_count": 23,
     "metadata": {},
     "output_type": "execute_result"
    }
   ],
   "source": [
    "fmap = folium.Map(location=[37.802683, -122.41354], zoom_start=10)\n",
    "\n",
    "start = '1920, University Ave, Berkeley, CA'\n",
    "finish = 'Berkeley Marina' #'1455 Market Street, SF', 'Mountain View'\n",
    "depart_at = '8:20'\n",
    "\n",
    "f, t = TFP.TaxiFare( start, finish, depart_at )\n",
    "\n",
    "geolocator = Nominatim()\n",
    "\n",
    "origin = geolocator.geocode(start)\n",
    "fmap.simple_marker([origin.latitude, origin.longitude], popup='Trip starts at %s' % depart_at)\n",
    "\n",
    "destination = geolocator.geocode(finish)\n",
    "fmap.simple_marker([destination.latitude, destination.longitude], popup='Taxi fare for your destination is $%.1f' % f)\n",
    "\n",
    "inline_map(fmap)"
   ]
  },
  {
   "cell_type": "code",
   "execution_count": null,
   "metadata": {
    "collapsed": true
   },
   "outputs": [],
   "source": []
  }
 ],
 "metadata": {
  "kernelspec": {
   "display_name": "Python 2",
   "language": "python",
   "name": "python2"
  },
  "language_info": {
   "codemirror_mode": {
    "name": "ipython",
    "version": 2
   },
   "file_extension": ".py",
   "mimetype": "text/x-python",
   "name": "python",
   "nbconvert_exporter": "python",
   "pygments_lexer": "ipython2",
   "version": "2.7.10"
  }
 },
 "nbformat": 4,
 "nbformat_minor": 0
}
