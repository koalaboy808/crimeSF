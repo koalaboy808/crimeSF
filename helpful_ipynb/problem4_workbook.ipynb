{
 "cells": [
  {
   "cell_type": "code",
   "execution_count": 13,
   "metadata": {
    "collapsed": true
   },
   "outputs": [],
   "source": [
    "import numpy as np\n",
    "import pandas as pd\n",
    "from sklearn import svm\n",
    "import pickle as pk"
   ]
  },
  {
   "cell_type": "code",
   "execution_count": 14,
   "metadata": {
    "collapsed": false
   },
   "outputs": [],
   "source": [
    "X_np = np.load(\"X_trn.np\")\n",
    "Y_np = np.load(\"Y_trn.np\")"
   ]
  },
  {
   "cell_type": "code",
   "execution_count": 15,
   "metadata": {
    "collapsed": false
   },
   "outputs": [
    {
     "name": "stdout",
     "output_type": "stream",
     "text": [
      "(163, 1600)\n",
      "(163,)\n"
     ]
    }
   ],
   "source": [
    "print(X_np.shape)\n",
    "print(Y_np.shape)"
   ]
  },
  {
   "cell_type": "code",
   "execution_count": 16,
   "metadata": {
    "collapsed": true
   },
   "outputs": [],
   "source": [
    "def cleanclicks(xtrn, ytrn):\n",
    "    x_trn = []\n",
    "    inds_bad = []\n",
    "    for i in xrange(len(xtrn)):\n",
    "        if len(xtrn[i]) < 1600:\n",
    "            inds_bad.append(i)\n",
    "        x_trn.append(list(xtrn[i]))\n",
    "    for i in sorted(inds_bad, reverse=True):\n",
    "        del x_trn[i]\n",
    "    y_trn = np.delete(ytrn, inds_bad, 0)\n",
    "    x_trn = np.array(x_trn)\n",
    "    return x_trn, y_trn\n",
    "\n",
    "X_np, Y_np = cleanclicks(X_np, Y_np)"
   ]
  },
  {
   "cell_type": "code",
   "execution_count": 17,
   "metadata": {
    "collapsed": false
   },
   "outputs": [
    {
     "name": "stdout",
     "output_type": "stream",
     "text": [
      "(163, 1600)\n",
      "(163,)\n"
     ]
    }
   ],
   "source": [
    "print(X_np.shape)\n",
    "print(Y_np.shape)"
   ]
  },
  {
   "cell_type": "code",
   "execution_count": 18,
   "metadata": {
    "collapsed": false
   },
   "outputs": [
    {
     "data": {
      "text/html": [
       "<div>\n",
       "<table border=\"1\" class=\"dataframe\">\n",
       "  <thead>\n",
       "    <tr style=\"text-align: right;\">\n",
       "      <th></th>\n",
       "      <th>0</th>\n",
       "      <th>1</th>\n",
       "      <th>2</th>\n",
       "      <th>3</th>\n",
       "      <th>4</th>\n",
       "      <th>5</th>\n",
       "      <th>6</th>\n",
       "      <th>7</th>\n",
       "      <th>8</th>\n",
       "      <th>9</th>\n",
       "      <th>...</th>\n",
       "      <th>1590</th>\n",
       "      <th>1591</th>\n",
       "      <th>1592</th>\n",
       "      <th>1593</th>\n",
       "      <th>1594</th>\n",
       "      <th>1595</th>\n",
       "      <th>1596</th>\n",
       "      <th>1597</th>\n",
       "      <th>1598</th>\n",
       "      <th>1599</th>\n",
       "    </tr>\n",
       "  </thead>\n",
       "  <tbody>\n",
       "    <tr>\n",
       "      <th>0</th>\n",
       "      <td>0.482353</td>\n",
       "      <td>0.505882</td>\n",
       "      <td>0.498039</td>\n",
       "      <td>1</td>\n",
       "      <td>0.474510</td>\n",
       "      <td>0.498039</td>\n",
       "      <td>0.490196</td>\n",
       "      <td>1</td>\n",
       "      <td>0.411765</td>\n",
       "      <td>0.450980</td>\n",
       "      <td>...</td>\n",
       "      <td>0.125490</td>\n",
       "      <td>1</td>\n",
       "      <td>0.011765</td>\n",
       "      <td>0.043137</td>\n",
       "      <td>0.000000</td>\n",
       "      <td>1</td>\n",
       "      <td>0.133333</td>\n",
       "      <td>0.164706</td>\n",
       "      <td>0.113725</td>\n",
       "      <td>1</td>\n",
       "    </tr>\n",
       "    <tr>\n",
       "      <th>1</th>\n",
       "      <td>0.592157</td>\n",
       "      <td>0.572549</td>\n",
       "      <td>0.498039</td>\n",
       "      <td>1</td>\n",
       "      <td>0.501961</td>\n",
       "      <td>0.482353</td>\n",
       "      <td>0.407843</td>\n",
       "      <td>1</td>\n",
       "      <td>0.192157</td>\n",
       "      <td>0.168627</td>\n",
       "      <td>...</td>\n",
       "      <td>0.023529</td>\n",
       "      <td>1</td>\n",
       "      <td>0.082353</td>\n",
       "      <td>0.003922</td>\n",
       "      <td>0.000000</td>\n",
       "      <td>1</td>\n",
       "      <td>0.082353</td>\n",
       "      <td>0.003922</td>\n",
       "      <td>0.000000</td>\n",
       "      <td>1</td>\n",
       "    </tr>\n",
       "    <tr>\n",
       "      <th>2</th>\n",
       "      <td>0.156863</td>\n",
       "      <td>0.156863</td>\n",
       "      <td>0.156863</td>\n",
       "      <td>1</td>\n",
       "      <td>0.278431</td>\n",
       "      <td>0.286275</td>\n",
       "      <td>0.282353</td>\n",
       "      <td>1</td>\n",
       "      <td>0.207843</td>\n",
       "      <td>0.215686</td>\n",
       "      <td>...</td>\n",
       "      <td>0.392157</td>\n",
       "      <td>1</td>\n",
       "      <td>0.423529</td>\n",
       "      <td>0.439216</td>\n",
       "      <td>0.372549</td>\n",
       "      <td>1</td>\n",
       "      <td>0.403922</td>\n",
       "      <td>0.419608</td>\n",
       "      <td>0.352941</td>\n",
       "      <td>1</td>\n",
       "    </tr>\n",
       "    <tr>\n",
       "      <th>3</th>\n",
       "      <td>0.568627</td>\n",
       "      <td>0.619608</td>\n",
       "      <td>0.549020</td>\n",
       "      <td>1</td>\n",
       "      <td>0.658824</td>\n",
       "      <td>0.690196</td>\n",
       "      <td>0.631373</td>\n",
       "      <td>1</td>\n",
       "      <td>0.682353</td>\n",
       "      <td>0.713726</td>\n",
       "      <td>...</td>\n",
       "      <td>0.878431</td>\n",
       "      <td>1</td>\n",
       "      <td>0.894118</td>\n",
       "      <td>0.909804</td>\n",
       "      <td>0.850980</td>\n",
       "      <td>1</td>\n",
       "      <td>0.313726</td>\n",
       "      <td>0.341176</td>\n",
       "      <td>0.278431</td>\n",
       "      <td>1</td>\n",
       "    </tr>\n",
       "    <tr>\n",
       "      <th>4</th>\n",
       "      <td>0.062745</td>\n",
       "      <td>0.070588</td>\n",
       "      <td>0.058824</td>\n",
       "      <td>1</td>\n",
       "      <td>0.050980</td>\n",
       "      <td>0.050980</td>\n",
       "      <td>0.043137</td>\n",
       "      <td>1</td>\n",
       "      <td>0.047059</td>\n",
       "      <td>0.047059</td>\n",
       "      <td>...</td>\n",
       "      <td>0.294118</td>\n",
       "      <td>1</td>\n",
       "      <td>0.294118</td>\n",
       "      <td>0.301961</td>\n",
       "      <td>0.282353</td>\n",
       "      <td>1</td>\n",
       "      <td>0.270588</td>\n",
       "      <td>0.290196</td>\n",
       "      <td>0.266667</td>\n",
       "      <td>1</td>\n",
       "    </tr>\n",
       "  </tbody>\n",
       "</table>\n",
       "<p>5 rows × 1600 columns</p>\n",
       "</div>"
      ],
      "text/plain": [
       "       0         1         2     3         4         5         6     7     \\\n",
       "0  0.482353  0.505882  0.498039     1  0.474510  0.498039  0.490196     1   \n",
       "1  0.592157  0.572549  0.498039     1  0.501961  0.482353  0.407843     1   \n",
       "2  0.156863  0.156863  0.156863     1  0.278431  0.286275  0.282353     1   \n",
       "3  0.568627  0.619608  0.549020     1  0.658824  0.690196  0.631373     1   \n",
       "4  0.062745  0.070588  0.058824     1  0.050980  0.050980  0.043137     1   \n",
       "\n",
       "       8         9     ...       1590  1591      1592      1593      1594  \\\n",
       "0  0.411765  0.450980  ...   0.125490     1  0.011765  0.043137  0.000000   \n",
       "1  0.192157  0.168627  ...   0.023529     1  0.082353  0.003922  0.000000   \n",
       "2  0.207843  0.215686  ...   0.392157     1  0.423529  0.439216  0.372549   \n",
       "3  0.682353  0.713726  ...   0.878431     1  0.894118  0.909804  0.850980   \n",
       "4  0.047059  0.047059  ...   0.294118     1  0.294118  0.301961  0.282353   \n",
       "\n",
       "   1595      1596      1597      1598  1599  \n",
       "0     1  0.133333  0.164706  0.113725     1  \n",
       "1     1  0.082353  0.003922  0.000000     1  \n",
       "2     1  0.403922  0.419608  0.352941     1  \n",
       "3     1  0.313726  0.341176  0.278431     1  \n",
       "4     1  0.270588  0.290196  0.266667     1  \n",
       "\n",
       "[5 rows x 1600 columns]"
      ]
     },
     "execution_count": 18,
     "metadata": {},
     "output_type": "execute_result"
    }
   ],
   "source": [
    "X_df = pd.DataFrame(X_np)\n",
    "X_df.head()"
   ]
  },
  {
   "cell_type": "code",
   "execution_count": 19,
   "metadata": {
    "collapsed": false
   },
   "outputs": [
    {
     "data": {
      "text/plain": [
       "1.0"
      ]
     },
     "execution_count": 19,
     "metadata": {},
     "output_type": "execute_result"
    }
   ],
   "source": [
    "Y_np[0]"
   ]
  },
  {
   "cell_type": "code",
   "execution_count": 20,
   "metadata": {
    "collapsed": false
   },
   "outputs": [],
   "source": [
    "# probablity, likliehood, confidence interval, gaussian, logistic, multi-class logistic regression, discrete choice\n",
    "# neural network\n",
    "# random forest\n",
    "# decision tree - can only sepereate on each feature of the vector\n",
    "# C big C overfit the data; find best C with cross-validation\n",
    "# if sigma is large, then gamma is small.... if sigma is large then reach lots of points (meaing you are underfitting)\n",
    "# gamma specifically for rbf kernel\n",
    "\n",
    "clf = svm.SVC(kernel = 'rbf', C=100.0,gamma = )\n",
    "clf.fit(X_np, Y_np)\n",
    "\n",
    "with open('classifier_YourName.pickle','wb') as f:\n",
    "    pk.dump(clf, f)"
   ]
  },
  {
   "cell_type": "code",
   "execution_count": 21,
   "metadata": {
    "collapsed": true
   },
   "outputs": [],
   "source": [
    "# cleaning function on piazza that helps take out features less than 1600... might be broken so take that out; will give\n",
    "# numpy arrawys\n",
    "# "
   ]
  },
  {
   "cell_type": "code",
   "execution_count": 22,
   "metadata": {
    "collapsed": false
   },
   "outputs": [],
   "source": [
    "preview = np.load(\"test_locations_and_labels.np\")"
   ]
  },
  {
   "cell_type": "code",
   "execution_count": 23,
   "metadata": {
    "collapsed": false
   },
   "outputs": [
    {
     "data": {
      "text/html": [
       "<div>\n",
       "<table border=\"1\" class=\"dataframe\">\n",
       "  <thead>\n",
       "    <tr style=\"text-align: right;\">\n",
       "      <th></th>\n",
       "      <th>0</th>\n",
       "      <th>1</th>\n",
       "      <th>2</th>\n",
       "    </tr>\n",
       "  </thead>\n",
       "  <tbody>\n",
       "    <tr>\n",
       "      <th>0</th>\n",
       "      <td>271</td>\n",
       "      <td>493</td>\n",
       "      <td>1</td>\n",
       "    </tr>\n",
       "    <tr>\n",
       "      <th>1</th>\n",
       "      <td>323</td>\n",
       "      <td>481</td>\n",
       "      <td>1</td>\n",
       "    </tr>\n",
       "    <tr>\n",
       "      <th>2</th>\n",
       "      <td>560</td>\n",
       "      <td>475</td>\n",
       "      <td>1</td>\n",
       "    </tr>\n",
       "    <tr>\n",
       "      <th>3</th>\n",
       "      <td>576</td>\n",
       "      <td>524</td>\n",
       "      <td>1</td>\n",
       "    </tr>\n",
       "    <tr>\n",
       "      <th>4</th>\n",
       "      <td>287</td>\n",
       "      <td>553</td>\n",
       "      <td>1</td>\n",
       "    </tr>\n",
       "    <tr>\n",
       "      <th>5</th>\n",
       "      <td>68</td>\n",
       "      <td>483</td>\n",
       "      <td>0</td>\n",
       "    </tr>\n",
       "    <tr>\n",
       "      <th>6</th>\n",
       "      <td>168</td>\n",
       "      <td>479</td>\n",
       "      <td>0</td>\n",
       "    </tr>\n",
       "    <tr>\n",
       "      <th>7</th>\n",
       "      <td>374</td>\n",
       "      <td>502</td>\n",
       "      <td>0</td>\n",
       "    </tr>\n",
       "    <tr>\n",
       "      <th>8</th>\n",
       "      <td>332</td>\n",
       "      <td>559</td>\n",
       "      <td>0</td>\n",
       "    </tr>\n",
       "    <tr>\n",
       "      <th>9</th>\n",
       "      <td>637</td>\n",
       "      <td>541</td>\n",
       "      <td>0</td>\n",
       "    </tr>\n",
       "  </tbody>\n",
       "</table>\n",
       "</div>"
      ],
      "text/plain": [
       "     0    1  2\n",
       "0  271  493  1\n",
       "1  323  481  1\n",
       "2  560  475  1\n",
       "3  576  524  1\n",
       "4  287  553  1\n",
       "5   68  483  0\n",
       "6  168  479  0\n",
       "7  374  502  0\n",
       "8  332  559  0\n",
       "9  637  541  0"
      ]
     },
     "execution_count": 23,
     "metadata": {},
     "output_type": "execute_result"
    }
   ],
   "source": [
    "pd.DataFrame(preview)"
   ]
  },
  {
   "cell_type": "code",
   "execution_count": null,
   "metadata": {
    "collapsed": true
   },
   "outputs": [],
   "source": []
  },
  {
   "cell_type": "code",
   "execution_count": null,
   "metadata": {
    "collapsed": true
   },
   "outputs": [],
   "source": []
  }
 ],
 "metadata": {
  "kernelspec": {
   "display_name": "Python 3",
   "language": "python",
   "name": "python3"
  },
  "language_info": {
   "codemirror_mode": {
    "name": "ipython",
    "version": 3
   },
   "file_extension": ".py",
   "mimetype": "text/x-python",
   "name": "python",
   "nbconvert_exporter": "python",
   "pygments_lexer": "ipython3",
   "version": "3.4.3"
  }
 },
 "nbformat": 4,
 "nbformat_minor": 0
}
