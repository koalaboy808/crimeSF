{
 "cells": [
  {
   "cell_type": "code",
   "execution_count": 1,
   "metadata": {
    "collapsed": true
   },
   "outputs": [],
   "source": [
    "import numpy as np\n",
    "import pandas as pd\n",
    "from sklearn import svm\n",
    "import pickle as pk"
   ]
  },
  {
   "cell_type": "code",
   "execution_count": 2,
   "metadata": {
    "collapsed": false
   },
   "outputs": [
    {
     "ename": "FileNotFoundError",
     "evalue": "[Errno 2] No such file or directory: 'X_trn.np'",
     "output_type": "error",
     "traceback": [
      "\u001b[0;31m---------------------------------------------------------------------------\u001b[0m",
      "\u001b[0;31mFileNotFoundError\u001b[0m                         Traceback (most recent call last)",
      "\u001b[0;32m<ipython-input-2-10ead875d8cf>\u001b[0m in \u001b[0;36m<module>\u001b[0;34m()\u001b[0m\n\u001b[0;32m----> 1\u001b[0;31m \u001b[0mX_np\u001b[0m \u001b[0;34m=\u001b[0m \u001b[0mnp\u001b[0m\u001b[0;34m.\u001b[0m\u001b[0mload\u001b[0m\u001b[0;34m(\u001b[0m\u001b[0;34m\"X_trn.np\"\u001b[0m\u001b[0;34m)\u001b[0m\u001b[0;34m\u001b[0m\u001b[0m\n\u001b[0m\u001b[1;32m      2\u001b[0m \u001b[0mY_np\u001b[0m \u001b[0;34m=\u001b[0m \u001b[0mnp\u001b[0m\u001b[0;34m.\u001b[0m\u001b[0mload\u001b[0m\u001b[0;34m(\u001b[0m\u001b[0;34m\"Y_trn.np\"\u001b[0m\u001b[0;34m)\u001b[0m\u001b[0;34m\u001b[0m\u001b[0m\n",
      "\u001b[0;32m/Users/carlo_liquido/anaconda/lib/python3.4/site-packages/numpy/lib/npyio.py\u001b[0m in \u001b[0;36mload\u001b[0;34m(file, mmap_mode)\u001b[0m\n\u001b[1;32m    367\u001b[0m     \u001b[0mown_fid\u001b[0m \u001b[0;34m=\u001b[0m \u001b[0;32mFalse\u001b[0m\u001b[0;34m\u001b[0m\u001b[0m\n\u001b[1;32m    368\u001b[0m     \u001b[0;32mif\u001b[0m \u001b[0misinstance\u001b[0m\u001b[0;34m(\u001b[0m\u001b[0mfile\u001b[0m\u001b[0;34m,\u001b[0m \u001b[0mbasestring\u001b[0m\u001b[0;34m)\u001b[0m\u001b[0;34m:\u001b[0m\u001b[0;34m\u001b[0m\u001b[0m\n\u001b[0;32m--> 369\u001b[0;31m         \u001b[0mfid\u001b[0m \u001b[0;34m=\u001b[0m \u001b[0mopen\u001b[0m\u001b[0;34m(\u001b[0m\u001b[0mfile\u001b[0m\u001b[0;34m,\u001b[0m \u001b[0;34m\"rb\"\u001b[0m\u001b[0;34m)\u001b[0m\u001b[0;34m\u001b[0m\u001b[0m\n\u001b[0m\u001b[1;32m    370\u001b[0m         \u001b[0mown_fid\u001b[0m \u001b[0;34m=\u001b[0m \u001b[0;32mTrue\u001b[0m\u001b[0;34m\u001b[0m\u001b[0m\n\u001b[1;32m    371\u001b[0m     \u001b[0;32melif\u001b[0m \u001b[0misinstance\u001b[0m\u001b[0;34m(\u001b[0m\u001b[0mfile\u001b[0m\u001b[0;34m,\u001b[0m \u001b[0mgzip\u001b[0m\u001b[0;34m.\u001b[0m\u001b[0mGzipFile\u001b[0m\u001b[0;34m)\u001b[0m\u001b[0;34m:\u001b[0m\u001b[0;34m\u001b[0m\u001b[0m\n",
      "\u001b[0;31mFileNotFoundError\u001b[0m: [Errno 2] No such file or directory: 'X_trn.np'"
     ]
    }
   ],
   "source": [
    "X_np = np.load(\"X_trn.np\")\n",
    "Y_np = np.load(\"Y_trn.np\")"
   ]
  },
  {
   "cell_type": "code",
   "execution_count": null,
   "metadata": {
    "collapsed": false
   },
   "outputs": [],
   "source": [
    "print(X_np.shape)\n",
    "print(Y_np.shape)"
   ]
  },
  {
   "cell_type": "code",
   "execution_count": null,
   "metadata": {
    "collapsed": true
   },
   "outputs": [],
   "source": [
    "def cleanclicks(xtrn, ytrn):\n",
    "    x_trn = []\n",
    "    inds_bad = []\n",
    "    for i in xrange(len(xtrn)):\n",
    "        if len(xtrn[i]) < 1600:\n",
    "            inds_bad.append(i)\n",
    "        x_trn.append(list(xtrn[i]))\n",
    "    for i in sorted(inds_bad, reverse=True):\n",
    "        del x_trn[i]\n",
    "    y_trn = np.delete(ytrn, inds_bad, 0)\n",
    "    x_trn = np.array(x_trn)\n",
    "    return x_trn, y_trn\n",
    "\n",
    "X_np, Y_np = cleanclicks(X_np, Y_np)"
   ]
  },
  {
   "cell_type": "code",
   "execution_count": null,
   "metadata": {
    "collapsed": false
   },
   "outputs": [],
   "source": [
    "print(X_np.shape)\n",
    "print(Y_np.shape)"
   ]
  },
  {
   "cell_type": "code",
   "execution_count": null,
   "metadata": {
    "collapsed": false
   },
   "outputs": [],
   "source": [
    "X_df = pd.DataFrame(X_np)\n",
    "X_df.head()"
   ]
  },
  {
   "cell_type": "code",
   "execution_count": null,
   "metadata": {
    "collapsed": false
   },
   "outputs": [],
   "source": [
    "Y_np[0]"
   ]
  },
  {
   "cell_type": "code",
   "execution_count": null,
   "metadata": {
    "collapsed": false
   },
   "outputs": [],
   "source": [
    "# probablity, likliehood, confidence interval, gaussian, logistic, multi-class logistic regression, discrete choice\n",
    "# neural network\n",
    "# random forest\n",
    "# decision tree - can only sepereate on each feature of the vector\n",
    "# C big C overfit the data; find best C with cross-validation\n",
    "# if sigma is large, then gamma is small.... if sigma is large then reach lots of points (meaing you are underfitting)\n",
    "# gamma specifically for rbf kernel\n",
    "\n",
    "clf = svm.SVC(kernel = 'rbf', C=1.0, gamma=0.01)\n",
    "clf.fit(X_np, Y_np)\n",
    "\n",
    "with open('classifier_CarloLiquido.pickle','wb') as f:\n",
    "    pk.dump(clf, f)"
   ]
  },
  {
   "cell_type": "code",
   "execution_count": null,
   "metadata": {
    "collapsed": true
   },
   "outputs": [],
   "source": [
    "# cleaning function on piazza that helps take out features less than 1600... might be broken so take that out; will give\n",
    "# numpy arrawys\n",
    "# "
   ]
  },
  {
   "cell_type": "code",
   "execution_count": null,
   "metadata": {
    "collapsed": false
   },
   "outputs": [],
   "source": [
    "preview = np.load(\"test_locations_and_labels.np\")"
   ]
  },
  {
   "cell_type": "code",
   "execution_count": null,
   "metadata": {
    "collapsed": false
   },
   "outputs": [],
   "source": [
    "pd.DataFrame(preview)"
   ]
  },
  {
   "cell_type": "markdown",
   "metadata": {},
   "source": [
    "** experiment using crossvalidation **"
   ]
  },
  {
   "cell_type": "code",
   "execution_count": null,
   "metadata": {
    "collapsed": false
   },
   "outputs": [],
   "source": [
    "from sklearn import cross_validation \n",
    "X_train, X_test, y_train, y_test = cross_validation.train_test_split(\n",
    "    X_np, Y_np, test_size=0.4, random_state=0)"
   ]
  },
  {
   "cell_type": "code",
   "execution_count": null,
   "metadata": {
    "collapsed": false
   },
   "outputs": [],
   "source": [
    "print(X_train.shape, y_train.shape)\n",
    "\n",
    "print(X_test.shape, y_test.shape)  "
   ]
  },
  {
   "cell_type": "code",
   "execution_count": null,
   "metadata": {
    "collapsed": false
   },
   "outputs": [],
   "source": [
    "clf_experiment = svm.SVC(kernel = 'rbf', C=10.0).fit(X_train, y_train)\n",
    "\n",
    "clf.score(X_test, y_test) "
   ]
  },
  {
   "cell_type": "markdown",
   "metadata": {},
   "source": [
    "** experiment2 using crossvalidation with k-folds **"
   ]
  },
  {
   "cell_type": "code",
   "execution_count": null,
   "metadata": {
    "collapsed": false
   },
   "outputs": [],
   "source": [
    "clf_expirement2 = svm.SVC(kernel = 'rbf', C=90.0)\n",
    "scores = cross_validation.cross_val_score(\n",
    "    clf_expirement2, X_np, Y_np, cv=5)\n",
    "scores"
   ]
  },
  {
   "cell_type": "code",
   "execution_count": null,
   "metadata": {
    "collapsed": false
   },
   "outputs": [],
   "source": [
    "print(\"Accuracy: %0.2f (+/- %0.2f)\" % (scores.mean(), scores.std() * 2))"
   ]
  },
  {
   "cell_type": "markdown",
   "metadata": {},
   "source": [
    "** crossvalidation3 with gridsearch **"
   ]
  },
  {
   "cell_type": "code",
   "execution_count": 49,
   "metadata": {
    "collapsed": true
   },
   "outputs": [],
   "source": [
    "tuned_parameters = [{'kernel': ['rbf'],\n",
    "                     'gamma': [1e-1, 1e-2, 1e-3, 1e-4], 'C': [1, 10, 50, 100, 500, 1000]}\n",
    "                   ]"
   ]
  },
  {
   "cell_type": "code",
   "execution_count": 50,
   "metadata": {
    "collapsed": false
   },
   "outputs": [
    {
     "data": {
      "text/plain": [
       "[{'C': [1, 10, 50, 100, 500, 1000],\n",
       "  'gamma': [0.1, 0.01, 0.001, 0.0001],\n",
       "  'kernel': ['rbf']}]"
      ]
     },
     "execution_count": 50,
     "metadata": {},
     "output_type": "execute_result"
    }
   ],
   "source": [
    "tuned_parameters"
   ]
  },
  {
   "cell_type": "code",
   "execution_count": 51,
   "metadata": {
    "collapsed": true
   },
   "outputs": [],
   "source": [
    "scores3 = ['precision', 'recall']"
   ]
  },
  {
   "cell_type": "code",
   "execution_count": 52,
   "metadata": {
    "collapsed": false
   },
   "outputs": [
    {
     "name": "stdout",
     "output_type": "stream",
     "text": [
      "# Tuning hyper-parameters for precision\n",
      "()\n",
      "Best parameters set found on development set:\n",
      "()\n",
      "{'kernel': 'rbf', 'C': 1, 'gamma': 0.01}\n",
      "()\n",
      "Grid scores on development set:\n",
      "()\n",
      "0.905 (+/-0.073) for {'kernel': 'rbf', 'C': 1, 'gamma': 0.1}\n",
      "0.922 (+/-0.121) for {'kernel': 'rbf', 'C': 1, 'gamma': 0.01}\n",
      "0.449 (+/-0.045) for {'kernel': 'rbf', 'C': 1, 'gamma': 0.001}\n",
      "0.449 (+/-0.045) for {'kernel': 'rbf', 'C': 1, 'gamma': 0.0001}\n",
      "0.905 (+/-0.073) for {'kernel': 'rbf', 'C': 10, 'gamma': 0.1}\n",
      "0.916 (+/-0.117) for {'kernel': 'rbf', 'C': 10, 'gamma': 0.01}\n",
      "0.838 (+/-0.145) for {'kernel': 'rbf', 'C': 10, 'gamma': 0.001}\n",
      "0.449 (+/-0.045) for {'kernel': 'rbf', 'C': 10, 'gamma': 0.0001}\n",
      "0.905 (+/-0.073) for {'kernel': 'rbf', 'C': 50, 'gamma': 0.1}\n",
      "0.916 (+/-0.117) for {'kernel': 'rbf', 'C': 50, 'gamma': 0.01}\n",
      "0.897 (+/-0.075) for {'kernel': 'rbf', 'C': 50, 'gamma': 0.001}\n",
      "0.761 (+/-0.159) for {'kernel': 'rbf', 'C': 50, 'gamma': 0.0001}\n",
      "0.905 (+/-0.073) for {'kernel': 'rbf', 'C': 100, 'gamma': 0.1}\n",
      "0.916 (+/-0.117) for {'kernel': 'rbf', 'C': 100, 'gamma': 0.01}\n",
      "0.890 (+/-0.057) for {'kernel': 'rbf', 'C': 100, 'gamma': 0.001}\n",
      "0.829 (+/-0.201) for {'kernel': 'rbf', 'C': 100, 'gamma': 0.0001}\n",
      "0.905 (+/-0.073) for {'kernel': 'rbf', 'C': 500, 'gamma': 0.1}\n",
      "0.916 (+/-0.117) for {'kernel': 'rbf', 'C': 500, 'gamma': 0.01}\n",
      "0.881 (+/-0.096) for {'kernel': 'rbf', 'C': 500, 'gamma': 0.001}\n",
      "0.815 (+/-0.063) for {'kernel': 'rbf', 'C': 500, 'gamma': 0.0001}\n",
      "0.905 (+/-0.073) for {'kernel': 'rbf', 'C': 1000, 'gamma': 0.1}\n",
      "0.916 (+/-0.117) for {'kernel': 'rbf', 'C': 1000, 'gamma': 0.01}\n",
      "0.881 (+/-0.096) for {'kernel': 'rbf', 'C': 1000, 'gamma': 0.001}\n",
      "0.833 (+/-0.047) for {'kernel': 'rbf', 'C': 1000, 'gamma': 0.0001}\n",
      "()\n",
      "Detailed classification report:\n",
      "()\n",
      "The model is trained on the full development set.\n",
      "The scores are computed on the full evaluation set.\n",
      "()\n",
      "             precision    recall  f1-score   support\n",
      "\n",
      "        0.0       0.95      0.90      0.93        21\n",
      "        1.0       0.96      0.98      0.97        45\n",
      "\n",
      "avg / total       0.95      0.95      0.95        66\n",
      "\n",
      "()\n",
      "# Tuning hyper-parameters for recall\n",
      "()\n",
      "Best parameters set found on development set:\n",
      "()\n",
      "{'kernel': 'rbf', 'C': 1, 'gamma': 0.01}\n",
      "()\n",
      "Grid scores on development set:\n",
      "()\n",
      "0.897 (+/-0.067) for {'kernel': 'rbf', 'C': 1, 'gamma': 0.1}\n",
      "0.918 (+/-0.123) for {'kernel': 'rbf', 'C': 1, 'gamma': 0.01}\n",
      "0.670 (+/-0.034) for {'kernel': 'rbf', 'C': 1, 'gamma': 0.001}\n",
      "0.670 (+/-0.034) for {'kernel': 'rbf', 'C': 1, 'gamma': 0.0001}\n",
      "0.897 (+/-0.067) for {'kernel': 'rbf', 'C': 10, 'gamma': 0.1}\n",
      "0.907 (+/-0.120) for {'kernel': 'rbf', 'C': 10, 'gamma': 0.01}\n",
      "0.825 (+/-0.158) for {'kernel': 'rbf', 'C': 10, 'gamma': 0.001}\n",
      "0.670 (+/-0.034) for {'kernel': 'rbf', 'C': 10, 'gamma': 0.0001}\n",
      "0.897 (+/-0.067) for {'kernel': 'rbf', 'C': 50, 'gamma': 0.1}\n",
      "0.907 (+/-0.120) for {'kernel': 'rbf', 'C': 50, 'gamma': 0.01}\n",
      "0.856 (+/-0.139) for {'kernel': 'rbf', 'C': 50, 'gamma': 0.001}\n",
      "0.742 (+/-0.169) for {'kernel': 'rbf', 'C': 50, 'gamma': 0.0001}\n",
      "0.897 (+/-0.067) for {'kernel': 'rbf', 'C': 100, 'gamma': 0.1}\n",
      "0.907 (+/-0.120) for {'kernel': 'rbf', 'C': 100, 'gamma': 0.01}\n",
      "0.845 (+/-0.116) for {'kernel': 'rbf', 'C': 100, 'gamma': 0.001}\n",
      "0.814 (+/-0.209) for {'kernel': 'rbf', 'C': 100, 'gamma': 0.0001}\n",
      "0.897 (+/-0.067) for {'kernel': 'rbf', 'C': 500, 'gamma': 0.1}\n",
      "0.907 (+/-0.120) for {'kernel': 'rbf', 'C': 500, 'gamma': 0.01}\n",
      "0.825 (+/-0.165) for {'kernel': 'rbf', 'C': 500, 'gamma': 0.001}\n",
      "0.753 (+/-0.120) for {'kernel': 'rbf', 'C': 500, 'gamma': 0.0001}\n",
      "0.897 (+/-0.067) for {'kernel': 'rbf', 'C': 1000, 'gamma': 0.1}\n",
      "0.907 (+/-0.120) for {'kernel': 'rbf', 'C': 1000, 'gamma': 0.01}\n",
      "0.825 (+/-0.165) for {'kernel': 'rbf', 'C': 1000, 'gamma': 0.001}\n",
      "0.763 (+/-0.102) for {'kernel': 'rbf', 'C': 1000, 'gamma': 0.0001}\n",
      "()\n",
      "Detailed classification report:\n",
      "()\n",
      "The model is trained on the full development set.\n",
      "The scores are computed on the full evaluation set.\n",
      "()\n",
      "             precision    recall  f1-score   support\n",
      "\n",
      "        0.0       0.95      0.90      0.93        21\n",
      "        1.0       0.96      0.98      0.97        45\n",
      "\n",
      "avg / total       0.95      0.95      0.95        66\n",
      "\n",
      "()\n"
     ]
    }
   ],
   "source": [
    "from sklearn.grid_search import GridSearchCV\n",
    "from sklearn.metrics import classification_report\n",
    "\n",
    "for score in scores3:\n",
    "    print(\"# Tuning hyper-parameters for %s\" % score)\n",
    "    print()\n",
    "\n",
    "    clf = GridSearchCV(svm.SVC(C=1), tuned_parameters, cv=5,\n",
    "                       scoring='%s_weighted' % score)\n",
    "    clf.fit(X_train, y_train)\n",
    "\n",
    "    print(\"Best parameters set found on development set:\")\n",
    "    print()\n",
    "    print(clf.best_params_)\n",
    "    print()\n",
    "    print(\"Grid scores on development set:\")\n",
    "    print()\n",
    "    for params, mean_score, scores in clf.grid_scores_:\n",
    "        print(\"%0.3f (+/-%0.03f) for %r\"\n",
    "              % (mean_score, scores.std() * 2, params))\n",
    "    print()\n",
    "\n",
    "    print(\"Detailed classification report:\")\n",
    "    print()\n",
    "    print(\"The model is trained on the full development set.\")\n",
    "    print(\"The scores are computed on the full evaluation set.\")\n",
    "    print()\n",
    "    y_true, y_pred = y_test, clf.predict(X_test)\n",
    "    print(classification_report(y_true, y_pred))\n",
    "    print()"
   ]
  },
  {
   "cell_type": "code",
   "execution_count": null,
   "metadata": {
    "collapsed": true
   },
   "outputs": [],
   "source": []
  },
  {
   "cell_type": "code",
   "execution_count": null,
   "metadata": {
    "collapsed": true
   },
   "outputs": [],
   "source": []
  }
 ],
 "metadata": {
  "kernelspec": {
   "display_name": "Python 3",
   "language": "python",
   "name": "python3"
  },
  "language_info": {
   "codemirror_mode": {
    "name": "ipython",
    "version": 3
   },
   "file_extension": ".py",
   "mimetype": "text/x-python",
   "name": "python",
   "nbconvert_exporter": "python",
   "pygments_lexer": "ipython3",
   "version": "3.4.3"
  }
 },
 "nbformat": 4,
 "nbformat_minor": 0
}
