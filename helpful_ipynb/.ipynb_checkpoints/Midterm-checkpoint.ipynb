{
 "cells": [
  {
   "cell_type": "code",
   "execution_count": 1,
   "metadata": {
    "collapsed": false
   },
   "outputs": [
    {
     "ename": "ImportError",
     "evalue": "No module named 'psycopg2'",
     "output_type": "error",
     "traceback": [
      "\u001b[0;31m---------------------------------------------------------------------------\u001b[0m",
      "\u001b[0;31mImportError\u001b[0m                               Traceback (most recent call last)",
      "\u001b[0;32m<ipython-input-1-6affe4361ab7>\u001b[0m in \u001b[0;36m<module>\u001b[0;34m()\u001b[0m\n\u001b[0;32m----> 1\u001b[0;31m \u001b[0;32mimport\u001b[0m \u001b[0mpsycopg2\u001b[0m\u001b[0;34m,\u001b[0m \u001b[0mgeojson\u001b[0m\u001b[0;34m,\u001b[0m \u001b[0mjson\u001b[0m\u001b[0;34m,\u001b[0m \u001b[0mfolium\u001b[0m\u001b[0;34m,\u001b[0m \u001b[0mdatetime\u001b[0m\u001b[0;34m,\u001b[0m \u001b[0mtime\u001b[0m\u001b[0;34m,\u001b[0m \u001b[0mfiona\u001b[0m\u001b[0;34m,\u001b[0m \u001b[0msklearn\u001b[0m\u001b[0;34m,\u001b[0m \u001b[0mos\u001b[0m\u001b[0;34m,\u001b[0m \u001b[0mutm\u001b[0m\u001b[0;34m\u001b[0m\u001b[0m\n\u001b[0m\u001b[1;32m      2\u001b[0m \u001b[0;32mfrom\u001b[0m \u001b[0msklearn\u001b[0m \u001b[0;32mimport\u001b[0m \u001b[0mlinear_model\u001b[0m\u001b[0;34m\u001b[0m\u001b[0m\n\u001b[1;32m      3\u001b[0m \u001b[0;32mfrom\u001b[0m \u001b[0mscipy\u001b[0m\u001b[0;34m.\u001b[0m\u001b[0mspatial\u001b[0m\u001b[0;34m.\u001b[0m\u001b[0mdistance\u001b[0m \u001b[0;32mimport\u001b[0m \u001b[0mcdist\u001b[0m\u001b[0;34m\u001b[0m\u001b[0m\n\u001b[1;32m      4\u001b[0m \u001b[0;32mfrom\u001b[0m \u001b[0mdateutil\u001b[0m\u001b[0;34m.\u001b[0m\u001b[0mparser\u001b[0m \u001b[0;32mimport\u001b[0m \u001b[0mparse\u001b[0m\u001b[0;34m\u001b[0m\u001b[0m\n\u001b[1;32m      5\u001b[0m \u001b[0;32mfrom\u001b[0m \u001b[0msklearn\u001b[0m \u001b[0;32mimport\u001b[0m \u001b[0mcross_validation\u001b[0m\u001b[0;34m\u001b[0m\u001b[0m\n",
      "\u001b[0;31mImportError\u001b[0m: No module named 'psycopg2'"
     ]
    }
   ],
   "source": [
    "import psycopg2, geojson, json, folium, datetime, time, fiona, sklearn, os, utm\n",
    "from sklearn import linear_model\n",
    "from scipy.spatial.distance import cdist\n",
    "from dateutil.parser import parse \n",
    "from sklearn import cross_validation\n",
    "from sklearn import ensemble\n",
    "from sklearn import grid_search\n",
    "from sklearn.ensemble import GradientBoostingRegressor \n",
    "from sklearn.ensemble import AdaBoostRegressor \n",
    "from sklearn.linear_model import LinearRegression\n",
    "from sklearn.metrics import mean_squared_error \n",
    "from sklearn.naive_bayes import GaussianNB\n",
    "from sklearn.ensemble import RandomForestClassifier\n",
    "from sklearn.tree import DecisionTreeRegressor\n",
    "from sklearn.ensemble.forest import RandomForestRegressor\n",
    "from shapely.geometry import Polygon, MultiPolygon, shape \n",
    "from pymongo import MongoClient \n",
    "from IPython.core.display import HTML\n",
    "import pandas as pd\n",
    "import numpy as np"
   ]
  },
  {
   "cell_type": "code",
   "execution_count": 718,
   "metadata": {
    "collapsed": false
   },
   "outputs": [],
   "source": [
    "# load train and test data\n",
    "train_raw = pd.read_csv('Taxi/Taxi_Train.csv', names=['trip id','departure time','arrival time','trip fare','number of passengers','lon of departure','lat of departure','lon of destination','lat of destination','TAZ of departure','TAZ of destination'])\n",
    "test_raw = pd.read_csv('Taxi/Taxi_Query.csv', names=['trip id','departure time','arrival time','trip fare','number of passengers','lon of departure','lat of departure','lon of destination','lat of destination','TAZ of departure','TAZ of destination'])"
   ]
  },
  {
   "cell_type": "code",
   "execution_count": 719,
   "metadata": {
    "collapsed": false
   },
   "outputs": [],
   "source": [
    "# force data type conversion for columns\n",
    "train_raw = train_raw.convert_objects(convert_dates='coerce', convert_numeric=True) \n",
    "test_raw = test_raw.convert_objects(convert_dates='coerce', convert_numeric=True) "
   ]
  },
  {
   "cell_type": "code",
   "execution_count": 326,
   "metadata": {
    "collapsed": false
   },
   "outputs": [
    {
     "data": {
      "text/html": [
       "<div style=\"max-height:1000px;max-width:1500px;overflow:auto;\">\n",
       "<table border=\"1\" class=\"dataframe\">\n",
       "  <thead>\n",
       "    <tr style=\"text-align: right;\">\n",
       "      <th></th>\n",
       "      <th>trip id</th>\n",
       "      <th>departure time</th>\n",
       "      <th>arrival time</th>\n",
       "      <th>trip fare</th>\n",
       "      <th>number of passengers</th>\n",
       "      <th>lon of departure</th>\n",
       "      <th>lat of departure</th>\n",
       "      <th>lon of destination</th>\n",
       "      <th>lat of destination</th>\n",
       "      <th>TAZ of departure</th>\n",
       "      <th>TAZ of destination</th>\n",
       "    </tr>\n",
       "  </thead>\n",
       "  <tbody>\n",
       "    <tr>\n",
       "      <th>0</th>\n",
       "      <td> 0</td>\n",
       "      <td>2012-09-01 00:11:00</td>\n",
       "      <td>2012-09-01 00:20:00</td>\n",
       "      <td> 13.20</td>\n",
       "      <td> 1</td>\n",
       "      <td>-122.413540</td>\n",
       "      <td> 37.802683</td>\n",
       "      <td>-122.421277</td>\n",
       "      <td> 37.785395</td>\n",
       "      <td> 38</td>\n",
       "      <td> 30</td>\n",
       "    </tr>\n",
       "    <tr>\n",
       "      <th>1</th>\n",
       "      <td> 1</td>\n",
       "      <td>2012-09-01 00:23:00</td>\n",
       "      <td>2012-09-01 00:31:00</td>\n",
       "      <td> 10.65</td>\n",
       "      <td> 1</td>\n",
       "      <td>-122.419700</td>\n",
       "      <td> 37.786090</td>\n",
       "      <td>-122.435217</td>\n",
       "      <td> 37.762177</td>\n",
       "      <td> 30</td>\n",
       "      <td> 94</td>\n",
       "    </tr>\n",
       "    <tr>\n",
       "      <th>2</th>\n",
       "      <td> 2</td>\n",
       "      <td>2012-09-01 00:45:00</td>\n",
       "      <td>2012-09-01 00:49:00</td>\n",
       "      <td>  9.00</td>\n",
       "      <td> 1</td>\n",
       "      <td>-122.415120</td>\n",
       "      <td> 37.774672</td>\n",
       "      <td>-122.407657</td>\n",
       "      <td> 37.782615</td>\n",
       "      <td> 10</td>\n",
       "      <td> 11</td>\n",
       "    </tr>\n",
       "    <tr>\n",
       "      <th>3</th>\n",
       "      <td> 3</td>\n",
       "      <td>2012-09-01 00:41:00</td>\n",
       "      <td>2012-09-01 00:54:00</td>\n",
       "      <td> 13.95</td>\n",
       "      <td> 2</td>\n",
       "      <td>-122.419392</td>\n",
       "      <td> 37.806622</td>\n",
       "      <td>-122.415393</td>\n",
       "      <td> 37.778115</td>\n",
       "      <td> 40</td>\n",
       "      <td> 10</td>\n",
       "    </tr>\n",
       "    <tr>\n",
       "      <th>4</th>\n",
       "      <td> 4</td>\n",
       "      <td>2012-09-01 01:09:00</td>\n",
       "      <td>2012-09-01 01:13:00</td>\n",
       "      <td>  7.35</td>\n",
       "      <td> 1</td>\n",
       "      <td>-122.429722</td>\n",
       "      <td> 37.797790</td>\n",
       "      <td>-122.418060</td>\n",
       "      <td> 37.789032</td>\n",
       "      <td> 45</td>\n",
       "      <td> 32</td>\n",
       "    </tr>\n",
       "  </tbody>\n",
       "</table>\n",
       "</div>"
      ],
      "text/plain": [
       "   trip id      departure time        arrival time  trip fare  \\\n",
       "0        0 2012-09-01 00:11:00 2012-09-01 00:20:00      13.20   \n",
       "1        1 2012-09-01 00:23:00 2012-09-01 00:31:00      10.65   \n",
       "2        2 2012-09-01 00:45:00 2012-09-01 00:49:00       9.00   \n",
       "3        3 2012-09-01 00:41:00 2012-09-01 00:54:00      13.95   \n",
       "4        4 2012-09-01 01:09:00 2012-09-01 01:13:00       7.35   \n",
       "\n",
       "   number of passengers  lon of departure  lat of departure  \\\n",
       "0                     1       -122.413540         37.802683   \n",
       "1                     1       -122.419700         37.786090   \n",
       "2                     1       -122.415120         37.774672   \n",
       "3                     2       -122.419392         37.806622   \n",
       "4                     1       -122.429722         37.797790   \n",
       "\n",
       "   lon of destination  lat of destination  TAZ of departure  \\\n",
       "0         -122.421277           37.785395                38   \n",
       "1         -122.435217           37.762177                30   \n",
       "2         -122.407657           37.782615                10   \n",
       "3         -122.415393           37.778115                40   \n",
       "4         -122.418060           37.789032                45   \n",
       "\n",
       "   TAZ of destination  \n",
       "0                  30  \n",
       "1                  94  \n",
       "2                  11  \n",
       "3                  10  \n",
       "4                  32  "
      ]
     },
     "execution_count": 326,
     "metadata": {},
     "output_type": "execute_result"
    }
   ],
   "source": [
    "train_raw.head()"
   ]
  },
  {
   "cell_type": "code",
   "execution_count": 6,
   "metadata": {
    "collapsed": false
   },
   "outputs": [],
   "source": [
    "train_labels = train_raw['trip fare']"
   ]
  },
  {
   "cell_type": "code",
   "execution_count": 7,
   "metadata": {
    "collapsed": false
   },
   "outputs": [],
   "source": [
    "train_features = train_raw[['number of passengers','TAZ of departure']]"
   ]
  },
  {
   "cell_type": "markdown",
   "metadata": {},
   "source": [
    "# TASK 1"
   ]
  },
  {
   "cell_type": "code",
   "execution_count": 8,
   "metadata": {
    "collapsed": false
   },
   "outputs": [],
   "source": [
    "# creating feature with ride length in minutes\n",
    "train_ride_len = train_raw.ix[:, 2] - train_raw.ix[:, 1]\n",
    "train_ride_len_int = []\n",
    "for i in train_ride_len:\n",
    "    train_ride_len_int.append(int(i.minutes))\n",
    "    \n",
    "train_ride_len_int = pd.Series(train_ride_len_int)"
   ]
  },
  {
   "cell_type": "code",
   "execution_count": null,
   "metadata": {
    "collapsed": false
   },
   "outputs": [],
   "source": [
    "# adding ride length to train set\n",
    "train_features['Trip length'] = train_ride_len_int"
   ]
  },
  {
   "cell_type": "code",
   "execution_count": 116,
   "metadata": {
    "collapsed": false
   },
   "outputs": [],
   "source": [
    "# converting 'TAZ departing zones' to strings\n",
    "train_features['TAZ of departure'] = train_raw['TAZ of departure']"
   ]
  },
  {
   "cell_type": "code",
   "execution_count": 188,
   "metadata": {
    "collapsed": false
   },
   "outputs": [],
   "source": [
    "# initializing feature binarizer\n",
    "binarizer = sklearn.preprocessing.LabelBinarizer()"
   ]
  },
  {
   "cell_type": "code",
   "execution_count": 454,
   "metadata": {
    "collapsed": false
   },
   "outputs": [],
   "source": [
    "# binarizing the 'TAZ of departure' features\n",
    "try:\n",
    "    del(train_tripstart_bin)\n",
    "except:\n",
    "    pass\n",
    "train_tripstart_bin = binarizer.fit(train_raw['TAZ of departure'])\n",
    "train_tripstart_bin = train_tripstart_bin.transform(train_raw['TAZ of departure'])\n",
    "train_tripstart_bin = pd.DataFrame(train_tripstart_bin)\n",
    "train_tripstart_bin.columns = train_tripstart_bin.columns.map(lambda x: 'start_' + str(x))"
   ]
  },
  {
   "cell_type": "code",
   "execution_count": 455,
   "metadata": {
    "collapsed": false
   },
   "outputs": [],
   "source": [
    "# binarizing the 'TAZ of departure' features\n",
    "try:\n",
    "    del(train_tripend_bin)\n",
    "except:\n",
    "    pass\n",
    "train_tripend_bin = binarizer.fit(train_raw['TAZ of destination'])\n",
    "train_tripend_bin = train_tripend_bin.transform(train_raw['TAZ of destination'])\n",
    "train_tripend_bin = pd.DataFrame(train_tripend_bin)\n",
    "train_tripend_bin.columns = train_tripend_bin.columns.map(lambda x: 'end_' + str(x))"
   ]
  },
  {
   "cell_type": "code",
   "execution_count": 151,
   "metadata": {
    "collapsed": false
   },
   "outputs": [
    {
     "data": {
      "text/plain": [
       "(50001, 227)"
      ]
     },
     "execution_count": 151,
     "metadata": {},
     "output_type": "execute_result"
    }
   ],
   "source": [
    "# creating train_features2: added departure zone\n",
    "train_features2 = pd.DataFrame(train_features['number of passengers']).join(train_tripstart_bin)\n",
    "train_features2.shape"
   ]
  },
  {
   "cell_type": "code",
   "execution_count": 160,
   "metadata": {
    "collapsed": false
   },
   "outputs": [
    {
     "data": {
      "text/plain": [
       "(50001, 808)"
      ]
     },
     "execution_count": 160,
     "metadata": {},
     "output_type": "execute_result"
    }
   ],
   "source": [
    "# creating train_features3: added end zone binary\n",
    "train_features3 = train_features2.join(train_tripend_bin)\n",
    "train_features3.shape"
   ]
  },
  {
   "cell_type": "code",
   "execution_count": 207,
   "metadata": {
    "collapsed": false
   },
   "outputs": [],
   "source": [
    "days_of_week = dict()\n",
    "days_of_week = {0:'Monday',1:'Tuesday',2:'Wednesday',3:'Thursday',4:'Friday',5:'Saturday',6:'Sunday'}"
   ]
  },
  {
   "cell_type": "code",
   "execution_count": 208,
   "metadata": {
    "collapsed": false
   },
   "outputs": [],
   "source": [
    "# creating train_features4: adding day of week\n",
    "train_features4 = pd.DataFrame(train_raw['departure time'])\n",
    "train_features4['departure time'] = train_features4['departure time'].map(lambda x: days_of_week[x.dayofweek])"
   ]
  },
  {
   "cell_type": "code",
   "execution_count": 209,
   "metadata": {
    "collapsed": false
   },
   "outputs": [],
   "source": [
    "# binarizing days of week\n",
    "train_daysofweek_bin = binarizer.fit(train_features4['departure time'])\n",
    "train_daysofweek_bin = train_daysofweek_bin.transform(train_features4['departure time'])\n",
    "train_daysofweek_bin = pd.DataFrame(train_daysofweek_bin)\n",
    "train_daysofweek_bin.columns = train_daysofweek_bin.columns.map(lambda x: days_of_week[x])\n",
    "train_features4 = pd.DataFrame(train_daysofweek_bin)"
   ]
  },
  {
   "cell_type": "code",
   "execution_count": 210,
   "metadata": {
    "collapsed": false
   },
   "outputs": [
    {
     "data": {
      "text/plain": [
       "(50001, 815)"
      ]
     },
     "execution_count": 210,
     "metadata": {},
     "output_type": "execute_result"
    }
   ],
   "source": [
    "# feature 4 population\n",
    "train_features4 = train_features4.join(train_features3)\n",
    "train_features4.shape"
   ]
  },
  {
   "cell_type": "code",
   "execution_count": 268,
   "metadata": {
    "collapsed": false
   },
   "outputs": [],
   "source": [
    "# feature 5: add time of day\n",
    "train_features5 = pd.DataFrame(train_raw['departure time'])\n",
    "train_features5['departure time'] = train_features5['departure time'].map(lambda x: [str(x.hour)+'pm' if x.hour > 12 else str(x.hour)+'am'][0] )"
   ]
  },
  {
   "cell_type": "code",
   "execution_count": 269,
   "metadata": {
    "collapsed": false
   },
   "outputs": [
    {
     "data": {
      "text/plain": [
       "(50001, 24)"
      ]
     },
     "execution_count": 269,
     "metadata": {},
     "output_type": "execute_result"
    }
   ],
   "source": [
    "# binarizing hour of day\n",
    "train_hourofday_bin = binarizer.fit(train_features5['departure time'])\n",
    "train_hourofday_bin = train_hourofday_bin.transform(train_features5['departure time'])\n",
    "train_hourofday_bin = pd.DataFrame(train_hourofday_bin)\n",
    "train_hourofday_bin.columns = train_hourofday_bin.columns.map(lambda x: [str(x)+'pm' if x > 12 else str(x)+'am'][0] )\n",
    "train_features5 = train_hourofday_bin\n",
    "train_features5.shape"
   ]
  },
  {
   "cell_type": "code",
   "execution_count": 354,
   "metadata": {
    "collapsed": false
   },
   "outputs": [
    {
     "ename": "ValueError",
     "evalue": "columns overlap but no suffix specified: Index([u'Monday', u'Tuesday', u'Wednesday', u'Thursday', u'Friday', u'Saturday', u'Sunday', u'number of passengers', u'start_0', u'start_1', u'start_2', u'start_3', u'start_4', u'start_5', u'start_6', u'start_7', u'start_8', u'start_9', u'start_10', u'start_11', u'start_12', u'start_13', u'start_14', u'start_15', u'start_16', u'start_17', u'start_18', u'start_19', u'start_20', u'start_21', u'start_22', u'start_23', u'start_24', u'start_25', u'start_26', u'start_27', u'start_28', u'start_29', u'start_30', u'start_31', u'start_32', u'start_33', u'start_34', u'start_35', u'start_36', u'start_37', u'start_38', u'start_39', u'start_40', u'start_41', u'start_42', u'start_43', u'start_44', u'start_45', u'start_46', u'start_47', u'start_48', u'start_49', u'start_50', u'start_51', u'start_52', u'start_53', u'start_54', u'start_55', u'start_56', u'start_57', u'start_58', u'start_59', u'start_60', u'start_61', u'start_62', u'start_63', u'start_64', u'start_65', u'start_66', u'start_67', u'start_68', u'start_69', u'start_70', u'start_71', u'start_72', u'start_73', u'start_74', u'start_75', u'start_76', u'start_77', u'start_78', u'start_79', u'start_80', u'start_81', u'start_82', u'start_83', u'start_84', u'start_85', u'start_86', u'start_87', u'start_88', u'start_89', u'start_90', u'start_91', ...], dtype='object')",
     "output_type": "error",
     "traceback": [
      "\u001b[0;31m---------------------------------------------------------------------------\u001b[0m\n\u001b[0;31mValueError\u001b[0m                                Traceback (most recent call last)",
      "\u001b[0;32m<ipython-input-354-0361497eecee>\u001b[0m in \u001b[0;36m<module>\u001b[0;34m()\u001b[0m\n\u001b[1;32m      1\u001b[0m \u001b[0;31m# feature 5 population\u001b[0m\u001b[0;34m\u001b[0m\u001b[0;34m\u001b[0m\u001b[0m\n\u001b[0;32m----> 2\u001b[0;31m \u001b[0mtrain_features5\u001b[0m \u001b[0;34m=\u001b[0m \u001b[0mtrain_features5\u001b[0m\u001b[0;34m.\u001b[0m\u001b[0mjoin\u001b[0m\u001b[0;34m(\u001b[0m\u001b[0mtrain_features4\u001b[0m\u001b[0;34m)\u001b[0m\u001b[0;34m\u001b[0m\u001b[0m\n\u001b[0m\u001b[1;32m      3\u001b[0m \u001b[0mtrain_features5\u001b[0m\u001b[0;34m.\u001b[0m\u001b[0mshape\u001b[0m\u001b[0;34m\u001b[0m\u001b[0m\n",
      "\u001b[0;32m/Library/Python/2.7/site-packages/pandas/core/frame.pyc\u001b[0m in \u001b[0;36mjoin\u001b[0;34m(self, other, on, how, lsuffix, rsuffix, sort)\u001b[0m\n\u001b[1;32m   3827\u001b[0m         \u001b[0;31m# For SparseDataFrame's benefit\u001b[0m\u001b[0;34m\u001b[0m\u001b[0;34m\u001b[0m\u001b[0m\n\u001b[1;32m   3828\u001b[0m         return self._join_compat(other, on=on, how=how, lsuffix=lsuffix,\n\u001b[0;32m-> 3829\u001b[0;31m                                  rsuffix=rsuffix, sort=sort)\n\u001b[0m\u001b[1;32m   3830\u001b[0m \u001b[0;34m\u001b[0m\u001b[0m\n\u001b[1;32m   3831\u001b[0m     def _join_compat(self, other, on=None, how='left', lsuffix='', rsuffix='',\n",
      "\u001b[0;32m/Library/Python/2.7/site-packages/pandas/core/frame.pyc\u001b[0m in \u001b[0;36m_join_compat\u001b[0;34m(self, other, on, how, lsuffix, rsuffix, sort)\u001b[0m\n\u001b[1;32m   3841\u001b[0m             return merge(self, other, left_on=on, how=how,\n\u001b[1;32m   3842\u001b[0m                          \u001b[0mleft_index\u001b[0m\u001b[0;34m=\u001b[0m\u001b[0mon\u001b[0m \u001b[0;32mis\u001b[0m \u001b[0mNone\u001b[0m\u001b[0;34m,\u001b[0m \u001b[0mright_index\u001b[0m\u001b[0;34m=\u001b[0m\u001b[0mTrue\u001b[0m\u001b[0;34m,\u001b[0m\u001b[0;34m\u001b[0m\u001b[0m\n\u001b[0;32m-> 3843\u001b[0;31m                          suffixes=(lsuffix, rsuffix), sort=sort)\n\u001b[0m\u001b[1;32m   3844\u001b[0m         \u001b[0;32melse\u001b[0m\u001b[0;34m:\u001b[0m\u001b[0;34m\u001b[0m\u001b[0m\n\u001b[1;32m   3845\u001b[0m             \u001b[0;32mif\u001b[0m \u001b[0mon\u001b[0m \u001b[0;32mis\u001b[0m \u001b[0;32mnot\u001b[0m \u001b[0mNone\u001b[0m\u001b[0;34m:\u001b[0m\u001b[0;34m\u001b[0m\u001b[0m\n",
      "\u001b[0;32m/Library/Python/2.7/site-packages/pandas/tools/merge.pyc\u001b[0m in \u001b[0;36mmerge\u001b[0;34m(left, right, how, on, left_on, right_on, left_index, right_index, sort, suffixes, copy)\u001b[0m\n\u001b[1;32m     37\u001b[0m                          \u001b[0mright_index\u001b[0m\u001b[0;34m=\u001b[0m\u001b[0mright_index\u001b[0m\u001b[0;34m,\u001b[0m \u001b[0msort\u001b[0m\u001b[0;34m=\u001b[0m\u001b[0msort\u001b[0m\u001b[0;34m,\u001b[0m \u001b[0msuffixes\u001b[0m\u001b[0;34m=\u001b[0m\u001b[0msuffixes\u001b[0m\u001b[0;34m,\u001b[0m\u001b[0;34m\u001b[0m\u001b[0m\n\u001b[1;32m     38\u001b[0m                          copy=copy)\n\u001b[0;32m---> 39\u001b[0;31m     \u001b[0;32mreturn\u001b[0m \u001b[0mop\u001b[0m\u001b[0;34m.\u001b[0m\u001b[0mget_result\u001b[0m\u001b[0;34m(\u001b[0m\u001b[0;34m)\u001b[0m\u001b[0;34m\u001b[0m\u001b[0m\n\u001b[0m\u001b[1;32m     40\u001b[0m \u001b[0;32mif\u001b[0m \u001b[0m__debug__\u001b[0m\u001b[0;34m:\u001b[0m\u001b[0;34m\u001b[0m\u001b[0m\n\u001b[1;32m     41\u001b[0m     \u001b[0mmerge\u001b[0m\u001b[0;34m.\u001b[0m\u001b[0m__doc__\u001b[0m \u001b[0;34m=\u001b[0m \u001b[0m_merge_doc\u001b[0m \u001b[0;34m%\u001b[0m \u001b[0;34m'\\nleft : DataFrame'\u001b[0m\u001b[0;34m\u001b[0m\u001b[0m\n",
      "\u001b[0;32m/Library/Python/2.7/site-packages/pandas/tools/merge.pyc\u001b[0m in \u001b[0;36mget_result\u001b[0;34m(self)\u001b[0m\n\u001b[1;32m    191\u001b[0m \u001b[0;34m\u001b[0m\u001b[0m\n\u001b[1;32m    192\u001b[0m         llabels, rlabels = items_overlap_with_suffix(ldata.items, lsuf,\n\u001b[0;32m--> 193\u001b[0;31m                                                      rdata.items, rsuf)\n\u001b[0m\u001b[1;32m    194\u001b[0m \u001b[0;34m\u001b[0m\u001b[0m\n\u001b[1;32m    195\u001b[0m         \u001b[0mlindexers\u001b[0m \u001b[0;34m=\u001b[0m \u001b[0;34m{\u001b[0m\u001b[0;36m1\u001b[0m\u001b[0;34m:\u001b[0m \u001b[0mleft_indexer\u001b[0m\u001b[0;34m}\u001b[0m \u001b[0;32mif\u001b[0m \u001b[0mleft_indexer\u001b[0m \u001b[0;32mis\u001b[0m \u001b[0;32mnot\u001b[0m \u001b[0mNone\u001b[0m \u001b[0;32melse\u001b[0m \u001b[0;34m{\u001b[0m\u001b[0;34m}\u001b[0m\u001b[0;34m\u001b[0m\u001b[0m\n",
      "\u001b[0;32m/Library/Python/2.7/site-packages/pandas/core/internals.pyc\u001b[0m in \u001b[0;36mitems_overlap_with_suffix\u001b[0;34m(left, lsuffix, right, rsuffix)\u001b[0m\n\u001b[1;32m   3871\u001b[0m         \u001b[0;32mif\u001b[0m \u001b[0;32mnot\u001b[0m \u001b[0mlsuffix\u001b[0m \u001b[0;32mand\u001b[0m \u001b[0;32mnot\u001b[0m \u001b[0mrsuffix\u001b[0m\u001b[0;34m:\u001b[0m\u001b[0;34m\u001b[0m\u001b[0m\n\u001b[1;32m   3872\u001b[0m             raise ValueError('columns overlap but no suffix specified: %s' %\n\u001b[0;32m-> 3873\u001b[0;31m                              to_rename)\n\u001b[0m\u001b[1;32m   3874\u001b[0m \u001b[0;34m\u001b[0m\u001b[0m\n\u001b[1;32m   3875\u001b[0m         \u001b[0;32mdef\u001b[0m \u001b[0mlrenamer\u001b[0m\u001b[0;34m(\u001b[0m\u001b[0mx\u001b[0m\u001b[0;34m)\u001b[0m\u001b[0;34m:\u001b[0m\u001b[0;34m\u001b[0m\u001b[0m\n",
      "\u001b[0;31mValueError\u001b[0m: columns overlap but no suffix specified: Index([u'Monday', u'Tuesday', u'Wednesday', u'Thursday', u'Friday', u'Saturday', u'Sunday', u'number of passengers', u'start_0', u'start_1', u'start_2', u'start_3', u'start_4', u'start_5', u'start_6', u'start_7', u'start_8', u'start_9', u'start_10', u'start_11', u'start_12', u'start_13', u'start_14', u'start_15', u'start_16', u'start_17', u'start_18', u'start_19', u'start_20', u'start_21', u'start_22', u'start_23', u'start_24', u'start_25', u'start_26', u'start_27', u'start_28', u'start_29', u'start_30', u'start_31', u'start_32', u'start_33', u'start_34', u'start_35', u'start_36', u'start_37', u'start_38', u'start_39', u'start_40', u'start_41', u'start_42', u'start_43', u'start_44', u'start_45', u'start_46', u'start_47', u'start_48', u'start_49', u'start_50', u'start_51', u'start_52', u'start_53', u'start_54', u'start_55', u'start_56', u'start_57', u'start_58', u'start_59', u'start_60', u'start_61', u'start_62', u'start_63', u'start_64', u'start_65', u'start_66', u'start_67', u'start_68', u'start_69', u'start_70', u'start_71', u'start_72', u'start_73', u'start_74', u'start_75', u'start_76', u'start_77', u'start_78', u'start_79', u'start_80', u'start_81', u'start_82', u'start_83', u'start_84', u'start_85', u'start_86', u'start_87', u'start_88', u'start_89', u'start_90', u'start_91', ...], dtype='object')"
     ]
    }
   ],
   "source": [
    "# feature 5 population\n",
    "train_features5 = train_features5.join(train_features4)\n",
    "train_features5.shape"
   ]
  },
  {
   "cell_type": "code",
   "execution_count": 671,
   "metadata": {
    "collapsed": false
   },
   "outputs": [
    {
     "data": {
      "text/html": [
       "<div style=\"max-height:1000px;max-width:1500px;overflow:auto;\">\n",
       "<table border=\"1\" class=\"dataframe\">\n",
       "  <thead>\n",
       "    <tr style=\"text-align: right;\">\n",
       "      <th></th>\n",
       "      <th>Distance</th>\n",
       "    </tr>\n",
       "  </thead>\n",
       "  <tbody>\n",
       "    <tr>\n",
       "      <th>0</th>\n",
       "      <td> 2035.504963</td>\n",
       "    </tr>\n",
       "    <tr>\n",
       "      <th>1</th>\n",
       "      <td> 2984.433776</td>\n",
       "    </tr>\n",
       "    <tr>\n",
       "      <th>2</th>\n",
       "      <td> 1099.365428</td>\n",
       "    </tr>\n",
       "    <tr>\n",
       "      <th>3</th>\n",
       "      <td> 3182.439496</td>\n",
       "    </tr>\n",
       "    <tr>\n",
       "      <th>4</th>\n",
       "      <td> 1413.693347</td>\n",
       "    </tr>\n",
       "  </tbody>\n",
       "</table>\n",
       "</div>"
      ],
      "text/plain": [
       "      Distance\n",
       "0  2035.504963\n",
       "1  2984.433776\n",
       "2  1099.365428\n",
       "3  3182.439496\n",
       "4  1413.693347"
      ]
     },
     "execution_count": 671,
     "metadata": {},
     "output_type": "execute_result"
    }
   ],
   "source": [
    "# feature 6: add distance between start and end\n",
    "#train_features6 = train_raw.ix[:,5:9]\n",
    "start_coords = []\n",
    "end_coords = []\n",
    "distance = []\n",
    "\n",
    "for a,b in zip(train_raw['lat of departure'],train_raw['lon of departure']):\n",
    "    start_coords.append(utm.from_latlon(a,b)[0:2])\n",
    "for a,b in zip(train_raw['lat of destination'],train_raw['lon of destination']):\n",
    "    end_coords.append(utm.from_latlon(a,b)[0:2])\n",
    "for a,z in zip(start_coords,end_coords):\n",
    "    distance.append(cdist([a],[z])[0][0])\n",
    "train_features6 = pd.DataFrame(pd.Series(distance),columns=['Distance'])\n",
    "train_features6.head()"
   ]
  },
  {
   "cell_type": "code",
   "execution_count": 672,
   "metadata": {
    "collapsed": false
   },
   "outputs": [],
   "source": [
    "train_features6 = train_features6.join(train_features5)"
   ]
  },
  {
   "cell_type": "code",
   "execution_count": 673,
   "metadata": {
    "collapsed": false
   },
   "outputs": [
    {
     "data": {
      "text/plain": [
       "(50001, 840)"
      ]
     },
     "execution_count": 673,
     "metadata": {},
     "output_type": "execute_result"
    }
   ],
   "source": [
    "train_features6.shape"
   ]
  },
  {
   "cell_type": "code",
   "execution_count": 674,
   "metadata": {
    "collapsed": false
   },
   "outputs": [],
   "source": [
    "# train_features7: removing TAZ\n",
    "train_features7 = train_features6.ix[:,:33]"
   ]
  },
  {
   "cell_type": "code",
   "execution_count": 675,
   "metadata": {
    "collapsed": false
   },
   "outputs": [],
   "source": [
    "# train_features8: removing no. of passengers\n",
    "train_features8 = train_features7.ix[:,:-1]"
   ]
  },
  {
   "cell_type": "markdown",
   "metadata": {},
   "source": [
    "## Testing Area"
   ]
  },
  {
   "cell_type": "code",
   "execution_count": 30,
   "metadata": {
    "collapsed": false
   },
   "outputs": [],
   "source": [
    "clf1 = LinearRegression()"
   ]
  },
  {
   "cell_type": "code",
   "execution_count": 559,
   "metadata": {
    "collapsed": false
   },
   "outputs": [],
   "source": [
    "regression_fitted = clf1.fit(train_features7,train_labels)"
   ]
  },
  {
   "cell_type": "code",
   "execution_count": 568,
   "metadata": {
    "collapsed": false
   },
   "outputs": [],
   "source": [
    "scores_lr = regression_fitted.predict(train_features7)"
   ]
  },
  {
   "cell_type": "code",
   "execution_count": 573,
   "metadata": {
    "collapsed": false
   },
   "outputs": [
    {
     "data": {
      "text/plain": [
       "5.1556"
      ]
     },
     "execution_count": 573,
     "metadata": {},
     "output_type": "execute_result"
    }
   ],
   "source": [
    "# scoring root mean squared error\n",
    "round(round(mean_squared_error(train_labels,pd.Series(scores_lr)),2)**.5,4)"
   ]
  },
  {
   "cell_type": "code",
   "execution_count": 562,
   "metadata": {
    "collapsed": false
   },
   "outputs": [
    {
     "name": "stdout",
     "output_type": "stream",
     "text": [
      "10-fold cross validation:\n",
      "\n",
      "Accuracy: 0.90 (+/- 0.02) [Linear Regression]\n",
      "Accuracy: 0.90 (+/- 0.02) [Lasso]\n",
      "Accuracy: 0.90 (+/- 0.02) [Ridge]\n",
      "Accuracy: 0.90 (+/- 0.02) [Elastic Net]\n"
     ]
    }
   ],
   "source": [
    "rf1 = LinearRegression()\n",
    "rf2 = sklearn.linear_model.Lasso()\n",
    "rf3 = linear_model.Ridge()\n",
    "rf4 = linear_model.ElasticNet()\n",
    "\n",
    "print('10-fold cross validation:\\n')\n",
    "\n",
    "for rf, label in zip([rf1, rf2, clf3, rf4], ['Linear Regression', 'Lasso', 'Ridge', 'Elastic Net']):\n",
    "    scores = cross_validation.cross_val_score(clf, train_features7.ix[:,:-1], train_labels, cv=10) \n",
    "    print(\"Accuracy: %0.2f (+/- %0.2f) [%s]\" % (scores.mean(), scores.std(), label))"
   ]
  },
  {
   "cell_type": "code",
   "execution_count": 566,
   "metadata": {
    "collapsed": false
   },
   "outputs": [],
   "source": [
    "# Random Forest\n",
    "random_forest = RandomForestRegressor(random_state=0, n_estimators=50, max_depth=50)"
   ]
  },
  {
   "cell_type": "code",
   "execution_count": 567,
   "metadata": {
    "collapsed": false
   },
   "outputs": [],
   "source": [
    "# fitting\n",
    "randforest_fitted = random_forest.fit(train_features7,train_labels)"
   ]
  },
  {
   "cell_type": "code",
   "execution_count": 572,
   "metadata": {
    "collapsed": false
   },
   "outputs": [],
   "source": [
    "# predicting\n",
    "scores_rr = randforest_fitted.predict(train_features7)"
   ]
  },
  {
   "cell_type": "code",
   "execution_count": 574,
   "metadata": {
    "collapsed": false
   },
   "outputs": [
    {
     "data": {
      "text/plain": [
       "3.8184"
      ]
     },
     "execution_count": 574,
     "metadata": {},
     "output_type": "execute_result"
    }
   ],
   "source": [
    "# scoring root mean squared error\n",
    "round(round(mean_squared_error(train_labels,pd.Series(scores_rr)),2)**.5,4)"
   ]
  },
  {
   "cell_type": "code",
   "execution_count": null,
   "metadata": {
    "collapsed": false
   },
   "outputs": [],
   "source": []
  },
  {
   "cell_type": "code",
   "execution_count": null,
   "metadata": {
    "collapsed": false
   },
   "outputs": [],
   "source": []
  },
  {
   "cell_type": "markdown",
   "metadata": {},
   "source": [
    "## Prepping Test Data"
   ]
  },
  {
   "cell_type": "code",
   "execution_count": 378,
   "metadata": {
    "collapsed": false
   },
   "outputs": [
    {
     "data": {
      "text/html": [
       "<div style=\"max-height:1000px;max-width:1500px;overflow:auto;\">\n",
       "<table border=\"1\" class=\"dataframe\">\n",
       "  <thead>\n",
       "    <tr style=\"text-align: right;\">\n",
       "      <th></th>\n",
       "      <th>trip id</th>\n",
       "      <th>departure time</th>\n",
       "      <th>arrival time</th>\n",
       "      <th>trip fare</th>\n",
       "      <th>number of passengers</th>\n",
       "      <th>lon of departure</th>\n",
       "      <th>lat of departure</th>\n",
       "      <th>lon of destination</th>\n",
       "      <th>lat of destination</th>\n",
       "      <th>TAZ of departure</th>\n",
       "      <th>TAZ of destination</th>\n",
       "    </tr>\n",
       "  </thead>\n",
       "  <tbody>\n",
       "    <tr>\n",
       "      <th>0</th>\n",
       "      <td> 50001</td>\n",
       "      <td>2012-09-17 15:22:00</td>\n",
       "      <td>-1</td>\n",
       "      <td>-1</td>\n",
       "      <td> 1</td>\n",
       "      <td>-122.386792</td>\n",
       "      <td> 37.617570</td>\n",
       "      <td>-122.392937</td>\n",
       "      <td> 37.793532</td>\n",
       "      <td> 239</td>\n",
       "      <td>  0</td>\n",
       "    </tr>\n",
       "    <tr>\n",
       "      <th>1</th>\n",
       "      <td> 50002</td>\n",
       "      <td>2012-09-16 22:08:00</td>\n",
       "      <td>-1</td>\n",
       "      <td>-1</td>\n",
       "      <td> 1</td>\n",
       "      <td>-122.435182</td>\n",
       "      <td> 37.762202</td>\n",
       "      <td>-122.438512</td>\n",
       "      <td> 37.775893</td>\n",
       "      <td>  94</td>\n",
       "      <td> 85</td>\n",
       "    </tr>\n",
       "    <tr>\n",
       "      <th>2</th>\n",
       "      <td> 50003</td>\n",
       "      <td>2012-09-16 19:49:00</td>\n",
       "      <td>-1</td>\n",
       "      <td>-1</td>\n",
       "      <td> 1</td>\n",
       "      <td>-122.459563</td>\n",
       "      <td> 37.790625</td>\n",
       "      <td>-122.410492</td>\n",
       "      <td> 37.791650</td>\n",
       "      <td>   0</td>\n",
       "      <td> 29</td>\n",
       "    </tr>\n",
       "    <tr>\n",
       "      <th>3</th>\n",
       "      <td> 50004</td>\n",
       "      <td>2012-09-16 15:53:00</td>\n",
       "      <td>-1</td>\n",
       "      <td>-1</td>\n",
       "      <td> 1</td>\n",
       "      <td>-122.415940</td>\n",
       "      <td> 37.800837</td>\n",
       "      <td>-122.431228</td>\n",
       "      <td> 37.801518</td>\n",
       "      <td>  39</td>\n",
       "      <td> 44</td>\n",
       "    </tr>\n",
       "    <tr>\n",
       "      <th>4</th>\n",
       "      <td> 50005</td>\n",
       "      <td>2012-09-16 15:20:00</td>\n",
       "      <td>-1</td>\n",
       "      <td>-1</td>\n",
       "      <td> 1</td>\n",
       "      <td>-122.390272</td>\n",
       "      <td> 37.615370</td>\n",
       "      <td>-122.417377</td>\n",
       "      <td> 37.784307</td>\n",
       "      <td> 239</td>\n",
       "      <td>  9</td>\n",
       "    </tr>\n",
       "  </tbody>\n",
       "</table>\n",
       "</div>"
      ],
      "text/plain": [
       "   trip id      departure time  arrival time  trip fare  number of passengers  \\\n",
       "0    50001 2012-09-17 15:22:00            -1         -1                     1   \n",
       "1    50002 2012-09-16 22:08:00            -1         -1                     1   \n",
       "2    50003 2012-09-16 19:49:00            -1         -1                     1   \n",
       "3    50004 2012-09-16 15:53:00            -1         -1                     1   \n",
       "4    50005 2012-09-16 15:20:00            -1         -1                     1   \n",
       "\n",
       "   lon of departure  lat of departure  lon of destination  lat of destination  \\\n",
       "0       -122.386792         37.617570         -122.392937           37.793532   \n",
       "1       -122.435182         37.762202         -122.438512           37.775893   \n",
       "2       -122.459563         37.790625         -122.410492           37.791650   \n",
       "3       -122.415940         37.800837         -122.431228           37.801518   \n",
       "4       -122.390272         37.615370         -122.417377           37.784307   \n",
       "\n",
       "   TAZ of departure  TAZ of destination  \n",
       "0               239                   0  \n",
       "1                94                  85  \n",
       "2                 0                  29  \n",
       "3                39                  44  \n",
       "4               239                   9  "
      ]
     },
     "execution_count": 378,
     "metadata": {},
     "output_type": "execute_result"
    }
   ],
   "source": [
    "test_raw.head()"
   ]
  },
  {
   "cell_type": "code",
   "execution_count": null,
   "metadata": {
    "collapsed": false
   },
   "outputs": [],
   "source": [
    "# initializing feature binarizer\n",
    "binarizer = sklearn.preprocessing.LabelBinarizer()"
   ]
  },
  {
   "cell_type": "code",
   "execution_count": 379,
   "metadata": {
    "collapsed": false
   },
   "outputs": [],
   "source": [
    "# starting only with number of passangers \n",
    "test_feature = pd.DataFrame(test_raw['number of passengers'])"
   ]
  },
  {
   "cell_type": "code",
   "execution_count": 451,
   "metadata": {
    "collapsed": false
   },
   "outputs": [
    {
     "data": {
      "text/html": [
       "<div style=\"max-height:1000px;max-width:1500px;overflow:auto;\">\n",
       "<table border=\"1\" class=\"dataframe\">\n",
       "  <thead>\n",
       "    <tr style=\"text-align: right;\">\n",
       "      <th></th>\n",
       "      <th>number of passengers</th>\n",
       "      <th>start_0</th>\n",
       "      <th>start_1</th>\n",
       "      <th>start_2</th>\n",
       "      <th>start_3</th>\n",
       "      <th>start_4</th>\n",
       "      <th>start_5</th>\n",
       "      <th>start_6</th>\n",
       "      <th>start_7</th>\n",
       "      <th>start_8</th>\n",
       "      <th>...</th>\n",
       "      <th>start_176</th>\n",
       "      <th>start_177</th>\n",
       "      <th>start_178</th>\n",
       "      <th>start_179</th>\n",
       "      <th>start_180</th>\n",
       "      <th>start_181</th>\n",
       "      <th>start_182</th>\n",
       "      <th>start_183</th>\n",
       "      <th>start_184</th>\n",
       "      <th>start_185</th>\n",
       "    </tr>\n",
       "  </thead>\n",
       "  <tbody>\n",
       "    <tr>\n",
       "      <th>0</th>\n",
       "      <td> 1</td>\n",
       "      <td> 0</td>\n",
       "      <td> 0</td>\n",
       "      <td> 0</td>\n",
       "      <td> 0</td>\n",
       "      <td> 0</td>\n",
       "      <td> 0</td>\n",
       "      <td> 0</td>\n",
       "      <td> 0</td>\n",
       "      <td> 0</td>\n",
       "      <td>...</td>\n",
       "      <td> 0</td>\n",
       "      <td> 0</td>\n",
       "      <td> 0</td>\n",
       "      <td> 0</td>\n",
       "      <td> 0</td>\n",
       "      <td> 0</td>\n",
       "      <td> 0</td>\n",
       "      <td> 0</td>\n",
       "      <td> 0</td>\n",
       "      <td> 0</td>\n",
       "    </tr>\n",
       "    <tr>\n",
       "      <th>1</th>\n",
       "      <td> 1</td>\n",
       "      <td> 0</td>\n",
       "      <td> 0</td>\n",
       "      <td> 0</td>\n",
       "      <td> 0</td>\n",
       "      <td> 0</td>\n",
       "      <td> 0</td>\n",
       "      <td> 0</td>\n",
       "      <td> 0</td>\n",
       "      <td> 0</td>\n",
       "      <td>...</td>\n",
       "      <td> 0</td>\n",
       "      <td> 0</td>\n",
       "      <td> 0</td>\n",
       "      <td> 0</td>\n",
       "      <td> 0</td>\n",
       "      <td> 0</td>\n",
       "      <td> 0</td>\n",
       "      <td> 0</td>\n",
       "      <td> 0</td>\n",
       "      <td> 0</td>\n",
       "    </tr>\n",
       "    <tr>\n",
       "      <th>2</th>\n",
       "      <td> 1</td>\n",
       "      <td> 0</td>\n",
       "      <td> 0</td>\n",
       "      <td> 0</td>\n",
       "      <td> 0</td>\n",
       "      <td> 0</td>\n",
       "      <td> 0</td>\n",
       "      <td> 0</td>\n",
       "      <td> 0</td>\n",
       "      <td> 0</td>\n",
       "      <td>...</td>\n",
       "      <td> 0</td>\n",
       "      <td> 0</td>\n",
       "      <td> 0</td>\n",
       "      <td> 0</td>\n",
       "      <td> 0</td>\n",
       "      <td> 0</td>\n",
       "      <td> 0</td>\n",
       "      <td> 0</td>\n",
       "      <td> 0</td>\n",
       "      <td> 0</td>\n",
       "    </tr>\n",
       "    <tr>\n",
       "      <th>3</th>\n",
       "      <td> 1</td>\n",
       "      <td> 0</td>\n",
       "      <td> 0</td>\n",
       "      <td> 0</td>\n",
       "      <td> 0</td>\n",
       "      <td> 0</td>\n",
       "      <td> 0</td>\n",
       "      <td> 0</td>\n",
       "      <td> 0</td>\n",
       "      <td> 0</td>\n",
       "      <td>...</td>\n",
       "      <td> 0</td>\n",
       "      <td> 0</td>\n",
       "      <td> 0</td>\n",
       "      <td> 0</td>\n",
       "      <td> 0</td>\n",
       "      <td> 0</td>\n",
       "      <td> 0</td>\n",
       "      <td> 0</td>\n",
       "      <td> 0</td>\n",
       "      <td> 0</td>\n",
       "    </tr>\n",
       "    <tr>\n",
       "      <th>4</th>\n",
       "      <td> 1</td>\n",
       "      <td> 0</td>\n",
       "      <td> 0</td>\n",
       "      <td> 0</td>\n",
       "      <td> 0</td>\n",
       "      <td> 0</td>\n",
       "      <td> 0</td>\n",
       "      <td> 0</td>\n",
       "      <td> 0</td>\n",
       "      <td> 0</td>\n",
       "      <td>...</td>\n",
       "      <td> 0</td>\n",
       "      <td> 0</td>\n",
       "      <td> 0</td>\n",
       "      <td> 0</td>\n",
       "      <td> 0</td>\n",
       "      <td> 0</td>\n",
       "      <td> 0</td>\n",
       "      <td> 0</td>\n",
       "      <td> 0</td>\n",
       "      <td> 0</td>\n",
       "    </tr>\n",
       "  </tbody>\n",
       "</table>\n",
       "<p>5 rows × 187 columns</p>\n",
       "</div>"
      ],
      "text/plain": [
       "   number of passengers  start_0  start_1  start_2  start_3  start_4  start_5  \\\n",
       "0                     1        0        0        0        0        0        0   \n",
       "1                     1        0        0        0        0        0        0   \n",
       "2                     1        0        0        0        0        0        0   \n",
       "3                     1        0        0        0        0        0        0   \n",
       "4                     1        0        0        0        0        0        0   \n",
       "\n",
       "   start_6  start_7  start_8    ...      start_176  start_177  start_178  \\\n",
       "0        0        0        0    ...              0          0          0   \n",
       "1        0        0        0    ...              0          0          0   \n",
       "2        0        0        0    ...              0          0          0   \n",
       "3        0        0        0    ...              0          0          0   \n",
       "4        0        0        0    ...              0          0          0   \n",
       "\n",
       "   start_179  start_180  start_181  start_182  start_183  start_184  start_185  \n",
       "0          0          0          0          0          0          0          0  \n",
       "1          0          0          0          0          0          0          0  \n",
       "2          0          0          0          0          0          0          0  \n",
       "3          0          0          0          0          0          0          0  \n",
       "4          0          0          0          0          0          0          0  \n",
       "\n",
       "[5 rows x 187 columns]"
      ]
     },
     "execution_count": 451,
     "metadata": {},
     "output_type": "execute_result"
    }
   ],
   "source": [
    "# adding binarized 'TAZ of departure' feature\n",
    "try:\n",
    "    del(train_tripstart_bin)\n",
    "except:\n",
    "    pass\n",
    "test_tripstart_bin = binarizer.fit(test_raw['TAZ of departure'])\n",
    "test_tripstart_bin = test_tripstart_bin.transform(train_raw['TAZ of departure'])\n",
    "test_tripstart_bin = pd.DataFrame(test_tripstart_bin)\n",
    "test_tripstart_bin.columns = test_tripstart_bin.columns.map(lambda x: 'start_' + str(x))\n",
    "test_feature2 = test_feature.join(test_tripstart_bin)\n",
    "test_feature2.head()"
   ]
  },
  {
   "cell_type": "code",
   "execution_count": 390,
   "metadata": {
    "collapsed": false
   },
   "outputs": [
    {
     "data": {
      "text/html": [
       "<div style=\"max-height:1000px;max-width:1500px;overflow:auto;\">\n",
       "<table border=\"1\" class=\"dataframe\">\n",
       "  <thead>\n",
       "    <tr style=\"text-align: right;\">\n",
       "      <th></th>\n",
       "      <th>number of passengers</th>\n",
       "      <th>start_0</th>\n",
       "      <th>start_1</th>\n",
       "      <th>start_2</th>\n",
       "      <th>start_3</th>\n",
       "      <th>start_4</th>\n",
       "      <th>start_5</th>\n",
       "      <th>start_6</th>\n",
       "      <th>start_7</th>\n",
       "      <th>start_8</th>\n",
       "      <th>...</th>\n",
       "      <th>end_363</th>\n",
       "      <th>end_364</th>\n",
       "      <th>end_365</th>\n",
       "      <th>end_366</th>\n",
       "      <th>end_367</th>\n",
       "      <th>end_368</th>\n",
       "      <th>end_369</th>\n",
       "      <th>end_370</th>\n",
       "      <th>end_371</th>\n",
       "      <th>end_372</th>\n",
       "    </tr>\n",
       "  </thead>\n",
       "  <tbody>\n",
       "    <tr>\n",
       "      <th>0</th>\n",
       "      <td> 1</td>\n",
       "      <td> 0</td>\n",
       "      <td> 0</td>\n",
       "      <td> 0</td>\n",
       "      <td> 0</td>\n",
       "      <td> 0</td>\n",
       "      <td> 0</td>\n",
       "      <td> 0</td>\n",
       "      <td> 0</td>\n",
       "      <td> 0</td>\n",
       "      <td>...</td>\n",
       "      <td> 0</td>\n",
       "      <td> 0</td>\n",
       "      <td> 0</td>\n",
       "      <td> 0</td>\n",
       "      <td> 0</td>\n",
       "      <td> 0</td>\n",
       "      <td> 0</td>\n",
       "      <td> 0</td>\n",
       "      <td> 0</td>\n",
       "      <td> 0</td>\n",
       "    </tr>\n",
       "    <tr>\n",
       "      <th>1</th>\n",
       "      <td> 1</td>\n",
       "      <td> 0</td>\n",
       "      <td> 0</td>\n",
       "      <td> 0</td>\n",
       "      <td> 0</td>\n",
       "      <td> 0</td>\n",
       "      <td> 0</td>\n",
       "      <td> 0</td>\n",
       "      <td> 0</td>\n",
       "      <td> 0</td>\n",
       "      <td>...</td>\n",
       "      <td> 0</td>\n",
       "      <td> 0</td>\n",
       "      <td> 0</td>\n",
       "      <td> 0</td>\n",
       "      <td> 0</td>\n",
       "      <td> 0</td>\n",
       "      <td> 0</td>\n",
       "      <td> 0</td>\n",
       "      <td> 0</td>\n",
       "      <td> 0</td>\n",
       "    </tr>\n",
       "    <tr>\n",
       "      <th>2</th>\n",
       "      <td> 1</td>\n",
       "      <td> 0</td>\n",
       "      <td> 0</td>\n",
       "      <td> 0</td>\n",
       "      <td> 0</td>\n",
       "      <td> 0</td>\n",
       "      <td> 0</td>\n",
       "      <td> 0</td>\n",
       "      <td> 0</td>\n",
       "      <td> 0</td>\n",
       "      <td>...</td>\n",
       "      <td> 0</td>\n",
       "      <td> 0</td>\n",
       "      <td> 0</td>\n",
       "      <td> 0</td>\n",
       "      <td> 0</td>\n",
       "      <td> 0</td>\n",
       "      <td> 0</td>\n",
       "      <td> 0</td>\n",
       "      <td> 0</td>\n",
       "      <td> 0</td>\n",
       "    </tr>\n",
       "    <tr>\n",
       "      <th>3</th>\n",
       "      <td> 1</td>\n",
       "      <td> 0</td>\n",
       "      <td> 0</td>\n",
       "      <td> 0</td>\n",
       "      <td> 0</td>\n",
       "      <td> 0</td>\n",
       "      <td> 0</td>\n",
       "      <td> 0</td>\n",
       "      <td> 0</td>\n",
       "      <td> 0</td>\n",
       "      <td>...</td>\n",
       "      <td> 0</td>\n",
       "      <td> 0</td>\n",
       "      <td> 0</td>\n",
       "      <td> 0</td>\n",
       "      <td> 0</td>\n",
       "      <td> 0</td>\n",
       "      <td> 0</td>\n",
       "      <td> 0</td>\n",
       "      <td> 0</td>\n",
       "      <td> 0</td>\n",
       "    </tr>\n",
       "    <tr>\n",
       "      <th>4</th>\n",
       "      <td> 1</td>\n",
       "      <td> 0</td>\n",
       "      <td> 0</td>\n",
       "      <td> 0</td>\n",
       "      <td> 0</td>\n",
       "      <td> 0</td>\n",
       "      <td> 0</td>\n",
       "      <td> 0</td>\n",
       "      <td> 0</td>\n",
       "      <td> 0</td>\n",
       "      <td>...</td>\n",
       "      <td> 0</td>\n",
       "      <td> 0</td>\n",
       "      <td> 0</td>\n",
       "      <td> 0</td>\n",
       "      <td> 0</td>\n",
       "      <td> 0</td>\n",
       "      <td> 0</td>\n",
       "      <td> 0</td>\n",
       "      <td> 0</td>\n",
       "      <td> 0</td>\n",
       "    </tr>\n",
       "  </tbody>\n",
       "</table>\n",
       "<p>5 rows × 560 columns</p>\n",
       "</div>"
      ],
      "text/plain": [
       "   number of passengers  start_0  start_1  start_2  start_3  start_4  start_5  \\\n",
       "0                     1        0        0        0        0        0        0   \n",
       "1                     1        0        0        0        0        0        0   \n",
       "2                     1        0        0        0        0        0        0   \n",
       "3                     1        0        0        0        0        0        0   \n",
       "4                     1        0        0        0        0        0        0   \n",
       "\n",
       "   start_6  start_7  start_8   ...     end_363  end_364  end_365  end_366  \\\n",
       "0        0        0        0   ...           0        0        0        0   \n",
       "1        0        0        0   ...           0        0        0        0   \n",
       "2        0        0        0   ...           0        0        0        0   \n",
       "3        0        0        0   ...           0        0        0        0   \n",
       "4        0        0        0   ...           0        0        0        0   \n",
       "\n",
       "   end_367  end_368  end_369  end_370  end_371  end_372  \n",
       "0        0        0        0        0        0        0  \n",
       "1        0        0        0        0        0        0  \n",
       "2        0        0        0        0        0        0  \n",
       "3        0        0        0        0        0        0  \n",
       "4        0        0        0        0        0        0  \n",
       "\n",
       "[5 rows x 560 columns]"
      ]
     },
     "execution_count": 390,
     "metadata": {},
     "output_type": "execute_result"
    }
   ],
   "source": [
    "# adding binarized 'TAZ of departure' feature\n",
    "try:\n",
    "    del(test_tripend_bin)\n",
    "except:\n",
    "    pass\n",
    "test_tripend_bin = binarizer.fit(test_raw['TAZ of destination'])\n",
    "test_tripend_bin = test_tripend_bin.transform(train_raw['TAZ of destination'])\n",
    "test_tripend_bin = pd.DataFrame(test_tripend_bin)\n",
    "test_tripend_bin.columns = test_tripend_bin.columns.map(lambda x: 'end_' + str(x))\n",
    "test_feature3 = test_feature2.join(test_tripend_bin)\n",
    "test_feature3.head()"
   ]
  },
  {
   "cell_type": "code",
   "execution_count": 400,
   "metadata": {
    "collapsed": false
   },
   "outputs": [],
   "source": [
    "# creating train_features4: adding day of week\n",
    "test_features4 = pd.DataFrame(test_raw['departure time'])\n",
    "test_features4['departure time'] = test_features4['departure time'].map(lambda x: days_of_week[x.dayofweek])"
   ]
  },
  {
   "cell_type": "code",
   "execution_count": 401,
   "metadata": {
    "collapsed": false
   },
   "outputs": [],
   "source": [
    "# binarizing days of week\n",
    "test_daysofweek_bin = binarizer.fit(test_features4['departure time'])\n",
    "test_daysofweek_bin = test_daysofweek_bin.transform(test_features4['departure time'])\n",
    "test_daysofweek_bin = pd.DataFrame(test_daysofweek_bin)\n",
    "test_daysofweek_bin.columns = test_daysofweek_bin.columns.map(lambda x: days_of_week[x])\n",
    "test_features4 = pd.DataFrame(test_daysofweek_bin)"
   ]
  },
  {
   "cell_type": "code",
   "execution_count": 402,
   "metadata": {
    "collapsed": false
   },
   "outputs": [
    {
     "data": {
      "text/plain": [
       "(10000, 567)"
      ]
     },
     "execution_count": 402,
     "metadata": {},
     "output_type": "execute_result"
    }
   ],
   "source": [
    "# feature 4 population\n",
    "test_features4 = test_features4.join(test_feature3)\n",
    "test_features4.shape"
   ]
  },
  {
   "cell_type": "code",
   "execution_count": 404,
   "metadata": {
    "collapsed": false
   },
   "outputs": [],
   "source": [
    "# feature 5: add time of day\n",
    "test_features5 = pd.DataFrame(test_raw['departure time'])\n",
    "test_features5['departure time'] = test_features5['departure time'].map(lambda x: [str(x.hour)+'pm' if x.hour > 12 else str(x.hour)+'am'][0] )"
   ]
  },
  {
   "cell_type": "code",
   "execution_count": 405,
   "metadata": {
    "collapsed": false
   },
   "outputs": [
    {
     "data": {
      "text/plain": [
       "(10000, 24)"
      ]
     },
     "execution_count": 405,
     "metadata": {},
     "output_type": "execute_result"
    }
   ],
   "source": [
    "# binarizing hour of day\n",
    "test_hourofday_bin = binarizer.fit(test_features5['departure time'])\n",
    "test_hourofday_bin = test_hourofday_bin.transform(test_features5['departure time'])\n",
    "test_hourofday_bin = pd.DataFrame(test_hourofday_bin)\n",
    "test_hourofday_bin.columns = test_hourofday_bin.columns.map(lambda x: [str(x)+'pm' if x > 12 else str(x)+'am'][0] )\n",
    "test_features5 = test_hourofday_bin\n",
    "test_hourofday_bin.shape"
   ]
  },
  {
   "cell_type": "code",
   "execution_count": 436,
   "metadata": {
    "collapsed": false
   },
   "outputs": [
    {
     "data": {
      "text/plain": [
       "(10000, 591)"
      ]
     },
     "execution_count": 436,
     "metadata": {},
     "output_type": "execute_result"
    }
   ],
   "source": [
    "# feature 5 population\n",
    "test_features5 = test_features5.join(test_features4)\n",
    "test_features5.shape"
   ]
  },
  {
   "cell_type": "code",
   "execution_count": 690,
   "metadata": {
    "collapsed": false
   },
   "outputs": [
    {
     "data": {
      "text/html": [
       "<div style=\"max-height:1000px;max-width:1500px;overflow:auto;\">\n",
       "<table border=\"1\" class=\"dataframe\">\n",
       "  <thead>\n",
       "    <tr style=\"text-align: right;\">\n",
       "      <th></th>\n",
       "      <th>Distance</th>\n",
       "    </tr>\n",
       "  </thead>\n",
       "  <tbody>\n",
       "    <tr>\n",
       "      <th>0</th>\n",
       "      <td> 19530.579939</td>\n",
       "    </tr>\n",
       "    <tr>\n",
       "      <th>1</th>\n",
       "      <td>  1547.085620</td>\n",
       "    </tr>\n",
       "    <tr>\n",
       "      <th>2</th>\n",
       "      <td>  4322.121271</td>\n",
       "    </tr>\n",
       "    <tr>\n",
       "      <th>3</th>\n",
       "      <td>  1348.023220</td>\n",
       "    </tr>\n",
       "    <tr>\n",
       "      <th>4</th>\n",
       "      <td> 18895.287592</td>\n",
       "    </tr>\n",
       "  </tbody>\n",
       "</table>\n",
       "</div>"
      ],
      "text/plain": [
       "       Distance\n",
       "0  19530.579939\n",
       "1   1547.085620\n",
       "2   4322.121271\n",
       "3   1348.023220\n",
       "4  18895.287592"
      ]
     },
     "execution_count": 690,
     "metadata": {},
     "output_type": "execute_result"
    }
   ],
   "source": [
    "# feature 6: add distance between start and end\n",
    "#train_features6 = train_raw.ix[:,5:9]\n",
    "start_coords = []\n",
    "end_coords = []\n",
    "distance = []\n",
    "\n",
    "for a,b in zip(test_raw['lat of departure'],test_raw['lon of departure']):\n",
    "    start_coords.append(utm.from_latlon(a,b)[0:2])\n",
    "for a,b in zip(test_raw['lat of destination'],test_raw['lon of destination']):\n",
    "    end_coords.append(utm.from_latlon(a,b)[0:2])\n",
    "for a,z in zip(start_coords,end_coords):\n",
    "    distance.append(cdist([a],[z])[0][0])\n",
    "test_features6 = pd.DataFrame(pd.Series(distance),columns=['Distance'])\n",
    "test_features6.head()"
   ]
  },
  {
   "cell_type": "code",
   "execution_count": 691,
   "metadata": {
    "collapsed": false
   },
   "outputs": [],
   "source": [
    "test_features6 = test_features6.join(test_features5)"
   ]
  },
  {
   "cell_type": "code",
   "execution_count": 692,
   "metadata": {
    "collapsed": false
   },
   "outputs": [
    {
     "data": {
      "text/plain": [
       "(10000, 592)"
      ]
     },
     "execution_count": 692,
     "metadata": {},
     "output_type": "execute_result"
    }
   ],
   "source": [
    "test_features6.shape"
   ]
  },
  {
   "cell_type": "code",
   "execution_count": 693,
   "metadata": {
    "collapsed": false
   },
   "outputs": [],
   "source": [
    "# test_features7: removing TAZ\n",
    "test_features7 = test_features6.ix[:,:33]"
   ]
  },
  {
   "cell_type": "code",
   "execution_count": 521,
   "metadata": {
    "collapsed": false
   },
   "outputs": [],
   "source": []
  },
  {
   "cell_type": "markdown",
   "metadata": {},
   "source": [
    "### Matching the dimensions for both test and train feature sets"
   ]
  },
  {
   "cell_type": "code",
   "execution_count": 464,
   "metadata": {
    "collapsed": false
   },
   "outputs": [],
   "source": [
    "zones = [test_tripstart_bin.columns, train_tripstart_bin.columns, test_tripend_bin.columns, train_tripend_bin.columns]"
   ]
  },
  {
   "cell_type": "code",
   "execution_count": 694,
   "metadata": {
    "collapsed": false
   },
   "outputs": [
    {
     "data": {
      "text/plain": [
       "40"
      ]
     },
     "execution_count": 694,
     "metadata": {},
     "output_type": "execute_result"
    }
   ],
   "source": [
    "# tracking missing start-columns in test that are present in train\n",
    "missing_start_zones = []\n",
    "for i in zones[1]:\n",
    "    if i not in zones[0]: missing_start_zones.append(i)\n",
    "len(missing_start_zones)"
   ]
  },
  {
   "cell_type": "code",
   "execution_count": 695,
   "metadata": {
    "collapsed": false
   },
   "outputs": [
    {
     "data": {
      "text/plain": [
       "(10000, 632)"
      ]
     },
     "execution_count": 695,
     "metadata": {},
     "output_type": "execute_result"
    }
   ],
   "source": [
    "# adding missing start-columns in test that are present in train\n",
    "zeroes = np.zeros(test_features6.shape[0])\n",
    "for i in missing_start_zones:\n",
    "    test_features6 = test_features6.join(pd.DataFrame(zeroes,columns=[i]))\n",
    "test_features6.shape"
   ]
  },
  {
   "cell_type": "code",
   "execution_count": 696,
   "metadata": {
    "collapsed": false
   },
   "outputs": [
    {
     "data": {
      "text/plain": [
       "208"
      ]
     },
     "execution_count": 696,
     "metadata": {},
     "output_type": "execute_result"
    }
   ],
   "source": [
    "# tracking missing end-columns in test that are present in train\n",
    "missing_end_zones = []\n",
    "for i in zones[3]:\n",
    "    if i not in zones[2]: missing_end_zones.append(i)\n",
    "len(missing_end_zones)"
   ]
  },
  {
   "cell_type": "code",
   "execution_count": 697,
   "metadata": {
    "collapsed": false
   },
   "outputs": [
    {
     "data": {
      "text/plain": [
       "(10000, 840)"
      ]
     },
     "execution_count": 697,
     "metadata": {},
     "output_type": "execute_result"
    }
   ],
   "source": [
    "# adding missing end-columns in test that are present in train\n",
    "zeroes = np.zeros(test_features6.shape[0])\n",
    "for i in missing_end_zones:\n",
    "    test_features6 = test_features6.join(pd.DataFrame(zeroes,columns=[i]))\n",
    "test_features6.shape"
   ]
  },
  {
   "cell_type": "code",
   "execution_count": 698,
   "metadata": {
    "collapsed": false
   },
   "outputs": [
    {
     "name": "stdout",
     "output_type": "stream",
     "text": [
      "((10000, 840), (50001, 840))\n"
     ]
    }
   ],
   "source": [
    "# verifying that train and test have same number of columns now\n",
    "print(test_features6.shape,train_features6.shape)"
   ]
  },
  {
   "cell_type": "code",
   "execution_count": 623,
   "metadata": {
    "collapsed": false
   },
   "outputs": [
    {
     "data": {
      "text/plain": [
       "Index([u'direct_distance', u'0am', u'1am', u'2am', u'3am', u'4am', u'5am', u'6am', u'7am', u'8am', u'9am', u'10am', u'11am', u'12am', u'13pm', u'14pm', u'15pm', u'16pm', u'17pm', u'18pm', u'19pm', u'20pm', u'21pm', u'22pm', u'23pm', u'Monday', u'Tuesday', u'Wednesday', u'Thursday', u'Friday', u'Saturday', u'Sunday', u'number of passengers'], dtype='object')"
      ]
     },
     "execution_count": 623,
     "metadata": {},
     "output_type": "execute_result"
    }
   ],
   "source": [
    "test_features7.columns"
   ]
  },
  {
   "cell_type": "markdown",
   "metadata": {},
   "source": [
    "## Generating prediction from Test set (Taxy_Query.csv)"
   ]
  },
  {
   "cell_type": "code",
   "execution_count": 582,
   "metadata": {
    "collapsed": false
   },
   "outputs": [],
   "source": [
    "# automate creation of csv for kaggle submission\n",
    "def create_submission(filename,scores):\n",
    "    df_submission = pd.DataFrame([test_raw['trip id'].astype(str),scores.Fare]).T\n",
    "    pd.DataFrame.to_csv(pd.DataFrame([test_raw['trip id'].astype(str),scores.Fare]).T, path_or_buf=filename, header=['Id','Fare'], index=False)\n",
    "    \n",
    "    print(df_submission.shape)\n",
    "    df_submission.head()"
   ]
  },
  {
   "cell_type": "code",
   "execution_count": 709,
   "metadata": {
    "collapsed": false
   },
   "outputs": [],
   "source": [
    "# automate crossvalidation and printing of results\n",
    "def crossvalidation(func, arr_train_feature, predictions_train):\n",
    "    scores = cross_validation.cross_val_score(func, arr_train_feature, predictions_train, cv=5, scoring='mean_squared_error')\n",
    "    print(\"Accuracy: %0.4f (+/- %0.2f)\" % ((scores.mean() ** 2) ** 0.25, scores.std() * 2))\n",
    "#    return scores"
   ]
  },
  {
   "cell_type": "code",
   "execution_count": 699,
   "metadata": {
    "collapsed": false
   },
   "outputs": [],
   "source": [
    "# fitting linear regression\n",
    "regression_fitted = clf1.fit(train_features6,train_labels)"
   ]
  },
  {
   "cell_type": "code",
   "execution_count": 700,
   "metadata": {
    "collapsed": false
   },
   "outputs": [],
   "source": [
    "# linear regresion predictions\n",
    "scores_lr = regression_fitted.predict(test_features6)\n",
    "scores_lr = pd.DataFrame(scores_lr)\n",
    "scores_lr.columns = ['Fare']"
   ]
  },
  {
   "cell_type": "code",
   "execution_count": 686,
   "metadata": {
    "collapsed": false
   },
   "outputs": [
    {
     "name": "stdout",
     "output_type": "stream",
     "text": [
      "Accuracy: 5.3019 (+/- 6.99)\n"
     ]
    }
   ],
   "source": [
    "# crossvalidatoion on linear regression \n",
    "crossvalidation(clf1,train_features7,train_labels)"
   ]
  },
  {
   "cell_type": "code",
   "execution_count": 701,
   "metadata": {
    "collapsed": false
   },
   "outputs": [
    {
     "name": "stdout",
     "output_type": "stream",
     "text": [
      "Accuracy: 5.0638 (+/- 5.75)\n"
     ]
    }
   ],
   "source": [
    "# crossvalidatoion on linear regression \n",
    "crossvalidation(clf1,train_features6,train_labels)"
   ]
  },
  {
   "cell_type": "code",
   "execution_count": 688,
   "metadata": {
    "collapsed": false
   },
   "outputs": [
    {
     "name": "stdout",
     "output_type": "stream",
     "text": [
      "Accuracy: 5.3019 (+/- 6.99)\n"
     ]
    }
   ],
   "source": [
    "# crossvalidatoion on linear regression \n",
    "crossvalidation(clf1,train_features8,train_labels)"
   ]
  },
  {
   "cell_type": "code",
   "execution_count": 702,
   "metadata": {
    "collapsed": false
   },
   "outputs": [
    {
     "name": "stdout",
     "output_type": "stream",
     "text": [
      "(10000, 2)\n"
     ]
    }
   ],
   "source": [
    "# creating submission from linear regression\n",
    "scores_lr.Fare.map(lambda x: [x * -1 if x < 0][0])\n",
    "create_submission('submission4.csv',scores_lr)"
   ]
  },
  {
   "cell_type": "code",
   "execution_count": null,
   "metadata": {
    "collapsed": false
   },
   "outputs": [],
   "source": [
    "# initiating Random Forest Regressor\n",
    "random_forest = RandomForestRegressor(random_state=0, n_estimators=50, max_depth=50)"
   ]
  },
  {
   "cell_type": "code",
   "execution_count": 628,
   "metadata": {
    "collapsed": false
   },
   "outputs": [],
   "source": [
    "# fitting random forest regression\n",
    "randforest_fitted = random_forest.fit(train_features6,train_labels)"
   ]
  },
  {
   "cell_type": "code",
   "execution_count": 629,
   "metadata": {
    "collapsed": false
   },
   "outputs": [
    {
     "data": {
      "text/plain": [
       "(10000, 1)"
      ]
     },
     "execution_count": 629,
     "metadata": {},
     "output_type": "execute_result"
    }
   ],
   "source": [
    "# random forest regresion predictions\n",
    "scores_rr = randforest_fitted.predict(test_features6)\n",
    "scores_rr = pd.DataFrame(scores_rr)\n",
    "scores_rr.columns = ['Fare']\n",
    "scores_rr.shape"
   ]
  },
  {
   "cell_type": "code",
   "execution_count": 630,
   "metadata": {
    "collapsed": false
   },
   "outputs": [
    {
     "data": {
      "text/plain": [
       "2.3937"
      ]
     },
     "execution_count": 630,
     "metadata": {},
     "output_type": "execute_result"
    }
   ],
   "source": [
    "# scoring root mean squared error wtih random forest\n",
    "round(round(mean_squared_error(train_labels,pd.Series(randforest_fitted.predict(train_features6))),2)**.5,4)"
   ]
  },
  {
   "cell_type": "code",
   "execution_count": 683,
   "metadata": {
    "collapsed": false
   },
   "outputs": [
    {
     "name": "stdout",
     "output_type": "stream",
     "text": [
      "Accuracy: 5.58 (+/- 8.17)\n"
     ]
    }
   ],
   "source": [
    "# crossvalidatoion on regression \n",
    "cv_scores = crossvalidation(random_forest,train_features7,train_labels)"
   ]
  },
  {
   "cell_type": "code",
   "execution_count": 631,
   "metadata": {
    "collapsed": false
   },
   "outputs": [
    {
     "name": "stdout",
     "output_type": "stream",
     "text": [
      "(10000, 2)\n"
     ]
    }
   ],
   "source": [
    "# creating submission from linear regression\n",
    "create_submission('submission3.csv',scores_rr)"
   ]
  },
  {
   "cell_type": "code",
   "execution_count": 705,
   "metadata": {
    "collapsed": false
   },
   "outputs": [],
   "source": [
    "# initianig GradientBoostingRegressor\n",
    "gbr = GradientBoostingRegressor(n_estimators=100, learning_rate=0.1,max_depth=1, random_state=0, loss='ls')"
   ]
  },
  {
   "cell_type": "code",
   "execution_count": 710,
   "metadata": {
    "collapsed": false
   },
   "outputs": [
    {
     "name": "stdout",
     "output_type": "stream",
     "text": [
      "Accuracy: 5.1539 (+/- 5.80)\n"
     ]
    }
   ],
   "source": [
    "# gbr crossvalidation train_features7\n",
    "crossvalidation(gbr,train_features7, train_labels)"
   ]
  },
  {
   "cell_type": "code",
   "execution_count": 715,
   "metadata": {
    "collapsed": false
   },
   "outputs": [
    {
     "name": "stdout",
     "output_type": "stream",
     "text": [
      "Accuracy: 5.0943 (+/- 5.25)\n"
     ]
    }
   ],
   "source": [
    "# gbr crossvalidation train_features6\n",
    "crossvalidation(gbr,train_features6, train_labels)"
   ]
  },
  {
   "cell_type": "code",
   "execution_count": 713,
   "metadata": {
    "collapsed": false
   },
   "outputs": [
    {
     "data": {
      "text/plain": [
       "(10000, 1)"
      ]
     },
     "execution_count": 713,
     "metadata": {},
     "output_type": "execute_result"
    }
   ],
   "source": [
    "# gradiant boosting regressor predictions\n",
    "gbr_fitted = gbr.fit(train_features7,train_labels)\n",
    "scores_gbr = gbr_fitted.predict(test_features7)\n",
    "scores_gbr = pd.DataFrame(scores_rr)\n",
    "scores_gbr.columns = ['Fare']\n",
    "scores_gbr.shape"
   ]
  },
  {
   "cell_type": "code",
   "execution_count": 714,
   "metadata": {
    "collapsed": false
   },
   "outputs": [
    {
     "name": "stdout",
     "output_type": "stream",
     "text": [
      "(10000, 2)\n"
     ]
    }
   ],
   "source": [
    "# creating submission from gradiant boosting regressor\n",
    "create_submission('submission5.csv',scores_gbr)"
   ]
  },
  {
   "cell_type": "code",
   "execution_count": null,
   "metadata": {
    "collapsed": false
   },
   "outputs": [],
   "source": []
  },
  {
   "cell_type": "code",
   "execution_count": null,
   "metadata": {
    "collapsed": false
   },
   "outputs": [],
   "source": []
  },
  {
   "cell_type": "markdown",
   "metadata": {},
   "source": [
    "## Using data from pgrouting features"
   ]
  },
  {
   "cell_type": "code",
   "execution_count": 738,
   "metadata": {
    "collapsed": false
   },
   "outputs": [],
   "source": [
    "train_raw_routed = pd.read_csv('Taxi_Data_Routed/Taxi_Train_Routed.csv')\n",
    "test_raw_routed = pd.read_csv('Taxi_Data_Routed/Taxi_Query_Routed.csv')"
   ]
  },
  {
   "cell_type": "code",
   "execution_count": 731,
   "metadata": {
    "collapsed": false
   },
   "outputs": [
    {
     "data": {
      "text/plain": [
       "(50001, 14)"
      ]
     },
     "execution_count": 731,
     "metadata": {},
     "output_type": "execute_result"
    }
   ],
   "source": [
    "train_raw_routed.shape"
   ]
  },
  {
   "cell_type": "code",
   "execution_count": 733,
   "metadata": {
    "collapsed": false
   },
   "outputs": [],
   "source": [
    "# Creating train_features9\n",
    "train_features9 = train_raw_routed.ix[:,-3:]"
   ]
  },
  {
   "cell_type": "code",
   "execution_count": 754,
   "metadata": {
    "collapsed": false
   },
   "outputs": [],
   "source": [
    "# Creating test_features9\n",
    "test_features9 = test_raw_routed.ix[:,-3:]"
   ]
  },
  {
   "cell_type": "code",
   "execution_count": 737,
   "metadata": {
    "collapsed": false
   },
   "outputs": [
    {
     "name": "stdout",
     "output_type": "stream",
     "text": [
      "Accuracy: 4.9285 (+/- 5.41)\n"
     ]
    }
   ],
   "source": [
    "# crossvalidatoion on linear regression \n",
    "crossvalidation(clf1,train_features9,train_labels)"
   ]
  },
  {
   "cell_type": "code",
   "execution_count": 745,
   "metadata": {
    "collapsed": false
   },
   "outputs": [],
   "source": [
    "# Creating train_features10: train_features9 plus times of day\n",
    "train_features10 = train_features9.join(train_features7.ix[:,1:25])"
   ]
  },
  {
   "cell_type": "code",
   "execution_count": 756,
   "metadata": {
    "collapsed": false
   },
   "outputs": [],
   "source": [
    "# Creating test_features10: test_features9 plus times of day\n",
    "test_features10 = test_features9.join(test_features7.ix[:,1:25])"
   ]
  },
  {
   "cell_type": "code",
   "execution_count": 747,
   "metadata": {
    "collapsed": false
   },
   "outputs": [
    {
     "name": "stdout",
     "output_type": "stream",
     "text": [
      "Accuracy: 4.8941 (+/- 5.36)\n"
     ]
    }
   ],
   "source": [
    "# crossvalidatoion on linear regression \n",
    "crossvalidation(clf1,train_features10,train_labels)"
   ]
  },
  {
   "cell_type": "code",
   "execution_count": 751,
   "metadata": {
    "collapsed": false
   },
   "outputs": [],
   "source": [
    "# Creating train_features11: train_features10 plus days of week\n",
    "train_features11 = train_features10.join(train_features7.ix[:,25:-1])"
   ]
  },
  {
   "cell_type": "code",
   "execution_count": 758,
   "metadata": {
    "collapsed": false
   },
   "outputs": [],
   "source": [
    "# Creating test_features11: test_features10 plus days of week\n",
    "test_features11 = test_features10.join(test_features7.ix[:,25:-1])"
   ]
  },
  {
   "cell_type": "code",
   "execution_count": 773,
   "metadata": {
    "collapsed": false
   },
   "outputs": [
    {
     "name": "stdout",
     "output_type": "stream",
     "text": [
      "Accuracy: 4.8939 (+/- 5.37)\n"
     ]
    }
   ],
   "source": [
    "# crossvalidatoion on linear regression \n",
    "crossvalidation(clf1,train_features11,train_labels)"
   ]
  },
  {
   "cell_type": "code",
   "execution_count": 759,
   "metadata": {
    "collapsed": false
   },
   "outputs": [],
   "source": [
    "regression_fitted = clf1.fit(train_features11,train_labels)\n",
    "scores_lr = regression_fitted.predict(test_features11)\n",
    "scores_lr = pd.DataFrame(scores_lr)\n",
    "scores_lr.columns = ['Fare']"
   ]
  },
  {
   "cell_type": "code",
   "execution_count": 760,
   "metadata": {
    "collapsed": false
   },
   "outputs": [
    {
     "name": "stdout",
     "output_type": "stream",
     "text": [
      "(10000, 2)\n"
     ]
    }
   ],
   "source": [
    "# creating submission from gradiant boosting regressor\n",
    "create_submission('submission6.csv',scores_lr)"
   ]
  },
  {
   "cell_type": "code",
   "execution_count": 775,
   "metadata": {
    "collapsed": false
   },
   "outputs": [
    {
     "data": {
      "text/plain": [
       "(50001, 35)"
      ]
     },
     "execution_count": 775,
     "metadata": {},
     "output_type": "execute_result"
    }
   ],
   "source": [
    "# Creating train_features12: test_features11 plus number of passengers\n",
    "train_features12 = pd.DataFrame(train_raw.ix[:,4]).join(train_features11)\n",
    "train_features12.shape"
   ]
  },
  {
   "cell_type": "code",
   "execution_count": 794,
   "metadata": {
    "collapsed": false
   },
   "outputs": [
    {
     "data": {
      "text/plain": [
       "(10000, 35)"
      ]
     },
     "execution_count": 794,
     "metadata": {},
     "output_type": "execute_result"
    }
   ],
   "source": [
    "# Creating test_features12: test_features11 plus number of passengers\n",
    "test_features12 = pd.DataFrame(test_raw.ix[:,4]).join(test_features11)\n",
    "test_features12.shape"
   ]
  },
  {
   "cell_type": "code",
   "execution_count": 779,
   "metadata": {
    "collapsed": false
   },
   "outputs": [
    {
     "name": "stdout",
     "output_type": "stream",
     "text": [
      "Accuracy: 4.8939 (+/- 5.36)\n"
     ]
    }
   ],
   "source": [
    "# crossvalidatoion on linear regression \n",
    "crossvalidation(clf1,train_features12.ix[:,:-7],train_labels)"
   ]
  },
  {
   "cell_type": "code",
   "execution_count": 777,
   "metadata": {
    "collapsed": false
   },
   "outputs": [
    {
     "data": {
      "text/html": [
       "<div style=\"max-height:1000px;max-width:1500px;overflow:auto;\">\n",
       "<table border=\"1\" class=\"dataframe\">\n",
       "  <thead>\n",
       "    <tr style=\"text-align: right;\">\n",
       "      <th></th>\n",
       "      <th>number of passengers</th>\n",
       "      <th>dist</th>\n",
       "      <th>timecost</th>\n",
       "      <th>distcost</th>\n",
       "      <th>0am</th>\n",
       "      <th>1am</th>\n",
       "      <th>2am</th>\n",
       "      <th>3am</th>\n",
       "      <th>4am</th>\n",
       "      <th>5am</th>\n",
       "      <th>...</th>\n",
       "      <th>21pm</th>\n",
       "      <th>22pm</th>\n",
       "      <th>23pm</th>\n",
       "      <th>Monday</th>\n",
       "      <th>Tuesday</th>\n",
       "      <th>Wednesday</th>\n",
       "      <th>Thursday</th>\n",
       "      <th>Friday</th>\n",
       "      <th>Saturday</th>\n",
       "      <th>Sunday</th>\n",
       "    </tr>\n",
       "  </thead>\n",
       "  <tbody>\n",
       "    <tr>\n",
       "      <th>0</th>\n",
       "      <td> 1</td>\n",
       "      <td> 0.018940</td>\n",
       "      <td> 0.081062</td>\n",
       "      <td> 0.029604</td>\n",
       "      <td> 1</td>\n",
       "      <td> 0</td>\n",
       "      <td> 0</td>\n",
       "      <td> 0</td>\n",
       "      <td> 0</td>\n",
       "      <td> 0</td>\n",
       "      <td>...</td>\n",
       "      <td> 0</td>\n",
       "      <td> 0</td>\n",
       "      <td> 0</td>\n",
       "      <td> 0</td>\n",
       "      <td> 0</td>\n",
       "      <td> 1</td>\n",
       "      <td> 0</td>\n",
       "      <td> 0</td>\n",
       "      <td> 0</td>\n",
       "      <td> 0</td>\n",
       "    </tr>\n",
       "    <tr>\n",
       "      <th>1</th>\n",
       "      <td> 1</td>\n",
       "      <td> 0.028506</td>\n",
       "      <td> 0.116872</td>\n",
       "      <td> 0.036868</td>\n",
       "      <td> 1</td>\n",
       "      <td> 0</td>\n",
       "      <td> 0</td>\n",
       "      <td> 0</td>\n",
       "      <td> 0</td>\n",
       "      <td> 0</td>\n",
       "      <td>...</td>\n",
       "      <td> 0</td>\n",
       "      <td> 0</td>\n",
       "      <td> 0</td>\n",
       "      <td> 0</td>\n",
       "      <td> 0</td>\n",
       "      <td> 1</td>\n",
       "      <td> 0</td>\n",
       "      <td> 0</td>\n",
       "      <td> 0</td>\n",
       "      <td> 0</td>\n",
       "    </tr>\n",
       "    <tr>\n",
       "      <th>2</th>\n",
       "      <td> 1</td>\n",
       "      <td> 0.010899</td>\n",
       "      <td> 0.008682</td>\n",
       "      <td> 0.007640</td>\n",
       "      <td> 1</td>\n",
       "      <td> 0</td>\n",
       "      <td> 0</td>\n",
       "      <td> 0</td>\n",
       "      <td> 0</td>\n",
       "      <td> 0</td>\n",
       "      <td>...</td>\n",
       "      <td> 0</td>\n",
       "      <td> 0</td>\n",
       "      <td> 0</td>\n",
       "      <td> 0</td>\n",
       "      <td> 0</td>\n",
       "      <td> 1</td>\n",
       "      <td> 0</td>\n",
       "      <td> 0</td>\n",
       "      <td> 0</td>\n",
       "      <td> 0</td>\n",
       "    </tr>\n",
       "    <tr>\n",
       "      <th>3</th>\n",
       "      <td> 2</td>\n",
       "      <td> 0.028786</td>\n",
       "      <td> 0.086223</td>\n",
       "      <td> 0.030821</td>\n",
       "      <td> 1</td>\n",
       "      <td> 0</td>\n",
       "      <td> 0</td>\n",
       "      <td> 0</td>\n",
       "      <td> 0</td>\n",
       "      <td> 0</td>\n",
       "      <td>...</td>\n",
       "      <td> 0</td>\n",
       "      <td> 0</td>\n",
       "      <td> 0</td>\n",
       "      <td> 0</td>\n",
       "      <td> 0</td>\n",
       "      <td> 1</td>\n",
       "      <td> 0</td>\n",
       "      <td> 0</td>\n",
       "      <td> 0</td>\n",
       "      <td> 0</td>\n",
       "    </tr>\n",
       "    <tr>\n",
       "      <th>4</th>\n",
       "      <td> 1</td>\n",
       "      <td> 0.014584</td>\n",
       "      <td> 0.041175</td>\n",
       "      <td> 0.017230</td>\n",
       "      <td> 0</td>\n",
       "      <td> 0</td>\n",
       "      <td> 0</td>\n",
       "      <td> 0</td>\n",
       "      <td> 0</td>\n",
       "      <td> 0</td>\n",
       "      <td>...</td>\n",
       "      <td> 0</td>\n",
       "      <td> 0</td>\n",
       "      <td> 0</td>\n",
       "      <td> 0</td>\n",
       "      <td> 0</td>\n",
       "      <td> 1</td>\n",
       "      <td> 0</td>\n",
       "      <td> 0</td>\n",
       "      <td> 0</td>\n",
       "      <td> 0</td>\n",
       "    </tr>\n",
       "  </tbody>\n",
       "</table>\n",
       "<p>5 rows × 35 columns</p>\n",
       "</div>"
      ],
      "text/plain": [
       "   number of passengers      dist  timecost  distcost  0am  1am  2am  3am  \\\n",
       "0                     1  0.018940  0.081062  0.029604    1    0    0    0   \n",
       "1                     1  0.028506  0.116872  0.036868    1    0    0    0   \n",
       "2                     1  0.010899  0.008682  0.007640    1    0    0    0   \n",
       "3                     2  0.028786  0.086223  0.030821    1    0    0    0   \n",
       "4                     1  0.014584  0.041175  0.017230    0    0    0    0   \n",
       "\n",
       "   4am  5am   ...    21pm  22pm  23pm  Monday  Tuesday  Wednesday  Thursday  \\\n",
       "0    0    0   ...       0     0     0       0        0          1         0   \n",
       "1    0    0   ...       0     0     0       0        0          1         0   \n",
       "2    0    0   ...       0     0     0       0        0          1         0   \n",
       "3    0    0   ...       0     0     0       0        0          1         0   \n",
       "4    0    0   ...       0     0     0       0        0          1         0   \n",
       "\n",
       "   Friday  Saturday  Sunday  \n",
       "0       0         0       0  \n",
       "1       0         0       0  \n",
       "2       0         0       0  \n",
       "3       0         0       0  \n",
       "4       0         0       0  \n",
       "\n",
       "[5 rows x 35 columns]"
      ]
     },
     "execution_count": 777,
     "metadata": {},
     "output_type": "execute_result"
    }
   ],
   "source": [
    "train_features12.ix[:,:-7].head()"
   ]
  },
  {
   "cell_type": "code",
   "execution_count": 780,
   "metadata": {
    "collapsed": false
   },
   "outputs": [
    {
     "name": "stdout",
     "output_type": "stream",
     "text": [
      "Accuracy: 4.8715 (+/- 4.98)\n"
     ]
    }
   ],
   "source": [
    "# crossvalidatoion on gbr \n",
    "crossvalidation(gbr,train_features12,train_labels)"
   ]
  },
  {
   "cell_type": "code",
   "execution_count": 795,
   "metadata": {
    "collapsed": false
   },
   "outputs": [],
   "source": [
    "gbr_fitted = gbr.fit(train_features12,train_labels)\n",
    "scores_gbr = gbr_fitted.predict(test_features12)\n",
    "scores_gbr = pd.DataFrame(scores_gbr)\n",
    "scores_gbr.columns = ['Fare']"
   ]
  },
  {
   "cell_type": "code",
   "execution_count": 796,
   "metadata": {
    "collapsed": false
   },
   "outputs": [
    {
     "data": {
      "text/plain": [
       "(10000, 35)"
      ]
     },
     "execution_count": 796,
     "metadata": {},
     "output_type": "execute_result"
    }
   ],
   "source": [
    "test_features12.shape"
   ]
  },
  {
   "cell_type": "code",
   "execution_count": 797,
   "metadata": {
    "collapsed": false
   },
   "outputs": [
    {
     "name": "stdout",
     "output_type": "stream",
     "text": [
      "(10000, 2)\n"
     ]
    }
   ],
   "source": [
    "# creating submission from gradiant boosting regressor\n",
    "create_submission('submission7.csv',scores_gbr)"
   ]
  },
  {
   "cell_type": "markdown",
   "metadata": {},
   "source": [
    "## Testing parameter exhaustion with GridSearchCV and GBR"
   ]
  },
  {
   "cell_type": "code",
   "execution_count": 832,
   "metadata": {
    "collapsed": false
   },
   "outputs": [],
   "source": [
    "parameters = {'min_samples_split':[2, 3, 4], 'learning_rate':[0.05]} "
   ]
  },
  {
   "cell_type": "code",
   "execution_count": 833,
   "metadata": {
    "collapsed": false
   },
   "outputs": [],
   "source": [
    "clf = grid_search.GridSearchCV(ensemble.GradientBoostingRegressor(), parameters)"
   ]
  },
  {
   "cell_type": "code",
   "execution_count": 834,
   "metadata": {
    "collapsed": false
   },
   "outputs": [],
   "source": [
    "clf_fitted = clf.fit(train_features12,train_labels)"
   ]
  },
  {
   "cell_type": "code",
   "execution_count": 835,
   "metadata": {
    "collapsed": false
   },
   "outputs": [
    {
     "data": {
      "text/plain": [
       "GradientBoostingRegressor(alpha=0.9, init=None, learning_rate=0.05, loss='ls',\n",
       "             max_depth=3, max_features=None, max_leaf_nodes=None,\n",
       "             min_samples_leaf=1, min_samples_split=3, n_estimators=100,\n",
       "             random_state=None, subsample=1.0, verbose=0, warm_start=False)"
      ]
     },
     "execution_count": 835,
     "metadata": {},
     "output_type": "execute_result"
    }
   ],
   "source": [
    "clf_fitted.best_estimator_"
   ]
  },
  {
   "cell_type": "code",
   "execution_count": 837,
   "metadata": {
    "collapsed": false
   },
   "outputs": [],
   "source": [
    "# initianig Optimized GradientBoostingRegressor\n",
    "gbr = GradientBoostingRegressor(n_estimators=100, learning_rate=0.05, max_depth=3, min_samples_split=3, random_state=0, loss='ls')"
   ]
  },
  {
   "cell_type": "code",
   "execution_count": 838,
   "metadata": {
    "collapsed": false
   },
   "outputs": [
    {
     "name": "stdout",
     "output_type": "stream",
     "text": [
      "Accuracy: 4.8196 (+/- 5.50)\n"
     ]
    }
   ],
   "source": [
    "# crossvalidatoion on gbr \n",
    "crossvalidation(gbr,train_features12,train_labels)"
   ]
  },
  {
   "cell_type": "code",
   "execution_count": 840,
   "metadata": {
    "collapsed": false
   },
   "outputs": [
    {
     "data": {
      "text/plain": [
       "(10000, 1)"
      ]
     },
     "execution_count": 840,
     "metadata": {},
     "output_type": "execute_result"
    }
   ],
   "source": [
    "# gradiant boosting regressor predictions\n",
    "gbr_fitted = gbr.fit(train_features12,train_labels)\n",
    "scores_gbr = gbr_fitted.predict(test_features12)\n",
    "scores_gbr = pd.DataFrame(scores_gbr)\n",
    "scores_gbr.columns = ['Fare']\n",
    "scores_gbr.shape"
   ]
  },
  {
   "cell_type": "code",
   "execution_count": 841,
   "metadata": {
    "collapsed": false
   },
   "outputs": [
    {
     "name": "stdout",
     "output_type": "stream",
     "text": [
      "(10000, 2)\n"
     ]
    }
   ],
   "source": [
    "# creating submission from grid search\n",
    "create_submission('submission9.csv',scores_gscv)"
   ]
  },
  {
   "cell_type": "code",
   "execution_count": 844,
   "metadata": {
    "collapsed": false
   },
   "outputs": [
    {
     "data": {
      "text/plain": [
       "0"
      ]
     },
     "execution_count": 844,
     "metadata": {},
     "output_type": "execute_result"
    }
   ],
   "source": [
    "os.system(\"say 'process complete'\")"
   ]
  },
  {
   "cell_type": "markdown",
   "metadata": {},
   "source": [
    "# TASK 2"
   ]
  },
  {
   "cell_type": "code",
   "execution_count": 1200,
   "metadata": {
    "collapsed": false
   },
   "outputs": [],
   "source": [
    "from sklearn import cluster\n",
    "from time import time\n",
    "import shapely, fiona\n",
    "import matplotlib.pyplot as plt\n",
    "from sklearn.preprocessing import MinMaxScaler\n",
    "from dateutil.parser import parse "
   ]
  },
  {
   "cell_type": "code",
   "execution_count": 846,
   "metadata": {
    "collapsed": false
   },
   "outputs": [],
   "source": [
    "def inline_map(m, width=650, height=500):\n",
    "    \"\"\"Takes a folium instance and embed HTML.\"\"\"\n",
    "    m._build_map()\n",
    "    srcdoc = m.HTML.replace('\"', '&quot;')\n",
    "    embed = HTML('<iframe srcdoc=\"{}\" '\n",
    "                 'style=\"width: {}px; height: {}px; '\n",
    "                 'border: none\"></iframe>'.format(srcdoc, width, height))\n",
    "    return embed"
   ]
  },
  {
   "cell_type": "code",
   "execution_count": 1167,
   "metadata": {
    "collapsed": false
   },
   "outputs": [],
   "source": [
    "base_time = np.datetime64('2012-09-02 20:00:00')"
   ]
  },
  {
   "cell_type": "code",
   "execution_count": 1161,
   "metadata": {
    "collapsed": false
   },
   "outputs": [
    {
     "data": {
      "text/html": [
       "<div style=\"max-height:1000px;max-width:1500px;overflow:auto;\">\n",
       "<table border=\"1\" class=\"dataframe\">\n",
       "  <thead>\n",
       "    <tr style=\"text-align: right;\">\n",
       "      <th></th>\n",
       "      <th>trip id</th>\n",
       "      <th>departure time</th>\n",
       "      <th>arrival time</th>\n",
       "      <th>trip fare</th>\n",
       "      <th>number of passengers</th>\n",
       "      <th>lon of departure</th>\n",
       "      <th>lat of departure</th>\n",
       "      <th>lon of destination</th>\n",
       "      <th>lat of destination</th>\n",
       "      <th>TAZ of departure</th>\n",
       "      <th>TAZ of destination</th>\n",
       "    </tr>\n",
       "  </thead>\n",
       "  <tbody>\n",
       "    <tr>\n",
       "      <th>0</th>\n",
       "      <td> 0</td>\n",
       "      <td>2012-09-01 00:11:00</td>\n",
       "      <td>2012-09-01 00:20:00</td>\n",
       "      <td> 13.20</td>\n",
       "      <td> 1</td>\n",
       "      <td>-122.41354</td>\n",
       "      <td> 37.802683</td>\n",
       "      <td>-122.421277</td>\n",
       "      <td> 37.785395</td>\n",
       "      <td> 38</td>\n",
       "      <td> 30</td>\n",
       "    </tr>\n",
       "    <tr>\n",
       "      <th>1</th>\n",
       "      <td> 1</td>\n",
       "      <td>2012-09-01 00:23:00</td>\n",
       "      <td>2012-09-01 00:31:00</td>\n",
       "      <td> 10.65</td>\n",
       "      <td> 1</td>\n",
       "      <td>-122.41970</td>\n",
       "      <td> 37.786090</td>\n",
       "      <td>-122.435217</td>\n",
       "      <td> 37.762177</td>\n",
       "      <td> 30</td>\n",
       "      <td> 94</td>\n",
       "    </tr>\n",
       "  </tbody>\n",
       "</table>\n",
       "</div>"
      ],
      "text/plain": [
       "   trip id      departure time        arrival time  trip fare  \\\n",
       "0        0 2012-09-01 00:11:00 2012-09-01 00:20:00      13.20   \n",
       "1        1 2012-09-01 00:23:00 2012-09-01 00:31:00      10.65   \n",
       "\n",
       "   number of passengers  lon of departure  lat of departure  \\\n",
       "0                     1        -122.41354         37.802683   \n",
       "1                     1        -122.41970         37.786090   \n",
       "\n",
       "   lon of destination  lat of destination  TAZ of departure  \\\n",
       "0         -122.421277           37.785395                38   \n",
       "1         -122.435217           37.762177                30   \n",
       "\n",
       "   TAZ of destination  \n",
       "0                  30  \n",
       "1                  94  "
      ]
     },
     "execution_count": 1161,
     "metadata": {},
     "output_type": "execute_result"
    }
   ],
   "source": [
    "train_raw.ix[:1,:]"
   ]
  },
  {
   "cell_type": "code",
   "execution_count": 1178,
   "metadata": {
    "collapsed": false
   },
   "outputs": [],
   "source": [
    "base_df = pd.DataFrame(train_raw[train_raw['departure time'] > base_time])"
   ]
  },
  {
   "cell_type": "code",
   "execution_count": 1179,
   "metadata": {
    "collapsed": false
   },
   "outputs": [
    {
     "data": {
      "text/html": [
       "<div style=\"max-height:1000px;max-width:1500px;overflow:auto;\">\n",
       "<table border=\"1\" class=\"dataframe\">\n",
       "  <thead>\n",
       "    <tr style=\"text-align: right;\">\n",
       "      <th></th>\n",
       "      <th>trip id</th>\n",
       "      <th>departure time</th>\n",
       "      <th>arrival time</th>\n",
       "      <th>trip fare</th>\n",
       "      <th>number of passengers</th>\n",
       "      <th>lon of departure</th>\n",
       "      <th>lat of departure</th>\n",
       "      <th>lon of destination</th>\n",
       "      <th>lat of destination</th>\n",
       "      <th>TAZ of departure</th>\n",
       "      <th>TAZ of destination</th>\n",
       "    </tr>\n",
       "  </thead>\n",
       "  <tbody>\n",
       "  </tbody>\n",
       "</table>\n",
       "</div>"
      ],
      "text/plain": [
       "Empty DataFrame\n",
       "Columns: [trip id, departure time, arrival time, trip fare, number of passengers, lon of departure, lat of departure, lon of destination, lat of destination, TAZ of departure, TAZ of destination]\n",
       "Index: []"
      ]
     },
     "execution_count": 1179,
     "metadata": {},
     "output_type": "execute_result"
    }
   ],
   "source": [
    "base_df[base_df['departure time'] < base_time + 1]"
   ]
  },
  {
   "cell_type": "code",
   "execution_count": 1146,
   "metadata": {
    "collapsed": false
   },
   "outputs": [
    {
     "data": {
      "text/plain": [
       "0   2012-09-01 00:11:00\n",
       "1   2012-09-01 00:23:00\n",
       "2   2012-09-01 00:45:00\n",
       "Name: departure time, dtype: datetime64[ns]"
      ]
     },
     "execution_count": 1146,
     "metadata": {},
     "output_type": "execute_result"
    }
   ],
   "source": [
    "train_raw.ix[:2,1]"
   ]
  },
  {
   "cell_type": "code",
   "execution_count": 988,
   "metadata": {
    "collapsed": false
   },
   "outputs": [],
   "source": [
    "coords_start = zip(train_raw.ix[:,6], train_raw.ix[:,5])\n",
    "coords_end = zip(train_raw.ix[:,8],train_raw.ix[:,7])"
   ]
  },
  {
   "cell_type": "code",
   "execution_count": 964,
   "metadata": {
    "collapsed": false
   },
   "outputs": [],
   "source": [
    "k_cluster_miniBatch_start = []\n",
    "results_cluster_miniBatch = []\n",
    "for n in range(20,61,20):\n",
    "    some_mb = cluster.MiniBatchKMeans(n_clusters=n)\n",
    "    timer = time()\n",
    "    some_mb.fit(coords_start)\n",
    "    timer = time() - timer\n",
    "    results_cluster_miniBatch.append(timer)\n",
    "    k_cluster_miniBatch_start.append(some_mb)\n",
    "os.system('say \"process complete!\"');"
   ]
  },
  {
   "cell_type": "code",
   "execution_count": 965,
   "metadata": {
    "collapsed": false
   },
   "outputs": [],
   "source": [
    "clustering_start1 = k_cluster_miniBatch_start[0]\n",
    "clustering_start2 = k_cluster_miniBatch_start[1]\n",
    "clustering_start3 = k_cluster_miniBatch_start[2]"
   ]
  },
  {
   "cell_type": "code",
   "execution_count": 989,
   "metadata": {
    "collapsed": false
   },
   "outputs": [],
   "source": [
    "k_cluster_miniBatch_end = []\n",
    "results_cluster_miniBatch = []\n",
    "for n in range(20,61,20):\n",
    "    some_mb = cluster.MiniBatchKMeans(n_clusters=n)\n",
    "    timer = time()\n",
    "    some_mb.fit(coords_end)\n",
    "    timer = time() - timer\n",
    "    results_cluster_miniBatch.append(timer)\n",
    "    k_cluster_miniBatch_end.append(some_mb)\n",
    "os.system('say \"process complete!\"');"
   ]
  },
  {
   "cell_type": "code",
   "execution_count": 990,
   "metadata": {
    "collapsed": false
   },
   "outputs": [],
   "source": [
    "clustering_end1 = k_cluster_miniBatch_end[0]\n",
    "clustering_end2 = k_cluster_miniBatch_end[1]\n",
    "clustering_end3 = k_cluster_miniBatch_end[2]"
   ]
  },
  {
   "cell_type": "code",
   "execution_count": 1119,
   "metadata": {
    "collapsed": false
   },
   "outputs": [],
   "source": [
    "#dict(zip(pd.Series(clustering_start2.labels_).value_counts().index,pd.Series(clustering_start2.labels_).value_counts()))\n",
    "start_counts = pd.Series(clustering_start2.labels_).value_counts()\n",
    "end_counts = pd.Series(clustering_end2.labels_).value_counts()"
   ]
  },
  {
   "cell_type": "code",
   "execution_count": 1121,
   "metadata": {
    "collapsed": false
   },
   "outputs": [],
   "source": [
    "start_counts_index = start_counts.index\n",
    "end_counts_index = end_counts.index\n",
    "start_counts = [ float(x) for x in start_counts ]\n",
    "end_counts = [ float(x) for x in end_counts ]"
   ]
  },
  {
   "cell_type": "code",
   "execution_count": 1122,
   "metadata": {
    "collapsed": false
   },
   "outputs": [],
   "source": [
    "start_counts = dict(zip(start_counts_index,start_counts))\n",
    "end_counts = dict(zip(end_counts_index,end_counts))"
   ]
  },
  {
   "cell_type": "code",
   "execution_count": 1095,
   "metadata": {
    "collapsed": false
   },
   "outputs": [],
   "source": [
    "normalizer = MinMaxScaler()"
   ]
  },
  {
   "cell_type": "code",
   "execution_count": 1124,
   "metadata": {
    "collapsed": false
   },
   "outputs": [],
   "source": [
    "start_normalized = normalizer.fit_transform(start_counts.values())\n",
    "end_normalized = normalizer.fit_transform(end_counts.values())"
   ]
  },
  {
   "cell_type": "code",
   "execution_count": 1384,
   "metadata": {
    "collapsed": false
   },
   "outputs": [
    {
     "data": {
      "text/html": [
       "<iframe srcdoc=\"<!DOCTYPE html>\n",
       "<head>\n",
       "   <meta http-equiv=&quot;content-type&quot; content=&quot;text/html; charset=UTF-8&quot; />\n",
       "   <link rel=&quot;stylesheet&quot; href=&quot;https://cdnjs.cloudflare.com/ajax/libs/leaflet/0.7.3/leaflet.css&quot; />\n",
       "   <script src=&quot;https://cdnjs.cloudflare.com/ajax/libs/leaflet/0.7.3/leaflet.js&quot;></script>\n",
       "   <script src=&quot;https://cdnjs.cloudflare.com/ajax/libs/d3/3.5.5/d3.min.js&quot; charset=&quot;utf-8&quot;></script>\n",
       "   <script src=&quot;https://cdnjs.cloudflare.com/ajax/libs/queue-async/1.0.7/queue.min.js&quot;></script>\n",
       "\n",
       "   \n",
       "   \n",
       "   \n",
       "   \n",
       "\n",
       "   <style>\n",
       "\n",
       "      html, body {\n",
       "        width: 100%;\n",
       "        height: 100%;\n",
       "        margin: 0;\n",
       "        padding: 0;\n",
       "      }\n",
       "\n",
       "      .legend {\n",
       "          padding: 0px 0px;\n",
       "          font: 10px sans-serif;\n",
       "          background: white;\n",
       "          background: rgba(255,255,255,0.8);\n",
       "          box-shadow: 0 0 15px rgba(0,0,0,0.2);\n",
       "          border-radius: 5px;\n",
       "      }\n",
       "\n",
       "      .key path {\n",
       "        display: none;\n",
       "      }\n",
       "\n",
       "   </style>\n",
       "</head>\n",
       "\n",
       "<body>\n",
       "\n",
       "   <div id=&quot;map&quot; style=&quot;width: 750px; height: 550px&quot;></div>\n",
       "\n",
       "   <script>\n",
       "\n",
       "      queue()\n",
       "          .defer(d3.json, 'TAZ.geojson')\n",
       "          .await(makeMap)\n",
       "\n",
       "      function onEachFeature(feature, layer) {\n",
       "          // does this feature have a property named popupContent?\n",
       "          if (feature.properties && feature.properties.popupContent) {\n",
       "              layer.bindPopup(feature.properties.popupContent);\n",
       "              }\n",
       "          };\n",
       "\n",
       "      function makeMap(error, gjson_1) {\n",
       "\n",
       "          \n",
       "\n",
       "          \n",
       "\n",
       "          function matchKey(datapoint, key_variable){\n",
       "              if (typeof key_variable[0][datapoint] === 'undefined') {\n",
       "                  return null;\n",
       "              }\n",
       "              else {\n",
       "                  return parseFloat(key_variable[0][datapoint]);\n",
       "              };\n",
       "          };\n",
       "\n",
       "          \n",
       "\n",
       "          var map = L.map('map').setView([37.759953, -122.44147], 12);\n",
       "\n",
       "          L.tileLayer('https://{s}.tile.openstreetmap.org/{z}/{x}/{y}.png', {\n",
       "              maxZoom: 18,\n",
       "              minZoom: 1,\n",
       "              attribution: 'Map data (c) <a href=&quot;http://openstreetmap.org&quot;>OpenStreetMap</a> contributors'\n",
       "          }).addTo(map);\n",
       "\n",
       "          \n",
       "          function style_1(feature) {\n",
       "    return {\n",
       "        fillColor: 'blue',\n",
       "        weight: 1,\n",
       "        opacity: 0.2,\n",
       "        color: 'black',\n",
       "        fillOpacity: 0.2\n",
       "    };\n",
       "}\n",
       "          \n",
       "\n",
       "          \n",
       "          gJson_layer_1 = L.geoJson(gjson_1, {style: style_1,onEachFeature: onEachFeature}).addTo(map)\n",
       "          \n",
       "\n",
       "          \n",
       "\n",
       "          \n",
       "          var circle_1 = L.circle([37.774754619, -122.403878119], 197.868429539, {\n",
       "                            color: 'None',\n",
       "                            fillColor: 'red',\n",
       "                            fillOpacity: 0.5\n",
       "                            });\n",
       "          \n",
       "          map.addLayer(circle_1)\n",
       "          \n",
       "          var circle_2 = L.circle([37.6136883152, -122.38624275], 197.868429539, {\n",
       "                            color: 'None',\n",
       "                            fillColor: 'red',\n",
       "                            fillOpacity: 0.5\n",
       "                            });\n",
       "          \n",
       "          map.addLayer(circle_2)\n",
       "          \n",
       "          var circle_3 = L.circle([37.4732032, -122.2239302], 91.6446307643, {\n",
       "                            color: 'None',\n",
       "                            fillColor: 'red',\n",
       "                            fillOpacity: 0.5\n",
       "                            });\n",
       "          \n",
       "          map.addLayer(circle_3)\n",
       "          \n",
       "          var circle_4 = L.circle([37.776367375, -122.50399675], 96.7720090293, {\n",
       "                            color: 'None',\n",
       "                            fillColor: 'red',\n",
       "                            fillOpacity: 0.5\n",
       "                            });\n",
       "          \n",
       "          map.addLayer(circle_4)\n",
       "          \n",
       "          var circle_5 = L.circle([37.875722875, -122.25593425], 118.442437923, {\n",
       "                            color: 'None',\n",
       "                            fillColor: 'red',\n",
       "                            fillOpacity: 0.5\n",
       "                            });\n",
       "          \n",
       "          map.addLayer(circle_5)\n",
       "          \n",
       "          var circle_6 = L.circle([37.7991575676, -122.442750378], 186.356014189, {\n",
       "                            color: 'None',\n",
       "                            fillColor: 'red',\n",
       "                            fillOpacity: 0.5\n",
       "                            });\n",
       "          \n",
       "          map.addLayer(circle_6)\n",
       "          \n",
       "          var circle_7 = L.circle([37.714921, -122.208746], 92.4185746533, {\n",
       "                            color: 'None',\n",
       "                            fillColor: 'red',\n",
       "                            fillOpacity: 0.5\n",
       "                            });\n",
       "          \n",
       "          map.addLayer(circle_7)\n",
       "          \n",
       "          var circle_8 = L.circle([37.7678188358, -122.430416746], 282.808771364, {\n",
       "                            color: 'None',\n",
       "                            fillColor: 'red',\n",
       "                            fillOpacity: 0.5\n",
       "                            });\n",
       "          \n",
       "          map.addLayer(circle_8)\n",
       "          \n",
       "          var circle_9 = L.circle([37.7851245, -122.414764125], 233.663334408, {\n",
       "                            color: 'None',\n",
       "                            fillColor: 'red',\n",
       "                            fillOpacity: 0.5\n",
       "                            });\n",
       "          \n",
       "          map.addLayer(circle_9)\n",
       "          \n",
       "          var circle_10 = L.circle([37.7988368437, -122.420096328], 275.069332473, {\n",
       "                            color: 'None',\n",
       "                            fillColor: 'red',\n",
       "                            fillOpacity: 0.5\n",
       "                            });\n",
       "          \n",
       "          map.addLayer(circle_10)\n",
       "          \n",
       "          var circle_11 = L.circle([37.5370576, -122.2802932], 95.1273782651, {\n",
       "                            color: 'None',\n",
       "                            fillColor: 'red',\n",
       "                            fillOpacity: 0.5\n",
       "                            });\n",
       "          \n",
       "          map.addLayer(circle_11)\n",
       "          \n",
       "          var circle_12 = L.circle([37.6613472857, -122.393011143], 94.9338922928, {\n",
       "                            color: 'None',\n",
       "                            fillColor: 'red',\n",
       "                            fillOpacity: 0.5\n",
       "                            });\n",
       "          \n",
       "          map.addLayer(circle_12)\n",
       "          \n",
       "          var circle_13 = L.circle([37.7873748061, -122.410538214], 355.752982909, {\n",
       "                            color: 'None',\n",
       "                            fillColor: 'red',\n",
       "                            fillOpacity: 0.5\n",
       "                            });\n",
       "          \n",
       "          map.addLayer(circle_13)\n",
       "          \n",
       "          var circle_14 = L.circle([37.7512934918, -122.420998262], 266.749435666, {\n",
       "                            color: 'None',\n",
       "                            fillColor: 'red',\n",
       "                            fillOpacity: 0.5\n",
       "                            });\n",
       "          \n",
       "          map.addLayer(circle_14)\n",
       "          \n",
       "          var circle_15 = L.circle([37.7446856, -122.3990256], 125.891647856, {\n",
       "                            color: 'None',\n",
       "                            fillColor: 'red',\n",
       "                            fillOpacity: 0.5\n",
       "                            });\n",
       "          \n",
       "          map.addLayer(circle_15)\n",
       "          \n",
       "          var circle_16 = L.circle([37.7743595588, -122.444916294], 231.148016769, {\n",
       "                            color: 'None',\n",
       "                            fillColor: 'red',\n",
       "                            fillOpacity: 0.5\n",
       "                            });\n",
       "          \n",
       "          map.addLayer(circle_16)\n",
       "          \n",
       "          var circle_17 = L.circle([37.7386113636, -122.473205818], 118.345694937, {\n",
       "                            color: 'None',\n",
       "                            fillColor: 'red',\n",
       "                            fillOpacity: 0.5\n",
       "                            });\n",
       "          \n",
       "          map.addLayer(circle_17)\n",
       "          \n",
       "          var circle_18 = L.circle([37.7310582381, -122.44170581], 131.889712996, {\n",
       "                            color: 'None',\n",
       "                            fillColor: 'red',\n",
       "                            fillOpacity: 0.5\n",
       "                            });\n",
       "          \n",
       "          map.addLayer(circle_18)\n",
       "          \n",
       "          var circle_19 = L.circle([37.7944229385, -122.395929062], 315.411157691, {\n",
       "                            color: 'None',\n",
       "                            fillColor: 'red',\n",
       "                            fillOpacity: 0.5\n",
       "                            });\n",
       "          \n",
       "          map.addLayer(circle_19)\n",
       "          \n",
       "          var circle_20 = L.circle([37.661268625, -122.458936], 90.0, {\n",
       "                            color: 'None',\n",
       "                            fillColor: 'red',\n",
       "                            fillOpacity: 0.5\n",
       "                            });\n",
       "          \n",
       "          map.addLayer(circle_20)\n",
       "          \n",
       "          var circle_21 = L.circle([37.7892001333, -122.401882876], 390.0, {\n",
       "                            color: 'None',\n",
       "                            fillColor: 'red',\n",
       "                            fillOpacity: 0.5\n",
       "                            });\n",
       "          \n",
       "          map.addLayer(circle_21)\n",
       "          \n",
       "          var circle_22 = L.circle([37.7702796786, -122.462640536], 162.5572396, {\n",
       "                            color: 'None',\n",
       "                            fillColor: 'red',\n",
       "                            fillOpacity: 0.5\n",
       "                            });\n",
       "          \n",
       "          map.addLayer(circle_22)\n",
       "          \n",
       "          var circle_23 = L.circle([37.7783998182, -122.481219182], 132.083198968, {\n",
       "                            color: 'None',\n",
       "                            fillColor: 'red',\n",
       "                            fillOpacity: 0.5\n",
       "                            });\n",
       "          \n",
       "          map.addLayer(circle_23)\n",
       "          \n",
       "          var circle_24 = L.circle([37.7786930377, -122.393403887], 265.588519832, {\n",
       "                            color: 'None',\n",
       "                            fillColor: 'red',\n",
       "                            fillOpacity: 0.5\n",
       "                            });\n",
       "          \n",
       "          map.addLayer(circle_24)\n",
       "          \n",
       "          var circle_25 = L.circle([37.7854496769, -122.434510631], 267.13640761, {\n",
       "                            color: 'None',\n",
       "                            fillColor: 'red',\n",
       "                            fillOpacity: 0.5\n",
       "                            });\n",
       "          \n",
       "          map.addLayer(circle_25)\n",
       "          \n",
       "          var circle_26 = L.circle([37.8073630513, -122.413127385], 262.782973234, {\n",
       "                            color: 'None',\n",
       "                            fillColor: 'red',\n",
       "                            fillOpacity: 0.5\n",
       "                            });\n",
       "          \n",
       "          map.addLayer(circle_26)\n",
       "          \n",
       "          var circle_27 = L.circle([37.7678328148, -122.414137667], 228.439213157, {\n",
       "                            color: 'None',\n",
       "                            fillColor: 'red',\n",
       "                            fillOpacity: 0.5\n",
       "                            });\n",
       "          \n",
       "          map.addLayer(circle_27)\n",
       "          \n",
       "          var circle_28 = L.circle([37.7207174286, -122.412681286], 105.091905837, {\n",
       "                            color: 'None',\n",
       "                            fillColor: 'red',\n",
       "                            fillOpacity: 0.5\n",
       "                            });\n",
       "          \n",
       "          map.addLayer(circle_28)\n",
       "          \n",
       "          var circle_29 = L.circle([37.799481283, -122.431165679], 177.939374395, {\n",
       "                            color: 'None',\n",
       "                            fillColor: 'red',\n",
       "                            fillOpacity: 0.5\n",
       "                            });\n",
       "          \n",
       "          map.addLayer(circle_29)\n",
       "          \n",
       "          var circle_30 = L.circle([37.789204, -122.409041222], 363.492421799, {\n",
       "                            color: 'None',\n",
       "                            fillColor: 'red',\n",
       "                            fillOpacity: 0.5\n",
       "                            });\n",
       "          \n",
       "          map.addLayer(circle_30)\n",
       "          \n",
       "          var circle_31 = L.circle([37.7854946842, -122.456700526], 160.235407933, {\n",
       "                            color: 'None',\n",
       "                            fillColor: 'red',\n",
       "                            fillOpacity: 0.5\n",
       "                            });\n",
       "          \n",
       "          map.addLayer(circle_31)\n",
       "          \n",
       "          var circle_32 = L.circle([37.7882197681, -122.421219855], 295.095130603, {\n",
       "                            color: 'None',\n",
       "                            fillColor: 'red',\n",
       "                            fillOpacity: 0.5\n",
       "                            });\n",
       "          \n",
       "          map.addLayer(circle_32)\n",
       "          \n",
       "          var circle_33 = L.circle([37.7527495714, -122.495380857], 104.414704934, {\n",
       "                            color: 'None',\n",
       "                            fillColor: 'red',\n",
       "                            fillOpacity: 0.5\n",
       "                            });\n",
       "          \n",
       "          map.addLayer(circle_33)\n",
       "          \n",
       "          var circle_34 = L.circle([37.7604531111, -122.391447222], 119.313124798, {\n",
       "                            color: 'None',\n",
       "                            fillColor: 'red',\n",
       "                            fillOpacity: 0.5\n",
       "                            });\n",
       "          \n",
       "          map.addLayer(circle_34)\n",
       "          \n",
       "          var circle_35 = L.circle([37.6168655714, -122.384686571], 256.107707191, {\n",
       "                            color: 'None',\n",
       "                            fillColor: 'red',\n",
       "                            fillOpacity: 0.5\n",
       "                            });\n",
       "          \n",
       "          map.addLayer(circle_35)\n",
       "          \n",
       "          var circle_36 = L.circle([37.79665575, -122.43128375], 167.297645921, {\n",
       "                            color: 'None',\n",
       "                            fillColor: 'red',\n",
       "                            fillOpacity: 0.5\n",
       "                            });\n",
       "          \n",
       "          map.addLayer(circle_36)\n",
       "          \n",
       "          var circle_37 = L.circle([37.762037, -122.445046611], 153.173169945, {\n",
       "                            color: 'None',\n",
       "                            fillColor: 'red',\n",
       "                            fillOpacity: 0.5\n",
       "                            });\n",
       "          \n",
       "          map.addLayer(circle_37)\n",
       "          \n",
       "          var circle_38 = L.circle([37.820989625, -122.47088525], 94.7404063205, {\n",
       "                            color: 'None',\n",
       "                            fillColor: 'red',\n",
       "                            fillOpacity: 0.5\n",
       "                            });\n",
       "          \n",
       "          map.addLayer(circle_38)\n",
       "          \n",
       "          var circle_39 = L.circle([37.7982978333, -122.405991394], 311.44469526, {\n",
       "                            color: 'None',\n",
       "                            fillColor: 'red',\n",
       "                            fillOpacity: 0.5\n",
       "                            });\n",
       "          \n",
       "          map.addLayer(circle_39)\n",
       "          \n",
       "          var circle_40 = L.circle([37.7782689792, -122.419611937], 241.693002257, {\n",
       "                            color: 'None',\n",
       "                            fillColor: 'red',\n",
       "                            fillOpacity: 0.5\n",
       "                            });\n",
       "          \n",
       "          map.addLayer(circle_40)\n",
       "          \n",
       "          var circle_41 = L.circle([37.6166052366, -122.384933931], 298.494208494, {\n",
       "                            color: 'None',\n",
       "                            fillColor: 'white',\n",
       "                            fillOpacity: 0.9\n",
       "                            });\n",
       "          \n",
       "          map.addLayer(circle_41)\n",
       "          \n",
       "          var circle_42 = L.circle([37.7811096452, -122.416831323], 192.393822394, {\n",
       "                            color: 'None',\n",
       "                            fillColor: 'white',\n",
       "                            fillOpacity: 0.9\n",
       "                            });\n",
       "          \n",
       "          map.addLayer(circle_42)\n",
       "          \n",
       "          var circle_43 = L.circle([37.7784734, -122.4768669], 102.586872587, {\n",
       "                            color: 'None',\n",
       "                            fillColor: 'white',\n",
       "                            fillOpacity: 0.9\n",
       "                            });\n",
       "          \n",
       "          map.addLayer(circle_43)\n",
       "          \n",
       "          var circle_44 = L.circle([37.7857883133, -122.408688367], 390.0, {\n",
       "                            color: 'None',\n",
       "                            fillColor: 'white',\n",
       "                            fillOpacity: 0.9\n",
       "                            });\n",
       "          \n",
       "          map.addLayer(circle_44)\n",
       "          \n",
       "          var circle_45 = L.circle([37.8000186087, -122.443814435], 128.996138996, {\n",
       "                            color: 'None',\n",
       "                            fillColor: 'white',\n",
       "                            fillOpacity: 0.9\n",
       "                            });\n",
       "          \n",
       "          map.addLayer(circle_45)\n",
       "          \n",
       "          var circle_46 = L.circle([37.7331876, -122.4666072], 95.4054054054, {\n",
       "                            color: 'None',\n",
       "                            fillColor: 'white',\n",
       "                            fillOpacity: 0.9\n",
       "                            });\n",
       "          \n",
       "          map.addLayer(circle_46)\n",
       "          \n",
       "          var circle_47 = L.circle([37.7653454348, -122.42872987], 128.61003861, {\n",
       "                            color: 'None',\n",
       "                            fillColor: 'white',\n",
       "                            fillOpacity: 0.9\n",
       "                            });\n",
       "          \n",
       "          map.addLayer(circle_47)\n",
       "          \n",
       "          var circle_48 = L.circle([37.7989053171, -122.423852854], 195.55984556, {\n",
       "                            color: 'None',\n",
       "                            fillColor: 'white',\n",
       "                            fillOpacity: 0.9\n",
       "                            });\n",
       "          \n",
       "          map.addLayer(circle_48)\n",
       "          \n",
       "          var circle_49 = L.circle([37.7841435238, -122.385520762], 101.11969112, {\n",
       "                            color: 'None',\n",
       "                            fillColor: 'white',\n",
       "                            fillOpacity: 0.9\n",
       "                            });\n",
       "          \n",
       "          map.addLayer(circle_49)\n",
       "          \n",
       "          var circle_50 = L.circle([37.7852719091, -122.442216091], 160.193050193, {\n",
       "                            color: 'None',\n",
       "                            fillColor: 'white',\n",
       "                            fillOpacity: 0.9\n",
       "                            });\n",
       "          \n",
       "          map.addLayer(circle_50)\n",
       "          \n",
       "          var circle_51 = L.circle([37.7892282981, -122.412322769], 297.644787645, {\n",
       "                            color: 'None',\n",
       "                            fillColor: 'white',\n",
       "                            fillOpacity: 0.9\n",
       "                            });\n",
       "          \n",
       "          map.addLayer(circle_51)\n",
       "          \n",
       "          var circle_52 = L.circle([37.7670676585, -122.458147317], 120.038610039, {\n",
       "                            color: 'None',\n",
       "                            fillColor: 'white',\n",
       "                            fillOpacity: 0.9\n",
       "                            });\n",
       "          \n",
       "          map.addLayer(circle_52)\n",
       "          \n",
       "          var circle_53 = L.circle([37.7935419899, -122.40269602], 262.277992278, {\n",
       "                            color: 'None',\n",
       "                            fillColor: 'white',\n",
       "                            fillOpacity: 0.9\n",
       "                            });\n",
       "          \n",
       "          map.addLayer(circle_53)\n",
       "          \n",
       "          var circle_54 = L.circle([37.7774931, -122.395361775], 213.166023166, {\n",
       "                            color: 'None',\n",
       "                            fillColor: 'white',\n",
       "                            fillOpacity: 0.9\n",
       "                            });\n",
       "          \n",
       "          map.addLayer(circle_54)\n",
       "          \n",
       "          var circle_55 = L.circle([37.7341721667, -122.42968875], 106.447876448, {\n",
       "                            color: 'None',\n",
       "                            fillColor: 'white',\n",
       "                            fillOpacity: 0.9\n",
       "                            });\n",
       "          \n",
       "          map.addLayer(circle_55)\n",
       "          \n",
       "          var circle_56 = L.circle([37.7605703478, -122.396124174], 112.393822394, {\n",
       "                            color: 'None',\n",
       "                            fillColor: 'white',\n",
       "                            fillOpacity: 0.9\n",
       "                            });\n",
       "          \n",
       "          map.addLayer(circle_56)\n",
       "          \n",
       "          var circle_57 = L.circle([37.8056167368, -122.416616447], 178.262548263, {\n",
       "                            color: 'None',\n",
       "                            fillColor: 'white',\n",
       "                            fillOpacity: 0.9\n",
       "                            });\n",
       "          \n",
       "          map.addLayer(circle_57)\n",
       "          \n",
       "          var circle_58 = L.circle([37.7875199583, -122.427271375], 137.722007722, {\n",
       "                            color: 'None',\n",
       "                            fillColor: 'white',\n",
       "                            fillOpacity: 0.9\n",
       "                            });\n",
       "          \n",
       "          map.addLayer(circle_58)\n",
       "          \n",
       "          var circle_59 = L.circle([37.7396375556, -122.452365222], 90.0, {\n",
       "                            color: 'None',\n",
       "                            fillColor: 'white',\n",
       "                            fillOpacity: 0.9\n",
       "                            });\n",
       "          \n",
       "          map.addLayer(circle_59)\n",
       "          \n",
       "          var circle_60 = L.circle([37.7742643585, -122.408446208], 210.0, {\n",
       "                            color: 'None',\n",
       "                            fillColor: 'white',\n",
       "                            fillOpacity: 0.9\n",
       "                            });\n",
       "          \n",
       "          map.addLayer(circle_60)\n",
       "          \n",
       "          var circle_61 = L.circle([37.7732204667, -122.433984367], 166.138996139, {\n",
       "                            color: 'None',\n",
       "                            fillColor: 'white',\n",
       "                            fillOpacity: 0.9\n",
       "                            });\n",
       "          \n",
       "          map.addLayer(circle_61)\n",
       "          \n",
       "          var circle_62 = L.circle([37.7944712805, -122.396541073], 234.092664093, {\n",
       "                            color: 'None',\n",
       "                            fillColor: 'white',\n",
       "                            fillOpacity: 0.9\n",
       "                            });\n",
       "          \n",
       "          map.addLayer(circle_62)\n",
       "          \n",
       "          var circle_63 = L.circle([37.798748, -122.434257775], 191.544401544, {\n",
       "                            color: 'None',\n",
       "                            fillColor: 'white',\n",
       "                            fillOpacity: 0.9\n",
       "                            });\n",
       "          \n",
       "          map.addLayer(circle_63)\n",
       "          \n",
       "          var circle_64 = L.circle([37.7519069167, -122.41776], 193.552123552, {\n",
       "                            color: 'None',\n",
       "                            fillColor: 'white',\n",
       "                            fillOpacity: 0.9\n",
       "                            });\n",
       "          \n",
       "          map.addLayer(circle_64)\n",
       "          \n",
       "          var circle_65 = L.circle([37.7562376667, -122.476131], 95.7142857143, {\n",
       "                            color: 'None',\n",
       "                            fillColor: 'white',\n",
       "                            fillOpacity: 0.9\n",
       "                            });\n",
       "          \n",
       "          map.addLayer(circle_65)\n",
       "          \n",
       "          var circle_66 = L.circle([37.7598460541, -122.435762405], 162.664092664, {\n",
       "                            color: 'None',\n",
       "                            fillColor: 'white',\n",
       "                            fillOpacity: 0.9\n",
       "                            });\n",
       "          \n",
       "          map.addLayer(circle_66)\n",
       "          \n",
       "          var circle_67 = L.circle([37.7739302381, -122.422119833], 157.49034749, {\n",
       "                            color: 'None',\n",
       "                            fillColor: 'white',\n",
       "                            fillOpacity: 0.9\n",
       "                            });\n",
       "          \n",
       "          map.addLayer(circle_67)\n",
       "          \n",
       "          var circle_68 = L.circle([37.7897118043, -122.397986957], 211.544401544, {\n",
       "                            color: 'None',\n",
       "                            fillColor: 'white',\n",
       "                            fillOpacity: 0.9\n",
       "                            });\n",
       "          \n",
       "          map.addLayer(circle_68)\n",
       "          \n",
       "          var circle_69 = L.circle([37.7325441333, -122.3951932], 100.424710425, {\n",
       "                            color: 'None',\n",
       "                            fillColor: 'white',\n",
       "                            fillOpacity: 0.9\n",
       "                            });\n",
       "          \n",
       "          map.addLayer(circle_69)\n",
       "          \n",
       "          var circle_70 = L.circle([37.7675139333, -122.503317533], 95.250965251, {\n",
       "                            color: 'None',\n",
       "                            fillColor: 'white',\n",
       "                            fillOpacity: 0.9\n",
       "                            });\n",
       "          \n",
       "          map.addLayer(circle_70)\n",
       "          \n",
       "          var circle_71 = L.circle([37.7869733238, -122.403349771], 275.637065637, {\n",
       "                            color: 'None',\n",
       "                            fillColor: 'white',\n",
       "                            fillOpacity: 0.9\n",
       "                            });\n",
       "          \n",
       "          map.addLayer(circle_71)\n",
       "          \n",
       "          var circle_72 = L.circle([37.6168525, -122.391134219], 143.8996139, {\n",
       "                            color: 'None',\n",
       "                            fillColor: 'white',\n",
       "                            fillOpacity: 0.9\n",
       "                            });\n",
       "          \n",
       "          map.addLayer(circle_72)\n",
       "          \n",
       "          var circle_73 = L.circle([37.7838903333, -122.462231533], 128.455598456, {\n",
       "                            color: 'None',\n",
       "                            fillColor: 'white',\n",
       "                            fillOpacity: 0.9\n",
       "                            });\n",
       "          \n",
       "          map.addLayer(circle_73)\n",
       "          \n",
       "          var circle_74 = L.circle([37.7960423889, -122.4159215], 123.05019305, {\n",
       "                            color: 'None',\n",
       "                            fillColor: 'white',\n",
       "                            fillOpacity: 0.9\n",
       "                            });\n",
       "          \n",
       "          map.addLayer(circle_74)\n",
       "          \n",
       "          var circle_75 = L.circle([37.7730741837, -122.447546163], 168.069498069, {\n",
       "                            color: 'None',\n",
       "                            fillColor: 'white',\n",
       "                            fillOpacity: 0.9\n",
       "                            });\n",
       "          \n",
       "          map.addLayer(circle_75)\n",
       "          \n",
       "          var circle_76 = L.circle([37.7991851143, -122.407433129], 214.633204633, {\n",
       "                            color: 'None',\n",
       "                            fillColor: 'white',\n",
       "                            fillOpacity: 0.9\n",
       "                            });\n",
       "          \n",
       "          map.addLayer(circle_76)\n",
       "          \n",
       "          var circle_77 = L.circle([37.78930562, -122.41970043], 268.764478764, {\n",
       "                            color: 'None',\n",
       "                            fillColor: 'white',\n",
       "                            fillOpacity: 0.9\n",
       "                            });\n",
       "          \n",
       "          map.addLayer(circle_77)\n",
       "          \n",
       "          var circle_78 = L.circle([37.7632859808, -122.420415615], 211.853281853, {\n",
       "                            color: 'None',\n",
       "                            fillColor: 'white',\n",
       "                            fillOpacity: 0.9\n",
       "                            });\n",
       "          \n",
       "          map.addLayer(circle_78)\n",
       "          \n",
       "          var circle_79 = L.circle([37.78539275, -122.433236944], 155.328185328, {\n",
       "                            color: 'None',\n",
       "                            fillColor: 'white',\n",
       "                            fillOpacity: 0.9\n",
       "                            });\n",
       "          \n",
       "          map.addLayer(circle_79)\n",
       "          \n",
       "          var circle_80 = L.circle([37.8074009286, -122.409181607], 150.540540541, {\n",
       "                            color: 'None',\n",
       "                            fillColor: 'white',\n",
       "                            fillOpacity: 0.9\n",
       "                            });\n",
       "          \n",
       "          map.addLayer(circle_80)\n",
       "          \n",
       "\n",
       "          \n",
       "\n",
       "          \n",
       "\n",
       "          \n",
       "\n",
       "          \n",
       "\n",
       "          \n",
       "\n",
       "      };\n",
       "\n",
       "   </script>\n",
       "</body>\" style=\"width: 750px; height: 550px; border: none\"></iframe>"
      ],
      "text/plain": [
       "<IPython.core.display.HTML at 0x15a516d10>"
      ]
     },
     "execution_count": 1384,
     "metadata": {},
     "output_type": "execute_result"
    }
   ],
   "source": [
    "# testing base map\n",
    "width, height = 750, 550\n",
    "taxi_loc = folium.Map(location=[37.759953, -122.44147], zoom_start=12,\n",
    "                    tiles='OpenStreetMap', width=width, height=height)\n",
    "\n",
    "for c,e in zip(clustering_end2.cluster_centers_, end_normalized):\n",
    "    taxi_loc.circle_marker(location=(c[0],c[1]), radius=(300 * (e + 0.3)), line_color=None, fill_color='red', fill_opacity=0.5)\n",
    "\n",
    "for c,s in zip(clustering_start2.cluster_centers_, start_normalized):\n",
    "    taxi_loc.circle_marker(location=(c[0],c[1]), radius=(300 * (s + 0.3)), line_color=None, fill_color='white', fill_opacity=0.9)\n",
    "\n",
    "taxi_loc.geo_json(geo_path='TAZ.geojson', fill_opacity=0.2, line_opacity=0.2)\n",
    "    \n",
    "inline_map(taxi_loc, width, height)"
   ]
  },
  {
   "cell_type": "code",
   "execution_count": 1006,
   "metadata": {
    "collapsed": false
   },
   "outputs": [],
   "source": [
    "# opening shape file and loading collection into variable\n",
    "shp = fiona.open('mtc_taz1454_clipurb2002/mtc_taz1454_clipurb2002.shp','r')"
   ]
  },
  {
   "cell_type": "code",
   "execution_count": 1088,
   "metadata": {
    "collapsed": false
   },
   "outputs": [],
   "source": [
    "for n,i in enumerate(poly_test):\n",
    "    poly_test[n] = tuple(i)"
   ]
  },
  {
   "cell_type": "code",
   "execution_count": 1179,
   "metadata": {
    "collapsed": false
   },
   "outputs": [],
   "source": [
    "train_features5['departure time'] = train_features5['departure time'].map(lambda x: [str(x.hour)+'pm' if x.hour > 12 else str(x.hour)+'am'][0] )"
   ]
  },
  {
   "cell_type": "code",
   "execution_count": 1250,
   "metadata": {
    "collapsed": false
   },
   "outputs": [
    {
     "name": "stdout",
     "output_type": "stream",
     "text": [
      "((50001, 807), (10000, 807))\n"
     ]
    }
   ],
   "source": [
    "train_taz = train_features6.ix[:,33:]\n",
    "test_taz = test_features6.ix[:,33:]\n",
    "print(train_taz.shape, test_taz.shape)"
   ]
  },
  {
   "cell_type": "code",
   "execution_count": 1251,
   "metadata": {
    "collapsed": false
   },
   "outputs": [
    {
     "name": "stdout",
     "output_type": "stream",
     "text": [
      "((50001, 842), (10000, 842))\n"
     ]
    }
   ],
   "source": [
    "# creating training features 13:  same as train_features 12 plus the binarized zones\n",
    "train_features13 = train_features12.join(train_taz)\n",
    "test_features13 = test_features12.join(test_taz)\n",
    "print(train_features13.shape, test_features13.shape)"
   ]
  },
  {
   "cell_type": "code",
   "execution_count": 1254,
   "metadata": {
    "collapsed": false
   },
   "outputs": [
    {
     "data": {
      "text/plain": [
       "(10000, 1)"
      ]
     },
     "execution_count": 1254,
     "metadata": {},
     "output_type": "execute_result"
    }
   ],
   "source": [
    "# gradiant boosting regressor predictions\n",
    "gbr_fitted = gbr.fit(train_features13,train_labels)\n",
    "scores_gbr = gbr_fitted.predict(test_features13)\n",
    "scores_gbr = pd.DataFrame(scores_gbr)\n",
    "scores_gbr.columns = ['Fare']\n",
    "scores_gbr.shape"
   ]
  },
  {
   "cell_type": "code",
   "execution_count": 1252,
   "metadata": {
    "collapsed": false
   },
   "outputs": [],
   "source": [
    "def get_similar(date):\n",
    "    date = parse(date)\n",
    "    \n",
    "    hour = date.hour\n",
    "    if hour > 12:\n",
    "        hour = str(hour) + 'pm'\n",
    "    else:\n",
    "        hour = str(hour) + 'am'\n",
    "        \n",
    "    weekday = days_of_week[date.weekday()]\n",
    "    \n",
    "    return train_features13[(train_features13[weekday] == 1) & (train_features13[hour] == 1)]"
   ]
  },
  {
   "cell_type": "code",
   "execution_count": 1358,
   "metadata": {
    "collapsed": false
   },
   "outputs": [],
   "source": [
    "label_start, label_end = [], []\n",
    "for i in output.iterrows():\n",
    "    for n,p in enumerate(zip(i[1][35:261].index,i[1][35:261])):\n",
    "        if p[1] == 1:\n",
    "            label_start.append(p[0])\n",
    "    for n,p in enumerate(zip(i[1][261:].index,i[1][261:])):\n",
    "        if p[1] == 1:\n",
    "            label_end.append(p[0])\n",
    "label_start = pd.Series(label_start)\n",
    "label_end = pd.Series(label_end)"
   ]
  },
  {
   "cell_type": "code",
   "execution_count": 1483,
   "metadata": {
    "collapsed": false
   },
   "outputs": [],
   "source": [
    "def cluster_measure(output):\n",
    "    df = train_raw.ix[output.index]\n",
    "    some_mb = cluster.MiniBatchKMeans(n_clusters=[5 if df.shape[0] < 10 else 10][0])\n",
    "    some_mb.fit(zip(df['lat of departure'],df['lon of departure']))\n",
    "\n",
    "    df = pd.DataFrame([some_mb.labels_,df['trip fare']], index=['label','fare']).T\n",
    "    counts = dict(zip(set(some_mb.labels_), np.zeros(len(set(some_mb.labels_)))))\n",
    "\n",
    "    for i in counts:\n",
    "        counts[i] = df[df['label'] == i]['fare'].mean() * df[df['label'] == i]['fare'].count()\n",
    "\n",
    "    counts_normalized = normalizer.fit_transform(counts.values())\n",
    "    counts = dict(zip(counts, counts_normalized))\n",
    "    return some_mb, counts\n",
    "   "
   ]
  },
  {
   "cell_type": "code",
   "execution_count": 1486,
   "metadata": {
    "collapsed": false
   },
   "outputs": [],
   "source": [
    "output = get_similar('09/08/2015 20:00:00')\n",
    "some_mb, counts = cluster_measure(output)"
   ]
  },
  {
   "cell_type": "code",
   "execution_count": 1487,
   "metadata": {
    "collapsed": false
   },
   "outputs": [
    {
     "data": {
      "text/html": [
       "<iframe srcdoc=\"<!DOCTYPE html>\n",
       "<head>\n",
       "   <meta http-equiv=&quot;content-type&quot; content=&quot;text/html; charset=UTF-8&quot; />\n",
       "   <link rel=&quot;stylesheet&quot; href=&quot;https://cdnjs.cloudflare.com/ajax/libs/leaflet/0.7.3/leaflet.css&quot; />\n",
       "   <script src=&quot;https://cdnjs.cloudflare.com/ajax/libs/leaflet/0.7.3/leaflet.js&quot;></script>\n",
       "   <script src=&quot;https://cdnjs.cloudflare.com/ajax/libs/d3/3.5.5/d3.min.js&quot; charset=&quot;utf-8&quot;></script>\n",
       "   <script src=&quot;https://cdnjs.cloudflare.com/ajax/libs/queue-async/1.0.7/queue.min.js&quot;></script>\n",
       "\n",
       "   \n",
       "   \n",
       "   \n",
       "   \n",
       "\n",
       "   <style>\n",
       "\n",
       "      html, body {\n",
       "        width: 100%;\n",
       "        height: 100%;\n",
       "        margin: 0;\n",
       "        padding: 0;\n",
       "      }\n",
       "\n",
       "      .legend {\n",
       "          padding: 0px 0px;\n",
       "          font: 10px sans-serif;\n",
       "          background: white;\n",
       "          background: rgba(255,255,255,0.8);\n",
       "          box-shadow: 0 0 15px rgba(0,0,0,0.2);\n",
       "          border-radius: 5px;\n",
       "      }\n",
       "\n",
       "      .key path {\n",
       "        display: none;\n",
       "      }\n",
       "\n",
       "   </style>\n",
       "</head>\n",
       "\n",
       "<body>\n",
       "\n",
       "   <div id=&quot;map&quot; style=&quot;width: 750px; height: 550px&quot;></div>\n",
       "\n",
       "   <script>\n",
       "\n",
       "      queue()\n",
       "          .defer(d3.json, 'TAZ.geojson')\n",
       "          .await(makeMap)\n",
       "\n",
       "      function onEachFeature(feature, layer) {\n",
       "          // does this feature have a property named popupContent?\n",
       "          if (feature.properties && feature.properties.popupContent) {\n",
       "              layer.bindPopup(feature.properties.popupContent);\n",
       "              }\n",
       "          };\n",
       "\n",
       "      function makeMap(error, gjson_1) {\n",
       "\n",
       "          \n",
       "\n",
       "          \n",
       "\n",
       "          function matchKey(datapoint, key_variable){\n",
       "              if (typeof key_variable[0][datapoint] === 'undefined') {\n",
       "                  return null;\n",
       "              }\n",
       "              else {\n",
       "                  return parseFloat(key_variable[0][datapoint]);\n",
       "              };\n",
       "          };\n",
       "\n",
       "          \n",
       "\n",
       "          var map = L.map('map').setView([37.759953, -122.44147], 12);\n",
       "\n",
       "          L.tileLayer('https://{s}.tile.openstreetmap.org/{z}/{x}/{y}.png', {\n",
       "              maxZoom: 18,\n",
       "              minZoom: 1,\n",
       "              attribution: 'Map data (c) <a href=&quot;http://openstreetmap.org&quot;>OpenStreetMap</a> contributors'\n",
       "          }).addTo(map);\n",
       "\n",
       "          \n",
       "          function style_1(feature) {\n",
       "    return {\n",
       "        fillColor: 'blue',\n",
       "        weight: 1,\n",
       "        opacity: 0.3,\n",
       "        color: 'black',\n",
       "        fillOpacity: 0.2\n",
       "    };\n",
       "}\n",
       "          \n",
       "\n",
       "          \n",
       "          gJson_layer_1 = L.geoJson(gjson_1, {style: style_1,onEachFeature: onEachFeature}).addTo(map)\n",
       "          \n",
       "\n",
       "          \n",
       "\n",
       "          \n",
       "          var circle_1 = L.circle([37.7924884444, -122.41629709], 780.0, {\n",
       "                            color: 'None',\n",
       "                            fillColor: 'black',\n",
       "                            fillOpacity: 0.7\n",
       "                            });\n",
       "          \n",
       "          map.addLayer(circle_1)\n",
       "          \n",
       "          var circle_2 = L.circle([37.7667912521, -122.440512143], 252.262869278, {\n",
       "                            color: 'None',\n",
       "                            fillColor: 'black',\n",
       "                            fillOpacity: 0.7\n",
       "                            });\n",
       "          \n",
       "          map.addLayer(circle_2)\n",
       "          \n",
       "          var circle_3 = L.circle([37.7888418534, -122.395964365], 546.768971185, {\n",
       "                            color: 'None',\n",
       "                            fillColor: 'black',\n",
       "                            fillOpacity: 0.7\n",
       "                            });\n",
       "          \n",
       "          map.addLayer(circle_3)\n",
       "          \n",
       "          var circle_4 = L.circle([37.786775625, -122.444859368], 382.082939388, {\n",
       "                            color: 'None',\n",
       "                            fillColor: 'black',\n",
       "                            fillOpacity: 0.7\n",
       "                            });\n",
       "          \n",
       "          map.addLayer(circle_4)\n",
       "          \n",
       "          var circle_5 = L.circle([37.7526199537, -122.426370556], 412.236105252, {\n",
       "                            color: 'None',\n",
       "                            fillColor: 'black',\n",
       "                            fillOpacity: 0.7\n",
       "                            });\n",
       "          \n",
       "          map.addLayer(circle_5)\n",
       "          \n",
       "          var circle_6 = L.circle([37.745148, -122.503772], 182.574582903, {\n",
       "                            color: 'None',\n",
       "                            fillColor: 'black',\n",
       "                            fillOpacity: 0.7\n",
       "                            });\n",
       "          \n",
       "          map.addLayer(circle_6)\n",
       "          \n",
       "          var circle_7 = L.circle([37.7607195571, -122.473546314], 377.474872362, {\n",
       "                            color: 'None',\n",
       "                            fillColor: 'black',\n",
       "                            fillOpacity: 0.7\n",
       "                            });\n",
       "          \n",
       "          map.addLayer(circle_7)\n",
       "          \n",
       "          var circle_8 = L.circle([37.7491566563, -122.393138656], 180.0, {\n",
       "                            color: 'None',\n",
       "                            fillColor: 'black',\n",
       "                            fillOpacity: 0.7\n",
       "                            });\n",
       "          \n",
       "          map.addLayer(circle_8)\n",
       "          \n",
       "          var circle_9 = L.circle([37.7834982063, -122.410532199], 543.801655297, {\n",
       "                            color: 'None',\n",
       "                            fillColor: 'black',\n",
       "                            fillOpacity: 0.7\n",
       "                            });\n",
       "          \n",
       "          map.addLayer(circle_9)\n",
       "          \n",
       "          var circle_10 = L.circle([37.796807893, -122.434090765], 447.843895911, {\n",
       "                            color: 'None',\n",
       "                            fillColor: 'black',\n",
       "                            fillOpacity: 0.7\n",
       "                            });\n",
       "          \n",
       "          map.addLayer(circle_10)\n",
       "          \n",
       "\n",
       "          \n",
       "\n",
       "          \n",
       "\n",
       "          \n",
       "\n",
       "          \n",
       "\n",
       "          \n",
       "\n",
       "      };\n",
       "\n",
       "   </script>\n",
       "</body>\" style=\"width: 750px; height: 550px; border: none\"></iframe>"
      ],
      "text/plain": [
       "<IPython.core.display.HTML at 0x1dacb1550>"
      ]
     },
     "execution_count": 1487,
     "metadata": {},
     "output_type": "execute_result"
    }
   ],
   "source": [
    " # testing base map\n",
    "width, height = 750, 550\n",
    "taxi_loc = folium.Map(location=[37.759953, -122.44147], zoom_start=12,\n",
    "                    tiles='OpenStreetMap', width=width, height=height)\n",
    "\n",
    "for c,s in zip(some_mb.cluster_centers_, counts):\n",
    "    taxi_loc.circle_marker(location=(c[0],c[1]), radius=(600 * (counts[s] + 0.3)), line_color=None, fill_color='black', fill_opacity=0.7)\n",
    "\n",
    "taxi_loc.geo_json(geo_path='TAZ.geojson', fill_opacity=0.2, line_opacity=0.3)\n",
    "\n",
    "inline_map(taxi_loc, width, height)"
   ]
  },
  {
   "cell_type": "code",
   "execution_count": null,
   "metadata": {
    "collapsed": false
   },
   "outputs": [],
   "source": []
  }
 ],
 "metadata": {
  "kernelspec": {
   "display_name": "Python 3",
   "language": "python",
   "name": "python3"
  },
  "language_info": {
   "codemirror_mode": {
    "name": "ipython",
    "version": 3
   },
   "file_extension": ".py",
   "mimetype": "text/x-python",
   "name": "python",
   "nbconvert_exporter": "python",
   "pygments_lexer": "ipython3",
   "version": "3.4.3"
  }
 },
 "nbformat": 4,
 "nbformat_minor": 0
}
