{
 "cells": [
  {
   "cell_type": "code",
   "execution_count": 1,
   "metadata": {
    "collapsed": true
   },
   "outputs": [],
   "source": [
    "import numpy as np\n",
    "import pandas as pd\n",
    "from sklearn import svm\n",
    "import pickle as pk"
   ]
  },
  {
   "cell_type": "code",
   "execution_count": 2,
   "metadata": {
    "collapsed": false
   },
   "outputs": [],
   "source": [
    "X_np = np.load(\"X_trn.np\")\n",
    "Y_np = np.load(\"Y_trn.np\")"
   ]
  },
  {
   "cell_type": "code",
   "execution_count": 3,
   "metadata": {
    "collapsed": false
   },
   "outputs": [
    {
     "name": "stdout",
     "output_type": "stream",
     "text": [
      "(163, 1600)\n",
      "(163,)\n"
     ]
    }
   ],
   "source": [
    "print(X_np.shape)\n",
    "print(Y_np.shape)"
   ]
  },
  {
   "cell_type": "code",
   "execution_count": 4,
   "metadata": {
    "collapsed": true
   },
   "outputs": [],
   "source": [
    "def cleanclicks(xtrn, ytrn):\n",
    "    x_trn = []\n",
    "    inds_bad = []\n",
    "    for i in xrange(len(xtrn)):\n",
    "        if len(xtrn[i]) < 1600:\n",
    "            inds_bad.append(i)\n",
    "        x_trn.append(list(xtrn[i]))\n",
    "    for i in sorted(inds_bad, reverse=True):\n",
    "        del x_trn[i]\n",
    "    y_trn = np.delete(ytrn, inds_bad, 0)\n",
    "    x_trn = np.array(x_trn)\n",
    "    return x_trn, y_trn\n",
    "\n",
    "X_np, Y_np = cleanclicks(X_np, Y_np)"
   ]
  },
  {
   "cell_type": "code",
   "execution_count": 5,
   "metadata": {
    "collapsed": false
   },
   "outputs": [
    {
     "name": "stdout",
     "output_type": "stream",
     "text": [
      "(163, 1600)\n",
      "(163,)\n"
     ]
    }
   ],
   "source": [
    "print(X_np.shape)\n",
    "print(Y_np.shape)"
   ]
  },
  {
   "cell_type": "code",
   "execution_count": 6,
   "metadata": {
    "collapsed": false
   },
   "outputs": [
    {
     "data": {
      "text/html": [
       "<div>\n",
       "<table border=\"1\" class=\"dataframe\">\n",
       "  <thead>\n",
       "    <tr style=\"text-align: right;\">\n",
       "      <th></th>\n",
       "      <th>0</th>\n",
       "      <th>1</th>\n",
       "      <th>2</th>\n",
       "      <th>3</th>\n",
       "      <th>4</th>\n",
       "      <th>5</th>\n",
       "      <th>6</th>\n",
       "      <th>7</th>\n",
       "      <th>8</th>\n",
       "      <th>9</th>\n",
       "      <th>...</th>\n",
       "      <th>1590</th>\n",
       "      <th>1591</th>\n",
       "      <th>1592</th>\n",
       "      <th>1593</th>\n",
       "      <th>1594</th>\n",
       "      <th>1595</th>\n",
       "      <th>1596</th>\n",
       "      <th>1597</th>\n",
       "      <th>1598</th>\n",
       "      <th>1599</th>\n",
       "    </tr>\n",
       "  </thead>\n",
       "  <tbody>\n",
       "    <tr>\n",
       "      <th>0</th>\n",
       "      <td>0.482353</td>\n",
       "      <td>0.505882</td>\n",
       "      <td>0.498039</td>\n",
       "      <td>1</td>\n",
       "      <td>0.474510</td>\n",
       "      <td>0.498039</td>\n",
       "      <td>0.490196</td>\n",
       "      <td>1</td>\n",
       "      <td>0.411765</td>\n",
       "      <td>0.450980</td>\n",
       "      <td>...</td>\n",
       "      <td>0.125490</td>\n",
       "      <td>1</td>\n",
       "      <td>0.011765</td>\n",
       "      <td>0.043137</td>\n",
       "      <td>0.000000</td>\n",
       "      <td>1</td>\n",
       "      <td>0.133333</td>\n",
       "      <td>0.164706</td>\n",
       "      <td>0.113725</td>\n",
       "      <td>1</td>\n",
       "    </tr>\n",
       "    <tr>\n",
       "      <th>1</th>\n",
       "      <td>0.592157</td>\n",
       "      <td>0.572549</td>\n",
       "      <td>0.498039</td>\n",
       "      <td>1</td>\n",
       "      <td>0.501961</td>\n",
       "      <td>0.482353</td>\n",
       "      <td>0.407843</td>\n",
       "      <td>1</td>\n",
       "      <td>0.192157</td>\n",
       "      <td>0.168627</td>\n",
       "      <td>...</td>\n",
       "      <td>0.023529</td>\n",
       "      <td>1</td>\n",
       "      <td>0.082353</td>\n",
       "      <td>0.003922</td>\n",
       "      <td>0.000000</td>\n",
       "      <td>1</td>\n",
       "      <td>0.082353</td>\n",
       "      <td>0.003922</td>\n",
       "      <td>0.000000</td>\n",
       "      <td>1</td>\n",
       "    </tr>\n",
       "    <tr>\n",
       "      <th>2</th>\n",
       "      <td>0.156863</td>\n",
       "      <td>0.156863</td>\n",
       "      <td>0.156863</td>\n",
       "      <td>1</td>\n",
       "      <td>0.278431</td>\n",
       "      <td>0.286275</td>\n",
       "      <td>0.282353</td>\n",
       "      <td>1</td>\n",
       "      <td>0.207843</td>\n",
       "      <td>0.215686</td>\n",
       "      <td>...</td>\n",
       "      <td>0.392157</td>\n",
       "      <td>1</td>\n",
       "      <td>0.423529</td>\n",
       "      <td>0.439216</td>\n",
       "      <td>0.372549</td>\n",
       "      <td>1</td>\n",
       "      <td>0.403922</td>\n",
       "      <td>0.419608</td>\n",
       "      <td>0.352941</td>\n",
       "      <td>1</td>\n",
       "    </tr>\n",
       "    <tr>\n",
       "      <th>3</th>\n",
       "      <td>0.568627</td>\n",
       "      <td>0.619608</td>\n",
       "      <td>0.549020</td>\n",
       "      <td>1</td>\n",
       "      <td>0.658824</td>\n",
       "      <td>0.690196</td>\n",
       "      <td>0.631373</td>\n",
       "      <td>1</td>\n",
       "      <td>0.682353</td>\n",
       "      <td>0.713726</td>\n",
       "      <td>...</td>\n",
       "      <td>0.878431</td>\n",
       "      <td>1</td>\n",
       "      <td>0.894118</td>\n",
       "      <td>0.909804</td>\n",
       "      <td>0.850980</td>\n",
       "      <td>1</td>\n",
       "      <td>0.313726</td>\n",
       "      <td>0.341176</td>\n",
       "      <td>0.278431</td>\n",
       "      <td>1</td>\n",
       "    </tr>\n",
       "    <tr>\n",
       "      <th>4</th>\n",
       "      <td>0.062745</td>\n",
       "      <td>0.070588</td>\n",
       "      <td>0.058824</td>\n",
       "      <td>1</td>\n",
       "      <td>0.050980</td>\n",
       "      <td>0.050980</td>\n",
       "      <td>0.043137</td>\n",
       "      <td>1</td>\n",
       "      <td>0.047059</td>\n",
       "      <td>0.047059</td>\n",
       "      <td>...</td>\n",
       "      <td>0.294118</td>\n",
       "      <td>1</td>\n",
       "      <td>0.294118</td>\n",
       "      <td>0.301961</td>\n",
       "      <td>0.282353</td>\n",
       "      <td>1</td>\n",
       "      <td>0.270588</td>\n",
       "      <td>0.290196</td>\n",
       "      <td>0.266667</td>\n",
       "      <td>1</td>\n",
       "    </tr>\n",
       "  </tbody>\n",
       "</table>\n",
       "<p>5 rows × 1600 columns</p>\n",
       "</div>"
      ],
      "text/plain": [
       "       0         1         2     3         4         5         6     7     \\\n",
       "0  0.482353  0.505882  0.498039     1  0.474510  0.498039  0.490196     1   \n",
       "1  0.592157  0.572549  0.498039     1  0.501961  0.482353  0.407843     1   \n",
       "2  0.156863  0.156863  0.156863     1  0.278431  0.286275  0.282353     1   \n",
       "3  0.568627  0.619608  0.549020     1  0.658824  0.690196  0.631373     1   \n",
       "4  0.062745  0.070588  0.058824     1  0.050980  0.050980  0.043137     1   \n",
       "\n",
       "       8         9     ...       1590  1591      1592      1593      1594  \\\n",
       "0  0.411765  0.450980  ...   0.125490     1  0.011765  0.043137  0.000000   \n",
       "1  0.192157  0.168627  ...   0.023529     1  0.082353  0.003922  0.000000   \n",
       "2  0.207843  0.215686  ...   0.392157     1  0.423529  0.439216  0.372549   \n",
       "3  0.682353  0.713726  ...   0.878431     1  0.894118  0.909804  0.850980   \n",
       "4  0.047059  0.047059  ...   0.294118     1  0.294118  0.301961  0.282353   \n",
       "\n",
       "   1595      1596      1597      1598  1599  \n",
       "0     1  0.133333  0.164706  0.113725     1  \n",
       "1     1  0.082353  0.003922  0.000000     1  \n",
       "2     1  0.403922  0.419608  0.352941     1  \n",
       "3     1  0.313726  0.341176  0.278431     1  \n",
       "4     1  0.270588  0.290196  0.266667     1  \n",
       "\n",
       "[5 rows x 1600 columns]"
      ]
     },
     "execution_count": 6,
     "metadata": {},
     "output_type": "execute_result"
    }
   ],
   "source": [
    "X_df = pd.DataFrame(X_np)\n",
    "X_df.head()"
   ]
  },
  {
   "cell_type": "code",
   "execution_count": 7,
   "metadata": {
    "collapsed": false
   },
   "outputs": [
    {
     "data": {
      "text/plain": [
       "1.0"
      ]
     },
     "execution_count": 7,
     "metadata": {},
     "output_type": "execute_result"
    }
   ],
   "source": [
    "Y_np[0]"
   ]
  },
  {
   "cell_type": "code",
   "execution_count": 53,
   "metadata": {
    "collapsed": false
   },
   "outputs": [],
   "source": [
    "# probablity, likliehood, confidence interval, gaussian, logistic, multi-class logistic regression, discrete choice\n",
    "# neural network\n",
    "# random forest\n",
    "# decision tree - can only sepereate on each feature of the vector\n",
    "# C big C overfit the data; find best C with cross-validation\n",
    "# if sigma is large, then gamma is small.... if sigma is large then reach lots of points (meaing you are underfitting)\n",
    "# gamma specifically for rbf kernel\n",
    "\n",
    "clf = svm.SVC(kernel = 'rbf', C=1.0, gamma=0.01)\n",
    "clf.fit(X_np, Y_np)\n",
    "\n",
    "with open('classifier_CarloLiquido.pickle','wb') as f:\n",
    "    pk.dump(clf, f)"
   ]
  },
  {
   "cell_type": "code",
   "execution_count": 54,
   "metadata": {
    "collapsed": true
   },
   "outputs": [],
   "source": [
    "# cleaning function on piazza that helps take out features less than 1600... might be broken so take that out; will give\n",
    "# numpy arrawys\n",
    "# "
   ]
  },
  {
   "cell_type": "code",
   "execution_count": 55,
   "metadata": {
    "collapsed": false
   },
   "outputs": [],
   "source": [
    "preview = np.load(\"test_locations_and_labels.np\")"
   ]
  },
  {
   "cell_type": "code",
   "execution_count": 56,
   "metadata": {
    "collapsed": false
   },
   "outputs": [
    {
     "data": {
      "text/html": [
       "<div>\n",
       "<table border=\"1\" class=\"dataframe\">\n",
       "  <thead>\n",
       "    <tr style=\"text-align: right;\">\n",
       "      <th></th>\n",
       "      <th>0</th>\n",
       "      <th>1</th>\n",
       "      <th>2</th>\n",
       "    </tr>\n",
       "  </thead>\n",
       "  <tbody>\n",
       "    <tr>\n",
       "      <th>0</th>\n",
       "      <td>271</td>\n",
       "      <td>493</td>\n",
       "      <td>1</td>\n",
       "    </tr>\n",
       "    <tr>\n",
       "      <th>1</th>\n",
       "      <td>323</td>\n",
       "      <td>481</td>\n",
       "      <td>1</td>\n",
       "    </tr>\n",
       "    <tr>\n",
       "      <th>2</th>\n",
       "      <td>560</td>\n",
       "      <td>475</td>\n",
       "      <td>1</td>\n",
       "    </tr>\n",
       "    <tr>\n",
       "      <th>3</th>\n",
       "      <td>576</td>\n",
       "      <td>524</td>\n",
       "      <td>1</td>\n",
       "    </tr>\n",
       "    <tr>\n",
       "      <th>4</th>\n",
       "      <td>287</td>\n",
       "      <td>553</td>\n",
       "      <td>1</td>\n",
       "    </tr>\n",
       "    <tr>\n",
       "      <th>5</th>\n",
       "      <td>68</td>\n",
       "      <td>483</td>\n",
       "      <td>0</td>\n",
       "    </tr>\n",
       "    <tr>\n",
       "      <th>6</th>\n",
       "      <td>168</td>\n",
       "      <td>479</td>\n",
       "      <td>0</td>\n",
       "    </tr>\n",
       "    <tr>\n",
       "      <th>7</th>\n",
       "      <td>374</td>\n",
       "      <td>502</td>\n",
       "      <td>0</td>\n",
       "    </tr>\n",
       "    <tr>\n",
       "      <th>8</th>\n",
       "      <td>332</td>\n",
       "      <td>559</td>\n",
       "      <td>0</td>\n",
       "    </tr>\n",
       "    <tr>\n",
       "      <th>9</th>\n",
       "      <td>637</td>\n",
       "      <td>541</td>\n",
       "      <td>0</td>\n",
       "    </tr>\n",
       "  </tbody>\n",
       "</table>\n",
       "</div>"
      ],
      "text/plain": [
       "     0    1  2\n",
       "0  271  493  1\n",
       "1  323  481  1\n",
       "2  560  475  1\n",
       "3  576  524  1\n",
       "4  287  553  1\n",
       "5   68  483  0\n",
       "6  168  479  0\n",
       "7  374  502  0\n",
       "8  332  559  0\n",
       "9  637  541  0"
      ]
     },
     "execution_count": 56,
     "metadata": {},
     "output_type": "execute_result"
    }
   ],
   "source": [
    "pd.DataFrame(preview)"
   ]
  },
  {
   "cell_type": "markdown",
   "metadata": {},
   "source": [
    "** experiment using crossvalidation **"
   ]
  },
  {
   "cell_type": "code",
   "execution_count": 18,
   "metadata": {
    "collapsed": false
   },
   "outputs": [],
   "source": [
    "from sklearn import cross_validation \n",
    "X_train, X_test, y_train, y_test = cross_validation.train_test_split(\n",
    "    X_np, Y_np, test_size=0.4, random_state=0)"
   ]
  },
  {
   "cell_type": "code",
   "execution_count": 19,
   "metadata": {
    "collapsed": false
   },
   "outputs": [
    {
     "name": "stdout",
     "output_type": "stream",
     "text": [
      "((97, 1600), (97,))\n",
      "((66, 1600), (66,))\n"
     ]
    }
   ],
   "source": [
    "print(X_train.shape, y_train.shape)\n",
    "\n",
    "print(X_test.shape, y_test.shape)  "
   ]
  },
  {
   "cell_type": "code",
   "execution_count": 23,
   "metadata": {
    "collapsed": false
   },
   "outputs": [
    {
     "data": {
      "text/plain": [
       "1.0"
      ]
     },
     "execution_count": 23,
     "metadata": {},
     "output_type": "execute_result"
    }
   ],
   "source": [
    "clf_experiment = svm.SVC(kernel = 'rbf', C=10.0).fit(X_train, y_train)\n",
    "\n",
    "clf.score(X_test, y_test) "
   ]
  },
  {
   "cell_type": "markdown",
   "metadata": {},
   "source": [
    "** experiment2 using crossvalidation with k-folds **"
   ]
  },
  {
   "cell_type": "code",
   "execution_count": 28,
   "metadata": {
    "collapsed": false
   },
   "outputs": [
    {
     "data": {
      "text/plain": [
       "array([ 0.84848485,  0.78787879,  0.78787879,  0.875     ,  0.90625   ])"
      ]
     },
     "execution_count": 28,
     "metadata": {},
     "output_type": "execute_result"
    }
   ],
   "source": [
    "clf_expirement2 = svm.SVC(kernel = 'rbf', C=90.0)\n",
    "scores = cross_validation.cross_val_score(\n",
    "    clf_expirement2, X_np, Y_np, cv=5)\n",
    "scores"
   ]
  },
  {
   "cell_type": "code",
   "execution_count": 29,
   "metadata": {
    "collapsed": false
   },
   "outputs": [
    {
     "name": "stdout",
     "output_type": "stream",
     "text": [
      "Accuracy: 0.84 (+/- 0.09)\n"
     ]
    }
   ],
   "source": [
    "print(\"Accuracy: %0.2f (+/- %0.2f)\" % (scores.mean(), scores.std() * 2))"
   ]
  },
  {
   "cell_type": "markdown",
   "metadata": {},
   "source": [
    "** crossvalidation3 with gridsearch **"
   ]
  },
  {
   "cell_type": "code",
   "execution_count": 49,
   "metadata": {
    "collapsed": true
   },
   "outputs": [],
   "source": [
    "tuned_parameters = [{'kernel': ['rbf'],\n",
    "                     'gamma': [1e-1, 1e-2, 1e-3, 1e-4], 'C': [1, 10, 50, 100, 500, 1000]}\n",
    "                   ]"
   ]
  },
  {
   "cell_type": "code",
   "execution_count": 50,
   "metadata": {
    "collapsed": false
   },
   "outputs": [
    {
     "data": {
      "text/plain": [
       "[{'C': [1, 10, 50, 100, 500, 1000],\n",
       "  'gamma': [0.1, 0.01, 0.001, 0.0001],\n",
       "  'kernel': ['rbf']}]"
      ]
     },
     "execution_count": 50,
     "metadata": {},
     "output_type": "execute_result"
    }
   ],
   "source": [
    "tuned_parameters"
   ]
  },
  {
   "cell_type": "code",
   "execution_count": 51,
   "metadata": {
    "collapsed": true
   },
   "outputs": [],
   "source": [
    "scores3 = ['precision', 'recall']"
   ]
  },
  {
   "cell_type": "code",
   "execution_count": 52,
   "metadata": {
    "collapsed": false
   },
   "outputs": [
    {
     "name": "stdout",
     "output_type": "stream",
     "text": [
      "# Tuning hyper-parameters for precision\n",
      "()\n",
      "Best parameters set found on development set:\n",
      "()\n",
      "{'kernel': 'rbf', 'C': 1, 'gamma': 0.01}\n",
      "()\n",
      "Grid scores on development set:\n",
      "()\n",
      "0.905 (+/-0.073) for {'kernel': 'rbf', 'C': 1, 'gamma': 0.1}\n",
      "0.922 (+/-0.121) for {'kernel': 'rbf', 'C': 1, 'gamma': 0.01}\n",
      "0.449 (+/-0.045) for {'kernel': 'rbf', 'C': 1, 'gamma': 0.001}\n",
      "0.449 (+/-0.045) for {'kernel': 'rbf', 'C': 1, 'gamma': 0.0001}\n",
      "0.905 (+/-0.073) for {'kernel': 'rbf', 'C': 10, 'gamma': 0.1}\n",
      "0.916 (+/-0.117) for {'kernel': 'rbf', 'C': 10, 'gamma': 0.01}\n",
      "0.838 (+/-0.145) for {'kernel': 'rbf', 'C': 10, 'gamma': 0.001}\n",
      "0.449 (+/-0.045) for {'kernel': 'rbf', 'C': 10, 'gamma': 0.0001}\n",
      "0.905 (+/-0.073) for {'kernel': 'rbf', 'C': 50, 'gamma': 0.1}\n",
      "0.916 (+/-0.117) for {'kernel': 'rbf', 'C': 50, 'gamma': 0.01}\n",
      "0.897 (+/-0.075) for {'kernel': 'rbf', 'C': 50, 'gamma': 0.001}\n",
      "0.761 (+/-0.159) for {'kernel': 'rbf', 'C': 50, 'gamma': 0.0001}\n",
      "0.905 (+/-0.073) for {'kernel': 'rbf', 'C': 100, 'gamma': 0.1}\n",
      "0.916 (+/-0.117) for {'kernel': 'rbf', 'C': 100, 'gamma': 0.01}\n",
      "0.890 (+/-0.057) for {'kernel': 'rbf', 'C': 100, 'gamma': 0.001}\n",
      "0.829 (+/-0.201) for {'kernel': 'rbf', 'C': 100, 'gamma': 0.0001}\n",
      "0.905 (+/-0.073) for {'kernel': 'rbf', 'C': 500, 'gamma': 0.1}\n",
      "0.916 (+/-0.117) for {'kernel': 'rbf', 'C': 500, 'gamma': 0.01}\n",
      "0.881 (+/-0.096) for {'kernel': 'rbf', 'C': 500, 'gamma': 0.001}\n",
      "0.815 (+/-0.063) for {'kernel': 'rbf', 'C': 500, 'gamma': 0.0001}\n",
      "0.905 (+/-0.073) for {'kernel': 'rbf', 'C': 1000, 'gamma': 0.1}\n",
      "0.916 (+/-0.117) for {'kernel': 'rbf', 'C': 1000, 'gamma': 0.01}\n",
      "0.881 (+/-0.096) for {'kernel': 'rbf', 'C': 1000, 'gamma': 0.001}\n",
      "0.833 (+/-0.047) for {'kernel': 'rbf', 'C': 1000, 'gamma': 0.0001}\n",
      "()\n",
      "Detailed classification report:\n",
      "()\n",
      "The model is trained on the full development set.\n",
      "The scores are computed on the full evaluation set.\n",
      "()\n",
      "             precision    recall  f1-score   support\n",
      "\n",
      "        0.0       0.95      0.90      0.93        21\n",
      "        1.0       0.96      0.98      0.97        45\n",
      "\n",
      "avg / total       0.95      0.95      0.95        66\n",
      "\n",
      "()\n",
      "# Tuning hyper-parameters for recall\n",
      "()\n",
      "Best parameters set found on development set:\n",
      "()\n",
      "{'kernel': 'rbf', 'C': 1, 'gamma': 0.01}\n",
      "()\n",
      "Grid scores on development set:\n",
      "()\n",
      "0.897 (+/-0.067) for {'kernel': 'rbf', 'C': 1, 'gamma': 0.1}\n",
      "0.918 (+/-0.123) for {'kernel': 'rbf', 'C': 1, 'gamma': 0.01}\n",
      "0.670 (+/-0.034) for {'kernel': 'rbf', 'C': 1, 'gamma': 0.001}\n",
      "0.670 (+/-0.034) for {'kernel': 'rbf', 'C': 1, 'gamma': 0.0001}\n",
      "0.897 (+/-0.067) for {'kernel': 'rbf', 'C': 10, 'gamma': 0.1}\n",
      "0.907 (+/-0.120) for {'kernel': 'rbf', 'C': 10, 'gamma': 0.01}\n",
      "0.825 (+/-0.158) for {'kernel': 'rbf', 'C': 10, 'gamma': 0.001}\n",
      "0.670 (+/-0.034) for {'kernel': 'rbf', 'C': 10, 'gamma': 0.0001}\n",
      "0.897 (+/-0.067) for {'kernel': 'rbf', 'C': 50, 'gamma': 0.1}\n",
      "0.907 (+/-0.120) for {'kernel': 'rbf', 'C': 50, 'gamma': 0.01}\n",
      "0.856 (+/-0.139) for {'kernel': 'rbf', 'C': 50, 'gamma': 0.001}\n",
      "0.742 (+/-0.169) for {'kernel': 'rbf', 'C': 50, 'gamma': 0.0001}\n",
      "0.897 (+/-0.067) for {'kernel': 'rbf', 'C': 100, 'gamma': 0.1}\n",
      "0.907 (+/-0.120) for {'kernel': 'rbf', 'C': 100, 'gamma': 0.01}\n",
      "0.845 (+/-0.116) for {'kernel': 'rbf', 'C': 100, 'gamma': 0.001}\n",
      "0.814 (+/-0.209) for {'kernel': 'rbf', 'C': 100, 'gamma': 0.0001}\n",
      "0.897 (+/-0.067) for {'kernel': 'rbf', 'C': 500, 'gamma': 0.1}\n",
      "0.907 (+/-0.120) for {'kernel': 'rbf', 'C': 500, 'gamma': 0.01}\n",
      "0.825 (+/-0.165) for {'kernel': 'rbf', 'C': 500, 'gamma': 0.001}\n",
      "0.753 (+/-0.120) for {'kernel': 'rbf', 'C': 500, 'gamma': 0.0001}\n",
      "0.897 (+/-0.067) for {'kernel': 'rbf', 'C': 1000, 'gamma': 0.1}\n",
      "0.907 (+/-0.120) for {'kernel': 'rbf', 'C': 1000, 'gamma': 0.01}\n",
      "0.825 (+/-0.165) for {'kernel': 'rbf', 'C': 1000, 'gamma': 0.001}\n",
      "0.763 (+/-0.102) for {'kernel': 'rbf', 'C': 1000, 'gamma': 0.0001}\n",
      "()\n",
      "Detailed classification report:\n",
      "()\n",
      "The model is trained on the full development set.\n",
      "The scores are computed on the full evaluation set.\n",
      "()\n",
      "             precision    recall  f1-score   support\n",
      "\n",
      "        0.0       0.95      0.90      0.93        21\n",
      "        1.0       0.96      0.98      0.97        45\n",
      "\n",
      "avg / total       0.95      0.95      0.95        66\n",
      "\n",
      "()\n"
     ]
    }
   ],
   "source": [
    "from sklearn.grid_search import GridSearchCV\n",
    "from sklearn.metrics import classification_report\n",
    "\n",
    "for score in scores3:\n",
    "    print(\"# Tuning hyper-parameters for %s\" % score)\n",
    "    print()\n",
    "\n",
    "    clf = GridSearchCV(svm.SVC(C=1), tuned_parameters, cv=5,\n",
    "                       scoring='%s_weighted' % score)\n",
    "    clf.fit(X_train, y_train)\n",
    "\n",
    "    print(\"Best parameters set found on development set:\")\n",
    "    print()\n",
    "    print(clf.best_params_)\n",
    "    print()\n",
    "    print(\"Grid scores on development set:\")\n",
    "    print()\n",
    "    for params, mean_score, scores in clf.grid_scores_:\n",
    "        print(\"%0.3f (+/-%0.03f) for %r\"\n",
    "              % (mean_score, scores.std() * 2, params))\n",
    "    print()\n",
    "\n",
    "    print(\"Detailed classification report:\")\n",
    "    print()\n",
    "    print(\"The model is trained on the full development set.\")\n",
    "    print(\"The scores are computed on the full evaluation set.\")\n",
    "    print()\n",
    "    y_true, y_pred = y_test, clf.predict(X_test)\n",
    "    print(classification_report(y_true, y_pred))\n",
    "    print()"
   ]
  },
  {
   "cell_type": "code",
   "execution_count": null,
   "metadata": {
    "collapsed": true
   },
   "outputs": [],
   "source": []
  },
  {
   "cell_type": "code",
   "execution_count": null,
   "metadata": {
    "collapsed": true
   },
   "outputs": [],
   "source": []
  }
 ],
 "metadata": {
  "kernelspec": {
   "display_name": "Python 2",
   "language": "python",
   "name": "python2"
  },
  "language_info": {
   "codemirror_mode": {
    "name": "ipython",
    "version": 2
   },
   "file_extension": ".py",
   "mimetype": "text/x-python",
   "name": "python",
   "nbconvert_exporter": "python",
   "pygments_lexer": "ipython2",
   "version": "2.7.10"
  }
 },
 "nbformat": 4,
 "nbformat_minor": 0
}
