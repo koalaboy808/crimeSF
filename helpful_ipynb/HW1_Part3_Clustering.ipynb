{
 "cells": [
  {
   "cell_type": "markdown",
   "metadata": {},
   "source": [
    "## Part 3. Clustering: \n",
    "1 million samples problem (40 points). This part deals with the full dataset\n",
    "of 1 million tweets. Your task is to design a system that can handle spatial clustering of 1M\n",
    "samples.\n",
    "Considering the memory limitations and scaling properties of the algorithms studied in Part 2,\n",
    "design the clustering system that can be applied to the full dataset. Consider using a hierarchical\n",
    "approach with two (or more) processing stages, where DBScan is applied to each cluster\n",
    "obtained from a run of mini-batch k-means. By varying the parameters of the algorithms,\n",
    "optimize the processing time required to detect clusters of tweets that correspond to important\n",
    "locations in California. We will consider a location “important” if it is characterized with a\n",
    "cluster’s core of at least 100 samples within a radius of 100 meters. Describe your approach to the design of the system in a write-up document and provide the total\n",
    "number of clusters detected. Submit your code as a stand-alone script."
   ]
  },
  {
   "cell_type": "code",
   "execution_count": 1,
   "metadata": {
    "collapsed": true
   },
   "outputs": [],
   "source": [
    "## import all necessary packages\n",
    "import time\n",
    "import json\n",
    "\n",
    "import numpy as np\n",
    "import matplotlib.pyplot as plt\n",
    "\n",
    "from pandas import *\n",
    "\n",
    "from sklearn.cluster import MiniBatchKMeans, KMeans\n",
    "from sklearn.metrics.pairwise import pairwise_distances_argmin\n",
    "from sklearn.datasets.samples_generator import make_blobs\n",
    "from sklearn.cluster import DBSCAN\n",
    "from sklearn import metrics\n",
    "from sklearn.datasets.samples_generator import make_blobs\n",
    "from sklearn.preprocessing import StandardScaler\n",
    "\n",
    "%matplotlib inline\n",
    "import matplotlib.pyplot as plt"
   ]
  },
  {
   "cell_type": "code",
   "execution_count": 2,
   "metadata": {
    "collapsed": false
   },
   "outputs": [
    {
     "ename": "FileNotFoundError",
     "evalue": "[Errno 2] No such file or directory: 'tweets_1M.json'",
     "output_type": "error",
     "traceback": [
      "\u001b[0;31m---------------------------------------------------------------------------\u001b[0m",
      "\u001b[0;31mFileNotFoundError\u001b[0m                         Traceback (most recent call last)",
      "\u001b[0;32m<ipython-input-2-3585970c637e>\u001b[0m in \u001b[0;36m<module>\u001b[0;34m()\u001b[0m\n\u001b[0;32m----> 1\u001b[0;31m \u001b[0;32mwith\u001b[0m \u001b[0mopen\u001b[0m\u001b[0;34m(\u001b[0m\u001b[0;34m'tweets_1M.json'\u001b[0m\u001b[0;34m,\u001b[0m\u001b[0;34m'r'\u001b[0m\u001b[0;34m)\u001b[0m \u001b[0;32mas\u001b[0m \u001b[0mf\u001b[0m\u001b[0;34m:\u001b[0m\u001b[0;34m\u001b[0m\u001b[0m\n\u001b[0m\u001b[1;32m      2\u001b[0m     \u001b[0mtweets\u001b[0m \u001b[0;34m=\u001b[0m \u001b[0mjson\u001b[0m\u001b[0;34m.\u001b[0m\u001b[0mload\u001b[0m\u001b[0;34m(\u001b[0m\u001b[0mf\u001b[0m\u001b[0;34m)\u001b[0m\u001b[0;34m\u001b[0m\u001b[0m\n",
      "\u001b[0;31mFileNotFoundError\u001b[0m: [Errno 2] No such file or directory: 'tweets_1M.json'"
     ]
    }
   ],
   "source": [
    "with open('tweets_1M.json','r') as f:\n",
    "    tweets = json.load(f)"
   ]
  },
  {
   "cell_type": "code",
   "execution_count": null,
   "metadata": {
    "collapsed": false
   },
   "outputs": [],
   "source": [
    "# #subset_tweets[:5]\n",
    "# tweet_df = DataFrame(subset_tweets)\n",
    "# tweet_df.head()"
   ]
  },
  {
   "cell_type": "code",
   "execution_count": null,
   "metadata": {
    "collapsed": false
   },
   "outputs": [],
   "source": [
    "# convert json into list of lat and long\n",
    "coordinate_tweets = [value for item in tweets for key,value in item.items() if key in ['lat','lng']]\n",
    "\n",
    "pair_coordinates = []\n",
    "for i,k in zip(coordinate_tweets[0::2], coordinate_tweets[1::2]):\n",
    "    pair_coordinates.append([i,k])\n",
    "\n",
    "# convert pair to meters\n",
    "pair_coordinates = [[item[0]*89.7, item[1]*112.7] for item in pair_coordinates]\n",
    "\n",
    "print(len(pair_coordinates))\n",
    "print(pair_coordinates[:5])"
   ]
  },
  {
   "cell_type": "code",
   "execution_count": null,
   "metadata": {
    "collapsed": false
   },
   "outputs": [],
   "source": [
    "fig_size = plt.rcParams[\"figure.figsize\"]\n",
    " \n",
    "# Prints: [8.0, 6.0]\n",
    "print(\"Current size:\", fig_size)\n",
    " \n",
    "# Set figure width to 12 and height to 9\n",
    "fig_size[0] = 12\n",
    "fig_size[1] = 9\n",
    "plt.rcParams[\"figure.figsize\"] = fig_size"
   ]
  },
  {
   "cell_type": "code",
   "execution_count": null,
   "metadata": {
    "collapsed": false
   },
   "outputs": [],
   "source": [
    "# create scater plot\n",
    "# outliers?\n",
    "lat = [x[0] for x in pair_coordinates]\n",
    "long = [x[1] for x in pair_coordinates]\n",
    "# set axes range\n",
    "plt.xlim(2800, 3800)\n",
    "plt.ylim(-14500, -12500)\n",
    "plt.scatter(lat, long, marker=u'.')\n"
   ]
  },
  {
   "cell_type": "markdown",
   "metadata": {},
   "source": [
    "### Start with mini-batch clustering"
   ]
  },
  {
   "cell_type": "code",
   "execution_count": null,
   "metadata": {
    "collapsed": true
   },
   "outputs": [],
   "source": [
    "# create mini batch function that takes clustersize and batchsize as parameters\n",
    "def mbk_time(cluster_size, batch_size):\n",
    "    mbk = MiniBatchKMeans(init='k-means++', n_clusters=cluster_size, batch_size=batch_size,\n",
    "                      n_init=10, max_no_improvement=10, verbose=0)\n",
    "    t0 = time.time()\n",
    "    mbk.fit(pair_coordinates)\n",
    "    t_mini_batch = time.time() - t0\n",
    "    return t_mini_batch"
   ]
  },
  {
   "cell_type": "code",
   "execution_count": 7,
   "metadata": {
    "collapsed": false
   },
   "outputs": [],
   "source": [
    "mbk_means_batch = []\n",
    "x = 100\n",
    "while x < 10000:\n",
    "    mbk_means_batch.append((x,round(mbk_time(cluster_size=3, batch_size=x),2)))\n",
    "    x += 200"
   ]
  },
  {
   "cell_type": "code",
   "execution_count": 8,
   "metadata": {
    "collapsed": false
   },
   "outputs": [
    {
     "data": {
      "text/plain": [
       "<matplotlib.axes._subplots.AxesSubplot at 0x104aa3b00>"
      ]
     },
     "execution_count": 8,
     "metadata": {},
     "output_type": "execute_result"
    },
    {
     "data": {
      "image/png": "[encoded data removed]",
      "text/plain": [
       "<matplotlib.figure.Figure at 0x1a0abeda0>"
      ]
     },
     "metadata": {},
     "output_type": "display_data"
    }
   ],
   "source": [
    "# plot optimal max batch size\n",
    "mbk_batch_df = DataFrame(mbk_means_batch)\n",
    "mbk_batch_df.columns = ['batch_size', 'mbk_time_batch']\n",
    "mbk_batch_df.plot(x = 'batch_size',y = 'mbk_time_batch')"
   ]
  },
  {
   "cell_type": "code",
   "execution_count": 9,
   "metadata": {
    "collapsed": false
   },
   "outputs": [
    {
     "name": "stdout",
     "output_type": "stream",
     "text": [
      "[3900]\n"
     ]
    }
   ],
   "source": [
    "# minimum batch around 3000\n",
    "min_batch = mbk_batch_df['batch_size'][mbk_batch_df['mbk_time_batch']==mbk_batch_df['mbk_time_batch'].min()].values\n",
    "print(min_batch)"
   ]
  },
  {
   "cell_type": "code",
   "execution_count": 10,
   "metadata": {
    "collapsed": false
   },
   "outputs": [
    {
     "data": {
      "text/plain": [
       "5.6992621421813965"
      ]
     },
     "execution_count": 10,
     "metadata": {},
     "output_type": "execute_result"
    }
   ],
   "source": [
    "# # Find optimal cluster size using 3000 as the batchsize\n",
    "\n",
    "mbk_time(200, 3000)"
   ]
  },
  {
   "cell_type": "markdown",
   "metadata": {},
   "source": [
    "# **mbk_time(200, 3000) meaning 200 clusters at batchsize of 3000**"
   ]
  },
  {
   "cell_type": "code",
   "execution_count": 11,
   "metadata": {
    "collapsed": false
   },
   "outputs": [],
   "source": [
    "# create mini batch function that takes clustersize and batchsize as parameters\n",
    "def optimal_mbk_time(cluster_size, batch_size):\n",
    "    mbk = MiniBatchKMeans(init='k-means++', n_clusters=cluster_size, batch_size=batch_size,\n",
    "                      n_init=10, max_no_improvement=10, verbose=0)\n",
    "    t0 = time.time()\n",
    "    mbk.fit(pair_coordinates)\n",
    "    t_mini_batch = time.time() - t0\n",
    "    mbk_means_labels = mbk.labels_\n",
    "    mbk_means_cluster_centers = mbk.cluster_centers_\n",
    "    mbk_means_labels_unique = np.unique(mbk_means_labels)\n",
    "    return t_mini_batch, mbk_means_labels, mbk_means_cluster_centers, mbk_means_labels_unique\n"
   ]
  },
  {
   "cell_type": "code",
   "execution_count": 12,
   "metadata": {
    "collapsed": false
   },
   "outputs": [
    {
     "name": "stdout",
     "output_type": "stream",
     "text": [
      "optimal time: 5.449453830718994\n",
      "optimal labels: [126 160  48 ...,  74 178  65]\n",
      "optimal centers: [[  3341.12519325 -13727.16797202]\n",
      " [  3032.82307865 -13297.49592209]\n",
      " [  3398.0131527  -13758.82294575]\n",
      " [  3348.26769714 -13584.23350284]\n",
      " [  3562.78219311 -13751.11506607]\n",
      " [  2976.84185887 -13210.13948947]\n",
      " [  3389.54474755 -13793.56600083]\n",
      " [  3064.7765502  -13416.52376427]\n",
      " [  3458.21749685 -13722.1826827 ]\n",
      " [  2952.29591425 -13025.1633477 ]\n",
      " [  3059.687049   -13242.02706045]\n",
      " [  3443.98391592 -13685.42377559]\n",
      " [  3290.38358406 -13704.3291792 ]\n",
      " [  3166.51086664 -13599.96769685]\n",
      " [  3726.59446541 -13807.30621507]\n",
      " [  3369.25707835 -13751.98360597]\n",
      " [  3455.55603173 -13843.71458868]\n",
      " [  3092.16685593 -13369.20834145]\n",
      " [  3002.6630592  -13195.54929245]\n",
      " [  3403.11696738 -13803.72246963]\n",
      " [  3073.34145274 -13082.24342522]\n",
      " [  3403.82881734 -13714.070802  ]\n",
      " [  3359.27001657 -13653.00182002]\n",
      " [  3623.04313245 -13778.97838555]\n",
      " [  3523.61384716 -13711.35644365]\n",
      " [  3342.13520623 -13738.89306383]\n",
      " [  3254.39955525 -13556.22019929]\n",
      " [  3373.41411999 -13792.53648731]\n",
      " [  3383.07591336 -13613.58387521]\n",
      " [  3471.95335975 -13675.73106584]\n",
      " [  3423.84701357 -13774.04722729]\n",
      " [  3245.08173886 -13651.81675275]\n",
      " [  3386.29768809 -13773.11596523]\n",
      " [  3380.06211409 -13736.37899573]\n",
      " [  3366.10238299 -13779.35655612]\n",
      " [  3036.06020555 -13334.40455313]\n",
      " [  3476.24151758 -13623.71632572]\n",
      " [  3514.55468166 -13889.59661217]\n",
      " [  3477.18625837 -13658.14077243]\n",
      " [  3317.63642935 -13745.57453221]\n",
      " [  3415.1607387  -13667.13291675]\n",
      " [  3585.85380036 -13627.26283601]\n",
      " [  3311.77686207 -13722.46421369]\n",
      " [  3054.86964776 -13375.3366039 ]\n",
      " [  2948.50455982 -13172.71924308]\n",
      " [  3347.6689594  -13753.30069376]\n",
      " [  3750.4889057  -13993.99837135]\n",
      " [  3317.05691178 -13532.55814055]\n",
      " [  3351.34289576 -13730.86501819]\n",
      " [  3381.01547292 -13762.86117328]\n",
      " [  3410.197554   -13739.54913912]\n",
      " [  3089.73384644 -13249.85295979]\n",
      " [  3382.86212818 -13802.71815629]\n",
      " [  3055.46517452 -13279.31213936]\n",
      " [  3322.60788537 -13620.88552902]\n",
      " [  3043.46947454 -13132.02318373]\n",
      " [  3415.91547569 -13812.83570999]\n",
      " [  3391.13982309 -13779.88626064]\n",
      " [  3061.54686195 -13213.09453692]\n",
      " [  3404.25899485 -13787.93247675]\n",
      " [  3359.85074741 -13764.87392026]\n",
      " [  3413.77751213 -13644.28780092]\n",
      " [  2946.33408066 -13027.16811273]\n",
      " [  3089.81016589 -13514.78259513]\n",
      " [  3444.38494834 -13616.52368782]\n",
      " [  3011.52184958 -13199.84474626]\n",
      " [  3390.9234225  -13746.86859965]\n",
      " [  3053.94693135 -13305.54855459]\n",
      " [  2963.48982259 -13198.94017129]\n",
      " [  3352.72574663 -13744.29123262]\n",
      " [  3452.27356426 -13802.26894079]\n",
      " [  3387.34550774 -13696.0134261 ]\n",
      " [  3372.71915556 -13788.67492164]\n",
      " [  3093.3659973  -13207.58484873]\n",
      " [  3403.2564452  -13809.9989787 ]\n",
      " [  3519.71419178 -13638.98906416]\n",
      " [  3137.26290888 -13404.1272514 ]\n",
      " [  3379.57367973 -13636.36013381]\n",
      " [  3439.17206806 -13825.99784109]\n",
      " [  3060.83276603 -13340.02939084]\n",
      " [  3317.05762085 -13702.25312447]\n",
      " [  3444.15589879 -13747.45825738]\n",
      " [  3483.90944464 -13835.34162746]\n",
      " [  3350.87434372 -13738.86433568]\n",
      " [  3069.03331164 -13432.18635138]\n",
      " [  3025.87609438 -13177.64729759]\n",
      " [  3407.66499718 -13728.72797369]\n",
      " [  3282.68094367 -13542.90516888]\n",
      " [  3564.33540369 -13733.32938091]\n",
      " [  3019.89913242 -13283.81040526]\n",
      " [  3347.81657594 -13638.37449033]\n",
      " [  3388.66042034 -13800.7849214 ]\n",
      " [  3549.2011194  -13771.23397646]\n",
      " [  3078.11247304 -13402.8170996 ]\n",
      " [  3380.85992172 -13723.22434138]\n",
      " [  3408.02916705 -13731.68379239]\n",
      " [  3443.94816556 -13660.46411753]\n",
      " [  3380.03277115 -13756.90028398]\n",
      " [  3411.88961763 -13765.29305214]\n",
      " [  3085.47462071 -13363.83343667]\n",
      " [  3641.84606299 -13784.94514867]\n",
      " [  3011.72267867 -13220.25594774]\n",
      " [  3437.96765122 -13781.01140378]\n",
      " [  3042.28762623 -13257.29684726]\n",
      " [  3071.54941779 -13398.86908114]\n",
      " [  3389.59196453 -13795.45741907]\n",
      " [  3393.2124662  -13662.49069768]\n",
      " [  3396.64888423 -13778.81792244]\n",
      " [  3352.68329325 -13609.83169483]\n",
      " [  3404.08733443 -13754.68969269]\n",
      " [  3468.8588118  -13701.24459596]\n",
      " [  3384.43139419 -13784.60992516]\n",
      " [  3418.38182209 -13775.70624747]\n",
      " [  3307.274357   -13680.37169326]\n",
      " [  3038.59278232 -13239.84693044]\n",
      " [  3557.64803056 -13708.91978385]\n",
      " [  3445.75138631 -13674.81738451]\n",
      " [  3088.02253782 -13234.44596758]\n",
      " [  3376.00300594 -13802.72829171]\n",
      " [  3372.98477395 -13756.10687909]\n",
      " [  3511.93691718 -13710.85517234]\n",
      " [  3354.78398417 -13759.03934456]\n",
      " [  3421.47477331 -13553.54277054]\n",
      " [  3082.89909887 -13417.7613135 ]\n",
      " [  3344.10764243 -13744.58204007]\n",
      " [  3281.84853595 -13727.86061494]\n",
      " [  3358.00896432 -13738.25745203]\n",
      " [  3591.24847896 -13769.82739552]\n",
      " [  3369.14402299 -13784.94411644]\n",
      " [  3404.73475563 -13758.50735891]\n",
      " [  3292.91612804 -13527.96296681]\n",
      " [  3361.50353212 -13805.00484363]\n",
      " [  3065.09604775 -13114.53851104]\n",
      " [  3384.46180844 -13796.02689666]\n",
      " [  3117.93739682 -13224.02146183]\n",
      " [  3644.64164548 -13988.5376788 ]\n",
      " [  3350.41232856 -13572.70103363]\n",
      " [  3332.33359043 -13711.11312646]\n",
      " [  3373.18437939 -13628.50189402]\n",
      " [  3375.9289323  -13796.49245741]\n",
      " [  3073.89685255 -13345.66624352]\n",
      " [  3496.13581958 -13646.6965124 ]\n",
      " [  2994.28297479 -13098.38189439]\n",
      " [  3408.25540924 -13780.59692896]\n",
      " [  3366.64316235 -13781.40025033]\n",
      " [  2979.40205422 -13195.47258498]\n",
      " [  3321.40724648 -13593.55399238]\n",
      " [  3500.49318128 -13693.86074176]\n",
      " [  3053.84067985 -13266.36386081]\n",
      " [  3330.57806388 -13762.11041544]\n",
      " [  3280.40849131 -13582.60618027]\n",
      " [  3066.08403686 -13381.97946349]\n",
      " [  3259.03592037 -13660.06165231]\n",
      " [  3061.16885023 -13233.10165044]\n",
      " [  3406.16833539 -13719.61156723]\n",
      " [  3381.90075738 -13681.87193145]\n",
      " [  3031.02220523 -13116.77454061]\n",
      " [  3348.39576478 -13735.73154377]\n",
      " [  3361.06279006 -13773.86479435]\n",
      " [  3346.89838079 -13727.4596497 ]\n",
      " [  3058.07452154 -13239.37644293]\n",
      " [  3022.04244569 -13305.76373018]\n",
      " [  3087.56171243 -13445.85235404]\n",
      " [  3384.82923146 -13767.81515968]\n",
      " [  3090.24336699 -13356.29334729]\n",
      " [  2941.36372929 -13021.84155727]\n",
      " [  3048.46217118 -13220.61767684]\n",
      " [  3473.16425152 -13679.63343238]\n",
      " [  3367.18109202 -13694.26910306]\n",
      " [  3387.37966053 -13805.07076777]\n",
      " [  3041.78671545 -13323.19934457]\n",
      " [  3341.08838294 -13732.93734173]\n",
      " [  3432.50919055 -13798.87323174]\n",
      " [  3059.15527564 -13292.78640833]\n",
      " [  3567.47831301 -13771.46202579]\n",
      " [  3399.55590834 -13805.19703753]\n",
      " [  3366.53890968 -13745.77020449]\n",
      " [  3317.28548008 -13753.91212543]\n",
      " [  3347.83464639 -13742.70113358]\n",
      " [  3352.75862295 -13750.96900571]\n",
      " [  3294.46374039 -13533.80097176]\n",
      " [  3388.41139158 -13797.37855087]\n",
      " [  3034.72313304 -13277.77085463]\n",
      " [  3365.47771591 -13618.25682349]\n",
      " [  3385.96415879 -13741.04403541]\n",
      " [  3355.80696904 -13766.9483349 ]\n",
      " [  3376.87275996 -13760.23151589]\n",
      " [  3131.08521989 -13171.08784631]\n",
      " [  3384.67626361 -13785.32624529]\n",
      " [  3404.05768955 -13747.06210684]\n",
      " [  3358.07706082 -13768.01767623]\n",
      " [  3360.18549164 -13762.00572365]\n",
      " [  3397.44942642 -13782.73735505]\n",
      " [  3348.72420368 -13721.00173769]\n",
      " [  3399.88001204 -13768.82927097]\n",
      " [  3315.71249223 -13736.57677072]\n",
      " [  3386.50288495 -13646.63955355]\n",
      " [  3327.95043244 -13642.35186334]\n",
      " [  3389.30111379 -13772.10194868]\n",
      " [  3383.22556413 -13735.31648748]]\n",
      "optimal unique labels: [  0   1   2   3   4   5   6   7   8   9  10  11  12  13  14  15  16  17\n",
      "  18  19  20  21  22  23  24  25  26  27  28  29  30  31  32  33  34  35\n",
      "  36  37  38  39  40  41  42  43  44  45  46  47  48  49  50  51  52  53\n",
      "  54  55  56  57  58  59  60  61  62  63  64  65  66  67  68  69  70  71\n",
      "  72  73  74  75  76  77  78  79  80  81  82  83  84  85  86  87  88  89\n",
      "  90  91  92  93  94  95  96  97  98  99 100 101 102 103 104 105 106 107\n",
      " 108 109 110 111 112 113 114 115 116 117 118 119 120 121 122 123 124 125\n",
      " 126 127 128 129 130 131 132 133 134 135 136 137 138 139 140 141 142 143\n",
      " 144 145 146 147 148 149 150 151 152 153 154 155 156 157 158 159 160 161\n",
      " 162 163 164 165 166 167 169 170 171 172 173 174 175 176 177 178 179 180\n",
      " 181 182 183 184 185 186 187 188 189 190 191 192 193 194 195 196 197 198\n",
      " 199]\n"
     ]
    }
   ],
   "source": [
    "optimal_time, optimal_labels, optimal_centers, optimal_unique_labels = optimal_mbk_time(200,3000)\n",
    "print(\"optimal time: {0}\".format(optimal_time))\n",
    "print(\"optimal labels: {0}\".format(optimal_labels))\n",
    "print(\"optimal centers: {0}\".format(optimal_centers))\n",
    "print(\"optimal unique labels: {0}\".format(optimal_unique_labels))"
   ]
  },
  {
   "cell_type": "code",
   "execution_count": 13,
   "metadata": {
    "collapsed": false
   },
   "outputs": [
    {
     "data": {
      "text/plain": [
       "numpy.ndarray"
      ]
     },
     "execution_count": 13,
     "metadata": {},
     "output_type": "execute_result"
    }
   ],
   "source": [
    "type(optimal_labels)"
   ]
  },
  {
   "cell_type": "code",
   "execution_count": 14,
   "metadata": {
    "collapsed": false
   },
   "outputs": [
    {
     "data": {
      "text/plain": [
       "array([126, 160,  48, ...,  74, 178,  65], dtype=int32)"
      ]
     },
     "execution_count": 14,
     "metadata": {},
     "output_type": "execute_result"
    }
   ],
   "source": [
    "optimal_labels"
   ]
  },
  {
   "cell_type": "code",
   "execution_count": 15,
   "metadata": {
    "collapsed": false
   },
   "outputs": [
    {
     "data": {
      "text/plain": [
       "1000000"
      ]
     },
     "execution_count": 15,
     "metadata": {},
     "output_type": "execute_result"
    }
   ],
   "source": [
    "len(optimal_labels)"
   ]
  },
  {
   "cell_type": "code",
   "execution_count": 16,
   "metadata": {
    "collapsed": true
   },
   "outputs": [],
   "source": [
    "full_list = list(zip(optimal_labels, pair_coordinates))"
   ]
  },
  {
   "cell_type": "code",
   "execution_count": 17,
   "metadata": {
    "collapsed": false
   },
   "outputs": [
    {
     "name": "stdout",
     "output_type": "stream",
     "text": [
      "[(126, [3358.915169103, -13736.276859249001]), (160, [3057.640302951, -13238.035471927002])]\n"
     ]
    },
    {
     "data": {
      "text/plain": [
       "1000000"
      ]
     },
     "execution_count": 17,
     "metadata": {},
     "output_type": "execute_result"
    }
   ],
   "source": [
    "print(full_list[:2])\n",
    "len(full_list)"
   ]
  },
  {
   "cell_type": "markdown",
   "metadata": {},
   "source": [
    "** map out points: cluster by color **"
   ]
  },
  {
   "cell_type": "code",
   "execution_count": 43,
   "metadata": {
    "collapsed": false
   },
   "outputs": [
    {
     "data": {
      "image/png": "[encoded data removed]",
      "text/plain": [
       "<matplotlib.figure.Figure at 0x13b9ed278>"
      ]
     },
     "metadata": {},
     "output_type": "display_data"
    }
   ],
   "source": [
    "cluster_color = [item[0] for item in full_list ]\n",
    "lat_mini = [item[1][0] for item in full_list]\n",
    "long_mini = [item[1][1] for item in full_list]\n",
    "\n",
    "# df = pandas.DataFrame(dict(lat_mini=lat_mini, long_mini=long_mini, cluster_color=cluster_color))\n",
    "\n",
    "# #df = pandas.DataFrame(lat_mini=lat_mini, long_mini=long_mini, cluster_color=cluster_color)\n",
    "# df.plot(kind='scatter', x='lat_mini', y='long_mini', color='DarkBlue')\n",
    "\n",
    "df = pandas.DataFrame(dict(lat_mini=lat_mini, long_mini=long_mini, cluster_color=cluster_color))\n",
    "\n",
    "groups = df.groupby('cluster_color')\n",
    "\n",
    "# Plot\n",
    "fig, ax = plt.subplots()\n",
    "ax.margins(0.05) # Optional, just adds 5% padding to the autoscaling\n",
    "for name, group in groups:\n",
    "    ax.plot(group.lat_mini, group.long_mini, marker='.', linestyle='', ms=2, label=name)\n",
    "#ax.legend()\n",
    "plt.xlim(2800, 3800)\n",
    "plt.ylim(-14100, -12750)\n",
    "plt.show()"
   ]
  },
  {
   "cell_type": "markdown",
   "metadata": {},
   "source": [
    "## DBSCAN on the 200 clusters made by mini-batch"
   ]
  },
  {
   "cell_type": "code",
   "execution_count": 19,
   "metadata": {
    "collapsed": true
   },
   "outputs": [],
   "source": [
    "# append the coordinates to the specific cluster label (will be 200 total)\n",
    "full_dict = dict() \n",
    "for label, coord in full_list:\n",
    "    full_dict.setdefault(label, []).append(coord)"
   ]
  },
  {
   "cell_type": "code",
   "execution_count": 20,
   "metadata": {
    "collapsed": false
   },
   "outputs": [
    {
     "data": {
      "text/plain": [
       "dict"
      ]
     },
     "execution_count": 20,
     "metadata": {},
     "output_type": "execute_result"
    }
   ],
   "source": [
    "type(full_dict)"
   ]
  },
  {
   "cell_type": "code",
   "execution_count": 21,
   "metadata": {
    "collapsed": false
   },
   "outputs": [
    {
     "name": "stdout",
     "output_type": "stream",
     "text": [
      "0 11759\n",
      "1 3630\n",
      "2 7663\n",
      "3 2394\n",
      "4 1017\n",
      "5 1541\n",
      "6 22312\n",
      "7 3340\n",
      "8 4565\n",
      "9 871\n",
      "10 3299\n",
      "11 5142\n",
      "12 1335\n",
      "13 5311\n",
      "14 751\n",
      "15 14530\n",
      "16 869\n",
      "17 3483\n",
      "18 4141\n",
      "19 594\n",
      "20 1951\n",
      "21 6007\n",
      "22 881\n",
      "23 2614\n",
      "24 4188\n",
      "25 10040\n",
      "26 909\n",
      "27 12098\n",
      "28 1143\n",
      "29 7431\n",
      "30 3293\n",
      "31 2913\n",
      "32 9959\n",
      "33 5917\n",
      "34 5079\n",
      "35 1489\n",
      "36 224\n",
      "37 2708\n",
      "38 447\n",
      "39 3669\n",
      "40 3209\n",
      "41 727\n",
      "42 12070\n",
      "43 2895\n",
      "44 2331\n",
      "45 10034\n",
      "46 844\n",
      "47 1841\n",
      "48 19847\n",
      "49 14060\n",
      "50 5515\n",
      "51 1490\n",
      "52 24066\n",
      "53 2587\n",
      "54 2640\n",
      "55 1790\n",
      "56 1925\n",
      "57 22416\n",
      "58 2754\n",
      "59 10981\n",
      "60 3545\n",
      "61 733\n",
      "62 2802\n",
      "63 599\n",
      "64 709\n",
      "65 8396\n",
      "66 5580\n",
      "67 4756\n",
      "68 3107\n",
      "69 9983\n",
      "70 1507\n",
      "71 2080\n",
      "72 2584\n",
      "73 1456\n",
      "74 3727\n",
      "75 511\n",
      "76 495\n",
      "77 2073\n",
      "78 5549\n",
      "79 4092\n",
      "80 2135\n",
      "81 1386\n",
      "82 1005\n",
      "83 7995\n",
      "84 2562\n",
      "85 2388\n",
      "86 4706\n",
      "87 1187\n",
      "88 2205\n",
      "89 2341\n",
      "90 1787\n",
      "91 18510\n",
      "92 614\n",
      "93 270\n",
      "94 8699\n",
      "95 3022\n",
      "96 432\n",
      "97 14824\n",
      "98 3750\n",
      "99 8682\n",
      "100 1254\n",
      "101 927\n",
      "102 2513\n",
      "103 1645\n",
      "104 1421\n",
      "105 50634\n",
      "106 1937\n",
      "107 14926\n",
      "108 1253\n",
      "109 9919\n",
      "110 1304\n",
      "111 15\n",
      "112 10416\n",
      "113 1038\n",
      "114 1435\n",
      "115 1178\n",
      "116 4296\n",
      "117 1419\n",
      "118 12250\n",
      "119 8213\n",
      "120 988\n",
      "121 13273\n",
      "122 1165\n",
      "123 992\n",
      "124 12445\n",
      "125 1397\n",
      "126 11064\n",
      "127 1467\n",
      "128 10807\n",
      "129 3284\n",
      "130 140\n",
      "131 1514\n",
      "132 968\n",
      "133 18719\n",
      "134 994\n",
      "135 827\n",
      "136 3419\n",
      "137 1329\n",
      "138 2684\n",
      "139 12796\n",
      "140 38\n",
      "141 422\n",
      "142 3\n",
      "143 4991\n",
      "144 6671\n",
      "145 1511\n",
      "146 877\n",
      "147 740\n",
      "148 3869\n",
      "149 882\n",
      "150 692\n",
      "151 2747\n",
      "152 437\n",
      "153 2033\n",
      "154 9519\n",
      "155 2487\n",
      "156 897\n",
      "157 26248\n",
      "158 6694\n",
      "159 14653\n",
      "160 4054\n",
      "161 966\n",
      "162 501\n",
      "163 10677\n",
      "164 4668\n",
      "165 1512\n",
      "166 2023\n",
      "167 3452\n",
      "169 9758\n",
      "170 2188\n",
      "171 14409\n",
      "172 1361\n",
      "173 1907\n",
      "174 1555\n",
      "175 2636\n",
      "176 8913\n",
      "177 9409\n",
      "178 10740\n",
      "179 9088\n",
      "180 983\n",
      "181 37583\n",
      "182 1428\n",
      "183 1784\n",
      "184 7728\n",
      "185 2921\n",
      "186 12391\n",
      "187 1016\n",
      "188 60\n",
      "189 3870\n",
      "190 8530\n",
      "191 770\n",
      "192 5404\n",
      "193 1200\n",
      "194 1448\n",
      "195 2170\n",
      "196 1161\n",
      "197 433\n",
      "198 13008\n",
      "199 3306\n"
     ]
    }
   ],
   "source": [
    "# see how many data points are in each of the 200 clusters\n",
    "for key, item in full_dict.items():\n",
    "    print(key, len(item))"
   ]
  },
  {
   "cell_type": "code",
   "execution_count": 22,
   "metadata": {
    "collapsed": false
   },
   "outputs": [
    {
     "name": "stdout",
     "output_type": "stream",
     "text": [
      "1000000\n"
     ]
    }
   ],
   "source": [
    "# prove that all points are accounted for\n",
    "count = 0\n",
    "for key, item in full_dict.items():\n",
    "    count += len(item)\n",
    "print(count)"
   ]
  },
  {
   "cell_type": "code",
   "execution_count": 23,
   "metadata": {
    "collapsed": true
   },
   "outputs": [],
   "source": [
    "def dbscan_time(cluster_n, eps_n, min_samples_n):\n",
    "    t0 = time.time()\n",
    "    mdb = DBSCAN(eps=eps_n, min_samples=eps_n).fit(cluster_n)\n",
    "    n_labels = mdb.labels_ \n",
    "    n_clusters = len(set(n_labels)) - (1 if -1 in n_labels else 0)\n",
    "    t_dbscan = time.time() - t0\n",
    "    return t_dbscan, n_clusters"
   ]
  },
  {
   "cell_type": "markdown",
   "metadata": {},
   "source": [
    "### First 1/8"
   ]
  },
  {
   "cell_type": "code",
   "execution_count": 24,
   "metadata": {
    "collapsed": false
   },
   "outputs": [
    {
     "data": {
      "text/plain": [
       "24.875"
      ]
     },
     "execution_count": 24,
     "metadata": {},
     "output_type": "execute_result"
    }
   ],
   "source": [
    "len(full_dict)/8\n"
   ]
  },
  {
   "cell_type": "code",
   "execution_count": 25,
   "metadata": {
    "collapsed": true
   },
   "outputs": [],
   "source": [
    "def get_range(dictionary, begin, end):\n",
    "  return {k: v for k, v in dictionary.items() if begin <= k <= end}"
   ]
  },
  {
   "cell_type": "code",
   "execution_count": 26,
   "metadata": {
    "collapsed": false
   },
   "outputs": [],
   "source": [
    "dict_first_eigth = get_range(full_dict, 0,25)\n",
    "#len(dict_first_eigth)"
   ]
  },
  {
   "cell_type": "code",
   "execution_count": 27,
   "metadata": {
    "collapsed": false
   },
   "outputs": [],
   "source": [
    "dbscan_dict = {}\n",
    "for key, coord in full_dict.items():\n",
    "    temp_cluster = coord\n",
    "    t_dbscan, n_clusters = dbscan_time(cluster_n=temp_cluster, eps_n=.1, min_samples_n=100)\n",
    "    dbscan_dict[key] = n_clusters\n",
    "    #print(len(temp_cluster)) # proves that temp_cluster is same as values in dict "
   ]
  },
  {
   "cell_type": "code",
   "execution_count": 28,
   "metadata": {
    "collapsed": false
   },
   "outputs": [
    {
     "data": {
      "text/plain": [
       "{0: 420,\n",
       " 1: 183,\n",
       " 2: 361,\n",
       " 3: 317,\n",
       " 4: 74,\n",
       " 5: 216,\n",
       " 6: 169,\n",
       " 7: 212,\n",
       " 8: 355,\n",
       " 9: 154,\n",
       " 10: 151,\n",
       " 11: 367,\n",
       " 12: 243,\n",
       " 13: 534,\n",
       " 14: 196,\n",
       " 15: 568,\n",
       " 16: 260,\n",
       " 17: 352,\n",
       " 18: 311,\n",
       " 19: 119,\n",
       " 20: 237,\n",
       " 21: 334,\n",
       " 22: 190,\n",
       " 23: 246,\n",
       " 24: 198,\n",
       " 25: 437,\n",
       " 26: 375,\n",
       " 27: 236,\n",
       " 28: 151,\n",
       " 29: 294,\n",
       " 30: 277,\n",
       " 31: 167,\n",
       " 32: 287,\n",
       " 33: 478,\n",
       " 34: 345,\n",
       " 35: 130,\n",
       " 36: 21,\n",
       " 37: 199,\n",
       " 38: 81,\n",
       " 39: 319,\n",
       " 40: 466,\n",
       " 41: 113,\n",
       " 42: 466,\n",
       " 43: 228,\n",
       " 44: 357,\n",
       " 45: 541,\n",
       " 46: 87,\n",
       " 47: 303,\n",
       " 48: 478,\n",
       " 49: 357,\n",
       " 50: 303,\n",
       " 51: 169,\n",
       " 52: 298,\n",
       " 53: 160,\n",
       " 54: 270,\n",
       " 55: 250,\n",
       " 56: 378,\n",
       " 57: 474,\n",
       " 58: 149,\n",
       " 59: 554,\n",
       " 60: 205,\n",
       " 61: 77,\n",
       " 62: 102,\n",
       " 63: 224,\n",
       " 64: 168,\n",
       " 65: 366,\n",
       " 66: 424,\n",
       " 67: 261,\n",
       " 68: 320,\n",
       " 69: 524,\n",
       " 70: 317,\n",
       " 71: 301,\n",
       " 72: 111,\n",
       " 73: 152,\n",
       " 74: 421,\n",
       " 75: 117,\n",
       " 76: 71,\n",
       " 77: 244,\n",
       " 78: 280,\n",
       " 79: 111,\n",
       " 80: 330,\n",
       " 81: 278,\n",
       " 82: 185,\n",
       " 83: 360,\n",
       " 84: 206,\n",
       " 85: 101,\n",
       " 86: 300,\n",
       " 87: 112,\n",
       " 88: 235,\n",
       " 89: 213,\n",
       " 90: 155,\n",
       " 91: 236,\n",
       " 92: 135,\n",
       " 93: 70,\n",
       " 94: 670,\n",
       " 95: 155,\n",
       " 96: 49,\n",
       " 97: 347,\n",
       " 98: 358,\n",
       " 99: 244,\n",
       " 100: 161,\n",
       " 101: 66,\n",
       " 102: 325,\n",
       " 103: 116,\n",
       " 104: 141,\n",
       " 105: 70,\n",
       " 106: 270,\n",
       " 107: 317,\n",
       " 108: 176,\n",
       " 109: 575,\n",
       " 110: 221,\n",
       " 111: 5,\n",
       " 112: 578,\n",
       " 113: 238,\n",
       " 114: 98,\n",
       " 115: 131,\n",
       " 116: 300,\n",
       " 117: 186,\n",
       " 118: 427,\n",
       " 119: 424,\n",
       " 120: 130,\n",
       " 121: 515,\n",
       " 122: 189,\n",
       " 123: 77,\n",
       " 124: 733,\n",
       " 125: 167,\n",
       " 126: 522,\n",
       " 127: 253,\n",
       " 128: 326,\n",
       " 129: 283,\n",
       " 130: 53,\n",
       " 131: 222,\n",
       " 132: 137,\n",
       " 133: 347,\n",
       " 134: 205,\n",
       " 135: 216,\n",
       " 136: 270,\n",
       " 137: 225,\n",
       " 138: 176,\n",
       " 139: 366,\n",
       " 140: 12,\n",
       " 141: 117,\n",
       " 142: 2,\n",
       " 143: 356,\n",
       " 144: 227,\n",
       " 145: 215,\n",
       " 146: 227,\n",
       " 147: 119,\n",
       " 148: 168,\n",
       " 149: 117,\n",
       " 150: 238,\n",
       " 151: 293,\n",
       " 152: 106,\n",
       " 153: 214,\n",
       " 154: 494,\n",
       " 155: 280,\n",
       " 156: 161,\n",
       " 157: 375,\n",
       " 158: 476,\n",
       " 159: 447,\n",
       " 160: 269,\n",
       " 161: 99,\n",
       " 162: 57,\n",
       " 163: 490,\n",
       " 164: 223,\n",
       " 165: 188,\n",
       " 166: 157,\n",
       " 167: 182,\n",
       " 169: 228,\n",
       " 170: 188,\n",
       " 171: 463,\n",
       " 172: 233,\n",
       " 173: 121,\n",
       " 174: 157,\n",
       " 175: 300,\n",
       " 176: 612,\n",
       " 177: 366,\n",
       " 178: 337,\n",
       " 179: 559,\n",
       " 180: 69,\n",
       " 181: 23,\n",
       " 182: 204,\n",
       " 183: 178,\n",
       " 184: 540,\n",
       " 185: 288,\n",
       " 186: 324,\n",
       " 187: 192,\n",
       " 188: 20,\n",
       " 189: 359,\n",
       " 190: 228,\n",
       " 191: 81,\n",
       " 192: 373,\n",
       " 193: 109,\n",
       " 194: 185,\n",
       " 195: 177,\n",
       " 196: 180,\n",
       " 197: 175,\n",
       " 198: 476,\n",
       " 199: 157}"
      ]
     },
     "execution_count": 28,
     "metadata": {},
     "output_type": "execute_result"
    }
   ],
   "source": [
    "dbscan_dict"
   ]
  },
  {
   "cell_type": "code",
   "execution_count": 29,
   "metadata": {
    "collapsed": false
   },
   "outputs": [
    {
     "name": "stdout",
     "output_type": "stream",
     "text": [
      "50948\n"
     ]
    }
   ],
   "source": [
    "# total number of clusters\n",
    "total_clusters = 0\n",
    "for key, value in dbscan_dict.items():\n",
    "    total_clusters += value\n",
    "\n",
    "print(total_clusters)\n"
   ]
  },
  {
   "cell_type": "markdown",
   "metadata": {},
   "source": [
    "I chose minibatch as to handle the 1M tweets. I first figured out what was the optimal batch size as we had done in part 1 and 2. After creating a for loop, ~3000 was about the optimal batch size. The second part of the process was to implement dbscan on each of the clusters. I first tried 100 clusters but the maximum amount of ponts within a given cluster was too many. My computer ran out of memory. I changed the minibatch to 200 clusters. The dbscan runs properly on this amount. 50879 total clusters were made after the two processes."
   ]
  },
  {
   "cell_type": "code",
   "execution_count": null,
   "metadata": {
    "collapsed": true
   },
   "outputs": [],
   "source": []
  }
 ],
 "metadata": {
  "kernelspec": {
   "display_name": "Python 3",
   "language": "python",
   "name": "python3"
  },
  "language_info": {
   "codemirror_mode": {
    "name": "ipython",
    "version": 3
   },
   "file_extension": ".py",
   "mimetype": "text/x-python",
   "name": "python",
   "nbconvert_exporter": "python",
   "pygments_lexer": "ipython3",
   "version": "3.4.3"
  }
 },
 "nbformat": 4,
 "nbformat_minor": 0
}
