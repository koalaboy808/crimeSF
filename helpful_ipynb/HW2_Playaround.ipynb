{
 "cells": [
  {
   "cell_type": "code",
   "execution_count": 54,
   "metadata": {
    "collapsed": false
   },
   "outputs": [],
   "source": [
    "import psycopg2\n",
    "import psycopg2.extras\n",
    "import json\n",
    "import pandas as pd\n",
    "from dateutil.parser import parse\n",
    "import numpy as np\n",
    "import matplotlib.pyplot as plt\n",
    "%matplotlib inline\n",
    "from pymongo import MongoClient\n",
    "import pprint\n",
    "from bson.objectid import ObjectId\n",
    "from bson.son import SON"
   ]
  },
  {
   "cell_type": "code",
   "execution_count": 2,
   "metadata": {
    "collapsed": false
   },
   "outputs": [
    {
     "name": "stdout",
     "output_type": "stream",
     "text": [
      "  ('PROJCS[\"WGS 84 / UTM zone 10N\",GEOGCS[\"WGS 84\",DATUM[\"WGS_1984\",SPHEROID[\"WGS 84\",6378137,298.257223563,AUTHORITY[\"EPSG\",\"7030\"]],AUTHORITY[\"EPSG\",\"6326\"]],PRIMEM[\"Greenwich\",0,AUTHORITY[\"EPSG\",\"8901\"]],UNIT[\"degree\",0.0174532925199433,AUTHORITY[\"EPSG\",\"9122\"]],AUTHORITY[\"EPSG\",\"4326\"]],UNIT[\"metre\",1,AUTHORITY[\"EPSG\",\"9001\"]],PROJECTION[\"Transverse_Mercator\"],PARAMETER[\"latitude_of_origin\",0],PARAMETER[\"central_meridian\",-123],PARAMETER[\"scale_factor\",0.9996],PARAMETER[\"false_easting\",500000],PARAMETER[\"false_northing\",0],AUTHORITY[\"EPSG\",\"32610\"],AXIS[\"Easting\",EAST],AXIS[\"Northing\",NORTH]]',)\n"
     ]
    }
   ],
   "source": [
    "# making sure psycopg2 is installed correctly\n",
    "\n",
    "conn = psycopg2.connect(\"dbname=template_postgis user=koalaboy808 host=localhost password=koala444\")\n",
    "#conn = psycopg2.connect(\"dbname=postgres user=carlo_liquido host=localhost password=koala444\")\n",
    "cur = conn.cursor()\n",
    "cur.execute(\"\"\"SELECT srtext FROM spatial_ref_sys WHERE srid = 32610;\"\"\")\n",
    "rows = cur.fetchall()\n",
    "for row in rows:\n",
    "    print(\" \", row)\n",
    "    #print(\" \", row[1])"
   ]
  },
  {
   "cell_type": "code",
   "execution_count": 2,
   "metadata": {
    "collapsed": false
   },
   "outputs": [
    {
     "data": {
      "text/plain": [
       "list"
      ]
     },
     "execution_count": 2,
     "metadata": {},
     "output_type": "execute_result"
    }
   ],
   "source": [
    "with open('tweets_1M.json','r') as f:\n",
    "    tweets = json.load(f)\n",
    "    tweets = tweets[:100000]\n",
    "type(tweets)"
   ]
  },
  {
   "cell_type": "code",
   "execution_count": 3,
   "metadata": {
    "collapsed": false
   },
   "outputs": [
    {
     "data": {
      "text/plain": [
       "100000"
      ]
     },
     "execution_count": 3,
     "metadata": {},
     "output_type": "execute_result"
    }
   ],
   "source": [
    "tweets_df = pd.DataFrame(tweets)\n",
    "len(tweets_df)"
   ]
  },
  {
   "cell_type": "code",
   "execution_count": 4,
   "metadata": {
    "collapsed": false
   },
   "outputs": [
    {
     "data": {
      "text/html": [
       "<div>\n",
       "<table border=\"1\" class=\"dataframe\">\n",
       "  <thead>\n",
       "    <tr style=\"text-align: right;\">\n",
       "      <th></th>\n",
       "      <th>id</th>\n",
       "      <th>lat</th>\n",
       "      <th>lng</th>\n",
       "      <th>text</th>\n",
       "      <th>timeStamp</th>\n",
       "      <th>user_id</th>\n",
       "    </tr>\n",
       "  </thead>\n",
       "  <tbody>\n",
       "    <tr>\n",
       "      <th>0</th>\n",
       "      <td>377652254096228352</td>\n",
       "      <td>37.446100</td>\n",
       "      <td>-121.883557</td>\n",
       "      <td>@Tanner_Cortez hey checkout the website: http:...</td>\n",
       "      <td>Wed Sep 11 04:38:08 +0000 2013</td>\n",
       "      <td>224874450</td>\n",
       "    </tr>\n",
       "    <tr>\n",
       "      <th>1</th>\n",
       "      <td>377652255346159616</td>\n",
       "      <td>34.087406</td>\n",
       "      <td>-117.462604</td>\n",
       "      <td>@Lennayy7 😪</td>\n",
       "      <td>Wed Sep 11 04:38:08 +0000 2013</td>\n",
       "      <td>312179473</td>\n",
       "    </tr>\n",
       "    <tr>\n",
       "      <th>2</th>\n",
       "      <td>377652262325456897</td>\n",
       "      <td>37.356131</td>\n",
       "      <td>-121.842867</td>\n",
       "      <td>i laugh a lot with that line</td>\n",
       "      <td>Wed Sep 11 04:38:10 +0000 2013</td>\n",
       "      <td>54351774</td>\n",
       "    </tr>\n",
       "    <tr>\n",
       "      <th>3</th>\n",
       "      <td>377652264682655744</td>\n",
       "      <td>37.364664</td>\n",
       "      <td>-122.009629</td>\n",
       "      <td>sons of anarchy is back on woop woop</td>\n",
       "      <td>Wed Sep 11 04:38:11 +0000 2013</td>\n",
       "      <td>343219606</td>\n",
       "    </tr>\n",
       "    <tr>\n",
       "      <th>4</th>\n",
       "      <td>377652271116722176</td>\n",
       "      <td>37.382600</td>\n",
       "      <td>-121.995000</td>\n",
       "      <td>Drinking a Fresh Squeezed IPA by @deschutesbee...</td>\n",
       "      <td>Wed Sep 11 04:38:12 +0000 2013</td>\n",
       "      <td>1569395935</td>\n",
       "    </tr>\n",
       "  </tbody>\n",
       "</table>\n",
       "</div>"
      ],
      "text/plain": [
       "                   id        lat         lng  \\\n",
       "0  377652254096228352  37.446100 -121.883557   \n",
       "1  377652255346159616  34.087406 -117.462604   \n",
       "2  377652262325456897  37.356131 -121.842867   \n",
       "3  377652264682655744  37.364664 -122.009629   \n",
       "4  377652271116722176  37.382600 -121.995000   \n",
       "\n",
       "                                                text  \\\n",
       "0  @Tanner_Cortez hey checkout the website: http:...   \n",
       "1                                        @Lennayy7 😪   \n",
       "2                       i laugh a lot with that line   \n",
       "3               sons of anarchy is back on woop woop   \n",
       "4  Drinking a Fresh Squeezed IPA by @deschutesbee...   \n",
       "\n",
       "                        timeStamp     user_id  \n",
       "0  Wed Sep 11 04:38:08 +0000 2013   224874450  \n",
       "1  Wed Sep 11 04:38:08 +0000 2013   312179473  \n",
       "2  Wed Sep 11 04:38:10 +0000 2013    54351774  \n",
       "3  Wed Sep 11 04:38:11 +0000 2013   343219606  \n",
       "4  Wed Sep 11 04:38:12 +0000 2013  1569395935  "
      ]
     },
     "execution_count": 4,
     "metadata": {},
     "output_type": "execute_result"
    }
   ],
   "source": [
    "tweets_df[:5]"
   ]
  },
  {
   "cell_type": "code",
   "execution_count": 6,
   "metadata": {
    "collapsed": false
   },
   "outputs": [],
   "source": [
    "# loc=[]\n",
    "# for i in range(100001):\n",
    "#     loc.append(Point(tweets1[i][u'lat'],tweets1[i][u'lng']))\n",
    "#     cur.execute(\"INSERT INTO Tweets(id, userid, loc, ￼time, text) VALUES (%s, %s, ST_GeomFromText(%s',SRID='%s),%s, %s)\", \n",
    "#                 (tweets1[i][u'id'], tweets1[i][u'user_id'], loc[i], '4326',  str(tweets1[i][u'timeStamp']), \n",
    "#                  str(tweets1[i][u'text'])))"
   ]
  },
  {
   "cell_type": "code",
   "execution_count": 4,
   "metadata": {
    "collapsed": false
   },
   "outputs": [
    {
     "data": {
      "text/plain": [
       "array([[377652254096228352, 37.44609999, -121.88355687,\n",
       "        '@Tanner_Cortez hey checkout the website: http://t.co/LuktJ6hiws',\n",
       "        'Wed Sep 11 04:38:08 +0000 2013', 224874450],\n",
       "       [377652255346159616, 34.08740583, -117.46260401, '@Lennayy7 😪',\n",
       "        'Wed Sep 11 04:38:08 +0000 2013', 312179473],\n",
       "       [377652262325456897, 37.3561311, -121.8428674,\n",
       "        'i laugh a lot with that line', 'Wed Sep 11 04:38:10 +0000 2013',\n",
       "        54351774],\n",
       "       ..., \n",
       "       [378989681280438273, 37.80718131, -122.43718131,\n",
       "        'Gara 7 @americascup #sf @fabricapo @internetliving @mmarinucci @MauroBattocchi http://t.co/dy6WC3luGA',\n",
       "        'Sat Sep 14 21:12:35 +0000 2013', 344090031],\n",
       "       [378989693112557568, 37.64564767, -122.45534238,\n",
       "        '@dark_Jero esto fue un twist de alguien q sabe de fútbol. Te felicito',\n",
       "        'Sat Sep 14 21:12:38 +0000 2013', 83863047],\n",
       "       [378989698338676736, 37.45943124, -122.13718755,\n",
       "        '✨Happiest place on Earth✨ http://t.co/EDBFDT5e3P',\n",
       "        'Sat Sep 14 21:12:40 +0000 2013', 700372206]], dtype=object)"
      ]
     },
     "execution_count": 4,
     "metadata": {},
     "output_type": "execute_result"
    }
   ],
   "source": [
    "# restructures the DataFrame into values for json\n",
    "tweets_array = tweets_df.values\n",
    "tweets_array"
   ]
  },
  {
   "cell_type": "code",
   "execution_count": 9,
   "metadata": {
    "collapsed": false
   },
   "outputs": [],
   "source": [
    "#conn.rollback()\n",
    "#cur.execute(\"CREATE TABLE Tweets2 (id varchar, userid varchar, location geometry, time timestamptz, text varchar);\")"
   ]
  },
  {
   "cell_type": "code",
   "execution_count": 6,
   "metadata": {
    "collapsed": false
   },
   "outputs": [
    {
     "ename": "NameError",
     "evalue": "name 'cur' is not defined",
     "output_type": "error",
     "traceback": [
      "\u001b[0;31m---------------------------------------------------------------------------\u001b[0m",
      "\u001b[0;31mNameError\u001b[0m                                 Traceback (most recent call last)",
      "\u001b[0;32m<ipython-input-6-1135dc3fadd0>\u001b[0m in \u001b[0;36m<module>\u001b[0;34m()\u001b[0m\n\u001b[0;32m----> 1\u001b[0;31m \u001b[0mcur\u001b[0m\u001b[0;34m.\u001b[0m\u001b[0mexecute\u001b[0m\u001b[0;34m(\u001b[0m\u001b[0;34m\"TRUNCATE Tweets\"\u001b[0m\u001b[0;34m)\u001b[0m\u001b[0;34m\u001b[0m\u001b[0m\n\u001b[0m\u001b[1;32m      2\u001b[0m \u001b[0mconn\u001b[0m\u001b[0;34m.\u001b[0m\u001b[0mcommit\u001b[0m\u001b[0;34m(\u001b[0m\u001b[0;34m)\u001b[0m\u001b[0;34m\u001b[0m\u001b[0m\n",
      "\u001b[0;31mNameError\u001b[0m: name 'cur' is not defined"
     ]
    }
   ],
   "source": [
    "cur.execute(\"TRUNCATE Tweets\")\n",
    "conn.commit()"
   ]
  },
  {
   "cell_type": "code",
   "execution_count": 97,
   "metadata": {
    "collapsed": false
   },
   "outputs": [],
   "source": [
    "#conn.rollback()\n",
    "for i in range(len(tweets_array)):\n",
    "    loc = 'Point('+str(tweets_array[i][2])+' '+str(tweets_array[i][1])+')'\n",
    "    #print loc\n",
    "    time = parse(tweets_array[i][4])\n",
    "    #print time\n",
    "    cur.execute(\"INSERT INTO Tweets(id, userid, location,time, text) VALUES (%s, %s, ST_GeomFromText(%s,%s),%s, %s)\",\n",
    "                (str(tweets_array[i][0]), str(tweets_array[i][5]), loc, 4326, time, tweets_array[i][3].encode('utf-8').strip()));\n",
    "conn.commit()\n",
    "cur.close()\n",
    "conn.close()"
   ]
  },
  {
   "cell_type": "code",
   "execution_count": 10,
   "metadata": {
    "collapsed": false
   },
   "outputs": [
    {
     "name": "stdout",
     "output_type": "stream",
     "text": [
      "37.3561311\n",
      "37.3561311\n",
      "37.3561311\n",
      "37.3561311\n",
      "37.3561311\n",
      "37.3561311\n",
      "37.3561311\n",
      "37.3561311\n",
      "37.3561311\n",
      "37.3561311\n"
     ]
    }
   ],
   "source": [
    "# checking to see the lat coordinates\n",
    "\n",
    "for i in range(10):\n",
    "    print(str(tweets_array[2][1\n",
    "                             ]))\n",
    "#len(set(tweets_df[u'user_id']))"
   ]
  },
  {
   "cell_type": "markdown",
   "metadata": {},
   "source": [
    "below is command line instructions for reshaping shapefile into psql and creting a table with that data\n"
   ]
  },
  {
   "cell_type": "code",
   "execution_count": null,
   "metadata": {
    "collapsed": true
   },
   "outputs": [],
   "source": [
    "# shp2pgsql -I -W \"latin1\" -s 4326 tl_2010_06_county10/tl_2010_06_county10.shp public.ca_census_tract | psql -d template_postgis\n",
    "# Shapefile t"
   ]
  },
  {
   "cell_type": "markdown",
   "metadata": {},
   "source": [
    "** was not able to access ca_census_tract so executed the following code in sql:**\n",
    "ALTER ROLE koalaboy808 WITH SUPERUSER;"
   ]
  },
  {
   "cell_type": "code",
   "execution_count": 5,
   "metadata": {
    "collapsed": false
   },
   "outputs": [
    {
     "data": {
      "text/plain": [
       "['gid',\n",
       " 'statefp10',\n",
       " 'countyfp10',\n",
       " 'countyns10',\n",
       " 'geoid10',\n",
       " 'name10',\n",
       " 'namelsad10',\n",
       " 'lsad10',\n",
       " 'classfp10',\n",
       " 'mtfcc10',\n",
       " 'csafp10',\n",
       " 'cbsafp10',\n",
       " 'metdivfp10',\n",
       " 'funcstat10',\n",
       " 'aland10',\n",
       " 'awater10',\n",
       " 'intptlat10',\n",
       " 'intptlon10',\n",
       " 'geom']"
      ]
     },
     "execution_count": 5,
     "metadata": {},
     "output_type": "execute_result"
    }
   ],
   "source": [
    "DSN = \"dbname=template_postgis user=koalaboy808 host=localhost password=koala444\"\n",
    "\n",
    "with psycopg2.connect(DSN) as connection:\n",
    "      with connection.cursor() as cur:\n",
    "            cur.execute(\"SELECT * FROM ca_census_tract;\")\n",
    "            census_column_names = [row[0] for row in cur.description]\n",
    "\n",
    "census_column_names"
   ]
  },
  {
   "cell_type": "code",
   "execution_count": 27,
   "metadata": {
    "collapsed": true
   },
   "outputs": [],
   "source": [
    "### OLD CODE\n",
    "# conn = psycopg2.connect(\"dbname=template_postgis user=koalaboy808 host=localhost password=koala444\")\n",
    "# #conn = psycopg2.connect(\"dbname=postgres user=carlo_liquido host=localhost password=koala444\")\n",
    "# cur = conn.cursor()\n",
    "# #cur.execute(\"GRANT ALL PRIVILEGES ON TABLE ca_census_tract TO koalaboy808;\")\n",
    "# cur.execute(\"SELECT * FROM ca_census_tract;\")\n",
    "\n",
    "# cols = cur.fetchall()\n",
    "# for col in cols:\n",
    "#     print(\" \", col)"
   ]
  },
  {
   "cell_type": "code",
   "execution_count": 6,
   "metadata": {
    "collapsed": false
   },
   "outputs": [
    {
     "data": {
      "text/plain": [
       "58"
      ]
     },
     "execution_count": 6,
     "metadata": {},
     "output_type": "execute_result"
    }
   ],
   "source": [
    "with psycopg2.connect(DSN) as connection:\n",
    "      with connection.cursor(cursor_factory=psycopg2.extras.DictCursor) as cur:\n",
    "            cur.execute(\"SELECT * FROM ca_census_tract;\")\n",
    "            # fetches first one\n",
    "#             rec = cur.fetchone()\n",
    "            # fetches all rows in dictionary format... but as a list\n",
    "            rec = cur.fetchall()\n",
    "            ans1 = [dict(row) for row in rec]\n",
    "            #census_column_dict = [row[0] for row in cur.description]\n",
    "len(ans1)\n",
    "#cursor = con.cursor(cursor_factory=psycopg2.extras.DictCursor)"
   ]
  },
  {
   "cell_type": "markdown",
   "metadata": {},
   "source": [
    "### Number of tweets in the Contra Costa County"
   ]
  },
  {
   "cell_type": "code",
   "execution_count": 7,
   "metadata": {
    "collapsed": false
   },
   "outputs": [
    {
     "name": "stdout",
     "output_type": "stream",
     "text": [
      "1951\n"
     ]
    }
   ],
   "source": [
    "with psycopg2.connect(DSN) as connection:\n",
    "      with connection.cursor() as county:\n",
    "            #county.execute(\"SELECT geom FROM ca_census_tract WHERE ca_census_tract.namelsad10='Contra Costa County';\")\n",
    "            #geom = [row for row in county.fetchall()]\n",
    "            #county.execute(\"SELECT location FROM tweets2 WHERE \")\n",
    "            #county.execute(\"SELECT COUNT(*) FROM (SELECT ca_census_tract.geom FROM ca_census_tract WHERE ca_census_tract.namelsad10='Contra Costa County') as Conta, tweets WHERE ST_Contains(Conta.geom, tweets.location);\")\n",
    "            county.execute(\"SELECT COUNT(*) FROM tweets INNER JOIN ca_census_tract ON ST_Contains(ca_census_tract.geom, tweets.location) WHERE ca_census_tract.namelsad10='Contra Costa County';\")\n",
    "            for number in county:\n",
    "                print(number[0])\n",
    "#(geom[0][0])\n",
    "\n",
    "# SELECT  ST_Intersection(a.geom, b.geom) As intersect_ab\n",
    "#     FROM a INNER JOIN b ON ST_Intersection(a,b)\n",
    "#     WHERE ST_Overlaps(a.geom, b.geom)\n",
    "#     ;"
   ]
  },
  {
   "cell_type": "markdown",
   "metadata": {},
   "source": [
    "**list counties reference... and for the fun of it**"
   ]
  },
  {
   "cell_type": "code",
   "execution_count": 8,
   "metadata": {
    "collapsed": false
   },
   "outputs": [
    {
     "data": {
      "text/plain": [
       "['Orange County',\n",
       " 'Tehama County',\n",
       " 'Colusa County',\n",
       " 'Santa Barbara County',\n",
       " 'Mono County',\n",
       " 'Monterey County',\n",
       " 'Placer County',\n",
       " 'Amador County',\n",
       " 'Calaveras County',\n",
       " 'Imperial County',\n",
       " 'Siskiyou County',\n",
       " 'Sonoma County',\n",
       " 'Santa Clara County',\n",
       " 'Kern County',\n",
       " 'Yolo County',\n",
       " 'Mendocino County',\n",
       " 'Sacramento County',\n",
       " 'Madera County',\n",
       " 'Yuba County',\n",
       " 'Tulare County',\n",
       " 'San Diego County',\n",
       " 'Plumas County',\n",
       " 'San Benito County',\n",
       " 'Shasta County',\n",
       " 'Stanislaus County',\n",
       " 'Mariposa County',\n",
       " 'Fresno County',\n",
       " 'Alpine County',\n",
       " 'Marin County',\n",
       " 'Glenn County',\n",
       " 'Lassen County',\n",
       " 'Del Norte County',\n",
       " 'Napa County',\n",
       " 'San Luis Obispo County',\n",
       " 'San Mateo County',\n",
       " 'Nevada County',\n",
       " 'San Joaquin County',\n",
       " 'San Bernardino County',\n",
       " 'Sutter County',\n",
       " 'Riverside County',\n",
       " 'Trinity County',\n",
       " 'Contra Costa County',\n",
       " 'Ventura County',\n",
       " 'Tuolumne County',\n",
       " 'Butte County',\n",
       " 'Sierra County',\n",
       " 'Lake County',\n",
       " 'Modoc County',\n",
       " 'El Dorado County',\n",
       " 'Los Angeles County',\n",
       " 'Alameda County',\n",
       " 'Inyo County',\n",
       " 'San Francisco County',\n",
       " 'Santa Cruz County',\n",
       " 'Kings County',\n",
       " 'Humboldt County',\n",
       " 'Solano County',\n",
       " 'Merced County']"
      ]
     },
     "execution_count": 8,
     "metadata": {},
     "output_type": "execute_result"
    }
   ],
   "source": [
    "with psycopg2.connect(DSN) as connection:\n",
    "      with connection.cursor() as list_county:\n",
    "            list_county.execute(\"SELECT namelsad10 FROM ca_census_tract;\")\n",
    "            list_county_names = [county[0] for county in list_county]\n",
    "list_county_names"
   ]
  },
  {
   "cell_type": "code",
   "execution_count": 9,
   "metadata": {
    "collapsed": false
   },
   "outputs": [],
   "source": [
    "with psycopg2.connect(DSN) as connection:\n",
    "      with connection.cursor() as county:\n",
    "            county.execute(\"SELECT COUNT(*) FROM tweets INNER JOIN ca_census_tract ON ca_census_tract.namelsad10 = 'Alameda County' AND ST_Distance_Sphere(ca_census_tract.geom, tweets.location) > 160934;\")\n",
    "            #county.execute(\"SELECT * FROM tweets INNER JOIN ca_census_tract WHERE ST_Distance_Sphere((SELECT ca_census_tract.geom FROM ca_census_tract WHERE ca_census_tract.namelsad10='Alameda County'), tweets.location) <= 160934;\")\n",
    "            Alameda_county = county.fetchall()\n",
    "            Alameda_county[0][0]\n",
    "\n",
    "                \n",
    "#                 SELECT *\n",
    "# FROM your_table\n",
    "# WHERE ST_Distance_Sphere(the_geom, ST_MakePoint(your_lon,your_lat)) <= radius_mi * 1609.34"
   ]
  },
  {
   "cell_type": "code",
   "execution_count": 10,
   "metadata": {
    "collapsed": false
   },
   "outputs": [
    {
     "data": {
      "text/plain": [
       "16434"
      ]
     },
     "execution_count": 10,
     "metadata": {},
     "output_type": "execute_result"
    }
   ],
   "source": [
    "Alameda_county[0][0]"
   ]
  },
  {
   "cell_type": "markdown",
   "metadata": {},
   "source": [
    "### how to copy csv data into a datatable\n",
    "##### STEP 1: create empty data table (after loading csv file)\n",
    "    $ psql dbname\n",
    "    dbname-# CREATE EXTENSION postgis;\n",
    "    dbname-# CREATE TABLE ca_census_data\n",
    "    (GEOID varchar(11),\n",
    "    SUMLEV varchar(3),\n",
    "    STATE varchar(2),\n",
    "    COUNTY varchar(3),\n",
    "    CBSA varchar(5),\n",
    "    CSA varchar(3),\n",
    "    NECTA integer,\n",
    "    CNECTA integer,\n",
    "    NAME varchar(30),\n",
    "    POP100 integer,\n",
    "    HU100 integer,\n",
    "    POP1002000 integer,\n",
    "    HU1002000 integer,\n",
    "    P001001 integer,\n",
    "    P0010012000 integer);\n",
    "\n",
    "### STEP 2: copy csv file and pip into table\n",
    "cat pop_hw2.csv | psql -d template_postgis -c 'COPY ca_census_data FROM STDIN WITH CSV HEADER'"
   ]
  },
  {
   "cell_type": "code",
   "execution_count": 11,
   "metadata": {
    "collapsed": false
   },
   "outputs": [],
   "source": [
    "# with psycopg2.connect(DSN) as connection:\n",
    "#       with connection.cursor() as county:\n",
    "            \n",
    "# #             county.execute(\"\\\n",
    "# #             SELECT COUNT(*), ca_census_tract.namelsad10 \\\n",
    "# #             FROM ca_census_tract INNER JOIN tweets \\\n",
    "# #             ON ST_Contains(ca_census_tract.geom, tweets.location) \\\n",
    "# #             GROUP BY namelsad10;\\\n",
    "# #             \")\n",
    "\n",
    "#             county.execute(\"\\\n",
    "#             SELECT COUNT(*), ca_census_tract.namelsad10 \\\n",
    "#             FROM \\\n",
    "#             (SELECT ca_census_tract.namelsad10, ca_census_data.pop100 \\\n",
    "#             FROM ca_census_tract \\\n",
    "#             INNER JOIN ca_census_data ON ca_census_data.name = ca_census_tract.namelsad10) as alias, tweets\\\n",
    "#             ON ST_Contains(alias.geom, tweets.location) \\\n",
    "#             GROUP BY namelsad10;\\\n",
    "#             \")\n",
    "    \n",
    "#             all_counties = county.fetchall()\n",
    "\n",
    "# # SELECT s.studentname\n",
    "# #     , s.studentid\n",
    "# #     , s.studentdesc\n",
    "# #     , h.hallname\n",
    "# # FROM students s\n",
    "# # INNER JOIN hallprefs hp\n",
    "# #     on s.studentid = hp.studentid\n",
    "# # INNER JOIN halls h\n",
    "# #     on hp.hallid = h.hallid"
   ]
  },
  {
   "cell_type": "code",
   "execution_count": 52,
   "metadata": {
    "collapsed": false
   },
   "outputs": [],
   "source": [
    "# print(len(all_counties))\n",
    "\n",
    "# for county in all_counties:\n",
    "#     print(county)\n",
    "\n",
    "# print(len(all_counties))"
   ]
  },
  {
   "cell_type": "code",
   "execution_count": 9,
   "metadata": {
    "collapsed": false
   },
   "outputs": [],
   "source": [
    "with psycopg2.connect(DSN) as connection:\n",
    "      with connection.cursor() as population:\n",
    "            population.execute(\"\\\n",
    "            SELECT alias.namelsad10, (CAST(COUNT(*) AS FLOAT)/ CAST(alias.pop100 AS FLOAT)) \\\n",
    "            FROM \\\n",
    "            (SELECT ca_census_tract.namelsad10, ca_census_tract.geom, ca_census_data.pop100 \\\n",
    "            FROM ca_census_tract \\\n",
    "            INNER JOIN ca_census_data ON ca_census_data.name = ca_census_tract.namelsad10) as alias, tweets\\\n",
    "            WHERE ST_Contains(alias.geom, tweets.location) \\\n",
    "            GROUP BY alias.namelsad10, alias.pop100;\")\n",
    "            population_counties = population.fetchall()\n",
    "            \n",
    "#             county.execute(\"\\\n",
    "#             SELECT COUNT(*), ca_census_tract.namelsad10 \\\n",
    "#             FROM \\\n",
    "#             (SELECT ca_census_tract.namelsad10, ca_census_data.pop100 \\\n",
    "#             FROM ca_census_tract \\\n",
    "#             INNER JOIN ca_census_data ON ca_census_data.name = ca_census_tract.namelsad10) as alias, tweets\\\n",
    "#             ON ST_Contains(alias.geom, tweets.location) \\\n",
    "#             GROUP BY namelsad10;\\\n",
    "#             \")        "
   ]
  },
  {
   "cell_type": "code",
   "execution_count": 10,
   "metadata": {
    "collapsed": false
   },
   "outputs": [
    {
     "name": "stdout",
     "output_type": "stream",
     "text": [
      "52\n",
      "('Del Norte County', 0.00328556448794128)\n",
      "('San Luis Obispo County', 0.00117565467647244)\n",
      "('Sutter County', 0.00487665853890244)\n",
      "('San Diego County', 0.000299808129258657)\n",
      "('Calaveras County', 0.000175523278774848)\n",
      "('Mariposa County', 0.000109583036545943)\n",
      "('Mendocino County', 0.00363156157147573)\n",
      "('San Mateo County', 0.0139063067627437)\n",
      "('Lake County', 0.00315472048248666)\n",
      "('Amador County', 0.00294032711139114)\n",
      "('Napa County', 0.00520940183464728)\n",
      "('San Joaquin County', 0.00250545012009234)\n",
      "('Fresno County', 0.00047073996453329)\n",
      "('Placer County', 0.000232470037195206)\n",
      "('Lassen County', 0.000573148015474996)\n",
      "('Alpine County', 0.000851063829787234)\n",
      "('Santa Clara County', 0.0121230864562016)\n",
      "('Madera County', 0.0015709409074338)\n",
      "('Yolo County', 0.00222555252951222)\n",
      "('Trinity County', 0.000507761497171043)\n",
      "('Glenn County', 0.0128369248275372)\n",
      "('Los Angeles County', 0.000389566542293941)\n",
      "('Alameda County', 0.0110768199879359)\n",
      "('Plumas County', 0.00264907282451142)\n",
      "('San Benito County', 0.00385387830429355)\n",
      "('Tehama County', 0.00431747632478767)\n",
      "('Shasta County', 0.00178870688341807)\n",
      "('Orange County', 0.000252472234698189)\n",
      "('El Dorado County', 0.000419754995636757)\n",
      "('Siskiyou County', 0.00220489977728285)\n",
      "('Kings County', 0.000111124184544587)\n",
      "('Butte County', 0.00194545454545455)\n",
      "('Solano County', 0.00100400634822327)\n",
      "('San Francisco County', 0.0230789769446187)\n",
      "('Nevada County', 0.000556883074804585)\n",
      "('Merced County', 0.00426125812668838)\n",
      "('Monterey County', 0.00192744610981142)\n",
      "('Contra Costa County', 0.00185982221586711)\n",
      "('Ventura County', 0.00153282206875108)\n",
      "('Santa Cruz County', 0.0110906998193474)\n",
      "('Humboldt County', 0.000653677306255246)\n",
      "('Kern County', 0.00010599894477455)\n",
      "('Tuolumne County', 0.00124627472229748)\n",
      "('Imperial County', 0.0030768701870187)\n",
      "('Stanislaus County', 0.00220817062005664)\n",
      "('Sonoma County', 0.00175870777344703)\n",
      "('San Bernardino County', 0.00175313604001553)\n",
      "('Riverside County', 0.00128331539279727)\n",
      "('Sacramento County', 0.00191360513339555)\n",
      "('Marin County', 0.000281289494431657)\n",
      "('Yuba County', 0.00106714711385212)\n",
      "('Santa Barbara County', 0.000134467261939867)\n"
     ]
    }
   ],
   "source": [
    "print(len(population_counties))\n",
    "for county in population_counties:\n",
    "    print(county)"
   ]
  },
  {
   "cell_type": "code",
   "execution_count": 11,
   "metadata": {
    "collapsed": false
   },
   "outputs": [],
   "source": [
    "population_counties = [(county[0],county[1]*100) for county in population_counties]"
   ]
  },
  {
   "cell_type": "code",
   "execution_count": 12,
   "metadata": {
    "collapsed": false
   },
   "outputs": [
    {
     "data": {
      "text/plain": [
       "[('Del Norte County', 0.32855644879412804),\n",
       " ('San Luis Obispo County', 0.117565467647244),\n",
       " ('Sutter County', 0.48766585389024397),\n",
       " ('San Diego County', 0.0299808129258657),\n",
       " ('Calaveras County', 0.0175523278774848),\n",
       " ('Mariposa County', 0.0109583036545943),\n",
       " ('Mendocino County', 0.36315615714757304),\n",
       " ('San Mateo County', 1.39063067627437),\n",
       " ('Lake County', 0.31547204824866604),\n",
       " ('Amador County', 0.294032711139114),\n",
       " ('Napa County', 0.520940183464728),\n",
       " ('San Joaquin County', 0.250545012009234),\n",
       " ('Fresno County', 0.047073996453329),\n",
       " ('Placer County', 0.0232470037195206),\n",
       " ('Lassen County', 0.05731480154749959),\n",
       " ('Alpine County', 0.0851063829787234),\n",
       " ('Santa Clara County', 1.2123086456201602),\n",
       " ('Madera County', 0.15709409074338002),\n",
       " ('Yolo County', 0.222555252951222),\n",
       " ('Trinity County', 0.0507761497171043),\n",
       " ('Glenn County', 1.28369248275372),\n",
       " ('Los Angeles County', 0.0389566542293941),\n",
       " ('Alameda County', 1.10768199879359),\n",
       " ('Plumas County', 0.264907282451142),\n",
       " ('San Benito County', 0.385387830429355),\n",
       " ('Tehama County', 0.43174763247876696),\n",
       " ('Shasta County', 0.178870688341807),\n",
       " ('Orange County', 0.0252472234698189),\n",
       " ('El Dorado County', 0.0419754995636757),\n",
       " ('Siskiyou County', 0.220489977728285),\n",
       " ('Kings County', 0.0111124184544587),\n",
       " ('Butte County', 0.194545454545455),\n",
       " ('Solano County', 0.10040063482232701),\n",
       " ('San Francisco County', 2.30789769446187),\n",
       " ('Nevada County', 0.055688307480458506),\n",
       " ('Merced County', 0.426125812668838),\n",
       " ('Monterey County', 0.19274461098114198),\n",
       " ('Contra Costa County', 0.185982221586711),\n",
       " ('Ventura County', 0.153282206875108),\n",
       " ('Santa Cruz County', 1.10906998193474),\n",
       " ('Humboldt County', 0.06536773062552459),\n",
       " ('Kern County', 0.010599894477455),\n",
       " ('Tuolumne County', 0.124627472229748),\n",
       " ('Imperial County', 0.30768701870187),\n",
       " ('Stanislaus County', 0.22081706200566398),\n",
       " ('Sonoma County', 0.175870777344703),\n",
       " ('San Bernardino County', 0.175313604001553),\n",
       " ('Riverside County', 0.12833153927972699),\n",
       " ('Sacramento County', 0.19136051333955498),\n",
       " ('Marin County', 0.028128949443165702),\n",
       " ('Yuba County', 0.106714711385212),\n",
       " ('Santa Barbara County', 0.013446726193986699)]"
      ]
     },
     "execution_count": 12,
     "metadata": {},
     "output_type": "execute_result"
    }
   ],
   "source": [
    "population_counties"
   ]
  },
  {
   "cell_type": "code",
   "execution_count": 14,
   "metadata": {
    "collapsed": false,
    "scrolled": true
   },
   "outputs": [],
   "source": [
    "counties_list = population_counties[0]\n",
    "per_capita_pop = population_counties[1]\n",
    "\n",
    "plt.bar(counties_list, per_capita_pop, align='center')\n",
    "\n",
    "# plt.bar(x2, y2, color='g', align='center')\n",
    "\n",
    "plt.title('Epic Info')\n",
    "plt.ylabel('Y axis')\n",
    "plt.xlabel('X axis')\n",
    "\n",
    "plt.show()"
   ]
  },
  {
   "cell_type": "code",
   "execution_count": 28,
   "metadata": {
    "collapsed": true
   },
   "outputs": [],
   "source": [
    "plt.style.use('ggplot')"
   ]
  },
  {
   "cell_type": "code",
   "execution_count": 30,
   "metadata": {
    "collapsed": false
   },
   "outputs": [
    {
     "data": {
      "image/png": "[encoded data removed]",
      "text/plain": [
       "<matplotlib.figure.Figure at 0x10f52ac88>"
      ]
     },
     "metadata": {},
     "output_type": "display_data"
    }
   ],
   "source": [
    "plt.figure(figsize=(15,5))\n",
    "\n",
    "population_counties = sorted(population_counties, key=lambda tup:tup[1])\n",
    "\n",
    "counties_list = [county[0] for county in population_counties]\n",
    "per_capita_pop = [pop[1] for pop in population_counties]\n",
    "\n",
    "N = len(population_counties)\n",
    "\n",
    "counties_list = [county[0] for county in population_counties]\n",
    "per_capita_pop = [pop[1] for pop in population_counties]\n",
    "\n",
    "ind = np.arange(N)  # the x locations for the groups\n",
    "width = 0.5       # the width of the bars\n",
    "\n",
    "#fig, ax = plt.subplots()\n",
    "rects1 = plt.bar(ind, per_capita_pop, width=width, color='r')\n",
    "\n",
    "# plt.xticks(N + width, ('A', 'B', 'C', 'D', 'E'))\n",
    "plt.xticks(range(N),counties_list, rotation=90)\n",
    "\n",
    "plt.show()"
   ]
  },
  {
   "cell_type": "markdown",
   "metadata": {
    "collapsed": false
   },
   "source": [
    "##TASK III"
   ]
  },
  {
   "cell_type": "code",
   "execution_count": 32,
   "metadata": {
    "collapsed": false
   },
   "outputs": [
    {
     "data": {
      "text/html": [
       "<div>\n",
       "<table border=\"1\" class=\"dataframe\">\n",
       "  <thead>\n",
       "    <tr style=\"text-align: right;\">\n",
       "      <th></th>\n",
       "      <th>id</th>\n",
       "      <th>lat</th>\n",
       "      <th>lng</th>\n",
       "      <th>text</th>\n",
       "      <th>timeStamp</th>\n",
       "      <th>user_id</th>\n",
       "    </tr>\n",
       "  </thead>\n",
       "  <tbody>\n",
       "    <tr>\n",
       "      <th>16598</th>\n",
       "      <td>378189967014379520</td>\n",
       "      <td>34.09714</td>\n",
       "      <td>-118.3635</td>\n",
       "      <td>@DarrenArsenal1 Alexi Lalas</td>\n",
       "      <td>Thu Sep 12 16:14:49 +0000 2013</td>\n",
       "      <td>172710354</td>\n",
       "    </tr>\n",
       "  </tbody>\n",
       "</table>\n",
       "</div>"
      ],
      "text/plain": [
       "                       id       lat       lng                         text  \\\n",
       "16598  378189967014379520  34.09714 -118.3635  @DarrenArsenal1 Alexi Lalas   \n",
       "\n",
       "                            timeStamp    user_id  \n",
       "16598  Thu Sep 12 16:14:49 +0000 2013  172710354  "
      ]
     },
     "execution_count": 32,
     "metadata": {},
     "output_type": "execute_result"
    }
   ],
   "source": [
    "tweets_df = pd.DataFrame(tweets_array, columns=['id','lat','lng','text', 'timeStamp','user_id'])\n",
    "tweets_df.loc[tweets_df['id']==378189967014379520]\n"
   ]
  },
  {
   "cell_type": "code",
   "execution_count": 6,
   "metadata": {
    "collapsed": false
   },
   "outputs": [],
   "source": [
    "# with open('tweets_1M.json','r') as f:\n",
    "#     tweets = json.load(f)\n",
    "# (tweets)[:5]"
   ]
  },
  {
   "cell_type": "code",
   "execution_count": 6,
   "metadata": {
    "collapsed": true
   },
   "outputs": [],
   "source": [
    "mongo_client = MongoClient()\n",
    "mongo_db = mongo_client.hw2_C263_db\n",
    "tweets_collection = mongo_db.tweets\n",
    "#mongo_client.close()"
   ]
  },
  {
   "cell_type": "code",
   "execution_count": 31,
   "metadata": {
    "collapsed": false
   },
   "outputs": [],
   "source": [
    "for i in range(len(tweets_array)):\n",
    "    tweet = {'id': tweets_array[i][0] ,'text' : tweets_array[i][3],'user_id':tweets_array[i][5],'location' : {'type':'Point','coordinates':[tweets_array[i][2],tweets_array[i][1]]}}\n",
    "    tweets_collection.insert(tweet)"
   ]
  },
  {
   "cell_type": "code",
   "execution_count": 13,
   "metadata": {
    "collapsed": false
   },
   "outputs": [
    {
     "data": {
      "text/plain": [
       "Collection(Database(MongoClient('localhost', 27017), 'hw2_C263_db'), 'tweets')"
      ]
     },
     "execution_count": 13,
     "metadata": {},
     "output_type": "execute_result"
    }
   ],
   "source": [
    "tweets_collection"
   ]
  },
  {
   "cell_type": "code",
   "execution_count": 14,
   "metadata": {
    "collapsed": false
   },
   "outputs": [
    {
     "data": {
      "text/plain": [
       "['tweets', 'tweets_mongo_db']"
      ]
     },
     "execution_count": 14,
     "metadata": {},
     "output_type": "execute_result"
    }
   ],
   "source": [
    "mongo_db.collection_names(include_system_collections=False)"
   ]
  },
  {
   "cell_type": "code",
   "execution_count": 37,
   "metadata": {
    "collapsed": false
   },
   "outputs": [
    {
     "data": {
      "text/plain": [
       "'location_2dsphere'"
      ]
     },
     "execution_count": 37,
     "metadata": {},
     "output_type": "execute_result"
    }
   ],
   "source": [
    "tweets_collection.create_index([('location','2dsphere')])"
   ]
  },
  {
   "cell_type": "code",
   "execution_count": 38,
   "metadata": {
    "collapsed": false
   },
   "outputs": [
    {
     "name": "stdout",
     "output_type": "stream",
     "text": [
      "2\n",
      "[{'_id': ObjectId('561f730d4306f905e5a0cc49'),\n",
      "  'id': 378189982248091648,\n",
      "  'location': {'coordinates': [-122.40190047, 37.78914447], 'type': 'Point'},\n",
      "  'text': 'According to a study at #UCBerkeley, each #tech #job in SF '\n",
      "          'creates 5 nontech positions. Who am I supporting... Uber? '\n",
      "          'laundry services? Food?',\n",
      "  'user_id': 1138308091},\n",
      " {'_id': ObjectId('561f75554306f905e5a252e9'),\n",
      "  'id': 378189982248091648,\n",
      "  'location': {'coordinates': [-122.40190047, 37.78914447], 'type': 'Point'},\n",
      "  'text': 'According to a study at #UCBerkeley, each #tech #job in SF '\n",
      "          'creates 5 nontech positions. Who am I supporting... Uber? '\n",
      "          'laundry services? Food?',\n",
      "  'user_id': 1138308091}]\n"
     ]
    }
   ],
   "source": [
    "pp = pprint.PrettyPrinter(indent=1)\n",
    "\n",
    "user_tweets = tweets_collection.find({'user_id': 1138308091})\n",
    "select_id = [tweet for tweet in user_tweets]\n",
    "print(len(select_id))\n",
    "pp.pprint(select_id)"
   ]
  },
  {
   "cell_type": "code",
   "execution_count": 39,
   "metadata": {
    "collapsed": false
   },
   "outputs": [
    {
     "name": "stdout",
     "output_type": "stream",
     "text": [
      "[{'_id': ObjectId('561f730d4306f905e5a0cc48'),\n",
      "  'id': 378189967014379520,\n",
      "  'location': {'coordinates': [-118.36353256, 34.0971366], 'type': 'Point'},\n",
      "  'text': '@DarrenArsenal1 Alexi Lalas',\n",
      "  'user_id': 172710354},\n",
      " {'_id': ObjectId('561f75554306f905e5a252e8'),\n",
      "  'id': 378189967014379520,\n",
      "  'location': {'coordinates': [-118.36353256, 34.0971366], 'type': 'Point'},\n",
      "  'text': '@DarrenArsenal1 Alexi Lalas',\n",
      "  'user_id': 172710354}]\n"
     ]
    }
   ],
   "source": [
    "user_tweets_2 = tweets_collection.find({'id':(378189967014379520)})\n",
    "select_id_2 = [tweet for tweet in user_tweets_2]\n",
    "pp.pprint(select_id_2)"
   ]
  },
  {
   "cell_type": "code",
   "execution_count": 14,
   "metadata": {
    "collapsed": false
   },
   "outputs": [],
   "source": [
    "# test_user_tweets = tweets_db.find({'user_id':1234})\n",
    "\n",
    "# for tweet in test_user_tweets:\n",
    "#     print(tweet)"
   ]
  },
  {
   "cell_type": "code",
   "execution_count": 62,
   "metadata": {
    "collapsed": false
   },
   "outputs": [
    {
     "name": "stdout",
     "output_type": "stream",
     "text": [
      "{'_id': ObjectId('561f730d4306f905e5a0cc48'),\n",
      " 'id': 378189967014379520,\n",
      " 'location': {'coordinates': [-118.36353256, 34.0971366], 'type': 'Point'},\n",
      " 'text': '@DarrenArsenal1 Alexi Lalas',\n",
      " 'user_id': 172710354}\n",
      "{'_id': ObjectId('561f75554306f905e5a252e8'),\n",
      " 'id': 378189967014379520,\n",
      " 'location': {'coordinates': [-118.36353256, 34.0971366], 'type': 'Point'},\n",
      " 'text': '@DarrenArsenal1 Alexi Lalas',\n",
      " 'user_id': 172710354}\n",
      "{'_id': ObjectId('561f731f4306f905e5a1dad1'),\n",
      " 'id': 378804260684566528,\n",
      " 'location': {'coordinates': [-118.3762633, 34.08889411], 'type': 'Point'},\n",
      " 'text': 'لماذا لانعرف قيمة الوطن وافراده الا بمغادرته ؟ لاننا لا ندرك قيمة '\n",
      "         'الشيء الا عندما نغقده',\n",
      " 'user_id': 234142560}\n",
      "{'_id': ObjectId('561f756b4306f905e5a36171'),\n",
      " 'id': 378804260684566528,\n",
      " 'location': {'coordinates': [-118.3762633, 34.08889411], 'type': 'Point'},\n",
      " 'text': 'لماذا لانعرف قيمة الوطن وافراده الا بمغادرته ؟ لاننا لا ندرك قيمة '\n",
      "         'الشيء الا عندما نغقده',\n",
      " 'user_id': 234142560}\n",
      "{'_id': ObjectId('561f73114306f905e5a10747'),\n",
      " 'id': 378324731700969472,\n",
      " 'location': {'coordinates': [-118.358334, 34.076045], 'type': 'Point'},\n",
      " 'text': 'Gotta love it.....😑 @ CBS Television City  Studio 56 '\n",
      "         'http://t.co/YAJQXng1YR',\n",
      " 'user_id': 188671833}\n",
      "{'_id': ObjectId('561f755b4306f905e5a28de7'),\n",
      " 'id': 378324731700969472,\n",
      " 'location': {'coordinates': [-118.358334, 34.076045], 'type': 'Point'},\n",
      " 'text': 'Gotta love it.....😑 @ CBS Television City  Studio 56 '\n",
      "         'http://t.co/YAJQXng1YR',\n",
      " 'user_id': 188671833}\n",
      "{'_id': ObjectId('561f731b4306f905e5a19b54'),\n",
      " 'id': 378684607824408576,\n",
      " 'location': {'coordinates': [-118.358334, 34.076045], 'type': 'Point'},\n",
      " 'text': 'Just a friendly reminder that this happened and you should watch '\n",
      "         'it tonight on CBS! @ CBS Television… http://t.co/A7Nfh7L0hu',\n",
      " 'user_id': 21092683}\n",
      "{'_id': ObjectId('561f75664306f905e5a321f4'),\n",
      " 'id': 378684607824408576,\n",
      " 'location': {'coordinates': [-118.358334, 34.076045], 'type': 'Point'},\n",
      " 'text': 'Just a friendly reminder that this happened and you should watch '\n",
      "         'it tonight on CBS! @ CBS Television… http://t.co/A7Nfh7L0hu',\n",
      " 'user_id': 21092683}\n",
      "{'_id': ObjectId('561f73164306f905e5a14dff'),\n",
      " 'id': 378424481728847873,\n",
      " 'location': {'coordinates': [-118.39301278, 34.08976509], 'type': 'Point'},\n",
      " 'text': '“@LeonardFriend: @Trios22 @YariHer UMMM hello you can tag me too!” '\n",
      "         'Miss you guys !',\n",
      " 'user_id': 73520654}\n",
      "{'_id': ObjectId('561f75604306f905e5a2d49f'),\n",
      " 'id': 378424481728847873,\n",
      " 'location': {'coordinates': [-118.39301278, 34.08976509], 'type': 'Point'},\n",
      " 'text': '“@LeonardFriend: @Trios22 @YariHer UMMM hello you can tag me too!” '\n",
      "         'Miss you guys !',\n",
      " 'user_id': 73520654}\n"
     ]
    }
   ],
   "source": [
    "for doc in tweets_collection.find({\"location\" : \n",
    "                                   SON([(\"$near\", { \"$geometry\" : \n",
    "                                                   SON([(\"type\", \"Point\"), \n",
    "                                                        (\"coordinates\", [-118.36353256, 34.0971366])])})])}).limit(10):\n",
    "    pp.pprint(doc)"
   ]
  },
  {
   "cell_type": "code",
   "execution_count": 72,
   "metadata": {
    "collapsed": false
   },
   "outputs": [
    {
     "name": "stdout",
     "output_type": "stream",
     "text": [
      "{'_id': ObjectId('561f730d4306f905e5a0cddf'),\n",
      " 'id': 378194217618907136,\n",
      " 'location': {'coordinates': [-122.40468979, 37.80663069], 'type': 'Point'},\n",
      " 'text': 'A visitar La Roca, aunque el día no acompaña mucho. Esperemos que '\n",
      "         'mejore. (@ Alcatraz Cruises w/ 6 others) http://t.co/7Kp4p22Qi1',\n",
      " 'user_id': 23316637}\n",
      "{'_id': ObjectId('561f730e4306f905e5a0db47'),\n",
      " 'id': 378228698219954178,\n",
      " 'location': {'coordinates': [-122.40629983, 37.80731867], 'type': 'Point'},\n",
      " 'text': 'Stay calm and watch Brother Theodore.',\n",
      " 'user_id': 261008800}\n",
      "{'_id': ObjectId('561f73104306f905e5a0ff00'),\n",
      " 'id': 378308249226731520,\n",
      " 'location': {'coordinates': [-122.40693, 37.80787], 'type': 'Point'},\n",
      " 'text': 'Ayo cari es kriiiim...katanya es krim di pelabuhan sini enak 😋 (at '\n",
      "         'Pier 39) [pic] — https://t.co/hPj2noWdEF',\n",
      " 'user_id': 37024815}\n",
      "{'_id': ObjectId('561f73114306f905e5a10743'),\n",
      " 'id': 378324675010781184,\n",
      " 'location': {'coordinates': [-122.40473536, 37.80665726], 'type': 'Point'},\n",
      " 'text': 'Waiting in line for Alcatraz Island (@ Pier 33) '\n",
      "         'http://t.co/K6qUhisAwV',\n",
      " 'user_id': 442264832}\n",
      "{'_id': ObjectId('561f73124306f905e5a11944'),\n",
      " 'id': 378352024548835328,\n",
      " 'location': {'coordinates': [-122.40468979, 37.80663069], 'type': 'Point'},\n",
      " 'text': 'Mouse ears hoodie-girl. @ Alcatraz Cruises http://t.co/Rh5MclmZ1j',\n",
      " 'user_id': 46520037}\n",
      "{'_id': ObjectId('561f73164306f905e5a15a14'),\n",
      " 'id': 378527060471607296,\n",
      " 'location': {'coordinates': [-122.40668792, 37.80734788], 'type': 'Point'},\n",
      " 'text': 'Morning run in SF. @ Pier 35 http://t.co/w4aRQXBz3z',\n",
      " 'user_id': 95448331}\n",
      "{'_id': ObjectId('561f73174306f905e5a15c7d'),\n",
      " 'id': 378535148356390912,\n",
      " 'location': {'coordinates': [-122.40473536, 37.80665726], 'type': 'Point'},\n",
      " 'text': \"I'm at Pier 33 (San Francisco, CA) http://t.co/T0Ykr23ybG\",\n",
      " 'user_id': 39383225}\n",
      "{'_id': ObjectId('561f73174306f905e5a15c88'),\n",
      " 'id': 378535265218076672,\n",
      " 'location': {'coordinates': [-122.40468979, 37.80663069], 'type': 'Point'},\n",
      " 'text': \"I'm at Alcatraz Cruises (San Francisco, CA) http://t.co/fgy70JoV2r\",\n",
      " 'user_id': 39383225}\n",
      "{'_id': ObjectId('561f73174306f905e5a1673d'),\n",
      " 'id': 378563761604681728,\n",
      " 'location': {'coordinates': [-122.40468979, 37.80663069], 'type': 'Point'},\n",
      " 'text': 'Alcatraz Island @ Alcatraz Cruises http://t.co/vF3rqPoFWl',\n",
      " 'user_id': 242098131}\n",
      "{'_id': ObjectId('561f73174306f905e5a169de'),\n",
      " 'id': 378570056269320193,\n",
      " 'location': {'coordinates': [-122.40468979, 37.80663069], 'type': 'Point'},\n",
      " 'text': \"I'm at Alcatraz Cruises (San Francisco, CA) w/ 6 others \"\n",
      "         'http://t.co/Wsg6g7r55v',\n",
      " 'user_id': 14460601}\n",
      "{'_id': ObjectId('561f73184306f905e5a1735b'),\n",
      " 'id': 378593038744190976,\n",
      " 'location': {'coordinates': [-122.40468979, 37.80663069], 'type': 'Point'},\n",
      " 'text': 'Alcatraz Planter, Lighthouse Keeper @ Alcatraz Cruises '\n",
      "         'http://t.co/ZjLiGq89eP',\n",
      " 'user_id': 18466593}\n",
      "{'_id': ObjectId('561f73194306f905e5a17d2e'),\n",
      " 'id': 378615017509105664,\n",
      " 'location': {'coordinates': [-122.40478847, 37.80653692], 'type': 'Point'},\n",
      " 'text': '@SophieWestbeech THEY DID THE SAME WITH ME',\n",
      " 'user_id': 329216053}\n",
      "{'_id': ObjectId('561f73194306f905e5a183d2'),\n",
      " 'id': 378632587926728704,\n",
      " 'location': {'coordinates': [-122.4047951, 37.80671534], 'type': 'Point'},\n",
      " 'text': '@RBonache muy chulo, igual que en pelis/series :)',\n",
      " 'user_id': 14460601}\n",
      "{'_id': ObjectId('561f73194306f905e5a18414'),\n",
      " 'id': 378633313130274816,\n",
      " 'location': {'coordinates': [-122.40476514, 37.80665816], 'type': 'Point'},\n",
      " 'text': '14:36 a buscar un sitio para comer cerca del embarcadero - San '\n",
      "         'Francisco',\n",
      " 'user_id': 14460601}\n",
      "{'_id': ObjectId('561f731d4306f905e5a1c483'),\n",
      " 'id': 378753708643082240,\n",
      " 'location': {'coordinates': [-122.40542678, 37.80677886], 'type': 'Point'},\n",
      " 'text': \"I'm at Butterfly Restaurant (San Francisco, CA) \"\n",
      "         'http://t.co/N6I81BGfBf',\n",
      " 'user_id': 14319867}\n",
      "{'_id': ObjectId('561f73214306f905e5a1fab3'),\n",
      " 'id': 378951197337866240,\n",
      " 'location': {'coordinates': [-122.40468979, 37.80663069], 'type': 'Point'},\n",
      " 'text': \"I'm at Alcatraz Cruises w/ @emirhansutcu https://t.co/cpLWE7rsnQ\",\n",
      " 'user_id': 617536762}\n",
      "{'_id': ObjectId('561f73214306f905e5a1fb49'),\n",
      " 'id': 378952268063977472,\n",
      " 'location': {'coordinates': [-122.40468979, 37.80663069], 'type': 'Point'},\n",
      " 'text': \"I'm at Alcatraz Cruises (San Francisco, CA) w/ 6 others \"\n",
      "         'http://t.co/rPhOjbdGP0',\n",
      " 'user_id': 492542968}\n",
      "{'_id': ObjectId('561f73224306f905e5a20307'),\n",
      " 'id': 378965134720630784,\n",
      " 'location': {'coordinates': [-122.40468979, 37.80663069], 'type': 'Point'},\n",
      " 'text': 'Вот такая очередь на погрузку в Алькатраз. @ Alcatraz Cruises '\n",
      "         'http://t.co/fykgtoHyoI',\n",
      " 'user_id': 88766291}\n",
      "{'_id': ObjectId('561f75554306f905e5a2547f'),\n",
      " 'id': 378194217618907136,\n",
      " 'location': {'coordinates': [-122.40468979, 37.80663069], 'type': 'Point'},\n",
      " 'text': 'A visitar La Roca, aunque el día no acompaña mucho. Esperemos que '\n",
      "         'mejore. (@ Alcatraz Cruises w/ 6 others) http://t.co/7Kp4p22Qi1',\n",
      " 'user_id': 23316637}\n",
      "{'_id': ObjectId('561f75564306f905e5a261e7'),\n",
      " 'id': 378228698219954178,\n",
      " 'location': {'coordinates': [-122.40629983, 37.80731867], 'type': 'Point'},\n",
      " 'text': 'Stay calm and watch Brother Theodore.',\n",
      " 'user_id': 261008800}\n",
      "{'_id': ObjectId('561f755a4306f905e5a285a0'),\n",
      " 'id': 378308249226731520,\n",
      " 'location': {'coordinates': [-122.40693, 37.80787], 'type': 'Point'},\n",
      " 'text': 'Ayo cari es kriiiim...katanya es krim di pelabuhan sini enak 😋 (at '\n",
      "         'Pier 39) [pic] — https://t.co/hPj2noWdEF',\n",
      " 'user_id': 37024815}\n",
      "{'_id': ObjectId('561f755b4306f905e5a28de3'),\n",
      " 'id': 378324675010781184,\n",
      " 'location': {'coordinates': [-122.40473536, 37.80665726], 'type': 'Point'},\n",
      " 'text': 'Waiting in line for Alcatraz Island (@ Pier 33) '\n",
      "         'http://t.co/K6qUhisAwV',\n",
      " 'user_id': 442264832}\n",
      "{'_id': ObjectId('561f755d4306f905e5a29fe4'),\n",
      " 'id': 378352024548835328,\n",
      " 'location': {'coordinates': [-122.40468979, 37.80663069], 'type': 'Point'},\n",
      " 'text': 'Mouse ears hoodie-girl. @ Alcatraz Cruises http://t.co/Rh5MclmZ1j',\n",
      " 'user_id': 46520037}\n",
      "{'_id': ObjectId('561f75614306f905e5a2e0b4'),\n",
      " 'id': 378527060471607296,\n",
      " 'location': {'coordinates': [-122.40668792, 37.80734788], 'type': 'Point'},\n",
      " 'text': 'Morning run in SF. @ Pier 35 http://t.co/w4aRQXBz3z',\n",
      " 'user_id': 95448331}\n",
      "{'_id': ObjectId('561f75624306f905e5a2e31d'),\n",
      " 'id': 378535148356390912,\n",
      " 'location': {'coordinates': [-122.40473536, 37.80665726], 'type': 'Point'},\n",
      " 'text': \"I'm at Pier 33 (San Francisco, CA) http://t.co/T0Ykr23ybG\",\n",
      " 'user_id': 39383225}\n",
      "{'_id': ObjectId('561f75624306f905e5a2e328'),\n",
      " 'id': 378535265218076672,\n",
      " 'location': {'coordinates': [-122.40468979, 37.80663069], 'type': 'Point'},\n",
      " 'text': \"I'm at Alcatraz Cruises (San Francisco, CA) http://t.co/fgy70JoV2r\",\n",
      " 'user_id': 39383225}\n",
      "{'_id': ObjectId('561f75624306f905e5a2eddd'),\n",
      " 'id': 378563761604681728,\n",
      " 'location': {'coordinates': [-122.40468979, 37.80663069], 'type': 'Point'},\n",
      " 'text': 'Alcatraz Island @ Alcatraz Cruises http://t.co/vF3rqPoFWl',\n",
      " 'user_id': 242098131}\n",
      "{'_id': ObjectId('561f75634306f905e5a2f07e'),\n",
      " 'id': 378570056269320193,\n",
      " 'location': {'coordinates': [-122.40468979, 37.80663069], 'type': 'Point'},\n",
      " 'text': \"I'm at Alcatraz Cruises (San Francisco, CA) w/ 6 others \"\n",
      "         'http://t.co/Wsg6g7r55v',\n",
      " 'user_id': 14460601}\n",
      "{'_id': ObjectId('561f75634306f905e5a2f9fb'),\n",
      " 'id': 378593038744190976,\n",
      " 'location': {'coordinates': [-122.40468979, 37.80663069], 'type': 'Point'},\n",
      " 'text': 'Alcatraz Planter, Lighthouse Keeper @ Alcatraz Cruises '\n",
      "         'http://t.co/ZjLiGq89eP',\n",
      " 'user_id': 18466593}\n",
      "{'_id': ObjectId('561f75644306f905e5a303ce'),\n",
      " 'id': 378615017509105664,\n",
      " 'location': {'coordinates': [-122.40478847, 37.80653692], 'type': 'Point'},\n",
      " 'text': '@SophieWestbeech THEY DID THE SAME WITH ME',\n",
      " 'user_id': 329216053}\n",
      "{'_id': ObjectId('561f75644306f905e5a30a72'),\n",
      " 'id': 378632587926728704,\n",
      " 'location': {'coordinates': [-122.4047951, 37.80671534], 'type': 'Point'},\n",
      " 'text': '@RBonache muy chulo, igual que en pelis/series :)',\n",
      " 'user_id': 14460601}\n",
      "{'_id': ObjectId('561f75644306f905e5a30ab4'),\n",
      " 'id': 378633313130274816,\n",
      " 'location': {'coordinates': [-122.40476514, 37.80665816], 'type': 'Point'},\n",
      " 'text': '14:36 a buscar un sitio para comer cerca del embarcadero - San '\n",
      "         'Francisco',\n",
      " 'user_id': 14460601}\n",
      "{'_id': ObjectId('561f756a4306f905e5a34b23'),\n",
      " 'id': 378753708643082240,\n",
      " 'location': {'coordinates': [-122.40542678, 37.80677886], 'type': 'Point'},\n",
      " 'text': \"I'm at Butterfly Restaurant (San Francisco, CA) \"\n",
      "         'http://t.co/N6I81BGfBf',\n",
      " 'user_id': 14319867}\n",
      "{'_id': ObjectId('561f756e4306f905e5a38153'),\n",
      " 'id': 378951197337866240,\n",
      " 'location': {'coordinates': [-122.40468979, 37.80663069], 'type': 'Point'},\n",
      " 'text': \"I'm at Alcatraz Cruises w/ @emirhansutcu https://t.co/cpLWE7rsnQ\",\n",
      " 'user_id': 617536762}\n",
      "{'_id': ObjectId('561f756e4306f905e5a381e9'),\n",
      " 'id': 378952268063977472,\n",
      " 'location': {'coordinates': [-122.40468979, 37.80663069], 'type': 'Point'},\n",
      " 'text': \"I'm at Alcatraz Cruises (San Francisco, CA) w/ 6 others \"\n",
      "         'http://t.co/rPhOjbdGP0',\n",
      " 'user_id': 492542968}\n",
      "{'_id': ObjectId('561f756f4306f905e5a389a7'),\n",
      " 'id': 378965134720630784,\n",
      " 'location': {'coordinates': [-122.40468979, 37.80663069], 'type': 'Point'},\n",
      " 'text': 'Вот такая очередь на погрузку в Алькатраз. @ Alcatraz Cruises '\n",
      "         'http://t.co/fykgtoHyoI',\n",
      " 'user_id': 88766291}\n",
      "{'_id': ObjectId('561f730f4306f905e5a0ecd3'),\n",
      " 'id': 378270094381428736,\n",
      " 'location': {'coordinates': [-122.40768332, 37.80514692], 'type': 'Point'},\n",
      " 'text': 'From Jack Early Park http://t.co/Gggjz4jVHw',\n",
      " 'user_id': 221934693}\n",
      "{'_id': ObjectId('561f73104306f905e5a0f2ae'),\n",
      " 'id': 378282248073523200,\n",
      " 'location': {'coordinates': [-122.41143378, 37.80497143], 'type': 'Point'},\n",
      " 'text': 'En San Francisco wifi gratis everywhere. Helados americanos!! '\n",
      "         'http://t.co/wKyci1nq9H',\n",
      " 'user_id': 71472902}\n",
      "{'_id': ObjectId('561f73104306f905e5a0f304'),\n",
      " 'id': 378282955925241856,\n",
      " 'location': {'coordinates': [-122.41178388, 37.80496034], 'type': 'Point'},\n",
      " 'text': 'Golden gate bridge http://t.co/dgkh5iS3Dp',\n",
      " 'user_id': 71472902}\n",
      "{'_id': ObjectId('561f73154306f905e5a14842'),\n",
      " 'id': 378409832472408064,\n",
      " 'location': {'coordinates': [-122.40899996, 37.80837911], 'type': 'Point'},\n",
      " 'text': '🚲 #vscocam #iphoneonly @ Pier 39 Playground http://t.co/zo3IBQa2gO',\n",
      " 'user_id': 85767157}\n",
      "{'_id': ObjectId('561f73164306f905e5a155eb'),\n",
      " 'id': 378506550740267008,\n",
      " 'location': {'coordinates': [-122.40803753, 37.80490438], 'type': 'Point'},\n",
      " 'text': 'Good morning. This photo is not an offer of bridges for sale. @ '\n",
      "         'Jack Early Park http://t.co/k4Hdde0sNe',\n",
      " 'user_id': 3034251}\n",
      "{'_id': ObjectId('561f731a4306f905e5a1983e'),\n",
      " 'id': 378677645195890689,\n",
      " 'location': {'coordinates': [-122.407341, 37.80801773], 'type': 'Point'},\n",
      " 'text': 'Just a nice little Friday night walk after work! @ Benches Between '\n",
      "         'Pier 35 and 39 http://t.co/dMTBKH9WHM',\n",
      " 'user_id': 26438984}\n",
      "{'_id': ObjectId('561f731b4306f905e5a1a108'),\n",
      " 'id': 378694502342721536,\n",
      " 'location': {'coordinates': [-122.40968581, 37.80513758], 'type': 'Point'},\n",
      " 'text': 'Chef Long who invited me to his culinary school graduation feast @ '\n",
      "         \"Tante Marie's Cooking School http://t.co/eSVp4s05Ow\",\n",
      " 'user_id': 25520423}\n",
      "{'_id': ObjectId('561f731f4306f905e5a1e0ed'),\n",
      " 'id': 378882825384394752,\n",
      " 'location': {'coordinates': [-122.40803753, 37.80490438], 'type': 'Point'},\n",
      " 'text': 'Brrr. @ Jack Early Park http://t.co/EzD4eRcGwi',\n",
      " 'user_id': 3034251}\n",
      "{'_id': ObjectId('561f73214306f905e5a1f75e'),\n",
      " 'id': 378945486524534784,\n",
      " 'location': {'coordinates': [-122.41023339, 37.80517963], 'type': 'Point'},\n",
      " 'text': 'Provisions. (@ Freddies Sandwiches) http://t.co/LIpd2e7mCW',\n",
      " 'user_id': 29270485}\n",
      "{'_id': ObjectId('561f75574306f905e5a27373'),\n",
      " 'id': 378270094381428736,\n",
      " 'location': {'coordinates': [-122.40768332, 37.80514692], 'type': 'Point'},\n",
      " 'text': 'From Jack Early Park http://t.co/Gggjz4jVHw',\n",
      " 'user_id': 221934693}\n",
      "{'_id': ObjectId('561f75584306f905e5a2794e'),\n",
      " 'id': 378282248073523200,\n",
      " 'location': {'coordinates': [-122.41143378, 37.80497143], 'type': 'Point'},\n",
      " 'text': 'En San Francisco wifi gratis everywhere. Helados americanos!! '\n",
      "         'http://t.co/wKyci1nq9H',\n",
      " 'user_id': 71472902}\n",
      "{'_id': ObjectId('561f75584306f905e5a279a4'),\n",
      " 'id': 378282955925241856,\n",
      " 'location': {'coordinates': [-122.41178388, 37.80496034], 'type': 'Point'},\n",
      " 'text': 'Golden gate bridge http://t.co/dgkh5iS3Dp',\n",
      " 'user_id': 71472902}\n",
      "{'_id': ObjectId('561f75604306f905e5a2cee2'),\n",
      " 'id': 378409832472408064,\n",
      " 'location': {'coordinates': [-122.40899996, 37.80837911], 'type': 'Point'},\n",
      " 'text': '🚲 #vscocam #iphoneonly @ Pier 39 Playground http://t.co/zo3IBQa2gO',\n",
      " 'user_id': 85767157}\n",
      "{'_id': ObjectId('561f75614306f905e5a2dc8b'),\n",
      " 'id': 378506550740267008,\n",
      " 'location': {'coordinates': [-122.40803753, 37.80490438], 'type': 'Point'},\n",
      " 'text': 'Good morning. This photo is not an offer of bridges for sale. @ '\n",
      "         'Jack Early Park http://t.co/k4Hdde0sNe',\n",
      " 'user_id': 3034251}\n",
      "{'_id': ObjectId('561f75664306f905e5a31ede'),\n",
      " 'id': 378677645195890689,\n",
      " 'location': {'coordinates': [-122.407341, 37.80801773], 'type': 'Point'},\n",
      " 'text': 'Just a nice little Friday night walk after work! @ Benches Between '\n",
      "         'Pier 35 and 39 http://t.co/dMTBKH9WHM',\n",
      " 'user_id': 26438984}\n",
      "{'_id': ObjectId('561f75674306f905e5a327a8'),\n",
      " 'id': 378694502342721536,\n",
      " 'location': {'coordinates': [-122.40968581, 37.80513758], 'type': 'Point'},\n",
      " 'text': 'Chef Long who invited me to his culinary school graduation feast @ '\n",
      "         \"Tante Marie's Cooking School http://t.co/eSVp4s05Ow\",\n",
      " 'user_id': 25520423}\n",
      "{'_id': ObjectId('561f756c4306f905e5a3678d'),\n",
      " 'id': 378882825384394752,\n",
      " 'location': {'coordinates': [-122.40803753, 37.80490438], 'type': 'Point'},\n",
      " 'text': 'Brrr. @ Jack Early Park http://t.co/EzD4eRcGwi',\n",
      " 'user_id': 3034251}\n",
      "{'_id': ObjectId('561f756e4306f905e5a37dfe'),\n",
      " 'id': 378945486524534784,\n",
      " 'location': {'coordinates': [-122.41023339, 37.80517963], 'type': 'Point'},\n",
      " 'text': 'Provisions. (@ Freddies Sandwiches) http://t.co/LIpd2e7mCW',\n",
      " 'user_id': 29270485}\n",
      "{'_id': ObjectId('561f73104306f905e5a0fc49'),\n",
      " 'id': 378301943187132416,\n",
      " 'location': {'coordinates': [-122.41004833, 37.80991333], 'type': 'Point'},\n",
      " 'text': 'Здесь много действительно больших кораблей и сухогрузы и круизные '\n",
      "         'суда.',\n",
      " 'user_id': 96743400}\n",
      "{'_id': ObjectId('561f73184306f905e5a1729e'),\n",
      " 'id': 378591188539817986,\n",
      " 'location': {'coordinates': [-122.41096532, 37.80916121], 'type': 'Point'},\n",
      " 'text': 'I mean I guess.',\n",
      " 'user_id': 46322086}\n",
      "{'_id': ObjectId('561f73194306f905e5a18096'),\n",
      " 'id': 378623957101854720,\n",
      " 'location': {'coordinates': [-122.41076346, 37.809024], 'type': 'Point'},\n",
      " 'text': 'PIER 39でランチ🍴💖 http://t.co/Hro99H7Ul4',\n",
      " 'user_id': 257339314}\n",
      "{'_id': ObjectId('561f73194306f905e5a1818d'),\n",
      " 'id': 378626734809038848,\n",
      " 'location': {'coordinates': [-122.41072442, 37.80919582], 'type': 'Point'},\n",
      " 'text': '@ziroubou1218 ちさってぃ先生やっててよかったって初めて思えました。ありがとう。卒業おめでとう！',\n",
      " 'user_id': 257339314}\n",
      "{'_id': ObjectId('561f73194306f905e5a182f8'),\n",
      " 'id': 378630616045989888,\n",
      " 'location': {'coordinates': [-122.41065301, 37.80917566], 'type': 'Point'},\n",
      " 'text': '@orenonamaehami すき！ちゅ💏',\n",
      " 'user_id': 257339314}\n",
      "{'_id': ObjectId('561f731b4306f905e5a19d34'),\n",
      " 'id': 378687720941289473,\n",
      " 'location': {'coordinates': [-122.41175003, 37.8087888], 'type': 'Point'},\n",
      " 'text': 'JUST MET LUCAS VERCETTI AT FISHERMANS WHARF @Lindseyyyy_lou '\n",
      "         '@haleyeagleson http://t.co/oeoGSpXNPw',\n",
      " 'user_id': 556466575}\n",
      "{'_id': ObjectId('561f731b4306f905e5a19d8a'),\n",
      " 'id': 378688316154998784,\n",
      " 'location': {'coordinates': [-122.41114468, 37.80926178], 'type': 'Point'},\n",
      " 'text': 'WHAT IS LIFE',\n",
      " 'user_id': 442522167}\n",
      "{'_id': ObjectId('561f73224306f905e5a20c63'),\n",
      " 'id': 378980584434843648,\n",
      " 'location': {'coordinates': [-122.409437, 37.809451], 'type': 'Point'},\n",
      " 'text': 'Coir Tower from on the boat. #joyous http://t.co/YSRfbUw2wB',\n",
      " 'user_id': 19847019}\n",
      "{'_id': ObjectId('561f755a4306f905e5a282e9'),\n",
      " 'id': 378301943187132416,\n",
      " 'location': {'coordinates': [-122.41004833, 37.80991333], 'type': 'Point'},\n",
      " 'text': 'Здесь много действительно больших кораблей и сухогрузы и круизные '\n",
      "         'суда.',\n",
      " 'user_id': 96743400}\n",
      "{'_id': ObjectId('561f75634306f905e5a2f93e'),\n",
      " 'id': 378591188539817986,\n",
      " 'location': {'coordinates': [-122.41096532, 37.80916121], 'type': 'Point'},\n",
      " 'text': 'I mean I guess.',\n",
      " 'user_id': 46322086}\n",
      "{'_id': ObjectId('561f75644306f905e5a30736'),\n",
      " 'id': 378623957101854720,\n",
      " 'location': {'coordinates': [-122.41076346, 37.809024], 'type': 'Point'},\n",
      " 'text': 'PIER 39でランチ🍴💖 http://t.co/Hro99H7Ul4',\n",
      " 'user_id': 257339314}\n",
      "{'_id': ObjectId('561f75644306f905e5a3082d'),\n",
      " 'id': 378626734809038848,\n",
      " 'location': {'coordinates': [-122.41072442, 37.80919582], 'type': 'Point'},\n",
      " 'text': '@ziroubou1218 ちさってぃ先生やっててよかったって初めて思えました。ありがとう。卒業おめでとう！',\n",
      " 'user_id': 257339314}\n",
      "{'_id': ObjectId('561f75644306f905e5a30998'),\n",
      " 'id': 378630616045989888,\n",
      " 'location': {'coordinates': [-122.41065301, 37.80917566], 'type': 'Point'},\n",
      " 'text': '@orenonamaehami すき！ちゅ💏',\n",
      " 'user_id': 257339314}\n",
      "{'_id': ObjectId('561f75664306f905e5a323d4'),\n",
      " 'id': 378687720941289473,\n",
      " 'location': {'coordinates': [-122.41175003, 37.8087888], 'type': 'Point'},\n",
      " 'text': 'JUST MET LUCAS VERCETTI AT FISHERMANS WHARF @Lindseyyyy_lou '\n",
      "         '@haleyeagleson http://t.co/oeoGSpXNPw',\n",
      " 'user_id': 556466575}\n",
      "{'_id': ObjectId('561f75664306f905e5a3242a'),\n",
      " 'id': 378688316154998784,\n",
      " 'location': {'coordinates': [-122.41114468, 37.80926178], 'type': 'Point'},\n",
      " 'text': 'WHAT IS LIFE',\n",
      " 'user_id': 442522167}\n",
      "{'_id': ObjectId('561f756f4306f905e5a39303'),\n",
      " 'id': 378980584434843648,\n",
      " 'location': {'coordinates': [-122.409437, 37.809451], 'type': 'Point'},\n",
      " 'text': 'Coir Tower from on the boat. #joyous http://t.co/YSRfbUw2wB',\n",
      " 'user_id': 19847019}\n"
     ]
    }
   ],
   "source": [
    "poly_list = []\n",
    "for poly in tweets_collection.find({\"location\" : \n",
    "                                   SON([(\"$geoWithin\", { \"$geometry\" : \n",
    "                                                   SON([(\"type\", \"Polygon\"), \n",
    "                                                        (\"coordinates\", [[[-122.412,37.810],[-122.412,37.804],[-122.403,37.806],[-122.407,37.810],[-122.412,37.810]]])])})])}):\n",
    "    poly_list.append(poly)\n",
    "    pp.pprint(poly)\n",
    "\n",
    "    \n",
    "#len(poly_list)\n",
    "#     {'type':'Polygon','coordinates':[[[-122.412,37.810],[-\n",
    "# 122.412,37.804],[-122.403,37.806],[-122.407,37.810],[-122.412,\n",
    "# 37.810]]]}\n",
    "    \n",
    "# {\n",
    "#    <location field>: {\n",
    "#       $geoWithin: {\n",
    "#          $geometry: {\n",
    "#             type: <\"Polygon\" or \"MultiPolygon\"> ,\n",
    "#             coordinates: [ <coordinates> ]\n",
    "#          }\n",
    "#       }\n",
    "#    }\n",
    "# }"
   ]
  },
  {
   "cell_type": "code",
   "execution_count": 31,
   "metadata": {
    "collapsed": false
   },
   "outputs": [
    {
     "data": {
      "text/plain": [
       "{'n': 1, 'nModified': 0, 'ok': 1, 'updatedExisting': True}"
      ]
     },
     "execution_count": 31,
     "metadata": {},
     "output_type": "execute_result"
    }
   ],
   "source": [
    "tweets_db.update({\"user_id\":1234},{\"$set\":{\"cluster_id\":12}})"
   ]
  },
  {
   "cell_type": "code",
   "execution_count": 33,
   "metadata": {
    "collapsed": false
   },
   "outputs": [
    {
     "name": "stdout",
     "output_type": "stream",
     "text": [
      "{'text': 'hello_world', 'user_id': 1234, 'location': {'coordinates': [-122.4167, 37.7833], 'type': 'Point'}, 'cluster_id': 12, '_id': ObjectId('561eeff09c4ed817f8bec5b6'), 'id': 1234}\n",
      "{'text': 'hello_world', 'location': {'coordinates': [-122.4167, 37.7833], 'type': 'Point'}, '_id': ObjectId('561ef0509c4ed817f8bec5b7'), 'user_id': 1234, 'id': 1234}\n"
     ]
    }
   ],
   "source": [
    "test_user_tweets = tweets_db.find({'user_id':1234})\n",
    "\n",
    "for tweet in test_user_tweets:\n",
    "    print(tweet)"
   ]
  },
  {
   "cell_type": "code",
   "execution_count": 34,
   "metadata": {
    "collapsed": false
   },
   "outputs": [
    {
     "ename": "SyntaxError",
     "evalue": "invalid syntax (<ipython-input-34-5cf530a24cd3>, line 1)",
     "output_type": "error",
     "traceback": [
      "\u001b[0;36m  File \u001b[0;32m\"<ipython-input-34-5cf530a24cd3>\"\u001b[0;36m, line \u001b[0;32m1\u001b[0m\n\u001b[0;31m    use mydb\u001b[0m\n\u001b[0m           ^\u001b[0m\n\u001b[0;31mSyntaxError\u001b[0m\u001b[0;31m:\u001b[0m invalid syntax\n"
     ]
    }
   ],
   "source": [
    "use mydb"
   ]
  },
  {
   "cell_type": "code",
   "execution_count": 37,
   "metadata": {
    "collapsed": true
   },
   "outputs": [],
   "source": [
    "mongo_client = MongoClient()\n",
    "mongo_db = mongo_client.tweets_mongo_db\n",
    "tweets_collection = mongo_db.tweets\n",
    "# mongo_client.close()"
   ]
  },
  {
   "cell_type": "code",
   "execution_count": 36,
   "metadata": {
    "collapsed": true
   },
   "outputs": [],
   "source": [
    "#mongo_client.close()"
   ]
  },
  {
   "cell_type": "code",
   "execution_count": null,
   "metadata": {
    "collapsed": true
   },
   "outputs": [],
   "source": [
    "for i in range(len(tweets)):\n",
    "    tweet = { 'id': tweets[i][0] ,\n",
    "             'text' : tweets[i][3],\n",
    "             'user_id':tweets[i][5],\n",
    "             'location' : {'type':'Point','coordinates':[tweets[i][2],tweets[i][1]]}}\n",
    "    tweets.insert(tweet)"
   ]
  }
 ],
 "metadata": {
  "kernelspec": {
   "display_name": "Python 3",
   "language": "python",
   "name": "python3"
  },
  "language_info": {
   "codemirror_mode": {
    "name": "ipython",
    "version": 3
   },
   "file_extension": ".py",
   "mimetype": "text/x-python",
   "name": "python",
   "nbconvert_exporter": "python",
   "pygments_lexer": "ipython3",
   "version": "3.4.3"
  }
 },
 "nbformat": 4,
 "nbformat_minor": 0
}
