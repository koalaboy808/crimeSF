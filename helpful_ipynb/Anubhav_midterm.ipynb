{
 "cells": [
  {
   "cell_type": "code",
   "execution_count": 65,
   "metadata": {
    "collapsed": false
   },
   "outputs": [],
   "source": [
    "import pandas as pd\n",
    "from sklearn.ensemble import RandomForestRegressor\n",
    "from sklearn.ensemble import GradientBoostingRegressor\n",
    "from sklearn.ensemble import ExtraTreesRegressor\n",
    "from sklearn import cross_validation\n",
    "import numpy as np\n",
    "from sklearn.cross_validation import cross_val_score\n",
    "import time\n",
    "from datetime import datetime, timedelta\n",
    "from sklearn.metrics import mean_squared_error\n",
    "import matplotlib.pyplot as plt\n",
    "from sklearn.pipeline import Pipeline\n",
    "from sklearn.svm import LinearSVC"
   ]
  },
  {
   "cell_type": "code",
   "execution_count": 66,
   "metadata": {
    "collapsed": false
   },
   "outputs": [
    {
     "data": {
      "text/html": [
       "<div>\n",
       "<table border=\"1\" class=\"dataframe\">\n",
       "  <thead>\n",
       "    <tr style=\"text-align: right;\">\n",
       "      <th></th>\n",
       "      <th>id</th>\n",
       "      <th>departure</th>\n",
       "      <th>arrival</th>\n",
       "      <th>fare</th>\n",
       "      <th>num</th>\n",
       "      <th>depx</th>\n",
       "      <th>depy</th>\n",
       "      <th>arrx</th>\n",
       "      <th>arry</th>\n",
       "      <th>deptaz</th>\n",
       "      <th>arrtaz</th>\n",
       "      <th>dist</th>\n",
       "      <th>timecost</th>\n",
       "      <th>distcost</th>\n",
       "    </tr>\n",
       "  </thead>\n",
       "  <tbody>\n",
       "    <tr>\n",
       "      <th>0</th>\n",
       "      <td>0</td>\n",
       "      <td>9/1/12 0:11</td>\n",
       "      <td>9/1/12 0:20</td>\n",
       "      <td>13.20</td>\n",
       "      <td>1</td>\n",
       "      <td>-122.413540</td>\n",
       "      <td>37.802683</td>\n",
       "      <td>-122.421277</td>\n",
       "      <td>37.785395</td>\n",
       "      <td>38</td>\n",
       "      <td>30</td>\n",
       "      <td>0.018940</td>\n",
       "      <td>0.081062</td>\n",
       "      <td>0.029604</td>\n",
       "    </tr>\n",
       "    <tr>\n",
       "      <th>1</th>\n",
       "      <td>1</td>\n",
       "      <td>9/1/12 0:23</td>\n",
       "      <td>9/1/12 0:31</td>\n",
       "      <td>10.65</td>\n",
       "      <td>1</td>\n",
       "      <td>-122.419700</td>\n",
       "      <td>37.786090</td>\n",
       "      <td>-122.435217</td>\n",
       "      <td>37.762177</td>\n",
       "      <td>30</td>\n",
       "      <td>94</td>\n",
       "      <td>0.028506</td>\n",
       "      <td>0.116872</td>\n",
       "      <td>0.036868</td>\n",
       "    </tr>\n",
       "    <tr>\n",
       "      <th>2</th>\n",
       "      <td>2</td>\n",
       "      <td>9/1/12 0:45</td>\n",
       "      <td>9/1/12 0:49</td>\n",
       "      <td>9.00</td>\n",
       "      <td>1</td>\n",
       "      <td>-122.415120</td>\n",
       "      <td>37.774672</td>\n",
       "      <td>-122.407657</td>\n",
       "      <td>37.782615</td>\n",
       "      <td>10</td>\n",
       "      <td>11</td>\n",
       "      <td>0.010899</td>\n",
       "      <td>0.008682</td>\n",
       "      <td>0.007640</td>\n",
       "    </tr>\n",
       "    <tr>\n",
       "      <th>3</th>\n",
       "      <td>3</td>\n",
       "      <td>9/1/12 0:41</td>\n",
       "      <td>9/1/12 0:54</td>\n",
       "      <td>13.95</td>\n",
       "      <td>2</td>\n",
       "      <td>-122.419392</td>\n",
       "      <td>37.806622</td>\n",
       "      <td>-122.415393</td>\n",
       "      <td>37.778115</td>\n",
       "      <td>40</td>\n",
       "      <td>10</td>\n",
       "      <td>0.028786</td>\n",
       "      <td>0.086223</td>\n",
       "      <td>0.030821</td>\n",
       "    </tr>\n",
       "    <tr>\n",
       "      <th>4</th>\n",
       "      <td>4</td>\n",
       "      <td>9/1/12 1:09</td>\n",
       "      <td>9/1/12 1:13</td>\n",
       "      <td>7.35</td>\n",
       "      <td>1</td>\n",
       "      <td>-122.429722</td>\n",
       "      <td>37.797790</td>\n",
       "      <td>-122.418060</td>\n",
       "      <td>37.789032</td>\n",
       "      <td>45</td>\n",
       "      <td>32</td>\n",
       "      <td>0.014584</td>\n",
       "      <td>0.041175</td>\n",
       "      <td>0.017230</td>\n",
       "    </tr>\n",
       "  </tbody>\n",
       "</table>\n",
       "</div>"
      ],
      "text/plain": [
       "   id    departure      arrival   fare  num        depx       depy  \\\n",
       "0   0  9/1/12 0:11  9/1/12 0:20  13.20    1 -122.413540  37.802683   \n",
       "1   1  9/1/12 0:23  9/1/12 0:31  10.65    1 -122.419700  37.786090   \n",
       "2   2  9/1/12 0:45  9/1/12 0:49   9.00    1 -122.415120  37.774672   \n",
       "3   3  9/1/12 0:41  9/1/12 0:54  13.95    2 -122.419392  37.806622   \n",
       "4   4  9/1/12 1:09  9/1/12 1:13   7.35    1 -122.429722  37.797790   \n",
       "\n",
       "         arrx       arry  deptaz  arrtaz      dist  timecost  distcost  \n",
       "0 -122.421277  37.785395      38      30  0.018940  0.081062  0.029604  \n",
       "1 -122.435217  37.762177      30      94  0.028506  0.116872  0.036868  \n",
       "2 -122.407657  37.782615      10      11  0.010899  0.008682  0.007640  \n",
       "3 -122.415393  37.778115      40      10  0.028786  0.086223  0.030821  \n",
       "4 -122.418060  37.789032      45      32  0.014584  0.041175  0.017230  "
      ]
     },
     "execution_count": 66,
     "metadata": {},
     "output_type": "execute_result"
    }
   ],
   "source": [
    "df_train = pd.read_csv(\"Taxi_Data_Routed/Taxi_Train_Routed.csv\")\n",
    "df_train.head()"
   ]
  },
  {
   "cell_type": "markdown",
   "metadata": {},
   "source": [
    "### Feature set"
   ]
  },
  {
   "cell_type": "code",
   "execution_count": 67,
   "metadata": {
    "collapsed": false
   },
   "outputs": [],
   "source": [
    "temp = []\n",
    "for i in range(len(df_train.departure.values)):\n",
    "    tto = datetime.strptime(df_train.departure.values[i], \"%m/%d/%y %H:%M\")\n",
    "    to = (tto - tto.replace(hour=0, minute=0, second=0, microsecond=0)).total_seconds()\n",
    "    temp.append(to)\n",
    "df_train['time_of_day'] = temp"
   ]
  },
  {
   "cell_type": "code",
   "execution_count": 68,
   "metadata": {
    "collapsed": false
   },
   "outputs": [],
   "source": [
    "temp = []\n",
    "for i in range(len(df_train.departure.values)):\n",
    "    dow = datetime.strptime(df_train.departure.values[i], \"%m/%d/%y %H:%M\").weekday()\n",
    "    temp.append(dow)\n",
    "df_train['day_of_week'] = temp"
   ]
  },
  {
   "cell_type": "code",
   "execution_count": 69,
   "metadata": {
    "collapsed": false
   },
   "outputs": [],
   "source": [
    "temp = []\n",
    "for i in range(len(df_train.departure.values)):\n",
    "    # parse the time strings from %m/%d/%Y %H:%M format into seconds\n",
    "    tto = datetime.strptime(df_train.departure.values[i], \"%m/%d/%y %H:%M\")\n",
    "    ttd = datetime.strptime(df_train.arrival.values[i], \"%m/%d/%y %H:%M\")\n",
    "\n",
    "    # trip duration\n",
    "    tdelta = time.mktime(ttd.timetuple()) - time.mktime(tto.timetuple())\n",
    "    temp.append(tdelta)\n",
    "df_train['trip_duration'] = temp"
   ]
  },
  {
   "cell_type": "code",
   "execution_count": 76,
   "metadata": {
    "collapsed": false
   },
   "outputs": [],
   "source": [
    "temp = []\n",
    "temp1 =[]\n",
    "temp2 =[]\n",
    "temp3 =[]\n",
    "for i in range(len(df_train.departure.values)):\n",
    "    moy = datetime.strptime(df_train.departure.values[i], \"%m/%d/%y %H:%M\").month\n",
    "    dom = datetime.strptime(df_train.departure.values[i], \"%m/%d/%y %H:%M\").day\n",
    "    hod = datetime.strptime(df_train.departure.values[i], \"%m/%d/%y %H:%M\").hour\n",
    "    moh = datetime.strptime(df_train.departure.values[i], \"%m/%d/%y %H:%M\").minute\n",
    "    temp.append(moy)\n",
    "    temp1.append(dom)\n",
    "    temp2.append(hod)\n",
    "    temp3.append(moh)\n",
    "df_train['month_of_year'] = temp\n",
    "df_train['day_of_month'] = temp1\n",
    "df_train['hour_of_day'] = temp2\n",
    "df_train['min_of_hour'] = temp3"
   ]
  },
  {
   "cell_type": "code",
   "execution_count": 2,
   "metadata": {
    "collapsed": false
   },
   "outputs": [
    {
     "ename": "NameError",
     "evalue": "name 'df_train' is not defined",
     "output_type": "error",
     "traceback": [
      "\u001b[0;31m---------------------------------------------------------------------------\u001b[0m",
      "\u001b[0;31mNameError\u001b[0m                                 Traceback (most recent call last)",
      "\u001b[0;32m<ipython-input-2-572fd094b8bb>\u001b[0m in \u001b[0;36m<module>\u001b[0;34m()\u001b[0m\n\u001b[0;32m----> 1\u001b[0;31m \u001b[0mdf_train\u001b[0m\u001b[0;34m.\u001b[0m\u001b[0mhead\u001b[0m\u001b[0;34m(\u001b[0m\u001b[0;34m)\u001b[0m\u001b[0;34m\u001b[0m\u001b[0m\n\u001b[0m",
      "\u001b[0;31mNameError\u001b[0m: name 'df_train' is not defined"
     ]
    }
   ],
   "source": [
    "df_train.head()"
   ]
  },
  {
   "cell_type": "code",
   "execution_count": null,
   "metadata": {
    "collapsed": true
   },
   "outputs": [],
   "source": []
  },
  {
   "cell_type": "code",
   "execution_count": 77,
   "metadata": {
    "collapsed": true
   },
   "outputs": [],
   "source": [
    "meanX = df_train['depx'].mean()\n",
    "meanY = df_train['depy'].mean()\n",
    "temp = []\n",
    "temp1 =[]\n",
    "for i in range(len(df_train)):\n",
    "    devX_mean = df_train['depx'].values[i] - meanX\n",
    "    devY_mean = df_train['depx'].values[i] - meanY\n",
    "    temp.append(devX_mean)\n",
    "    temp1.append(devY_mean)\n",
    "df_train['devX_mean'] = temp\n",
    "df_train['devY_mean'] = temp1"
   ]
  },
  {
   "cell_type": "code",
   "execution_count": 78,
   "metadata": {
    "collapsed": false
   },
   "outputs": [],
   "source": [
    "fareX_train = df_train[['dist', 'timecost', 'distcost', 'time_of_day', 'day_of_week', 'trip_duration','month_of_year', 'day_of_month', 'hour_of_day','min_of_hour', 'deptaz', 'arrtaz']]"
   ]
  },
  {
   "cell_type": "markdown",
   "metadata": {},
   "source": [
    "### Labels"
   ]
  },
  {
   "cell_type": "code",
   "execution_count": 79,
   "metadata": {
    "collapsed": false
   },
   "outputs": [],
   "source": [
    "fareY_train = df_train['fare']"
   ]
  },
  {
   "cell_type": "markdown",
   "metadata": {},
   "source": [
    "### Model"
   ]
  },
  {
   "cell_type": "code",
   "execution_count": 80,
   "metadata": {
    "collapsed": false
   },
   "outputs": [],
   "source": [
    "# model_tt = RandomForestRegressor(random_state=0, n_estimators=100, max_depth=50)\n",
    "model_tt = GradientBoostingRegressor(loss='ls', learning_rate=0.01, n_estimators=1000, subsample=1.0, min_samples_split=2, min_samples_leaf=9, min_weight_fraction_leaf=0.0, max_depth=6, init=None, random_state=None, max_features=None, alpha=0.9, verbose=0, max_leaf_nodes=None, warm_start=False)\n",
    "# model_tt = GradientBoostingRegressor(loss='ls', learning_rate=0.1, n_estimators=100, subsample=1.0, min_samples_split=1, min_samples_leaf=1, min_weight_fraction_leaf=0.0, max_depth=3, init=None, random_state=None, max_features=None, alpha=0.9, verbose=0, max_leaf_nodes=None, warm_start=False)\n",
    "#model = ExtraTreesRegressor(n_estimators=10, criterion='mse', max_depth=None, min_samples_split=2, min_samples_leaf=1, min_weight_fraction_leaf=0.0, max_features='auto', max_leaf_nodes=None, bootstrap=False, oob_score=False, n_jobs=1, random_state=None, verbose=0, warm_start=False)\n",
    "model_tf = GradientBoostingRegressor(loss='ls', learning_rate=0.01, n_estimators=1000, subsample=1.0, min_samples_split=2, min_samples_leaf=5, min_weight_fraction_leaf=0.0, max_depth=4, init=None, random_state=None, max_features=None, alpha=0.9, verbose=0, max_leaf_nodes=None, warm_start=False)"
   ]
  },
  {
   "cell_type": "code",
   "execution_count": 82,
   "metadata": {
    "collapsed": false
   },
   "outputs": [
    {
     "data": {
      "text/plain": [
       "GradientBoostingRegressor(alpha=0.9, init=None, learning_rate=0.01, loss='ls',\n",
       "             max_depth=4, max_features=None, max_leaf_nodes=None,\n",
       "             min_samples_leaf=5, min_samples_split=2,\n",
       "             min_weight_fraction_leaf=0.0, n_estimators=1000,\n",
       "             random_state=None, subsample=1.0, verbose=0, warm_start=False)"
      ]
     },
     "execution_count": 82,
     "metadata": {},
     "output_type": "execute_result"
    }
   ],
   "source": [
    "model_tf.fit(fareX_train, fareY_train)"
   ]
  },
  {
   "cell_type": "markdown",
   "metadata": {},
   "source": [
    "### Cross Validation Score"
   ]
  },
  {
   "cell_type": "code",
   "execution_count": 81,
   "metadata": {
    "collapsed": false
   },
   "outputs": [
    {
     "data": {
      "text/plain": [
       "4.0531347206693376"
      ]
     },
     "execution_count": 81,
     "metadata": {},
     "output_type": "execute_result"
    }
   ],
   "source": [
    "abs(np.mean(cross_val_score(model_tf, fareX_train, fareY_train, cv=5, scoring='mean_squared_error')))**0.5"
   ]
  },
  {
   "cell_type": "markdown",
   "metadata": {},
   "source": [
    "4.2865868571999677  -  Random forest\n",
    "\n",
    "4.2774621137000368 - Gradient Boost\n",
    "\n",
    "4.1508466323606559 \n",
    "\n",
    "4.055523810229416 "
   ]
  },
  {
   "cell_type": "markdown",
   "metadata": {},
   "source": [
    "### Optimizing hyper paramters\n",
    "### model_tf"
   ]
  },
  {
   "cell_type": "code",
   "execution_count": 62,
   "metadata": {
    "collapsed": false
   },
   "outputs": [
    {
     "ename": "KeyboardInterrupt",
     "evalue": "",
     "output_type": "error",
     "traceback": [
      "\u001b[0;31m---------------------------------------------------------------------------\u001b[0m",
      "\u001b[0;31mKeyboardInterrupt\u001b[0m                         Traceback (most recent call last)",
      "\u001b[0;32m<ipython-input-62-9a056d909020>\u001b[0m in \u001b[0;36m<module>\u001b[0;34m()\u001b[0m\n\u001b[1;32m      9\u001b[0m \u001b[0mest\u001b[0m \u001b[0;34m=\u001b[0m \u001b[0mGradientBoostingRegressor\u001b[0m\u001b[0;34m(\u001b[0m\u001b[0mn_estimators\u001b[0m\u001b[0;34m=\u001b[0m\u001b[0;36m2000\u001b[0m\u001b[0;34m)\u001b[0m\u001b[0;34m\u001b[0m\u001b[0m\n\u001b[1;32m     10\u001b[0m \u001b[0;31m# this may take some minutes\u001b[0m\u001b[0;34m\u001b[0m\u001b[0;34m\u001b[0m\u001b[0m\n\u001b[0;32m---> 11\u001b[0;31m \u001b[0mgs_cv\u001b[0m \u001b[0;34m=\u001b[0m \u001b[0mGridSearchCV\u001b[0m\u001b[0;34m(\u001b[0m\u001b[0mest\u001b[0m\u001b[0;34m,\u001b[0m \u001b[0mparam_grid\u001b[0m\u001b[0;34m,\u001b[0m \u001b[0mn_jobs\u001b[0m\u001b[0;34m=\u001b[0m\u001b[0;36m4\u001b[0m\u001b[0;34m)\u001b[0m\u001b[0;34m.\u001b[0m\u001b[0mfit\u001b[0m\u001b[0;34m(\u001b[0m\u001b[0mfareX_train\u001b[0m\u001b[0;34m,\u001b[0m \u001b[0mfareY_train\u001b[0m\u001b[0;34m)\u001b[0m\u001b[0;34m\u001b[0m\u001b[0m\n\u001b[0m\u001b[1;32m     12\u001b[0m \u001b[0;34m\u001b[0m\u001b[0m\n\u001b[1;32m     13\u001b[0m \u001b[0;31m# best hyperparameter setting\u001b[0m\u001b[0;34m\u001b[0m\u001b[0;34m\u001b[0m\u001b[0m\n",
      "\u001b[0;32m/Users/nandini/anaconda/lib/python3.3/site-packages/sklearn/grid_search.py\u001b[0m in \u001b[0;36mfit\u001b[0;34m(self, X, y)\u001b[0m\n\u001b[1;32m    730\u001b[0m \u001b[0;34m\u001b[0m\u001b[0m\n\u001b[1;32m    731\u001b[0m         \"\"\"\n\u001b[0;32m--> 732\u001b[0;31m         \u001b[0;32mreturn\u001b[0m \u001b[0mself\u001b[0m\u001b[0;34m.\u001b[0m\u001b[0m_fit\u001b[0m\u001b[0;34m(\u001b[0m\u001b[0mX\u001b[0m\u001b[0;34m,\u001b[0m \u001b[0my\u001b[0m\u001b[0;34m,\u001b[0m \u001b[0mParameterGrid\u001b[0m\u001b[0;34m(\u001b[0m\u001b[0mself\u001b[0m\u001b[0;34m.\u001b[0m\u001b[0mparam_grid\u001b[0m\u001b[0;34m)\u001b[0m\u001b[0;34m)\u001b[0m\u001b[0;34m\u001b[0m\u001b[0m\n\u001b[0m\u001b[1;32m    733\u001b[0m \u001b[0;34m\u001b[0m\u001b[0m\n\u001b[1;32m    734\u001b[0m \u001b[0;34m\u001b[0m\u001b[0m\n",
      "\u001b[0;32m/Users/nandini/anaconda/lib/python3.3/site-packages/sklearn/grid_search.py\u001b[0m in \u001b[0;36m_fit\u001b[0;34m(self, X, y, parameter_iterable)\u001b[0m\n\u001b[1;32m    503\u001b[0m                                     \u001b[0mself\u001b[0m\u001b[0;34m.\u001b[0m\u001b[0mfit_params\u001b[0m\u001b[0;34m,\u001b[0m \u001b[0mreturn_parameters\u001b[0m\u001b[0;34m=\u001b[0m\u001b[0;32mTrue\u001b[0m\u001b[0;34m,\u001b[0m\u001b[0;34m\u001b[0m\u001b[0m\n\u001b[1;32m    504\u001b[0m                                     error_score=self.error_score)\n\u001b[0;32m--> 505\u001b[0;31m                 \u001b[0;32mfor\u001b[0m \u001b[0mparameters\u001b[0m \u001b[0;32min\u001b[0m \u001b[0mparameter_iterable\u001b[0m\u001b[0;34m\u001b[0m\u001b[0m\n\u001b[0m\u001b[1;32m    506\u001b[0m                 for train, test in cv)\n\u001b[1;32m    507\u001b[0m \u001b[0;34m\u001b[0m\u001b[0m\n",
      "\u001b[0;32m/Users/nandini/anaconda/lib/python3.3/site-packages/sklearn/externals/joblib/parallel.py\u001b[0m in \u001b[0;36m__call__\u001b[0;34m(self, iterable)\u001b[0m\n\u001b[1;32m    664\u001b[0m                 \u001b[0;31m# consumption.\u001b[0m\u001b[0;34m\u001b[0m\u001b[0;34m\u001b[0m\u001b[0m\n\u001b[1;32m    665\u001b[0m                 \u001b[0mself\u001b[0m\u001b[0;34m.\u001b[0m\u001b[0m_iterating\u001b[0m \u001b[0;34m=\u001b[0m \u001b[0;32mFalse\u001b[0m\u001b[0;34m\u001b[0m\u001b[0m\n\u001b[0;32m--> 666\u001b[0;31m             \u001b[0mself\u001b[0m\u001b[0;34m.\u001b[0m\u001b[0mretrieve\u001b[0m\u001b[0;34m(\u001b[0m\u001b[0;34m)\u001b[0m\u001b[0;34m\u001b[0m\u001b[0m\n\u001b[0m\u001b[1;32m    667\u001b[0m             \u001b[0;31m# Make sure that we get a last message telling us we are done\u001b[0m\u001b[0;34m\u001b[0m\u001b[0;34m\u001b[0m\u001b[0m\n\u001b[1;32m    668\u001b[0m             \u001b[0melapsed_time\u001b[0m \u001b[0;34m=\u001b[0m \u001b[0mtime\u001b[0m\u001b[0;34m.\u001b[0m\u001b[0mtime\u001b[0m\u001b[0;34m(\u001b[0m\u001b[0;34m)\u001b[0m \u001b[0;34m-\u001b[0m \u001b[0mself\u001b[0m\u001b[0;34m.\u001b[0m\u001b[0m_start_time\u001b[0m\u001b[0;34m\u001b[0m\u001b[0m\n",
      "\u001b[0;32m/Users/nandini/anaconda/lib/python3.3/site-packages/sklearn/externals/joblib/parallel.py\u001b[0m in \u001b[0;36mretrieve\u001b[0;34m(self)\u001b[0m\n\u001b[1;32m    530\u001b[0m                             \u001b[0;31m# We can now allow subprocesses again\u001b[0m\u001b[0;34m\u001b[0m\u001b[0;34m\u001b[0m\u001b[0m\n\u001b[1;32m    531\u001b[0m                             \u001b[0mos\u001b[0m\u001b[0;34m.\u001b[0m\u001b[0menviron\u001b[0m\u001b[0;34m.\u001b[0m\u001b[0mpop\u001b[0m\u001b[0;34m(\u001b[0m\u001b[0;34m'__JOBLIB_SPAWNED_PARALLEL__'\u001b[0m\u001b[0;34m,\u001b[0m \u001b[0;36m0\u001b[0m\u001b[0;34m)\u001b[0m\u001b[0;34m\u001b[0m\u001b[0m\n\u001b[0;32m--> 532\u001b[0;31m                         \u001b[0;32mraise\u001b[0m \u001b[0mexception\u001b[0m\u001b[0;34m\u001b[0m\u001b[0m\n\u001b[0m\u001b[1;32m    533\u001b[0m                     \u001b[0;32melif\u001b[0m \u001b[0misinstance\u001b[0m\u001b[0;34m(\u001b[0m\u001b[0mexception\u001b[0m\u001b[0;34m,\u001b[0m \u001b[0mTransportableException\u001b[0m\u001b[0;34m)\u001b[0m\u001b[0;34m:\u001b[0m\u001b[0;34m\u001b[0m\u001b[0m\n\u001b[1;32m    534\u001b[0m                         \u001b[0;31m# Capture exception to add information on the local\u001b[0m\u001b[0;34m\u001b[0m\u001b[0;34m\u001b[0m\u001b[0m\n",
      "\u001b[0;32m/Users/nandini/anaconda/lib/python3.3/site-packages/sklearn/externals/joblib/parallel.py\u001b[0m in \u001b[0;36mretrieve\u001b[0;34m(self)\u001b[0m\n\u001b[1;32m    516\u001b[0m                 \u001b[0mself\u001b[0m\u001b[0;34m.\u001b[0m\u001b[0m_lock\u001b[0m\u001b[0;34m.\u001b[0m\u001b[0mrelease\u001b[0m\u001b[0;34m(\u001b[0m\u001b[0;34m)\u001b[0m\u001b[0;34m\u001b[0m\u001b[0m\n\u001b[1;32m    517\u001b[0m             \u001b[0;32mtry\u001b[0m\u001b[0;34m:\u001b[0m\u001b[0;34m\u001b[0m\u001b[0m\n\u001b[0;32m--> 518\u001b[0;31m                 \u001b[0mself\u001b[0m\u001b[0;34m.\u001b[0m\u001b[0m_output\u001b[0m\u001b[0;34m.\u001b[0m\u001b[0mappend\u001b[0m\u001b[0;34m(\u001b[0m\u001b[0mjob\u001b[0m\u001b[0;34m.\u001b[0m\u001b[0mget\u001b[0m\u001b[0;34m(\u001b[0m\u001b[0;34m)\u001b[0m\u001b[0;34m)\u001b[0m\u001b[0;34m\u001b[0m\u001b[0m\n\u001b[0m\u001b[1;32m    519\u001b[0m             \u001b[0;32mexcept\u001b[0m \u001b[0mtuple\u001b[0m\u001b[0;34m(\u001b[0m\u001b[0mself\u001b[0m\u001b[0;34m.\u001b[0m\u001b[0mexceptions\u001b[0m\u001b[0;34m)\u001b[0m \u001b[0;32mas\u001b[0m \u001b[0mexception\u001b[0m\u001b[0;34m:\u001b[0m\u001b[0;34m\u001b[0m\u001b[0m\n\u001b[1;32m    520\u001b[0m                 \u001b[0;32mtry\u001b[0m\u001b[0;34m:\u001b[0m\u001b[0;34m\u001b[0m\u001b[0m\n",
      "\u001b[0;32m/Users/nandini/anaconda/lib/python3.3/multiprocessing/pool.py\u001b[0m in \u001b[0;36mget\u001b[0;34m(self, timeout)\u001b[0m\n\u001b[1;32m    560\u001b[0m \u001b[0;34m\u001b[0m\u001b[0m\n\u001b[1;32m    561\u001b[0m     \u001b[0;32mdef\u001b[0m \u001b[0mget\u001b[0m\u001b[0;34m(\u001b[0m\u001b[0mself\u001b[0m\u001b[0;34m,\u001b[0m \u001b[0mtimeout\u001b[0m\u001b[0;34m=\u001b[0m\u001b[0;32mNone\u001b[0m\u001b[0;34m)\u001b[0m\u001b[0;34m:\u001b[0m\u001b[0;34m\u001b[0m\u001b[0m\n\u001b[0;32m--> 562\u001b[0;31m         \u001b[0mself\u001b[0m\u001b[0;34m.\u001b[0m\u001b[0mwait\u001b[0m\u001b[0;34m(\u001b[0m\u001b[0mtimeout\u001b[0m\u001b[0;34m)\u001b[0m\u001b[0;34m\u001b[0m\u001b[0m\n\u001b[0m\u001b[1;32m    563\u001b[0m         \u001b[0;32mif\u001b[0m \u001b[0;32mnot\u001b[0m \u001b[0mself\u001b[0m\u001b[0;34m.\u001b[0m\u001b[0mready\u001b[0m\u001b[0;34m(\u001b[0m\u001b[0;34m)\u001b[0m\u001b[0;34m:\u001b[0m\u001b[0;34m\u001b[0m\u001b[0m\n\u001b[1;32m    564\u001b[0m             \u001b[0;32mraise\u001b[0m \u001b[0mTimeoutError\u001b[0m\u001b[0;34m\u001b[0m\u001b[0m\n",
      "\u001b[0;32m/Users/nandini/anaconda/lib/python3.3/multiprocessing/pool.py\u001b[0m in \u001b[0;36mwait\u001b[0;34m(self, timeout)\u001b[0m\n\u001b[1;32m    557\u001b[0m \u001b[0;34m\u001b[0m\u001b[0m\n\u001b[1;32m    558\u001b[0m     \u001b[0;32mdef\u001b[0m \u001b[0mwait\u001b[0m\u001b[0;34m(\u001b[0m\u001b[0mself\u001b[0m\u001b[0;34m,\u001b[0m \u001b[0mtimeout\u001b[0m\u001b[0;34m=\u001b[0m\u001b[0;32mNone\u001b[0m\u001b[0;34m)\u001b[0m\u001b[0;34m:\u001b[0m\u001b[0;34m\u001b[0m\u001b[0m\n\u001b[0;32m--> 559\u001b[0;31m         \u001b[0mself\u001b[0m\u001b[0;34m.\u001b[0m\u001b[0m_event\u001b[0m\u001b[0;34m.\u001b[0m\u001b[0mwait\u001b[0m\u001b[0;34m(\u001b[0m\u001b[0mtimeout\u001b[0m\u001b[0;34m)\u001b[0m\u001b[0;34m\u001b[0m\u001b[0m\n\u001b[0m\u001b[1;32m    560\u001b[0m \u001b[0;34m\u001b[0m\u001b[0m\n\u001b[1;32m    561\u001b[0m     \u001b[0;32mdef\u001b[0m \u001b[0mget\u001b[0m\u001b[0;34m(\u001b[0m\u001b[0mself\u001b[0m\u001b[0;34m,\u001b[0m \u001b[0mtimeout\u001b[0m\u001b[0;34m=\u001b[0m\u001b[0;32mNone\u001b[0m\u001b[0;34m)\u001b[0m\u001b[0;34m:\u001b[0m\u001b[0;34m\u001b[0m\u001b[0m\n",
      "\u001b[0;32m/Users/nandini/anaconda/lib/python3.3/threading.py\u001b[0m in \u001b[0;36mwait\u001b[0;34m(self, timeout)\u001b[0m\n\u001b[1;32m    545\u001b[0m             \u001b[0msignaled\u001b[0m \u001b[0;34m=\u001b[0m \u001b[0mself\u001b[0m\u001b[0;34m.\u001b[0m\u001b[0m_flag\u001b[0m\u001b[0;34m\u001b[0m\u001b[0m\n\u001b[1;32m    546\u001b[0m             \u001b[0;32mif\u001b[0m \u001b[0;32mnot\u001b[0m \u001b[0msignaled\u001b[0m\u001b[0;34m:\u001b[0m\u001b[0;34m\u001b[0m\u001b[0m\n\u001b[0;32m--> 547\u001b[0;31m                 \u001b[0msignaled\u001b[0m \u001b[0;34m=\u001b[0m \u001b[0mself\u001b[0m\u001b[0;34m.\u001b[0m\u001b[0m_cond\u001b[0m\u001b[0;34m.\u001b[0m\u001b[0mwait\u001b[0m\u001b[0;34m(\u001b[0m\u001b[0mtimeout\u001b[0m\u001b[0;34m)\u001b[0m\u001b[0;34m\u001b[0m\u001b[0m\n\u001b[0m\u001b[1;32m    548\u001b[0m             \u001b[0;32mreturn\u001b[0m \u001b[0msignaled\u001b[0m\u001b[0;34m\u001b[0m\u001b[0m\n\u001b[1;32m    549\u001b[0m         \u001b[0;32mfinally\u001b[0m\u001b[0;34m:\u001b[0m\u001b[0;34m\u001b[0m\u001b[0m\n",
      "\u001b[0;32m/Users/nandini/anaconda/lib/python3.3/threading.py\u001b[0m in \u001b[0;36mwait\u001b[0;34m(self, timeout)\u001b[0m\n\u001b[1;32m    282\u001b[0m         \u001b[0;32mtry\u001b[0m\u001b[0;34m:\u001b[0m    \u001b[0;31m# restore state no matter what (e.g., KeyboardInterrupt)\u001b[0m\u001b[0;34m\u001b[0m\u001b[0m\n\u001b[1;32m    283\u001b[0m             \u001b[0;32mif\u001b[0m \u001b[0mtimeout\u001b[0m \u001b[0;32mis\u001b[0m \u001b[0;32mNone\u001b[0m\u001b[0;34m:\u001b[0m\u001b[0;34m\u001b[0m\u001b[0m\n\u001b[0;32m--> 284\u001b[0;31m                 \u001b[0mwaiter\u001b[0m\u001b[0;34m.\u001b[0m\u001b[0macquire\u001b[0m\u001b[0;34m(\u001b[0m\u001b[0;34m)\u001b[0m\u001b[0;34m\u001b[0m\u001b[0m\n\u001b[0m\u001b[1;32m    285\u001b[0m                 \u001b[0mgotit\u001b[0m \u001b[0;34m=\u001b[0m \u001b[0;32mTrue\u001b[0m\u001b[0;34m\u001b[0m\u001b[0m\n\u001b[1;32m    286\u001b[0m             \u001b[0;32melse\u001b[0m\u001b[0;34m:\u001b[0m\u001b[0;34m\u001b[0m\u001b[0m\n",
      "\u001b[0;31mKeyboardInterrupt\u001b[0m: "
     ]
    }
   ],
   "source": [
    "from sklearn.grid_search import GridSearchCV\n",
    "\n",
    "param_grid = {'learning_rate': [0.1, 0.05, 0.02, 0.01],\n",
    "              'max_depth': [4, 6],\n",
    "              'min_samples_leaf': [3, 5, 9, 17],\n",
    "              # 'max_features': [1.0, 0.3, 0.1] ## not possible in our example (only 1 fx)\n",
    "              }\n",
    "\n",
    "est = GradientBoostingRegressor(n_estimators=2000)\n",
    "# this may take some minutes\n",
    "gs_cv = GridSearchCV(est, param_grid, n_jobs=4).fit(fareX_train, fareY_train)\n",
    "\n",
    "# best hyperparameter setting\n",
    "gs_cv.best_params_"
   ]
  },
  {
   "cell_type": "markdown",
   "metadata": {},
   "source": [
    "### Optimizing Trip Time Prediction"
   ]
  },
  {
   "cell_type": "code",
   "execution_count": 83,
   "metadata": {
    "collapsed": false
   },
   "outputs": [],
   "source": [
    "timeX_train = df_train[['num', 'dist', 'timecost', 'distcost', 'time_of_day', 'day_of_week', 'month_of_year', 'day_of_month', 'deptaz', 'arrtaz']][:40000]\n",
    "timeY_train = df_train['trip_duration'][:40000]"
   ]
  },
  {
   "cell_type": "code",
   "execution_count": 84,
   "metadata": {
    "collapsed": true
   },
   "outputs": [],
   "source": [
    "timeX_test = df_train[['num', 'dist', 'timecost', 'distcost', 'time_of_day', 'day_of_week', 'month_of_year', 'day_of_month', 'deptaz', 'arrtaz']][40000:]\n",
    "timeY_test = df_train['trip_duration'][40000:]"
   ]
  },
  {
   "cell_type": "code",
   "execution_count": 85,
   "metadata": {
    "collapsed": false
   },
   "outputs": [
    {
     "data": {
      "text/plain": [
       "GradientBoostingRegressor(alpha=0.9, init=None, learning_rate=0.01, loss='ls',\n",
       "             max_depth=6, max_features=None, max_leaf_nodes=None,\n",
       "             min_samples_leaf=9, min_samples_split=2,\n",
       "             min_weight_fraction_leaf=0.0, n_estimators=1000,\n",
       "             random_state=None, subsample=1.0, verbose=0, warm_start=False)"
      ]
     },
     "execution_count": 85,
     "metadata": {},
     "output_type": "execute_result"
    }
   ],
   "source": [
    "model_tt.fit(timeX_train, timeY_train)"
   ]
  },
  {
   "cell_type": "code",
   "execution_count": 35,
   "metadata": {
    "collapsed": false
   },
   "outputs": [],
   "source": [
    "y_pred_time = model_tt.predict(timeX_test)"
   ]
  },
  {
   "cell_type": "code",
   "execution_count": 36,
   "metadata": {
    "collapsed": false
   },
   "outputs": [
    {
     "data": {
      "text/plain": [
       "283.63850732448151"
      ]
     },
     "execution_count": 36,
     "metadata": {},
     "output_type": "execute_result"
    }
   ],
   "source": [
    "mean_squared_error(timeY_test, y_pred_time)**.5"
   ]
  },
  {
   "cell_type": "markdown",
   "metadata": {},
   "source": [
    "### model_tt"
   ]
  },
  {
   "cell_type": "code",
   "execution_count": null,
   "metadata": {
    "collapsed": false
   },
   "outputs": [],
   "source": [
    "from sklearn.grid_search import GridSearchCV\n",
    "\n",
    "param_grid = {'learning_rate': [0.1, 0.05, 0.02, 0.01],\n",
    "              'max_depth': [4, 6],\n",
    "              'min_samples_leaf': [3, 5, 9, 17],\n",
    "              # 'max_features': [1.0, 0.3, 0.1] ## not possible in our example (only 1 fx)\n",
    "              }\n",
    "\n",
    "est = GradientBoostingRegressor(n_estimators=2000)\n",
    "# this may take some minutes\n",
    "gs_cv = GridSearchCV(est, param_grid, n_jobs=4).fit(timeX_train, timeY_train)\n",
    "\n",
    "# best hyperparameter setting\n",
    "gs_cv.best_params_"
   ]
  },
  {
   "cell_type": "markdown",
   "metadata": {},
   "source": [
    "### Test Data"
   ]
  },
  {
   "cell_type": "code",
   "execution_count": 86,
   "metadata": {
    "collapsed": false
   },
   "outputs": [
    {
     "data": {
      "text/html": [
       "<div>\n",
       "<table border=\"1\" class=\"dataframe\">\n",
       "  <thead>\n",
       "    <tr style=\"text-align: right;\">\n",
       "      <th></th>\n",
       "      <th>id</th>\n",
       "      <th>departure</th>\n",
       "      <th>arrival</th>\n",
       "      <th>fare</th>\n",
       "      <th>num</th>\n",
       "      <th>depx</th>\n",
       "      <th>depy</th>\n",
       "      <th>arrx</th>\n",
       "      <th>arry</th>\n",
       "      <th>deptaz</th>\n",
       "      <th>arrtaz</th>\n",
       "      <th>dist</th>\n",
       "      <th>timecost</th>\n",
       "      <th>distcost</th>\n",
       "    </tr>\n",
       "  </thead>\n",
       "  <tbody>\n",
       "    <tr>\n",
       "      <th>0</th>\n",
       "      <td>50001</td>\n",
       "      <td>9/17/12 15:22</td>\n",
       "      <td>-1</td>\n",
       "      <td>-1</td>\n",
       "      <td>1</td>\n",
       "      <td>-122.386792</td>\n",
       "      <td>37.617570</td>\n",
       "      <td>-122.392937</td>\n",
       "      <td>37.793532</td>\n",
       "      <td>239</td>\n",
       "      <td>0</td>\n",
       "      <td>0.176069</td>\n",
       "      <td>0.497087</td>\n",
       "      <td>0.206656</td>\n",
       "    </tr>\n",
       "    <tr>\n",
       "      <th>1</th>\n",
       "      <td>50002</td>\n",
       "      <td>9/16/12 22:08</td>\n",
       "      <td>-1</td>\n",
       "      <td>-1</td>\n",
       "      <td>1</td>\n",
       "      <td>-122.435182</td>\n",
       "      <td>37.762202</td>\n",
       "      <td>-122.438512</td>\n",
       "      <td>37.775893</td>\n",
       "      <td>94</td>\n",
       "      <td>85</td>\n",
       "      <td>0.014090</td>\n",
       "      <td>0.074893</td>\n",
       "      <td>0.016921</td>\n",
       "    </tr>\n",
       "    <tr>\n",
       "      <th>2</th>\n",
       "      <td>50003</td>\n",
       "      <td>9/16/12 19:49</td>\n",
       "      <td>-1</td>\n",
       "      <td>-1</td>\n",
       "      <td>1</td>\n",
       "      <td>-122.459563</td>\n",
       "      <td>37.790625</td>\n",
       "      <td>-122.410492</td>\n",
       "      <td>37.791650</td>\n",
       "      <td>0</td>\n",
       "      <td>29</td>\n",
       "      <td>0.049082</td>\n",
       "      <td>0.150106</td>\n",
       "      <td>0.058716</td>\n",
       "    </tr>\n",
       "    <tr>\n",
       "      <th>3</th>\n",
       "      <td>50004</td>\n",
       "      <td>9/16/12 15:53</td>\n",
       "      <td>-1</td>\n",
       "      <td>-1</td>\n",
       "      <td>1</td>\n",
       "      <td>-122.415940</td>\n",
       "      <td>37.800837</td>\n",
       "      <td>-122.431228</td>\n",
       "      <td>37.801518</td>\n",
       "      <td>39</td>\n",
       "      <td>44</td>\n",
       "      <td>0.015303</td>\n",
       "      <td>0.031357</td>\n",
       "      <td>0.016269</td>\n",
       "    </tr>\n",
       "    <tr>\n",
       "      <th>4</th>\n",
       "      <td>50005</td>\n",
       "      <td>9/16/12 15:20</td>\n",
       "      <td>-1</td>\n",
       "      <td>-1</td>\n",
       "      <td>1</td>\n",
       "      <td>-122.390272</td>\n",
       "      <td>37.615370</td>\n",
       "      <td>-122.417377</td>\n",
       "      <td>37.784307</td>\n",
       "      <td>239</td>\n",
       "      <td>9</td>\n",
       "      <td>0.171098</td>\n",
       "      <td>0.453414</td>\n",
       "      <td>0.195468</td>\n",
       "    </tr>\n",
       "  </tbody>\n",
       "</table>\n",
       "</div>"
      ],
      "text/plain": [
       "      id      departure  arrival  fare  num        depx       depy  \\\n",
       "0  50001  9/17/12 15:22       -1    -1    1 -122.386792  37.617570   \n",
       "1  50002  9/16/12 22:08       -1    -1    1 -122.435182  37.762202   \n",
       "2  50003  9/16/12 19:49       -1    -1    1 -122.459563  37.790625   \n",
       "3  50004  9/16/12 15:53       -1    -1    1 -122.415940  37.800837   \n",
       "4  50005  9/16/12 15:20       -1    -1    1 -122.390272  37.615370   \n",
       "\n",
       "         arrx       arry  deptaz  arrtaz      dist  timecost  distcost  \n",
       "0 -122.392937  37.793532     239       0  0.176069  0.497087  0.206656  \n",
       "1 -122.438512  37.775893      94      85  0.014090  0.074893  0.016921  \n",
       "2 -122.410492  37.791650       0      29  0.049082  0.150106  0.058716  \n",
       "3 -122.431228  37.801518      39      44  0.015303  0.031357  0.016269  \n",
       "4 -122.417377  37.784307     239       9  0.171098  0.453414  0.195468  "
      ]
     },
     "execution_count": 86,
     "metadata": {},
     "output_type": "execute_result"
    }
   ],
   "source": [
    "df_test = pd.read_csv(\"Taxi_Data_Routed/Taxi_Query_Routed.csv\")\n",
    "df_test.head()"
   ]
  },
  {
   "cell_type": "markdown",
   "metadata": {},
   "source": [
    "### Trip Time prediction"
   ]
  },
  {
   "cell_type": "code",
   "execution_count": 54,
   "metadata": {
    "collapsed": true
   },
   "outputs": [],
   "source": [
    "temp = []\n",
    "for i in range(len(df_test.departure.values)):\n",
    "    tto = datetime.strptime(df_test.departure.values[i], \"%m/%d/%y %H:%M\")\n",
    "    to = (tto - tto.replace(hour=0, minute=0, second=0, microsecond=0)).total_seconds()\n",
    "    temp.append(to)\n",
    "df_test['time_of_day'] = temp"
   ]
  },
  {
   "cell_type": "code",
   "execution_count": 55,
   "metadata": {
    "collapsed": true
   },
   "outputs": [],
   "source": [
    "temp = []\n",
    "for i in range(len(df_test.departure.values)):\n",
    "    dow = datetime.strptime(df_test.departure.values[i], \"%m/%d/%y %H:%M\").weekday()\n",
    "    temp.append(dow)\n",
    "df_test['day_of_week'] = temp"
   ]
  },
  {
   "cell_type": "code",
   "execution_count": 56,
   "metadata": {
    "collapsed": false
   },
   "outputs": [],
   "source": [
    "temp = []\n",
    "temp1 =[]\n",
    "for i in range(len(df_test.departure.values)):\n",
    "    moy = datetime.strptime(df_test.departure.values[i], \"%m/%d/%y %H:%M\").month\n",
    "    dom = datetime.strptime(df_test.departure.values[i], \"%m/%d/%y %H:%M\").day\n",
    "    temp.append(moy)\n",
    "    temp1.append(dom)\n",
    "df_test['month_of_year'] = temp\n",
    "df_test['day_of_month'] = temp1"
   ]
  },
  {
   "cell_type": "code",
   "execution_count": 57,
   "metadata": {
    "collapsed": true
   },
   "outputs": [],
   "source": [
    "meanX = df_test['depx'].mean()\n",
    "meanY = df_test['depy'].mean()\n",
    "temp = []\n",
    "temp1 =[]\n",
    "for i in range(len(df_test)):\n",
    "    devX_mean = df_test['depx'].values[i] - meanX\n",
    "    devY_mean = df_test['depx'].values[i] - meanY\n",
    "    temp.append(devX_mean)\n",
    "    temp1.append(devY_mean)\n",
    "df_test['devX_mean'] = temp\n",
    "df_test['devY_mean'] = temp1"
   ]
  },
  {
   "cell_type": "code",
   "execution_count": 58,
   "metadata": {
    "collapsed": false
   },
   "outputs": [],
   "source": [
    "tripX_test = df_test[['num', 'dist', 'timecost', 'distcost', 'time_of_day', 'day_of_week',  'month_of_year', 'day_of_month', 'deptaz', 'arrtaz']]\n",
    "y_pred_test = model_tt.predict(tripX_test)\n",
    "df_test['trip_duration'] = y_pred_test"
   ]
  },
  {
   "cell_type": "markdown",
   "metadata": {},
   "source": [
    "### Fare Prediction"
   ]
  },
  {
   "cell_type": "code",
   "execution_count": 59,
   "metadata": {
    "collapsed": false
   },
   "outputs": [],
   "source": [
    "X_test = df_test[['dist', 'timecost', 'distcost', 'time_of_day', 'day_of_week', 'trip_duration', 'month_of_year', 'day_of_month','deptaz', 'arrtaz', 'devX_mean', 'devY_mean']]\n",
    "y_pred1 = model_tf.predict(X_test)"
   ]
  },
  {
   "cell_type": "code",
   "execution_count": 60,
   "metadata": {
    "collapsed": true
   },
   "outputs": [],
   "source": [
    "df_test['fare_predicted'] = y_pred1\n",
    "df = df_test[['id', 'fare_predicted']]"
   ]
  },
  {
   "cell_type": "code",
   "execution_count": 61,
   "metadata": {
    "collapsed": false
   },
   "outputs": [],
   "source": [
    "df.columns = ['ID', 'Fare']\n",
    "df.to_csv('Taxi_Data_Routed/submission7.csv', index=False)"
   ]
  },
  {
   "cell_type": "markdown",
   "metadata": {
    "collapsed": true
   },
   "source": [
    "### Plot"
   ]
  },
  {
   "cell_type": "code",
   "execution_count": 23,
   "metadata": {
    "collapsed": true
   },
   "outputs": [],
   "source": [
    "%matplotlib inline  \n",
    "df=pd.read_csv(\"Taxi_Data_Routed/Taxi_Train_Routed.csv\")"
   ]
  },
  {
   "cell_type": "code",
   "execution_count": 24,
   "metadata": {
    "collapsed": true
   },
   "outputs": [],
   "source": [
    "df = df[df['depx'] > -122.51]\n",
    "df = df[df['depx'] < -122.30]\n",
    "df = df[df['depy'] > 37.7]\n",
    "df = df[df['depy'] < 37.9]"
   ]
  },
  {
   "cell_type": "code",
   "execution_count": 25,
   "metadata": {
    "collapsed": false
   },
   "outputs": [
    {
     "data": {
      "text/plain": [
       "<matplotlib.collections.PathCollection at 0x10a843690>"
      ]
     },
     "execution_count": 25,
     "metadata": {},
     "output_type": "execute_result"
    },
    {
     "data": {
      "image/png": "[encoded data removed]",
      "text/plain": [
       "<matplotlib.figure.Figure at 0x10bc51110>"
      ]
     },
     "metadata": {},
     "output_type": "display_data"
    }
   ],
   "source": [
    "fig = plt.figure(figsize=(20,10))\n",
    "\n",
    "ax = fig.add_subplot(111)\n",
    "ax.set_axis_bgcolor('black')\n",
    "plt.scatter( x=df['depx'], y=df['depy'], color='white', s=.02,alpha=.6)"
   ]
  },
  {
   "cell_type": "code",
   "execution_count": 6,
   "metadata": {
    "collapsed": false
   },
   "outputs": [],
   "source": [
    "df1=pd.read_csv(\"Taxi_Data_Routed/Taxi_Train_Routed.csv\")\n",
    "df2=pd.read_csv(\"Taxi_Data_Routed/Taxi_Query_Routed.csv\")"
   ]
  },
  {
   "cell_type": "code",
   "execution_count": 7,
   "metadata": {
    "collapsed": false
   },
   "outputs": [],
   "source": [
    "df3=df1.append(df2,ignore_index = True)\n",
    "df3.to_csv('Taxi_Data_Routed/Taxi_Full_Routed.csv', index=False)"
   ]
  },
  {
   "cell_type": "code",
   "execution_count": 8,
   "metadata": {
    "collapsed": false
   },
   "outputs": [],
   "source": [
    "min_lat = min(df3['depy'].astype(float))\n",
    "min_long = min(df3['depx'].astype(float))\n",
    "df3['depy_dist'] = (df3['depy'].astype(float)- min_lat)*89.7\n",
    "df3['depx_dist'] = (df3['depx'].astype(float)- min_long)*112.7"
   ]
  },
  {
   "cell_type": "code",
   "execution_count": 9,
   "metadata": {
    "collapsed": false
   },
   "outputs": [],
   "source": [
    "temp =[]\n",
    "for i in range(len(df3.departure.values)):\n",
    "    temp.append(df3.departure.values[i].split()[1])\n",
    "df3['dep_time'] = temp"
   ]
  },
  {
   "cell_type": "code",
   "execution_count": 10,
   "metadata": {
    "collapsed": false
   },
   "outputs": [
    {
     "data": {
      "text/plain": [
       "633"
      ]
     },
     "execution_count": 10,
     "metadata": {},
     "output_type": "execute_result"
    }
   ],
   "source": [
    "a = []\n",
    "b = []\n",
    "for t in df3.values:\n",
    "    if datetime.datetime.strptime(t[16],'%H:%M').time() > datetime.time(19,55) and datetime.datetime.strptime(t[16],'%H:%M').time() < datetime.time(20,5):\n",
    "        a.append([t[14],t[15]])\n",
    "#print a\n",
    "b = pd.DataFrame(a,columns = ['lng','lat'])\n",
    "a = np.array(a)\n",
    "len(a)"
   ]
  },
  {
   "cell_type": "code",
   "execution_count": 13,
   "metadata": {
    "collapsed": false
   },
   "outputs": [
    {
     "name": "stdout",
     "output_type": "stream",
     "text": [
      "labels:\n",
      " [ 0  0  0  0  0  1  0  0  0 -1  0  0  0  0  0 -1  0  2  0  0  0  2  0  0  0\n",
      "  2  0  0  3  0  0  0  0  0  0  0  0  0  0  0  0  0  0  0  0  0  0  0  3  0\n",
      "  0  0  0  3  0  0  0 -1  0  2  0  0  0  2  0  0  0  0  0  0  3  0  0  0  0\n",
      "  0  0 -1  0  3  1  0  0  2  0  0  2  0  0  0  2  0  0  0  3 -1  0  2  0  2\n",
      "  0  0  0  0  0  2  0  0  0  0  0  0  0  0  0  0  2  0  0  0  0  0  0  0  2\n",
      "  0  2  0  0  0  2  0  0  0  0  0  0  0  2  0  0  0  0  0  4  0  0  0  0  0\n",
      "  0  0  0 -1  0  1  2  2  0  0  0  0  0  3  0  0  0  0  0  0  0  0  0 -1  0\n",
      "  2  0  0  0  2  0  0  0  0  0  0  0  0  0  0  0  0  0  0  0  0  0  0  0  0\n",
      "  0  0  0  0  0  0  0  2  2  0  0  0  0  4 -1  0  0  0  0  0  0  0  0 -1  0\n",
      "  0  0  0  0 -1  0  0  2  0  0 -1  0  0  2  0 -1  0  0  0  0  0  0  0  0  2\n",
      "  2  0  0  0  0  0  0  0  0  0  0 -1  0  0  0  0  0  0  0  0  0  4  0  0  0\n",
      "  0  2 -1  0  0  0  0  0  0  2  0  0  0  0  0  0  0  0  2  3 -1 -1  0  0  2\n",
      "  0  0  0  0  0  0  0  2  0  0  0  0  0  0  0  0  0  0  0  0  0  0  0  0  0\n",
      "  2  0  0  0  0  2  0  0  0  0  0  0  0  0  0  0  0  0  0  2 -1  0 -1 -1  2\n",
      "  0  0  0  0  0  0  0  0  0  2  0  0  0  0  0  0  0  0  0  0  2 -1  0  0  0\n",
      " -1  0  0  0  2  0  0  0 -1  0  0  2  0  0  0  0  0  0 -1  0  0  0  2  0  0\n",
      "  0 -1  0  0  0  0  0  0  0  0  0  0  0  0  2  0  0  0  0  0  0  0  0  2  0\n",
      "  0  0 -1  0  0  0  0  2  0  0  0  0  2  0  0  0  0  0  0  0  0  0 -1  2  0\n",
      "  0  0  0  0  2  0  0  0  0  0  0  0  2  0  0  0  0  0  0  0  3  2  0  4  0\n",
      "  0  0  0  0  0  0  0  0  3  0  0  0  0  0  3  0  2  0  0  2  0  0  0 -1  0\n",
      "  0  0  0  0  0  0  0 -1  0  0  0  0  0  1  0  0  0  0  0  3  0  0 -1  0  0\n",
      "  0  0  2  0  0  0  0  0  0  0  2  0  1  0  0  2 -1  0  0  0  0  2  0  0  0\n",
      "  1  0  0  0  0  0  0  0 -1 -1  0  0  0  0 -1  0  0  0  0  0  0  0  0  0  0\n",
      "  0  0  0  0  0  0  0  0 -1 -1  0  0  0  0  2  0  0  0  0  0 -1  0  0  0  0\n",
      "  0  0  0  0  0  0  2  0  0  0  4  0 -1  0  0  0  0  0  0  0  0  0  1  2  0\n",
      "  0  0  0  0  0  4  0  0], \n",
      "  unique labels:\n",
      " 6\n"
     ]
    },
    {
     "data": {
      "image/png": "[encoded data removed]",
      "text/plain": [
       "<matplotlib.figure.Figure at 0x111092310>"
      ]
     },
     "metadata": {},
     "output_type": "display_data"
    }
   ],
   "source": [
    "%matplotlib inline  \n",
    "#DBScan for e_100 = 272:\n",
    "#t_db = time.time()\n",
    "from sklearn.cluster import KMeans, DBSCAN, MiniBatchKMeans\n",
    "eps = 0.5\n",
    "db = DBSCAN(eps=eps, min_samples=5).fit(a)\n",
    "labels = []\n",
    "\n",
    "#t_fin_db = time.time() - t_db\n",
    "\n",
    "#DBScan result:\n",
    "db_labels = db.labels_ \n",
    "core_samples_mask = np.zeros_like(db.labels_, dtype=bool)\n",
    "core_samples_mask[db.core_sample_indices_] = True\n",
    "\n",
    "db_labels_unique = np.unique(db_labels)\n",
    "print(\"labels:\\n %s, \\n  unique labels:\\n %s\" % (db_labels, len(db_labels_unique)) )\n",
    "\n",
    "#Graph of DBScan:\n",
    "#ft = (labels[eps-1] , t_fin_db  )\n",
    "#print \"epsilon_100, number of clusters:\\n %s, \\n  Processing Time (sec):\\n %s\" % ft      \n",
    "\n",
    "fig = plt.figure(figsize=(20,10))\n",
    "\n",
    "ax = fig.add_subplot(111)\n",
    "ax.set_axis_bgcolor('black')\n",
    "colors = plt.cm.Spectral(np.linspace(0, 1, len(db_labels_unique)))\n",
    "for k, col in zip(db_labels_unique, colors):\n",
    "    if k == -1:\n",
    "        # Black used for noise.\n",
    "        col = 'k'\n",
    "    class_member_mask = (db_labels == k)\n",
    "\n",
    "    xy = a[class_member_mask & core_samples_mask]\n",
    "    plt.plot(xy[:, 0], xy[:, 1], 'o', markerfacecolor=col,\n",
    "             markeredgecolor='k', markersize=14)\n",
    "\n",
    "    xy = a[class_member_mask & ~core_samples_mask]\n",
    "    plt.plot(xy[:, 0], xy[:, 1], 'o', markerfacecolor=col,\n",
    "             markeredgecolor='k', markersize=6)\n",
    "plt.show()  \n",
    "\n"
   ]
  },
  {
   "cell_type": "code",
   "execution_count": null,
   "metadata": {
    "collapsed": true
   },
   "outputs": [],
   "source": []
  }
 ],
 "metadata": {
  "kernelspec": {
   "display_name": "Python 3",
   "language": "python",
   "name": "python3"
  },
  "language_info": {
   "codemirror_mode": {
    "name": "ipython",
    "version": 3
   },
   "file_extension": ".py",
   "mimetype": "text/x-python",
   "name": "python",
   "nbconvert_exporter": "python",
   "pygments_lexer": "ipython3",
   "version": "3.4.3"
  }
 },
 "nbformat": 4,
 "nbformat_minor": 0
}
