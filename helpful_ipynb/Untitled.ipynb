{
 "cells": [
  {
   "cell_type": "code",
   "execution_count": 6,
   "metadata": {
    "collapsed": true
   },
   "outputs": [],
   "source": [
    "import pandas as pd\n",
    "import numpy as np"
   ]
  },
  {
   "cell_type": "code",
   "execution_count": 4,
   "metadata": {
    "collapsed": true
   },
   "outputs": [],
   "source": [
    "train_data = pd.read_csv('Taxi_Train.csv', header=None)"
   ]
  },
  {
   "cell_type": "code",
   "execution_count": 5,
   "metadata": {
    "collapsed": false
   },
   "outputs": [
    {
     "data": {
      "text/html": [
       "<div>\n",
       "<table border=\"1\" class=\"dataframe\">\n",
       "  <thead>\n",
       "    <tr style=\"text-align: right;\">\n",
       "      <th></th>\n",
       "      <th>0</th>\n",
       "      <th>1</th>\n",
       "      <th>2</th>\n",
       "      <th>3</th>\n",
       "      <th>4</th>\n",
       "      <th>5</th>\n",
       "      <th>6</th>\n",
       "      <th>7</th>\n",
       "      <th>8</th>\n",
       "      <th>9</th>\n",
       "      <th>10</th>\n",
       "    </tr>\n",
       "  </thead>\n",
       "  <tbody>\n",
       "    <tr>\n",
       "      <th>0</th>\n",
       "      <td>0</td>\n",
       "      <td>9/1/12 0:11</td>\n",
       "      <td>9/1/12 0:20</td>\n",
       "      <td>13.20</td>\n",
       "      <td>1</td>\n",
       "      <td>-122.413540</td>\n",
       "      <td>37.802683</td>\n",
       "      <td>-122.421277</td>\n",
       "      <td>37.785395</td>\n",
       "      <td>38</td>\n",
       "      <td>30</td>\n",
       "    </tr>\n",
       "    <tr>\n",
       "      <th>1</th>\n",
       "      <td>1</td>\n",
       "      <td>9/1/12 0:23</td>\n",
       "      <td>9/1/12 0:31</td>\n",
       "      <td>10.65</td>\n",
       "      <td>1</td>\n",
       "      <td>-122.419700</td>\n",
       "      <td>37.786090</td>\n",
       "      <td>-122.435217</td>\n",
       "      <td>37.762177</td>\n",
       "      <td>30</td>\n",
       "      <td>94</td>\n",
       "    </tr>\n",
       "    <tr>\n",
       "      <th>2</th>\n",
       "      <td>2</td>\n",
       "      <td>9/1/12 0:45</td>\n",
       "      <td>9/1/12 0:49</td>\n",
       "      <td>9.00</td>\n",
       "      <td>1</td>\n",
       "      <td>-122.415120</td>\n",
       "      <td>37.774672</td>\n",
       "      <td>-122.407657</td>\n",
       "      <td>37.782615</td>\n",
       "      <td>10</td>\n",
       "      <td>11</td>\n",
       "    </tr>\n",
       "    <tr>\n",
       "      <th>3</th>\n",
       "      <td>3</td>\n",
       "      <td>9/1/12 0:41</td>\n",
       "      <td>9/1/12 0:54</td>\n",
       "      <td>13.95</td>\n",
       "      <td>2</td>\n",
       "      <td>-122.419392</td>\n",
       "      <td>37.806622</td>\n",
       "      <td>-122.415393</td>\n",
       "      <td>37.778115</td>\n",
       "      <td>40</td>\n",
       "      <td>10</td>\n",
       "    </tr>\n",
       "    <tr>\n",
       "      <th>4</th>\n",
       "      <td>4</td>\n",
       "      <td>9/1/12 1:09</td>\n",
       "      <td>9/1/12 1:13</td>\n",
       "      <td>7.35</td>\n",
       "      <td>1</td>\n",
       "      <td>-122.429722</td>\n",
       "      <td>37.797790</td>\n",
       "      <td>-122.418060</td>\n",
       "      <td>37.789032</td>\n",
       "      <td>45</td>\n",
       "      <td>32</td>\n",
       "    </tr>\n",
       "  </tbody>\n",
       "</table>\n",
       "</div>"
      ],
      "text/plain": [
       "   0            1            2      3   4           5          6           7   \\\n",
       "0   0  9/1/12 0:11  9/1/12 0:20  13.20   1 -122.413540  37.802683 -122.421277   \n",
       "1   1  9/1/12 0:23  9/1/12 0:31  10.65   1 -122.419700  37.786090 -122.435217   \n",
       "2   2  9/1/12 0:45  9/1/12 0:49   9.00   1 -122.415120  37.774672 -122.407657   \n",
       "3   3  9/1/12 0:41  9/1/12 0:54  13.95   2 -122.419392  37.806622 -122.415393   \n",
       "4   4  9/1/12 1:09  9/1/12 1:13   7.35   1 -122.429722  37.797790 -122.418060   \n",
       "\n",
       "          8   9   10  \n",
       "0  37.785395  38  30  \n",
       "1  37.762177  30  94  \n",
       "2  37.782615  10  11  \n",
       "3  37.778115  40  10  \n",
       "4  37.789032  45  32  "
      ]
     },
     "execution_count": 5,
     "metadata": {},
     "output_type": "execute_result"
    }
   ],
   "source": [
    "train_data.head()"
   ]
  },
  {
   "cell_type": "code",
   "execution_count": 8,
   "metadata": {
    "collapsed": false
   },
   "outputs": [
    {
     "data": {
      "text/plain": [
       "array([  965, 44219, 43044,  9570, 28706, 32675, 32630, 28577, 48576, 14995])"
      ]
     },
     "execution_count": 8,
     "metadata": {},
     "output_type": "execute_result"
    }
   ],
   "source": [
    "random_index = np.random.permutation(train_data.index)\n",
    "random_index[:10]"
   ]
  },
  {
   "cell_type": "code",
   "execution_count": 47,
   "metadata": {
    "collapsed": false
   },
   "outputs": [
    {
     "data": {
      "text/html": [
       "<div>\n",
       "<table border=\"1\" class=\"dataframe\">\n",
       "  <thead>\n",
       "    <tr style=\"text-align: right;\">\n",
       "      <th></th>\n",
       "      <th>0</th>\n",
       "      <th>1</th>\n",
       "      <th>2</th>\n",
       "      <th>3</th>\n",
       "      <th>4</th>\n",
       "      <th>5</th>\n",
       "      <th>6</th>\n",
       "      <th>7</th>\n",
       "      <th>8</th>\n",
       "      <th>9</th>\n",
       "      <th>10</th>\n",
       "    </tr>\n",
       "  </thead>\n",
       "  <tbody>\n",
       "    <tr>\n",
       "      <th>965</th>\n",
       "      <td>965</td>\n",
       "      <td>9/1/12 10:24</td>\n",
       "      <td>9/1/12 10:42</td>\n",
       "      <td>45.10</td>\n",
       "      <td>1</td>\n",
       "      <td>-122.401440</td>\n",
       "      <td>37.788540</td>\n",
       "      <td>-122.386572</td>\n",
       "      <td>37.617978</td>\n",
       "      <td>12</td>\n",
       "      <td>239</td>\n",
       "    </tr>\n",
       "    <tr>\n",
       "      <th>44219</th>\n",
       "      <td>44219</td>\n",
       "      <td>9/12/12 21:38</td>\n",
       "      <td>9/12/12 21:43</td>\n",
       "      <td>7.35</td>\n",
       "      <td>1</td>\n",
       "      <td>-122.409023</td>\n",
       "      <td>37.799380</td>\n",
       "      <td>-122.424855</td>\n",
       "      <td>37.801400</td>\n",
       "      <td>36</td>\n",
       "      <td>44</td>\n",
       "    </tr>\n",
       "    <tr>\n",
       "      <th>43044</th>\n",
       "      <td>43044</td>\n",
       "      <td>9/10/12 15:15</td>\n",
       "      <td>9/10/12 15:29</td>\n",
       "      <td>43.75</td>\n",
       "      <td>1</td>\n",
       "      <td>-122.390343</td>\n",
       "      <td>37.615602</td>\n",
       "      <td>-122.260508</td>\n",
       "      <td>37.523693</td>\n",
       "      <td>239</td>\n",
       "      <td>311</td>\n",
       "    </tr>\n",
       "    <tr>\n",
       "      <th>9570</th>\n",
       "      <td>9570</td>\n",
       "      <td>9/3/12 19:36</td>\n",
       "      <td>9/3/12 19:46</td>\n",
       "      <td>10.65</td>\n",
       "      <td>1</td>\n",
       "      <td>-122.409992</td>\n",
       "      <td>37.808387</td>\n",
       "      <td>-122.403465</td>\n",
       "      <td>37.788118</td>\n",
       "      <td>41</td>\n",
       "      <td>4</td>\n",
       "    </tr>\n",
       "    <tr>\n",
       "      <th>28706</th>\n",
       "      <td>28706</td>\n",
       "      <td>9/7/12 11:13</td>\n",
       "      <td>9/7/12 11:25</td>\n",
       "      <td>15.30</td>\n",
       "      <td>1</td>\n",
       "      <td>-122.411580</td>\n",
       "      <td>37.803925</td>\n",
       "      <td>-122.389707</td>\n",
       "      <td>37.785065</td>\n",
       "      <td>38</td>\n",
       "      <td>17</td>\n",
       "    </tr>\n",
       "  </tbody>\n",
       "</table>\n",
       "</div>"
      ],
      "text/plain": [
       "          0              1              2      3   4           5          6   \\\n",
       "965      965   9/1/12 10:24   9/1/12 10:42  45.10   1 -122.401440  37.788540   \n",
       "44219  44219  9/12/12 21:38  9/12/12 21:43   7.35   1 -122.409023  37.799380   \n",
       "43044  43044  9/10/12 15:15  9/10/12 15:29  43.75   1 -122.390343  37.615602   \n",
       "9570    9570   9/3/12 19:36   9/3/12 19:46  10.65   1 -122.409992  37.808387   \n",
       "28706  28706   9/7/12 11:13   9/7/12 11:25  15.30   1 -122.411580  37.803925   \n",
       "\n",
       "               7          8    9    10  \n",
       "965   -122.386572  37.617978   12  239  \n",
       "44219 -122.424855  37.801400   36   44  \n",
       "43044 -122.260508  37.523693  239  311  \n",
       "9570  -122.403465  37.788118   41    4  \n",
       "28706 -122.389707  37.785065   38   17  "
      ]
     },
     "execution_count": 47,
     "metadata": {},
     "output_type": "execute_result"
    }
   ],
   "source": [
    "train_data_shuffled = train_data.ix[random_index]\n",
    "# train_data_shuffled = train_data_shuffled.reset_index(level=0, inplace=True)\n",
    "train_data_shuffled[:5]"
   ]
  },
  {
   "cell_type": "code",
   "execution_count": 10,
   "metadata": {
    "collapsed": false
   },
   "outputs": [
    {
     "name": "stdout",
     "output_type": "stream",
     "text": [
      "('Rows:', 50001)\n",
      "('Columns:', 11)\n"
     ]
    }
   ],
   "source": [
    "rows, columns = train_data_shuffled.shape\n",
    "print(\"Rows:\", rows)\n",
    "print(\"Columns:\", columns)"
   ]
  },
  {
   "cell_type": "code",
   "execution_count": 29,
   "metadata": {
    "collapsed": true
   },
   "outputs": [],
   "source": [
    "train_size = round(rows*.8)\n",
    "# dev_size   = round(rows*.2)"
   ]
  },
  {
   "cell_type": "code",
   "execution_count": 37,
   "metadata": {
    "collapsed": false
   },
   "outputs": [
    {
     "data": {
      "text/html": [
       "<div>\n",
       "<table border=\"1\" class=\"dataframe\">\n",
       "  <thead>\n",
       "    <tr style=\"text-align: right;\">\n",
       "      <th></th>\n",
       "      <th>0</th>\n",
       "      <th>1</th>\n",
       "      <th>2</th>\n",
       "      <th>3</th>\n",
       "      <th>4</th>\n",
       "      <th>5</th>\n",
       "      <th>6</th>\n",
       "      <th>7</th>\n",
       "      <th>8</th>\n",
       "      <th>9</th>\n",
       "      <th>10</th>\n",
       "    </tr>\n",
       "  </thead>\n",
       "  <tbody>\n",
       "    <tr>\n",
       "      <th>0</th>\n",
       "      <td>0</td>\n",
       "      <td>9/1/12 0:11</td>\n",
       "      <td>9/1/12 0:20</td>\n",
       "      <td>13.20</td>\n",
       "      <td>1</td>\n",
       "      <td>-122.413540</td>\n",
       "      <td>37.802683</td>\n",
       "      <td>-122.421277</td>\n",
       "      <td>37.785395</td>\n",
       "      <td>38</td>\n",
       "      <td>30</td>\n",
       "    </tr>\n",
       "    <tr>\n",
       "      <th>1</th>\n",
       "      <td>1</td>\n",
       "      <td>9/1/12 0:23</td>\n",
       "      <td>9/1/12 0:31</td>\n",
       "      <td>10.65</td>\n",
       "      <td>1</td>\n",
       "      <td>-122.419700</td>\n",
       "      <td>37.786090</td>\n",
       "      <td>-122.435217</td>\n",
       "      <td>37.762177</td>\n",
       "      <td>30</td>\n",
       "      <td>94</td>\n",
       "    </tr>\n",
       "    <tr>\n",
       "      <th>2</th>\n",
       "      <td>2</td>\n",
       "      <td>9/1/12 0:45</td>\n",
       "      <td>9/1/12 0:49</td>\n",
       "      <td>9.00</td>\n",
       "      <td>1</td>\n",
       "      <td>-122.415120</td>\n",
       "      <td>37.774672</td>\n",
       "      <td>-122.407657</td>\n",
       "      <td>37.782615</td>\n",
       "      <td>10</td>\n",
       "      <td>11</td>\n",
       "    </tr>\n",
       "    <tr>\n",
       "      <th>3</th>\n",
       "      <td>3</td>\n",
       "      <td>9/1/12 0:41</td>\n",
       "      <td>9/1/12 0:54</td>\n",
       "      <td>13.95</td>\n",
       "      <td>2</td>\n",
       "      <td>-122.419392</td>\n",
       "      <td>37.806622</td>\n",
       "      <td>-122.415393</td>\n",
       "      <td>37.778115</td>\n",
       "      <td>40</td>\n",
       "      <td>10</td>\n",
       "    </tr>\n",
       "    <tr>\n",
       "      <th>4</th>\n",
       "      <td>4</td>\n",
       "      <td>9/1/12 1:09</td>\n",
       "      <td>9/1/12 1:13</td>\n",
       "      <td>7.35</td>\n",
       "      <td>1</td>\n",
       "      <td>-122.429722</td>\n",
       "      <td>37.797790</td>\n",
       "      <td>-122.418060</td>\n",
       "      <td>37.789032</td>\n",
       "      <td>45</td>\n",
       "      <td>32</td>\n",
       "    </tr>\n",
       "  </tbody>\n",
       "</table>\n",
       "</div>"
      ],
      "text/plain": [
       "   0            1            2      3   4           5          6           7   \\\n",
       "0   0  9/1/12 0:11  9/1/12 0:20  13.20   1 -122.413540  37.802683 -122.421277   \n",
       "1   1  9/1/12 0:23  9/1/12 0:31  10.65   1 -122.419700  37.786090 -122.435217   \n",
       "2   2  9/1/12 0:45  9/1/12 0:49   9.00   1 -122.415120  37.774672 -122.407657   \n",
       "3   3  9/1/12 0:41  9/1/12 0:54  13.95   2 -122.419392  37.806622 -122.415393   \n",
       "4   4  9/1/12 1:09  9/1/12 1:13   7.35   1 -122.429722  37.797790 -122.418060   \n",
       "\n",
       "          8   9   10  \n",
       "0  37.785395  38  30  \n",
       "1  37.762177  30  94  \n",
       "2  37.782615  10  11  \n",
       "3  37.778115  40  10  \n",
       "4  37.789032  45  32  "
      ]
     },
     "execution_count": 37,
     "metadata": {},
     "output_type": "execute_result"
    }
   ],
   "source": [
    "train_set = train_data.loc[:train_size]\n",
    "# train_set.shape\n",
    "# train_set.head()\n",
    "train_set.head()"
   ]
  },
  {
   "cell_type": "code",
   "execution_count": 38,
   "metadata": {
    "collapsed": false
   },
   "outputs": [
    {
     "data": {
      "text/plain": [
       "(10000, 11)"
      ]
     },
     "execution_count": 38,
     "metadata": {},
     "output_type": "execute_result"
    }
   ],
   "source": [
    "dev_set = train_data.loc[train_size:]\n",
    "dev_set.shape"
   ]
  },
  {
   "cell_type": "code",
   "execution_count": 39,
   "metadata": {
    "collapsed": true
   },
   "outputs": [],
   "source": [
    "train_set.to_csv(\"train_set.csv\", sep=',' , header=False , index=False)"
   ]
  },
  {
   "cell_type": "code",
   "execution_count": 40,
   "metadata": {
    "collapsed": true
   },
   "outputs": [],
   "source": [
    "dev_set.to_csv(\"dev_set.csv\", sep=',' , header=False , index=False)"
   ]
  },
  {
   "cell_type": "code",
   "execution_count": null,
   "metadata": {
    "collapsed": true
   },
   "outputs": [],
   "source": []
  }
 ],
 "metadata": {
  "kernelspec": {
   "display_name": "Python 2",
   "language": "python",
   "name": "python2"
  },
  "language_info": {
   "codemirror_mode": {
    "name": "ipython",
    "version": 2
   },
   "file_extension": ".py",
   "mimetype": "text/x-python",
   "name": "python",
   "nbconvert_exporter": "python",
   "pygments_lexer": "ipython2",
   "version": "2.7.10"
  }
 },
 "nbformat": 4,
 "nbformat_minor": 0
}
