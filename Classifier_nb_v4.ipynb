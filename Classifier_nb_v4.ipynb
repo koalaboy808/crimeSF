{
 "cells": [
  {
   "cell_type": "markdown",
   "metadata": {},
   "source": [
    "# Loading Library"
   ]
  },
  {
   "cell_type": "code",
   "execution_count": 2,
   "metadata": {
    "collapsed": false
   },
   "outputs": [],
   "source": [
    "# pandas\n",
    "import pandas as pd\n",
    "\n",
    "# numpy\n",
    "import numpy as np\n",
    "\n",
    "# defaultcit\n",
    "from collections import defaultdict\n",
    "\n",
    "# plot with folium\n",
    "import folium\n",
    "from IPython.core.display import HTML\n",
    "\n",
    "# parsing time\n",
    "from datetime import datetime, timedelta\n",
    "\n",
    "# plotting with matplotlib\n",
    "import matplotlib.pyplot as plt\n",
    "import matplotlib\n",
    "%matplotlib inline\n",
    "\n",
    "# plotting with pylab\n",
    "import pylab as P\n",
    "\n",
    "# Clustering\n",
    "from sklearn.cluster import MiniBatchKMeans, KMeans\n",
    "import time\n",
    "import json\n",
    "\n",
    "# change prediction categories into labels\n",
    "from sklearn import preprocessing\n",
    "from sklearn import cross_validation \n",
    "from sklearn import svm\n",
    "from sklearn.grid_search import GridSearchCV\n",
    "from sklearn.metrics import classification_report\n",
    "from sklearn.neighbors import KNeighborsClassifier\n",
    "from sklearn.linear_model import LogisticRegression\n",
    "from sklearn.ensemble import RandomForestRegressor\n",
    "\n",
    "import seaborn as sns\n",
    "import re\n",
    "\n",
    "from sklearn.naive_bayes import BernoulliNB\n",
    "from sklearn.cross_validation import train_test_split\n",
    "from sklearn.metrics import log_loss\n",
    "\n",
    "from nltk import FreqDist\n",
    "from xgboost import XGBClassifier"
   ]
  },
  {
   "cell_type": "markdown",
   "metadata": {},
   "source": [
    "## Loading Training/Testing Data"
   ]
  },
  {
   "cell_type": "markdown",
   "metadata": {},
   "source": [
    "** subset to only the fields we need and used in submission (Dates, DayOfWeek, PdDistrict, Address, X, Y, Category) **"
   ]
  },
  {
   "cell_type": "code",
   "execution_count": 14,
   "metadata": {
    "collapsed": false
   },
   "outputs": [],
   "source": [
    "test_df = pd.read_csv(\"test.csv\")\n",
    "train_df = pd.read_csv(\"train.csv\")\n",
    "train_df = train_df.sample(n = 100000, random_state = 666)"
   ]
  },
  {
   "cell_type": "code",
   "execution_count": 16,
   "metadata": {
    "collapsed": false
   },
   "outputs": [
    {
     "name": "stdout",
     "output_type": "stream",
     "text": [
      "(100000, 9)\n",
      "(884262, 7)\n"
     ]
    }
   ],
   "source": [
    "#Look at the shape\n",
    "print(train_df.shape)\n",
    "print(test_df.shape)"
   ]
  },
  {
   "cell_type": "markdown",
   "metadata": {},
   "source": [
    "## Feature Creation"
   ]
  },
  {
   "cell_type": "markdown",
   "metadata": {},
   "source": [
    "** create feature for training data and also for test data **\n",
    "\n",
    "** difference btw train/test is that training has category data **"
   ]
  },
  {
   "cell_type": "code",
   "execution_count": 17,
   "metadata": {
    "collapsed": false
   },
   "outputs": [
    {
     "name": "stdout",
     "output_type": "stream",
     "text": [
      "Sanity Check\n",
      "(100000, 20)\n",
      "(100000, 2)\n",
      "(100000, 4)\n",
      "(100000, 4)\n",
      "(100000, 10)\n",
      "(100000, 7)\n",
      "(100000, 2)\n",
      "(100000, 2)\n",
      "(100000, 2)\n",
      "(100000, 53)\n",
      "Make sure the total adds up to the last number\n"
     ]
    },
    {
     "data": {
      "text/html": [
       "<div>\n",
       "<table border=\"1\" class=\"dataframe\">\n",
       "  <thead>\n",
       "    <tr style=\"text-align: right;\">\n",
       "      <th></th>\n",
       "      <th>Dates</th>\n",
       "      <th>Category</th>\n",
       "      <th>Descript</th>\n",
       "      <th>DayOfWeek</th>\n",
       "      <th>PdDistrict</th>\n",
       "      <th>Resolution</th>\n",
       "      <th>Address</th>\n",
       "      <th>X</th>\n",
       "      <th>Y</th>\n",
       "      <th>month_of_year</th>\n",
       "      <th>...</th>\n",
       "      <th>Thursday</th>\n",
       "      <th>Tuesday</th>\n",
       "      <th>Wednesday</th>\n",
       "      <th>Crime</th>\n",
       "      <th>Other</th>\n",
       "      <th>A_Other</th>\n",
       "      <th>Danger</th>\n",
       "      <th>Danger_Date</th>\n",
       "      <th>Not_Danger_Other</th>\n",
       "      <th>dummy_Category</th>\n",
       "    </tr>\n",
       "  </thead>\n",
       "  <tbody>\n",
       "    <tr>\n",
       "      <th>859451</th>\n",
       "      <td>2003-04-02 13:00:00</td>\n",
       "      <td>ASSAULT</td>\n",
       "      <td>THREATS AGAINST LIFE</td>\n",
       "      <td>Wednesday</td>\n",
       "      <td>PARK</td>\n",
       "      <td>NONE</td>\n",
       "      <td>500 Block of CORBETT AV</td>\n",
       "      <td>-122.444182</td>\n",
       "      <td>37.757346</td>\n",
       "      <td>4</td>\n",
       "      <td>...</td>\n",
       "      <td>0</td>\n",
       "      <td>0</td>\n",
       "      <td>1</td>\n",
       "      <td>1</td>\n",
       "      <td>0</td>\n",
       "      <td>1</td>\n",
       "      <td>0</td>\n",
       "      <td>0</td>\n",
       "      <td>1</td>\n",
       "      <td>1</td>\n",
       "    </tr>\n",
       "    <tr>\n",
       "      <th>253119</th>\n",
       "      <td>2011-12-15 16:15:00</td>\n",
       "      <td>LARCENY/THEFT</td>\n",
       "      <td>GRAND THEFT PICKPOCKET</td>\n",
       "      <td>Thursday</td>\n",
       "      <td>CENTRAL</td>\n",
       "      <td>NONE</td>\n",
       "      <td>300 Block of BAY ST</td>\n",
       "      <td>-122.412804</td>\n",
       "      <td>37.805774</td>\n",
       "      <td>12</td>\n",
       "      <td>...</td>\n",
       "      <td>1</td>\n",
       "      <td>0</td>\n",
       "      <td>0</td>\n",
       "      <td>0</td>\n",
       "      <td>1</td>\n",
       "      <td>1</td>\n",
       "      <td>0</td>\n",
       "      <td>0</td>\n",
       "      <td>1</td>\n",
       "      <td>16</td>\n",
       "    </tr>\n",
       "    <tr>\n",
       "      <th>14837</th>\n",
       "      <td>2015-03-04 01:55:00</td>\n",
       "      <td>LARCENY/THEFT</td>\n",
       "      <td>GRAND THEFT FROM PERSON</td>\n",
       "      <td>Wednesday</td>\n",
       "      <td>MISSION</td>\n",
       "      <td>NONE</td>\n",
       "      <td>400 Block of CASTRO ST</td>\n",
       "      <td>-122.435150</td>\n",
       "      <td>37.761760</td>\n",
       "      <td>3</td>\n",
       "      <td>...</td>\n",
       "      <td>0</td>\n",
       "      <td>0</td>\n",
       "      <td>1</td>\n",
       "      <td>1</td>\n",
       "      <td>0</td>\n",
       "      <td>1</td>\n",
       "      <td>0</td>\n",
       "      <td>0</td>\n",
       "      <td>1</td>\n",
       "      <td>16</td>\n",
       "    </tr>\n",
       "    <tr>\n",
       "      <th>478492</th>\n",
       "      <td>2008-08-19 22:00:00</td>\n",
       "      <td>LARCENY/THEFT</td>\n",
       "      <td>GRAND THEFT FROM LOCKED AUTO</td>\n",
       "      <td>Tuesday</td>\n",
       "      <td>NORTHERN</td>\n",
       "      <td>NONE</td>\n",
       "      <td>2000 Block of WASHINGTON ST</td>\n",
       "      <td>-122.427007</td>\n",
       "      <td>37.792582</td>\n",
       "      <td>8</td>\n",
       "      <td>...</td>\n",
       "      <td>0</td>\n",
       "      <td>1</td>\n",
       "      <td>0</td>\n",
       "      <td>0</td>\n",
       "      <td>1</td>\n",
       "      <td>1</td>\n",
       "      <td>0</td>\n",
       "      <td>0</td>\n",
       "      <td>1</td>\n",
       "      <td>16</td>\n",
       "    </tr>\n",
       "    <tr>\n",
       "      <th>81259</th>\n",
       "      <td>2014-04-16 12:58:00</td>\n",
       "      <td>DRUG/NARCOTIC</td>\n",
       "      <td>SALE OF BASE/ROCK COCAINE</td>\n",
       "      <td>Wednesday</td>\n",
       "      <td>TENDERLOIN</td>\n",
       "      <td>ARREST, BOOKED</td>\n",
       "      <td>TURK ST / HYDE ST</td>\n",
       "      <td>-122.415695</td>\n",
       "      <td>37.782585</td>\n",
       "      <td>4</td>\n",
       "      <td>...</td>\n",
       "      <td>0</td>\n",
       "      <td>0</td>\n",
       "      <td>1</td>\n",
       "      <td>1</td>\n",
       "      <td>0</td>\n",
       "      <td>1</td>\n",
       "      <td>0</td>\n",
       "      <td>0</td>\n",
       "      <td>1</td>\n",
       "      <td>7</td>\n",
       "    </tr>\n",
       "  </tbody>\n",
       "</table>\n",
       "<p>5 rows × 54 columns</p>\n",
       "</div>"
      ],
      "text/plain": [
       "                      Dates       Category                      Descript  \\\n",
       "859451  2003-04-02 13:00:00        ASSAULT          THREATS AGAINST LIFE   \n",
       "253119  2011-12-15 16:15:00  LARCENY/THEFT        GRAND THEFT PICKPOCKET   \n",
       "14837   2015-03-04 01:55:00  LARCENY/THEFT       GRAND THEFT FROM PERSON   \n",
       "478492  2008-08-19 22:00:00  LARCENY/THEFT  GRAND THEFT FROM LOCKED AUTO   \n",
       "81259   2014-04-16 12:58:00  DRUG/NARCOTIC     SALE OF BASE/ROCK COCAINE   \n",
       "\n",
       "        DayOfWeek  PdDistrict      Resolution                      Address  \\\n",
       "859451  Wednesday        PARK            NONE      500 Block of CORBETT AV   \n",
       "253119   Thursday     CENTRAL            NONE          300 Block of BAY ST   \n",
       "14837   Wednesday     MISSION            NONE       400 Block of CASTRO ST   \n",
       "478492    Tuesday    NORTHERN            NONE  2000 Block of WASHINGTON ST   \n",
       "81259   Wednesday  TENDERLOIN  ARREST, BOOKED            TURK ST / HYDE ST   \n",
       "\n",
       "                 X          Y  month_of_year      ...        Thursday  \\\n",
       "859451 -122.444182  37.757346              4      ...               0   \n",
       "253119 -122.412804  37.805774             12      ...               1   \n",
       "14837  -122.435150  37.761760              3      ...               0   \n",
       "478492 -122.427007  37.792582              8      ...               0   \n",
       "81259  -122.415695  37.782585              4      ...               0   \n",
       "\n",
       "        Tuesday  Wednesday Crime Other A_Other Danger Danger_Date  \\\n",
       "859451        0          1     1     0       1      0           0   \n",
       "253119        0          0     0     1       1      0           0   \n",
       "14837         0          1     1     0       1      0           0   \n",
       "478492        1          0     0     1       1      0           0   \n",
       "81259         0          1     1     0       1      0           0   \n",
       "\n",
       "       Not_Danger_Other dummy_Category  \n",
       "859451                1              1  \n",
       "253119                1             16  \n",
       "14837                 1             16  \n",
       "478492                1             16  \n",
       "81259                 1              7  \n",
       "\n",
       "[5 rows x 54 columns]"
      ]
     },
     "execution_count": 17,
     "metadata": {},
     "output_type": "execute_result"
    }
   ],
   "source": [
    "def createFeature(train_df):\n",
    "    #Getting Month of Year, Day of Month, Hour of Day, and Minute of Hour\n",
    "    month_of_year = []\n",
    "    day_of_month =[]\n",
    "    hour_of_day =[]\n",
    "    min_of_hour =[]\n",
    "    month_and_day =[]\n",
    "    for i in range(len(train_df.Dates.values)):\n",
    "        moy = datetime.strptime(train_df.Dates.values[i], \"%Y-%m-%d %H:%M:%S\").month\n",
    "        dom = datetime.strptime(train_df.Dates.values[i], \"%Y-%m-%d %H:%M:%S\").day\n",
    "        hod = datetime.strptime(train_df.Dates.values[i], \"%Y-%m-%d %H:%M:%S\").hour\n",
    "        moh = datetime.strptime(train_df.Dates.values[i], \"%Y-%m-%d %H:%M:%S\").minute\n",
    "        month_of_year.append(moy)\n",
    "        day_of_month.append(dom)\n",
    "        hour_of_day.append(hod)\n",
    "        min_of_hour.append(moh)\n",
    "        #month_and_day.append((moy, dom))\n",
    "    train_df['month_of_year'] = month_of_year #Month of the Year feature added\n",
    "    train_df['day_of_month'] = day_of_month # Day of Month feature added\n",
    "    train_df['hour_of_day'] = hour_of_day # Hour of Day feature added\n",
    "    train_df['min_of_hour'] = min_of_hour # Minute of Hour Feature added\n",
    "#    train_df['month_and_day'] = month_and_day # Month and Date\n",
    "    \n",
    "    #Creating Weeekday/Weekended Feature\n",
    "    train_df['WeekdayWeeekend'] = train_df['DayOfWeek'].map( {'Monday': 'Weekday', 'Tuesday': 'Weekday', \\\n",
    "                                                          'Wednesday': 'Weekday', 'Thursday': 'Weekday', 'Friday': 'Weekend',\\\n",
    "                                                         'Saturday': 'Weekend', 'Sunday': 'Weekday'} ).astype(object)\n",
    "    # Creating Midnight/Morning/Afternoon/Night Column\n",
    "    train_df['TimeOfDay'] = train_df['hour_of_day'].map({0: 'Midnight', 1: 'Midnight', 2:'Midnight', 3:'Midnight', 4:'Morning', \\\n",
    "                                                     5:'Morning', 6:'Morning', 7:'Morning', 8:'Morning', 9:'Morning', \\\n",
    "                                                     10:'Morning', 11:'Morning', 12:'Afternoon', 13:'Afternoon', 14:'Afternoon', \\\n",
    "                                                     15:'Afternoon', 16:'Afternoon', 17:'Afternoon', 18:'Night', 19:'Night', \\\n",
    "                                                     20:'Night', 21:'Night', 22:'Midnight', 23:'Midnight'}).astype(object)\n",
    "    # Creating Season Feature\n",
    "    train_df['Season'] = train_df['month_of_year'].map({1: 'Winter', 2: 'Winter', 3:'Spring', 4:'Spring', 5:'Spring', \\\n",
    "                                                     6:'Spring', 7:'Summer', 8:'Summer', 9:'Summer', 10:'Autumn', \\\n",
    "                                                     11:'Autumn', 12:'Winter'}).astype(object)\n",
    "\n",
    "    \n",
    "    train_df['District_Type'] = train_df['PdDistrict'].map({'PARK': 'Crime', 'CENTRAL': 'Other', 'MISSION': 'Crime', 'NORTHERN': 'Other', \n",
    "                                                              'TENDERLOIN': 'Crime', 'INGLESIDE': 'Crime', 'TARAVAL': 'Crime', \n",
    "                                                              'SOUTHERN': 'Crime', 'BAYVIEW': 'Crime', 'RICHMOND': 'Crime'}).astype(object)\n",
    "\n",
    "    ###Creating feature DANGEROUS_Address\n",
    "    d = {}\n",
    "    address_list = []\n",
    "    for address in train_df['Address']:\n",
    "        address_list.append(address)\n",
    "    f = FreqDist(address_list)\n",
    "    common_list = f.most_common(15)\n",
    "    list_d = []\n",
    "    for address in common_list:\n",
    "        list_d.append(address[0])\n",
    "    for address in train_df['Address'][:10000]:\n",
    "        if address in list_d:\n",
    "            d[address] = 'Danger'\n",
    "        else:\n",
    "            d[address] = 'A_Other'\n",
    "    train_df['Address_Type'] = train_df['Address'].map(d)\n",
    "    \n",
    "    ###Creating feature DANGEROUS_DATES \n",
    "    date_list = []\n",
    "    i = 0\n",
    "    for date in train_df['Dates']:\n",
    "        while i < len(train_df.Dates.values):\n",
    "            moy = datetime.strptime(train_df.Dates.values[i], \"%Y-%m-%d %H:%M:%S\").month\n",
    "            dom = datetime.strptime(train_df.Dates.values[i], \"%Y-%m-%d %H:%M:%S\").day\n",
    "            date_list.append(((moy, dom)))\n",
    "            i += 1\n",
    "    train_df['Month_Day'] = date_list\n",
    "    date_f = FreqDist(date_list)\n",
    "    date_common_list = date_f.most_common(30)\n",
    "\n",
    "    list_date = []\n",
    "    dateDict = {}\n",
    "    for date in date_common_list:\n",
    "        list_date.append(date[0])\n",
    "\n",
    "    j = 0\n",
    "    for date in train_df['Dates']:\n",
    "        while j < len(train_df.Dates.values):\n",
    "            moy = datetime.strptime(train_df.Dates.values[j], \"%Y-%m-%d %H:%M:%S\").month\n",
    "            dom = datetime.strptime(train_df.Dates.values[j], \"%Y-%m-%d %H:%M:%S\").day\n",
    "            if (moy, dom) in list_date:\n",
    "                dateDict[(moy, dom)] = 'Danger_Date'\n",
    "            else:\n",
    "                dateDict[(moy, dom)] = 'Not_Danger_Other'\n",
    "            j += 1\n",
    "    train_df['Date_Type'] = train_df['Month_Day'].map(dateDict)\n",
    "    \n",
    "    #Deleting features not needed\n",
    "#     train_df = train_df.drop('Descript', 1)\n",
    "#     train_df = train_df.drop('Resolution', 1)\n",
    "    #train_df = train_df.drop('Address', 1)\n",
    "    \n",
    "    #Creating Dummy Variables\n",
    "    WeekdayWeekend_dummies = pd.get_dummies(train_df.WeekdayWeeekend)\n",
    "    TimeOfDay_dummies = pd.get_dummies(train_df.TimeOfDay)\n",
    "    season_dummies = pd.get_dummies(train_df.Season)\n",
    "    district_dummies = pd.get_dummies(train_df.PdDistrict)\n",
    "    week_dummies = pd.get_dummies(train_df.DayOfWeek)\n",
    "#     type_dummies = pd.get_dummies(train_df.Crime_Type)\n",
    "    corner_dummies = pd.get_dummies(train_df.District_Type)\n",
    "    address_dummies = pd.get_dummies(train_df.Address_Type)\n",
    "    date_dummies = pd.get_dummies(train_df.Date_Type)\n",
    "    \n",
    "    train_df_new = pd.concat([train_df, WeekdayWeekend_dummies, TimeOfDay_dummies, season_dummies, district_dummies, week_dummies, corner_dummies, address_dummies, date_dummies], axis=1, join_axes=[train_df.index])\n",
    "    print('Sanity Check')\n",
    "    print(train_df.shape)\n",
    "    print(WeekdayWeekend_dummies.shape)\n",
    "    print(TimeOfDay_dummies.shape)\n",
    "    print(season_dummies.shape)\n",
    "    print(district_dummies.shape)\n",
    "    print(week_dummies.shape)\n",
    "#     print(type_dummies.shape)\n",
    "    print(corner_dummies.shape)\n",
    "    print(address_dummies.shape)\n",
    "    print(date_dummies.shape)\n",
    "    print(train_df_new.shape)\n",
    "    print('Make sure the total adds up to the last number')\n",
    "    \n",
    "    return train_df_new\n",
    "    \n",
    "def createCrime(train_df):\n",
    "    le_crime = preprocessing.LabelEncoder()\n",
    "    crime = le_crime.fit_transform(train_df.Category)\n",
    "    train_df['dummy_Category'] = crime\n",
    "    \n",
    "    return train_df\n",
    "\n",
    "#Calling the feature creation function\n",
    "train_df_new = createCrime(createFeature(train_df))\n",
    "train_df_new.head()"
   ]
  },
  {
   "cell_type": "code",
   "execution_count": 5,
   "metadata": {
    "collapsed": false
   },
   "outputs": [
    {
     "name": "stdout",
     "output_type": "stream",
     "text": [
      "Sanity Check\n",
      "(884262, 18)\n",
      "(884262, 2)\n",
      "(884262, 4)\n",
      "(884262, 4)\n",
      "(884262, 10)\n",
      "(884262, 7)\n",
      "(884262, 2)\n",
      "(884262, 2)\n",
      "(884262, 2)\n",
      "(884262, 51)\n",
      "Make sure the total adds up to the last number\n"
     ]
    },
    {
     "data": {
      "text/html": [
       "<div>\n",
       "<table border=\"1\" class=\"dataframe\">\n",
       "  <thead>\n",
       "    <tr style=\"text-align: right;\">\n",
       "      <th></th>\n",
       "      <th>Id</th>\n",
       "      <th>Dates</th>\n",
       "      <th>DayOfWeek</th>\n",
       "      <th>PdDistrict</th>\n",
       "      <th>Address</th>\n",
       "      <th>X</th>\n",
       "      <th>Y</th>\n",
       "      <th>month_of_year</th>\n",
       "      <th>day_of_month</th>\n",
       "      <th>hour_of_day</th>\n",
       "      <th>...</th>\n",
       "      <th>Sunday</th>\n",
       "      <th>Thursday</th>\n",
       "      <th>Tuesday</th>\n",
       "      <th>Wednesday</th>\n",
       "      <th>Crime</th>\n",
       "      <th>Other</th>\n",
       "      <th>A_Other</th>\n",
       "      <th>Danger</th>\n",
       "      <th>Danger_Date</th>\n",
       "      <th>Not_Danger_Other</th>\n",
       "    </tr>\n",
       "  </thead>\n",
       "  <tbody>\n",
       "    <tr>\n",
       "      <th>0</th>\n",
       "      <td>0</td>\n",
       "      <td>2015-05-10 23:59:00</td>\n",
       "      <td>Sunday</td>\n",
       "      <td>BAYVIEW</td>\n",
       "      <td>2000 Block of THOMAS AV</td>\n",
       "      <td>-122.399588</td>\n",
       "      <td>37.735051</td>\n",
       "      <td>5</td>\n",
       "      <td>10</td>\n",
       "      <td>23</td>\n",
       "      <td>...</td>\n",
       "      <td>1</td>\n",
       "      <td>0</td>\n",
       "      <td>0</td>\n",
       "      <td>0</td>\n",
       "      <td>1</td>\n",
       "      <td>0</td>\n",
       "      <td>1</td>\n",
       "      <td>0</td>\n",
       "      <td>1</td>\n",
       "      <td>0</td>\n",
       "    </tr>\n",
       "    <tr>\n",
       "      <th>1</th>\n",
       "      <td>1</td>\n",
       "      <td>2015-05-10 23:51:00</td>\n",
       "      <td>Sunday</td>\n",
       "      <td>BAYVIEW</td>\n",
       "      <td>3RD ST / REVERE AV</td>\n",
       "      <td>-122.391523</td>\n",
       "      <td>37.732432</td>\n",
       "      <td>5</td>\n",
       "      <td>10</td>\n",
       "      <td>23</td>\n",
       "      <td>...</td>\n",
       "      <td>1</td>\n",
       "      <td>0</td>\n",
       "      <td>0</td>\n",
       "      <td>0</td>\n",
       "      <td>1</td>\n",
       "      <td>0</td>\n",
       "      <td>1</td>\n",
       "      <td>0</td>\n",
       "      <td>1</td>\n",
       "      <td>0</td>\n",
       "    </tr>\n",
       "    <tr>\n",
       "      <th>2</th>\n",
       "      <td>2</td>\n",
       "      <td>2015-05-10 23:50:00</td>\n",
       "      <td>Sunday</td>\n",
       "      <td>NORTHERN</td>\n",
       "      <td>2000 Block of GOUGH ST</td>\n",
       "      <td>-122.426002</td>\n",
       "      <td>37.792212</td>\n",
       "      <td>5</td>\n",
       "      <td>10</td>\n",
       "      <td>23</td>\n",
       "      <td>...</td>\n",
       "      <td>1</td>\n",
       "      <td>0</td>\n",
       "      <td>0</td>\n",
       "      <td>0</td>\n",
       "      <td>0</td>\n",
       "      <td>1</td>\n",
       "      <td>1</td>\n",
       "      <td>0</td>\n",
       "      <td>1</td>\n",
       "      <td>0</td>\n",
       "    </tr>\n",
       "    <tr>\n",
       "      <th>3</th>\n",
       "      <td>3</td>\n",
       "      <td>2015-05-10 23:45:00</td>\n",
       "      <td>Sunday</td>\n",
       "      <td>INGLESIDE</td>\n",
       "      <td>4700 Block of MISSION ST</td>\n",
       "      <td>-122.437394</td>\n",
       "      <td>37.721412</td>\n",
       "      <td>5</td>\n",
       "      <td>10</td>\n",
       "      <td>23</td>\n",
       "      <td>...</td>\n",
       "      <td>1</td>\n",
       "      <td>0</td>\n",
       "      <td>0</td>\n",
       "      <td>0</td>\n",
       "      <td>1</td>\n",
       "      <td>0</td>\n",
       "      <td>1</td>\n",
       "      <td>0</td>\n",
       "      <td>1</td>\n",
       "      <td>0</td>\n",
       "    </tr>\n",
       "    <tr>\n",
       "      <th>4</th>\n",
       "      <td>4</td>\n",
       "      <td>2015-05-10 23:45:00</td>\n",
       "      <td>Sunday</td>\n",
       "      <td>INGLESIDE</td>\n",
       "      <td>4700 Block of MISSION ST</td>\n",
       "      <td>-122.437394</td>\n",
       "      <td>37.721412</td>\n",
       "      <td>5</td>\n",
       "      <td>10</td>\n",
       "      <td>23</td>\n",
       "      <td>...</td>\n",
       "      <td>1</td>\n",
       "      <td>0</td>\n",
       "      <td>0</td>\n",
       "      <td>0</td>\n",
       "      <td>1</td>\n",
       "      <td>0</td>\n",
       "      <td>1</td>\n",
       "      <td>0</td>\n",
       "      <td>1</td>\n",
       "      <td>0</td>\n",
       "    </tr>\n",
       "  </tbody>\n",
       "</table>\n",
       "<p>5 rows × 51 columns</p>\n",
       "</div>"
      ],
      "text/plain": [
       "   Id                Dates DayOfWeek PdDistrict                   Address  \\\n",
       "0   0  2015-05-10 23:59:00    Sunday    BAYVIEW   2000 Block of THOMAS AV   \n",
       "1   1  2015-05-10 23:51:00    Sunday    BAYVIEW        3RD ST / REVERE AV   \n",
       "2   2  2015-05-10 23:50:00    Sunday   NORTHERN    2000 Block of GOUGH ST   \n",
       "3   3  2015-05-10 23:45:00    Sunday  INGLESIDE  4700 Block of MISSION ST   \n",
       "4   4  2015-05-10 23:45:00    Sunday  INGLESIDE  4700 Block of MISSION ST   \n",
       "\n",
       "            X          Y  month_of_year  day_of_month  hour_of_day  \\\n",
       "0 -122.399588  37.735051              5            10           23   \n",
       "1 -122.391523  37.732432              5            10           23   \n",
       "2 -122.426002  37.792212              5            10           23   \n",
       "3 -122.437394  37.721412              5            10           23   \n",
       "4 -122.437394  37.721412              5            10           23   \n",
       "\n",
       "         ...         Sunday Thursday Tuesday Wednesday Crime Other A_Other  \\\n",
       "0        ...              1        0       0         0     1     0       1   \n",
       "1        ...              1        0       0         0     1     0       1   \n",
       "2        ...              1        0       0         0     0     1       1   \n",
       "3        ...              1        0       0         0     1     0       1   \n",
       "4        ...              1        0       0         0     1     0       1   \n",
       "\n",
       "  Danger  Danger_Date  Not_Danger_Other  \n",
       "0      0            1                 0  \n",
       "1      0            1                 0  \n",
       "2      0            1                 0  \n",
       "3      0            1                 0  \n",
       "4      0            1                 0  \n",
       "\n",
       "[5 rows x 51 columns]"
      ]
     },
     "execution_count": 5,
     "metadata": {},
     "output_type": "execute_result"
    }
   ],
   "source": [
    "test_df_new = createFeature(test_df)\n",
    "test_df_new.head()"
   ]
  },
  {
   "cell_type": "code",
   "execution_count": 6,
   "metadata": {
    "collapsed": false
   },
   "outputs": [
    {
     "data": {
      "text/plain": [
       "((884262, 51), (878049, 54))"
      ]
     },
     "execution_count": 6,
     "metadata": {},
     "output_type": "execute_result"
    }
   ],
   "source": [
    "test_df_new.shape, train_df_new.shape"
   ]
  },
  {
   "cell_type": "markdown",
   "metadata": {
    "collapsed": true
   },
   "source": [
    "##Prediction"
   ]
  },
  {
   "cell_type": "markdown",
   "metadata": {},
   "source": [
    "### Feature Inclusion/Exclusion"
   ]
  },
  {
   "cell_type": "code",
   "execution_count": 7,
   "metadata": {
    "collapsed": false
   },
   "outputs": [],
   "source": [
    "# Lat/Long\n",
    "X_feature = (True, 'X')\n",
    "Y_feature = (True, 'Y')\n",
    "\n",
    "# Time\n",
    "Month_feature = (True, 'month_of_year')\n",
    "Day_feature = (True, 'day_of_month')\n",
    "Hour_feature = (True, 'hour_of_day')\n",
    "Min_feature = (True, 'min_of_hour')\n",
    "\n",
    "# Day of Week\n",
    "Friday_feature = (True, 'Friday') \n",
    "Monday_feature = (True, 'Monday')\n",
    "Saturday_feature = (True, 'Saturday')\n",
    "Sunday_feature = (True, 'Sunday')\n",
    "Thursday_feature = (True, 'Thursday')\n",
    "Tuesday_feature = (True, 'Tuesday')\n",
    "Wednesday_feature = (True, 'Wednesday')\n",
    "\n",
    "#Weekday/Weekend\n",
    "Weekday_feature = (True, 'Weekday') \n",
    "Weekend_feature = (True, 'Weekend') \n",
    "\n",
    "#Season \n",
    "Autumn_feature = (True, 'Autumn') \n",
    "Spring_feature = (True, 'Spring') \n",
    "Summer_feature = (True, 'Summer') \n",
    "Winter_feature = (True, 'Winter') \n",
    "\n",
    "#Time of Day\n",
    "Midnight_feature = (True, 'Midnight') \n",
    "Morning_feature = (True, 'Morning') \n",
    "Afternoon_feature = (True, 'Afternoon') \n",
    "Night_feature = (True, 'Night') \n",
    "\n",
    "# District\n",
    "BAYV_feature = (True, 'BAYVIEW')\n",
    "CENT_feature = (True, 'CENTRAL')\n",
    "INGL_feature = (True, 'INGLESIDE')\n",
    "MISS_feature = (True, 'MISSION')\n",
    "NORT_feature = (True, 'NORTHERN')\n",
    "PARK_feature = (True, 'PARK')\n",
    "RICH_feature = (True, 'RICHMOND')\n",
    "SOUT_feature = (True, 'SOUTHERN')\n",
    "TARA_feature = (True, 'TARAVAL')\n",
    "TEND_feature = (True, 'TENDERLOIN')\n",
    "\n",
    "# # Crime Type\n",
    "# Blue_feature = (False, 'Blue')\n",
    "# White_feature = (False, 'White')\n",
    "# Other_feature = (False, 'Other')\n",
    "\n",
    "# District Type\n",
    "# Corner_feature = (True, 'Corner')\n",
    "# Street_feature = (True, 'Street')\n",
    "# District_Other_feature = (True, 'Other')\n",
    "\n",
    "# District Type Based on Crime Density by looking at Blue, White, Other\n",
    "District_Other_feature = (True, 'Other')\n",
    "District_Crime_feature = (True, 'Crime')\n",
    "\n",
    "# Address Type\n",
    "Address_Danger_feature = (True, 'Danger')\n",
    "Address_Other_feature = (True, 'A_Other')\n",
    "\n",
    "# Date Type\n",
    "Danger_Date_feature = (True, 'Danger_Date')\n",
    "Not_Danger_Date_feature = (True, 'Not_Danger_Other')"
   ]
  },
  {
   "cell_type": "code",
   "execution_count": 8,
   "metadata": {
    "collapsed": false
   },
   "outputs": [],
   "source": [
    "feature_list = [\n",
    "                X_feature, Y_feature,\n",
    "                Month_feature, \n",
    "                Day_feature,\n",
    "                Hour_feature, \n",
    "                Min_feature,\n",
    "                #Monday_feature, Tuesday_feature, Wednesday_feature, Thursday_feature, Friday_feature, \n",
    "                Saturday_feature, Sunday_feature,\n",
    "                Weekday_feature, Weekend_feature, \n",
    "                #Autumn_feature, Spring_feature, Summer_feature, Winter_feature,\n",
    "                Midnight_feature, Morning_feature, Afternoon_feature, Night_feature, \n",
    "                BAYV_feature, CENT_feature, INGL_feature, MISS_feature, NORT_feature, PARK_feature, \n",
    "                RICH_feature, SOUT_feature, TARA_feature, TEND_feature,\n",
    "                #Corner_feature, Street_feature, District_Other_feature,\n",
    "                Address_Danger_feature, Address_Other_feature,\n",
    "                Danger_Date_feature, Not_Danger_Date_feature,\n",
    "                #District_Crime_feature, District_Other_feature\n",
    "               ]\n",
    "features = [str(x[1]) for x in feature_list if x[0]]"
   ]
  },
  {
   "cell_type": "markdown",
   "metadata": {},
   "source": [
    "# Trainding and Validation"
   ]
  },
  {
   "cell_type": "code",
   "execution_count": 10,
   "metadata": {
    "collapsed": false
   },
   "outputs": [
    {
     "data": {
      "text/plain": [
       "2.5503123655883893"
      ]
     },
     "execution_count": 10,
     "metadata": {},
     "output_type": "execute_result"
    }
   ],
   "source": [
    "training, validation = train_test_split(train_df_new, train_size=.60)\n",
    "#Score to beat 2.55250 \n",
    "\n",
    "model = BernoulliNB()\n",
    "model.fit(training[features], training['dummy_Category'])\n",
    "predicted = np.array(model.predict_proba(validation[features]))\n",
    "log_loss(validation['dummy_Category'], predicted)"
   ]
  },
  {
   "cell_type": "code",
   "execution_count": null,
   "metadata": {
    "collapsed": false
   },
   "outputs": [],
   "source": [
    "from xgboost import XGBClassifier\n",
    "model = XGBClassifier(max_depth=8,n_estimators=128)\n",
    "model.fit(training[features], training['dummy_Category'])\n",
    "predicted = np.array(model.predict_proba(validation[features]))\n",
    "log_loss(validation['dummy_Category'], predicted)"
   ]
  },
  {
   "cell_type": "code",
   "execution_count": null,
   "metadata": {
    "collapsed": true
   },
   "outputs": [],
   "source": [
    "from sklearn.ensemble import RandomForestClassifier\n",
    "model = RandomForestClassifier(max_depth=16,n_estimators=1024)\n",
    "model.fit(training[features], training['dummy_Category'])\n",
    "predicted = np.array(model.predict_proba(validation[features]))\n",
    "log_loss(validation['dummy_Category'], predicted)"
   ]
  },
  {
   "cell_type": "markdown",
   "metadata": {},
   "source": [
    "### Logistic Regression"
   ]
  },
  {
   "cell_type": "code",
   "execution_count": null,
   "metadata": {
    "collapsed": false
   },
   "outputs": [],
   "source": [
    "#Logistic Regression for comparison\n",
    "model = LogisticRegression(C=10)\n",
    "model.fit(training[features], training['dummy_Category'])\n",
    "predicted = np.array(model.predict_proba(validation[features]))\n",
    "log_loss(validation['dummy_Category'], predicted) "
   ]
  },
  {
   "cell_type": "markdown",
   "metadata": {},
   "source": [
    "##Submission with XGBClassifier"
   ]
  },
  {
   "cell_type": "code",
   "execution_count": 11,
   "metadata": {
    "collapsed": false
   },
   "outputs": [
    {
     "data": {
      "text/plain": [
       "(884262, 50)"
      ]
     },
     "execution_count": 11,
     "metadata": {},
     "output_type": "execute_result"
    }
   ],
   "source": [
    "test_df_new = test_df_new.ix[:,1:len(test_df_new)]\n",
    "test_df_new.shape"
   ]
  },
  {
   "cell_type": "code",
   "execution_count": 12,
   "metadata": {
    "collapsed": false
   },
   "outputs": [
    {
     "data": {
      "text/plain": [
       "XGBClassifier(base_score=0.5, colsample_bylevel=1, colsample_bytree=1,\n",
       "       gamma=0, learning_rate=0.1, max_delta_step=0, max_depth=8,\n",
       "       min_child_weight=1, missing=None, n_estimators=128, nthread=-1,\n",
       "       objective='multi:softprob', reg_alpha=0, reg_lambda=1,\n",
       "       scale_pos_weight=1, seed=0, silent=True, subsample=1)"
      ]
     },
     "execution_count": 12,
     "metadata": {},
     "output_type": "execute_result"
    }
   ],
   "source": [
    "#model = BernoulliNB()\n",
    "model = XGBClassifier(max_depth=8,n_estimators=128)\n",
    "model.fit(train_df_new[features], train_df_new['dummy_Category'])"
   ]
  },
  {
   "cell_type": "code",
   "execution_count": 13,
   "metadata": {
    "collapsed": true
   },
   "outputs": [],
   "source": [
    "predicted = np.array(model.predict_proba(test_df_new[features]))"
   ]
  },
  {
   "cell_type": "code",
   "execution_count": 14,
   "metadata": {
    "collapsed": false
   },
   "outputs": [],
   "source": [
    "ex_submission = pd.read_csv(\"sampleSubmission.csv\")"
   ]
  },
  {
   "cell_type": "code",
   "execution_count": 15,
   "metadata": {
    "collapsed": false
   },
   "outputs": [],
   "source": [
    "result= pd.DataFrame(predicted, columns=ex_submission.columns[1:len(ex_submission)])\n",
    "result.to_csv('testResult2.csv', index = True, index_label = 'Id' )"
   ]
  }
 ],
 "metadata": {
  "kernelspec": {
   "display_name": "Python 3",
   "language": "python",
   "name": "python3"
  },
  "language_info": {
   "codemirror_mode": {
    "name": "ipython",
    "version": 3
   },
   "file_extension": ".py",
   "mimetype": "text/x-python",
   "name": "python",
   "nbconvert_exporter": "python",
   "pygments_lexer": "ipython3",
   "version": "3.3.5"
  }
 },
 "nbformat": 4,
 "nbformat_minor": 0
}
