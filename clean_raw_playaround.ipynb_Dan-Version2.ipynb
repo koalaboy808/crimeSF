{
 "cells": [
  {
   "cell_type": "markdown",
   "metadata": {},
   "source": [
    "#Loading Library"
   ]
  },
  {
   "cell_type": "code",
   "execution_count": 1,
   "metadata": {
    "collapsed": false
   },
   "outputs": [],
   "source": [
    "# pandas\n",
    "import pandas as pd\n",
    "\n",
    "# numpy\n",
    "import numpy as np\n",
    "\n",
    "# defaultcit\n",
    "from collections import defaultdict\n",
    "\n",
    "# plot with folium\n",
    "import folium\n",
    "from IPython.core.display import HTML\n",
    "\n",
    "# parsing time\n",
    "from datetime import datetime, timedelta\n",
    "\n",
    "# plotting with matplotlib\n",
    "import matplotlib.pyplot as plt\n",
    "import matplotlib\n",
    "%matplotlib inline\n",
    "\n",
    "# plotting with pylab\n",
    "import pylab as P\n",
    "\n",
    "# Clustering\n",
    "from sklearn.cluster import MiniBatchKMeans, KMeans\n",
    "import time\n",
    "import json\n",
    "\n",
    "# change prediction categories into labels\n",
    "from sklearn import preprocessing\n",
    "from sklearn import cross_validation \n",
    "from sklearn import svm\n",
    "from sklearn.grid_search import GridSearchCV\n",
    "from sklearn.metrics import classification_report\n",
    "from sklearn.neighbors import KNeighborsClassifier\n",
    "\n",
    "import seaborn as sns\n",
    "import re"
   ]
  },
  {
   "cell_type": "markdown",
   "metadata": {},
   "source": [
    "###Loading Training/Testing Data"
   ]
  },
  {
   "cell_type": "code",
   "execution_count": 26,
   "metadata": {
    "collapsed": false
   },
   "outputs": [],
   "source": [
    "#test_df = pd.read_csv(\"test.csv\")\n",
    "train_df = pd.read_csv(\"train.csv\")\n",
    "train_df = train_df.sample(n = 500000, random_state = 666)"
   ]
  },
  {
   "cell_type": "code",
   "execution_count": 21,
   "metadata": {
    "collapsed": false
   },
   "outputs": [
    {
     "data": {
      "text/html": [
       "<div>\n",
       "<table border=\"1\" class=\"dataframe\">\n",
       "  <thead>\n",
       "    <tr style=\"text-align: right;\">\n",
       "      <th></th>\n",
       "      <th>Dates</th>\n",
       "      <th>Category</th>\n",
       "      <th>Descript</th>\n",
       "      <th>DayOfWeek</th>\n",
       "      <th>PdDistrict</th>\n",
       "      <th>Resolution</th>\n",
       "      <th>Address</th>\n",
       "      <th>X</th>\n",
       "      <th>Y</th>\n",
       "    </tr>\n",
       "  </thead>\n",
       "  <tbody>\n",
       "    <tr>\n",
       "      <th>0</th>\n",
       "      <td>2003-04-02 13:00:00</td>\n",
       "      <td>ASSAULT</td>\n",
       "      <td>THREATS AGAINST LIFE</td>\n",
       "      <td>Wednesday</td>\n",
       "      <td>PARK</td>\n",
       "      <td>NONE</td>\n",
       "      <td>500 Block of CORBETT AV</td>\n",
       "      <td>-122.444182</td>\n",
       "      <td>37.757346</td>\n",
       "    </tr>\n",
       "    <tr>\n",
       "      <th>1</th>\n",
       "      <td>2011-12-15 16:15:00</td>\n",
       "      <td>LARCENY/THEFT</td>\n",
       "      <td>GRAND THEFT PICKPOCKET</td>\n",
       "      <td>Thursday</td>\n",
       "      <td>CENTRAL</td>\n",
       "      <td>NONE</td>\n",
       "      <td>300 Block of BAY ST</td>\n",
       "      <td>-122.412804</td>\n",
       "      <td>37.805774</td>\n",
       "    </tr>\n",
       "    <tr>\n",
       "      <th>2</th>\n",
       "      <td>2015-03-04 01:55:00</td>\n",
       "      <td>LARCENY/THEFT</td>\n",
       "      <td>GRAND THEFT FROM PERSON</td>\n",
       "      <td>Wednesday</td>\n",
       "      <td>MISSION</td>\n",
       "      <td>NONE</td>\n",
       "      <td>400 Block of CASTRO ST</td>\n",
       "      <td>-122.435150</td>\n",
       "      <td>37.761760</td>\n",
       "    </tr>\n",
       "    <tr>\n",
       "      <th>3</th>\n",
       "      <td>2008-08-19 22:00:00</td>\n",
       "      <td>LARCENY/THEFT</td>\n",
       "      <td>GRAND THEFT FROM LOCKED AUTO</td>\n",
       "      <td>Tuesday</td>\n",
       "      <td>NORTHERN</td>\n",
       "      <td>NONE</td>\n",
       "      <td>2000 Block of WASHINGTON ST</td>\n",
       "      <td>-122.427007</td>\n",
       "      <td>37.792582</td>\n",
       "    </tr>\n",
       "    <tr>\n",
       "      <th>4</th>\n",
       "      <td>2014-04-16 12:58:00</td>\n",
       "      <td>DRUG/NARCOTIC</td>\n",
       "      <td>SALE OF BASE/ROCK COCAINE</td>\n",
       "      <td>Wednesday</td>\n",
       "      <td>TENDERLOIN</td>\n",
       "      <td>ARREST, BOOKED</td>\n",
       "      <td>TURK ST / HYDE ST</td>\n",
       "      <td>-122.415695</td>\n",
       "      <td>37.782585</td>\n",
       "    </tr>\n",
       "  </tbody>\n",
       "</table>\n",
       "</div>"
      ],
      "text/plain": [
       "                 Dates       Category                      Descript  \\\n",
       "0  2003-04-02 13:00:00        ASSAULT          THREATS AGAINST LIFE   \n",
       "1  2011-12-15 16:15:00  LARCENY/THEFT        GRAND THEFT PICKPOCKET   \n",
       "2  2015-03-04 01:55:00  LARCENY/THEFT       GRAND THEFT FROM PERSON   \n",
       "3  2008-08-19 22:00:00  LARCENY/THEFT  GRAND THEFT FROM LOCKED AUTO   \n",
       "4  2014-04-16 12:58:00  DRUG/NARCOTIC     SALE OF BASE/ROCK COCAINE   \n",
       "\n",
       "   DayOfWeek  PdDistrict      Resolution                      Address  \\\n",
       "0  Wednesday        PARK            NONE      500 Block of CORBETT AV   \n",
       "1   Thursday     CENTRAL            NONE          300 Block of BAY ST   \n",
       "2  Wednesday     MISSION            NONE       400 Block of CASTRO ST   \n",
       "3    Tuesday    NORTHERN            NONE  2000 Block of WASHINGTON ST   \n",
       "4  Wednesday  TENDERLOIN  ARREST, BOOKED            TURK ST / HYDE ST   \n",
       "\n",
       "            X          Y  \n",
       "0 -122.444182  37.757346  \n",
       "1 -122.412804  37.805774  \n",
       "2 -122.435150  37.761760  \n",
       "3 -122.427007  37.792582  \n",
       "4 -122.415695  37.782585  "
      ]
     },
     "execution_count": 21,
     "metadata": {},
     "output_type": "execute_result"
    }
   ],
   "source": [
    "train_df = pd.DataFrame(train_df)\n",
    "train_df = train_df.reset_index(drop=True)\n",
    "train_df.head()"
   ]
  },
  {
   "cell_type": "code",
   "execution_count": 5,
   "metadata": {
    "collapsed": false
   },
   "outputs": [
    {
     "data": {
      "text/plain": [
       "(20000, 9)"
      ]
     },
     "execution_count": 5,
     "metadata": {},
     "output_type": "execute_result"
    }
   ],
   "source": [
    "#Look at the shape\n",
    "train_df.shape"
   ]
  },
  {
   "cell_type": "code",
   "execution_count": 6,
   "metadata": {
    "collapsed": false
   },
   "outputs": [
    {
     "data": {
      "text/plain": [
       "(Index(['Dates', 'Category', 'Descript', 'DayOfWeek', 'PdDistrict',\n",
       "        'Resolution', 'Address', 'X', 'Y'],\n",
       "       dtype='object'), Dates          object\n",
       " Category       object\n",
       " Descript       object\n",
       " DayOfWeek      object\n",
       " PdDistrict     object\n",
       " Resolution     object\n",
       " Address        object\n",
       " X             float64\n",
       " Y             float64\n",
       " dtype: object)"
      ]
     },
     "execution_count": 6,
     "metadata": {},
     "output_type": "execute_result"
    }
   ],
   "source": [
    "train_df.columns, train_df.dtypes"
   ]
  },
  {
   "cell_type": "code",
   "execution_count": 7,
   "metadata": {
    "collapsed": false
   },
   "outputs": [
    {
     "data": {
      "text/plain": [
       "(array(['PARK', 'CENTRAL', 'MISSION', 'NORTHERN', 'TENDERLOIN', 'INGLESIDE',\n",
       "        'TARAVAL', 'SOUTHERN', 'BAYVIEW', 'RICHMOND'], dtype=object),\n",
       " array(['Wednesday', 'Thursday', 'Tuesday', 'Friday', 'Saturday', 'Monday',\n",
       "        'Sunday'], dtype=object),\n",
       " array(['ASSAULT', 'LARCENY/THEFT', 'DRUG/NARCOTIC', 'VEHICLE THEFT',\n",
       "        'ROBBERY', 'WARRANTS', 'BURGLARY', 'SEX OFFENSES FORCIBLE',\n",
       "        'VANDALISM', 'OTHER OFFENSES', 'PROSTITUTION', 'NON-CRIMINAL',\n",
       "        'MISSING PERSON', 'TRESPASS', 'SUSPICIOUS OCC', 'WEAPON LAWS',\n",
       "        'FORGERY/COUNTERFEITING', 'FRAUD', 'DISORDERLY CONDUCT',\n",
       "        'SEX OFFENSES NON FORCIBLE', 'SECONDARY CODES',\n",
       "        'DRIVING UNDER THE INFLUENCE', 'DRUNKENNESS', 'RUNAWAY', 'GAMBLING',\n",
       "        'RECOVERED VEHICLE', 'STOLEN PROPERTY', 'LOITERING', 'KIDNAPPING',\n",
       "        'EMBEZZLEMENT', 'ARSON', 'FAMILY OFFENSES', 'LIQUOR LAWS',\n",
       "        'BAD CHECKS', 'BRIBERY', 'SUICIDE', 'EXTORTION'], dtype=object),\n",
       " array(['NONE', 'ARREST, BOOKED', 'JUVENILE BOOKED',\n",
       "        'DISTRICT ATTORNEY REFUSES TO PROSECUTE', 'PSYCHOPATHIC CASE',\n",
       "        'LOCATED', 'ARREST, CITED',\n",
       "        'CLEARED-CONTACT JUVENILE FOR MORE INFO', 'JUVENILE CITED',\n",
       "        'COMPLAINANT REFUSES TO PROSECUTE', 'PROSECUTED BY OUTSIDE AGENCY',\n",
       "        'JUVENILE ADMONISHED', 'EXCEPTIONAL CLEARANCE', 'UNFOUNDED',\n",
       "        'NOT PROSECUTED', 'JUVENILE DIVERTED'], dtype=object))"
      ]
     },
     "execution_count": 7,
     "metadata": {},
     "output_type": "execute_result"
    }
   ],
   "source": [
    "#Listing Unique values for columns\n",
    "pd.unique(train_df.PdDistrict.ravel()), pd.unique(train_df.DayOfWeek.ravel()), pd.unique(train_df.Category.ravel()),\\\n",
    "pd.unique(train_df.Resolution .ravel())\n",
    "#pd.unique(train_df.hour_of_day.ravel())"
   ]
  },
  {
   "cell_type": "code",
   "execution_count": 194,
   "metadata": {
    "collapsed": false
   },
   "outputs": [
    {
     "data": {
      "text/plain": [
       "datetime.datetime(2015, 5, 13, 23, 53)"
      ]
     },
     "execution_count": 194,
     "metadata": {},
     "output_type": "execute_result"
    }
   ],
   "source": [
    "# dtDate = datetime.strptime(\"07-27-2012\",\"%m-%d-%Y\")\n",
    "datetime.strptime('2015-05-13 23:53:00', \"%Y-%m-%d %H:%M:%S\")"
   ]
  },
  {
   "cell_type": "markdown",
   "metadata": {},
   "source": [
    "#Feature Creation"
   ]
  },
  {
   "cell_type": "code",
   "execution_count": 27,
   "metadata": {
    "collapsed": false
   },
   "outputs": [
    {
     "name": "stdout",
     "output_type": "stream",
     "text": [
      "Sanity Check\n",
      "(500000, 15)\n",
      "(500000, 2)\n",
      "(500000, 4)\n",
      "(500000, 4)\n",
      "(500000, 10)\n",
      "(500000, 7)\n",
      "(500000, 3)\n",
      "(500000, 3)\n",
      "(500000, 48)\n",
      "Make sure the total adds up to the last number\n"
     ]
    },
    {
     "data": {
      "text/html": [
       "<div>\n",
       "<table border=\"1\" class=\"dataframe\">\n",
       "  <thead>\n",
       "    <tr style=\"text-align: right;\">\n",
       "      <th></th>\n",
       "      <th>Dates</th>\n",
       "      <th>Category</th>\n",
       "      <th>DayOfWeek</th>\n",
       "      <th>PdDistrict</th>\n",
       "      <th>X</th>\n",
       "      <th>Y</th>\n",
       "      <th>month_of_year</th>\n",
       "      <th>day_of_month</th>\n",
       "      <th>hour_of_day</th>\n",
       "      <th>min_of_hour</th>\n",
       "      <th>...</th>\n",
       "      <th>Thursday</th>\n",
       "      <th>Tuesday</th>\n",
       "      <th>Wednesday</th>\n",
       "      <th>Blue</th>\n",
       "      <th>Other</th>\n",
       "      <th>White</th>\n",
       "      <th>Corner</th>\n",
       "      <th>Other</th>\n",
       "      <th>Street</th>\n",
       "      <th>dummy_Category</th>\n",
       "    </tr>\n",
       "  </thead>\n",
       "  <tbody>\n",
       "    <tr>\n",
       "      <th>859451</th>\n",
       "      <td>2003-04-02 13:00:00</td>\n",
       "      <td>ASSAULT</td>\n",
       "      <td>Wednesday</td>\n",
       "      <td>PARK</td>\n",
       "      <td>-122.444182</td>\n",
       "      <td>37.757346</td>\n",
       "      <td>4</td>\n",
       "      <td>2</td>\n",
       "      <td>13</td>\n",
       "      <td>0</td>\n",
       "      <td>...</td>\n",
       "      <td>0</td>\n",
       "      <td>0</td>\n",
       "      <td>1</td>\n",
       "      <td>1</td>\n",
       "      <td>0</td>\n",
       "      <td>0</td>\n",
       "      <td>0</td>\n",
       "      <td>1</td>\n",
       "      <td>0</td>\n",
       "      <td>1</td>\n",
       "    </tr>\n",
       "    <tr>\n",
       "      <th>253119</th>\n",
       "      <td>2011-12-15 16:15:00</td>\n",
       "      <td>LARCENY/THEFT</td>\n",
       "      <td>Thursday</td>\n",
       "      <td>CENTRAL</td>\n",
       "      <td>-122.412804</td>\n",
       "      <td>37.805774</td>\n",
       "      <td>12</td>\n",
       "      <td>15</td>\n",
       "      <td>16</td>\n",
       "      <td>15</td>\n",
       "      <td>...</td>\n",
       "      <td>1</td>\n",
       "      <td>0</td>\n",
       "      <td>0</td>\n",
       "      <td>1</td>\n",
       "      <td>0</td>\n",
       "      <td>0</td>\n",
       "      <td>0</td>\n",
       "      <td>1</td>\n",
       "      <td>0</td>\n",
       "      <td>16</td>\n",
       "    </tr>\n",
       "    <tr>\n",
       "      <th>14837</th>\n",
       "      <td>2015-03-04 01:55:00</td>\n",
       "      <td>LARCENY/THEFT</td>\n",
       "      <td>Wednesday</td>\n",
       "      <td>MISSION</td>\n",
       "      <td>-122.435150</td>\n",
       "      <td>37.761760</td>\n",
       "      <td>3</td>\n",
       "      <td>4</td>\n",
       "      <td>1</td>\n",
       "      <td>55</td>\n",
       "      <td>...</td>\n",
       "      <td>0</td>\n",
       "      <td>0</td>\n",
       "      <td>1</td>\n",
       "      <td>1</td>\n",
       "      <td>0</td>\n",
       "      <td>0</td>\n",
       "      <td>1</td>\n",
       "      <td>0</td>\n",
       "      <td>0</td>\n",
       "      <td>16</td>\n",
       "    </tr>\n",
       "    <tr>\n",
       "      <th>478492</th>\n",
       "      <td>2008-08-19 22:00:00</td>\n",
       "      <td>LARCENY/THEFT</td>\n",
       "      <td>Tuesday</td>\n",
       "      <td>NORTHERN</td>\n",
       "      <td>-122.427007</td>\n",
       "      <td>37.792582</td>\n",
       "      <td>8</td>\n",
       "      <td>19</td>\n",
       "      <td>22</td>\n",
       "      <td>0</td>\n",
       "      <td>...</td>\n",
       "      <td>0</td>\n",
       "      <td>1</td>\n",
       "      <td>0</td>\n",
       "      <td>1</td>\n",
       "      <td>0</td>\n",
       "      <td>0</td>\n",
       "      <td>1</td>\n",
       "      <td>0</td>\n",
       "      <td>0</td>\n",
       "      <td>16</td>\n",
       "    </tr>\n",
       "    <tr>\n",
       "      <th>81259</th>\n",
       "      <td>2014-04-16 12:58:00</td>\n",
       "      <td>DRUG/NARCOTIC</td>\n",
       "      <td>Wednesday</td>\n",
       "      <td>TENDERLOIN</td>\n",
       "      <td>-122.415695</td>\n",
       "      <td>37.782585</td>\n",
       "      <td>4</td>\n",
       "      <td>16</td>\n",
       "      <td>12</td>\n",
       "      <td>58</td>\n",
       "      <td>...</td>\n",
       "      <td>0</td>\n",
       "      <td>0</td>\n",
       "      <td>1</td>\n",
       "      <td>0</td>\n",
       "      <td>1</td>\n",
       "      <td>0</td>\n",
       "      <td>0</td>\n",
       "      <td>1</td>\n",
       "      <td>0</td>\n",
       "      <td>7</td>\n",
       "    </tr>\n",
       "  </tbody>\n",
       "</table>\n",
       "<p>5 rows × 49 columns</p>\n",
       "</div>"
      ],
      "text/plain": [
       "                      Dates       Category  DayOfWeek  PdDistrict           X  \\\n",
       "859451  2003-04-02 13:00:00        ASSAULT  Wednesday        PARK -122.444182   \n",
       "253119  2011-12-15 16:15:00  LARCENY/THEFT   Thursday     CENTRAL -122.412804   \n",
       "14837   2015-03-04 01:55:00  LARCENY/THEFT  Wednesday     MISSION -122.435150   \n",
       "478492  2008-08-19 22:00:00  LARCENY/THEFT    Tuesday    NORTHERN -122.427007   \n",
       "81259   2014-04-16 12:58:00  DRUG/NARCOTIC  Wednesday  TENDERLOIN -122.415695   \n",
       "\n",
       "                Y  month_of_year  day_of_month  hour_of_day  min_of_hour  \\\n",
       "859451  37.757346              4             2           13            0   \n",
       "253119  37.805774             12            15           16           15   \n",
       "14837   37.761760              3             4            1           55   \n",
       "478492  37.792582              8            19           22            0   \n",
       "81259   37.782585              4            16           12           58   \n",
       "\n",
       "             ...       Thursday Tuesday Wednesday Blue  Other  White  Corner  \\\n",
       "859451       ...              0       0         1    1      0      0       0   \n",
       "253119       ...              1       0         0    1      0      0       0   \n",
       "14837        ...              0       0         1    1      0      0       1   \n",
       "478492       ...              0       1         0    1      0      0       1   \n",
       "81259        ...              0       0         1    0      1      0       0   \n",
       "\n",
       "        Other  Street  dummy_Category  \n",
       "859451      1       0               1  \n",
       "253119      1       0              16  \n",
       "14837       0       0              16  \n",
       "478492      0       0              16  \n",
       "81259       1       0               7  \n",
       "\n",
       "[5 rows x 49 columns]"
      ]
     },
     "execution_count": 27,
     "metadata": {},
     "output_type": "execute_result"
    }
   ],
   "source": [
    "def createFeature(train_df):\n",
    "    #Getting Month of Year, Day of Month, Hour of Day, and Minute of Hour\n",
    "    month_of_year = []\n",
    "    day_of_month =[]\n",
    "    hour_of_day =[]\n",
    "    min_of_hour =[]\n",
    "    for i in range(len(train_df.Dates.values)):\n",
    "        moy = datetime.strptime(train_df.Dates.values[i], \"%Y-%m-%d %H:%M:%S\").month\n",
    "        dom = datetime.strptime(train_df.Dates.values[i], \"%Y-%m-%d %H:%M:%S\").day\n",
    "        hod = datetime.strptime(train_df.Dates.values[i], \"%Y-%m-%d %H:%M:%S\").hour\n",
    "        moh = datetime.strptime(train_df.Dates.values[i], \"%Y-%m-%d %H:%M:%S\").minute\n",
    "        month_of_year.append(moy)\n",
    "        day_of_month.append(dom)\n",
    "        hour_of_day.append(hod)\n",
    "        min_of_hour.append(moh)\n",
    "    train_df['month_of_year'] = month_of_year #Month of the Year feature added\n",
    "    train_df['day_of_month'] = day_of_month # Day of Month feature added\n",
    "    train_df['hour_of_day'] = hour_of_day # Hour of Day feature added\n",
    "    train_df['min_of_hour'] = min_of_hour # Minute of Hour Feature added\n",
    "    \n",
    "    #Creating Weeekday/Weekended Feature\n",
    "    train_df['WeekdayWeeekend'] = train_df['DayOfWeek'].map( {'Monday': 'Weekday', 'Tuesday': 'Weekday', \\\n",
    "                                                          'Wednesday': 'Weekday', 'Thursday': 'Weekday', 'Friday': 'Weekend',\\\n",
    "                                                         'Saturday': 'Weekend', 'Sunday': 'Weekday'} ).astype(object)\n",
    "    # Creating Midnight/Morning/Afternoon/Night Column\n",
    "    train_df['TimeOfDay'] = train_df['hour_of_day'].map({0: 'Midnight', 1: 'Midnight', 2:'Midnight', 3:'Midnight', 4:'Morning', \\\n",
    "                                                     5:'Morning', 6:'Morning', 7:'Morning', 8:'Morning', 9:'Morning', \\\n",
    "                                                     10:'Morning', 11:'Morning', 12:'Afternoon', 13:'Afternoon', 14:'Afternoon', \\\n",
    "                                                     15:'Afternoon', 16:'Afternoon', 17:'Afternoon', 18:'Night', 19:'Night', \\\n",
    "                                                     20:'Night', 21:'Night', 22:'Midnight', 23:'Midnight'}).astype(object)\n",
    "    # Creating Season Feature\n",
    "    train_df['Season'] = train_df['month_of_year'].map({1: 'Winter', 2: 'Winter', 3:'Spring', 4:'Spring', 5:'Spring', \\\n",
    "                                                     6:'Spring', 7:'Summer', 8:'Summer', 9:'Summer', 10:'Autumn', \\\n",
    "                                                     11:'Autumn', 12:'Winter'}).astype(object)\n",
    "\n",
    "    \n",
    "    \n",
    "    train_df['Crime_Type'] = train_df['Category'].map({'FRAUD': 'White', 'FORGERY/COUNTERFEITING': 'White',\n",
    "                                                      'BAD CHECKS': 'White', 'EXTORTION': 'White', 'EMBEZZLEMENT': 'White',\n",
    "                                                       'SUSPICIOUS OCC': 'White', 'BRIBERY': 'White', 'VANDALISM': 'Blue',\n",
    "                                                       'LARCENY/THEFT': 'Blue', 'STOLEN PROPERTY': 'Blue', 'ROBBERY': 'Blue',\n",
    "                                                       'DRIVING UNDER THE INFLUENCE': 'Blue', 'DISORDERLY CONDUCT': 'Blue',\n",
    "                                                       'LIQUOR LAWS': 'Blue', 'VEHICLE THEFT': 'Blue', 'ASSAULT': 'Blue',\n",
    "                                                       'KIDNAPPING': 'Blue', 'TRESPASS': 'Blue', 'ARSON': 'Blue', \n",
    "                                                       'RECOVERED VEHICLE': 'Blue', 'MISSING PERSON': 'Other', 'RUNAWAY': 'Other',\n",
    "                                                       'FAMILY OFFENSES': 'Other', 'SEX OFFENSES NON FORCIBLE': 'Other',\n",
    "                                                       'PORNOGRAPHY/OBSCENE MAT': 'Other', 'WEAPON LAWS': 'Other',\n",
    "                                                       'DRUNKENNESS': 'Other', 'SUICIDE': 'Other', 'TREA': 'Other',\n",
    "                                                       'DRUG/NARCOTIC': 'Other', 'SEX OFFENSES FORCIBLE': 'Other', \n",
    "                                                       'LOITERING': 'Other'\n",
    "                                                      }).astype(object)\n",
    "    \n",
    "    train_df['District_Type'] = train_df['PdDistrict'].map({'PARK': 'Other', 'CENTRAL': 'Other', 'MISSION': 'Corner', 'NORTHERN': 'Corner', \n",
    "                                                              'TENDERLOIN': 'Other', 'INGLESIDE': 'Street', 'TARAVAL': 'Street', \n",
    "                                                              'SOUTHERN': 'Other', 'BAYVIEW': 'Other', 'RICHMOND': 'Other'}).astype(object)\n",
    "\n",
    "        \n",
    "    #Deleting features not needed\n",
    "    train_df = train_df.drop('Descript', 1)\n",
    "    train_df = train_df.drop('Resolution', 1)\n",
    "    train_df = train_df.drop('Address', 1)\n",
    "    \n",
    "    #Creating Dummy Variables\n",
    "    WeekdayWeekend_dummies = pd.get_dummies(train_df.WeekdayWeeekend)\n",
    "    TimeOfDay_dummies = pd.get_dummies(train_df.TimeOfDay)\n",
    "    season_dummies = pd.get_dummies(train_df.Season)\n",
    "    district_dummies = pd.get_dummies(train_df.PdDistrict)\n",
    "    week_dummies = pd.get_dummies(train_df.DayOfWeek)\n",
    "    type_dummies = pd.get_dummies(train_df.Crime_Type)\n",
    "    corner_dummies = pd.get_dummies(train_df.District_Type)\n",
    "    \n",
    "    train_df_new = pd.concat([train_df, WeekdayWeekend_dummies, TimeOfDay_dummies, season_dummies, district_dummies, week_dummies, type_dummies, corner_dummies], axis=1, join_axes=[train_df.index])\n",
    "    print('Sanity Check')\n",
    "    print(train_df.shape)\n",
    "    print(WeekdayWeekend_dummies.shape)\n",
    "    print(TimeOfDay_dummies.shape)\n",
    "    print(season_dummies.shape)\n",
    "    print(district_dummies.shape)\n",
    "    print(week_dummies.shape)\n",
    "    print(type_dummies.shape)\n",
    "    print(corner_dummies.shape)\n",
    "    print(train_df_new.shape)\n",
    "    print('Make sure the total adds up to the last number')\n",
    "    \n",
    "    le_crime = preprocessing.LabelEncoder()\n",
    "    crime = le_crime.fit_transform(train_df_new.Category)\n",
    "    train_df_new['dummy_Category'] = crime\n",
    "\n",
    "    return train_df_new\n",
    "#Calling the feature creation function\n",
    "train_df_new = createFeature(train_df)\n",
    "train_df_new.head()"
   ]
  },
  {
   "cell_type": "markdown",
   "metadata": {},
   "source": [
    "#Exploring with Street Corner Feature"
   ]
  },
  {
   "cell_type": "code",
   "execution_count": 28,
   "metadata": {
    "collapsed": false
   },
   "outputs": [
    {
     "name": "stdout",
     "output_type": "stream",
     "text": [
      "[[ 70.56629245  71.13128319  64.97517845  62.23151556  70.05954795\n",
      "   77.89581752  78.43550669  71.06256229  70.14820318  75.14616487  70.3448    ]\n",
      " [ 29.43370755  28.86871681  35.02482155  37.76848444  29.94045205\n",
      "   22.10418248  21.56449331  28.93743771  29.85179682  24.85383513  29.6552    ]]\n"
     ]
    },
    {
     "data": {
      "image/png": "[encoded data removed]",
      "text/plain": [
       "<matplotlib.figure.Figure at 0x10b275550>"
      ]
     },
     "metadata": {},
     "output_type": "display_data"
    }
   ],
   "source": [
    "train_df['street_corner'] = train_df['Address'].apply(lambda x: 1 if '/' in x else 0)\n",
    "crime_categories = train_df['PdDistrict'].unique()\n",
    "n_district = crime_categories.shape[0]\n",
    "street_corner_percentages = np.zeros((2,n_district+1))\n",
    "\n",
    "for n in np.arange(n_district):\n",
    "    if 0 in train_df['street_corner'].loc[train_df['PdDistrict'] == crime_categories[n]].value_counts().keys():\n",
    "        street_corner_percentages[0,n] = train_df['street_corner'].loc[train_df['PdDistrict'] == crime_categories[n]].value_counts()[0]\t\n",
    "    if 1 in train_df['street_corner'].loc[train_df['PdDistrict'] == crime_categories[n]].value_counts().keys():\n",
    "        street_corner_percentages[1,n] = train_df['street_corner'].loc[train_df['PdDistrict'] == crime_categories[n]].value_counts()[1]\t\n",
    "\n",
    "street_corner_percentages[:,-1] = np.sum(street_corner_percentages, axis=1)\n",
    "street_corner_percentages = 100.0*(street_corner_percentages/np.sum(street_corner_percentages, axis=0))\n",
    "print(street_corner_percentages)\n",
    "\n",
    "ind = np.arange(n_district)\n",
    "width = 1.0\n",
    "\n",
    "fig, axarr = plt.subplots(2,1)\n",
    "rects2 = axarr[0].bar(ind, street_corner_percentages[1,:-1], width, color='y')\n",
    "rects3 = axarr[1].bar(ind, street_corner_percentages[1,:-1]-street_corner_percentages[1,-1], width, color='y')\n",
    "\n",
    "axarr[0].set_ylabel('District with street corner (in %)')\n",
    "axarr[1].set_ylabel('Difference from \\n Average (in %)')\n",
    "axarr[0].set_title('Percentage of Street vs. Corner in each District')\n",
    "axarr[0].set_xticks(ind+0.5*width)\n",
    "axarr[1].set_xticks(ind+0.5*width)\n",
    "\n",
    "fig.subplots_adjust(hspace=.5)\n",
    "crimes_list = list(crime_categories)\n",
    "axarr[1].set_xticklabels(crimes_list, rotation='vertical')\n",
    "axarr[0].get_xaxis().set_ticks([])\n",
    "plt.subplots_adjust(bottom=0.45)\n",
    "plt.savefig('breakdown_of_corner_by_district.png')\n",
    "#code reference https://www.kaggle.com/tfurmston/sf-crime/crimes-that-occur-on-a-street-corner/code"
   ]
  },
  {
   "cell_type": "code",
   "execution_count": 281,
   "metadata": {
    "collapsed": false
   },
   "outputs": [
    {
     "name": "stderr",
     "output_type": "stream",
     "text": [
      "//anaconda/envs/py3k/lib/python3.3/site-packages/IPython/kernel/__main__.py:3: SettingWithCopyWarning: \n",
      "A value is trying to be set on a copy of a slice from a DataFrame.\n",
      "Try using .loc[row_indexer,col_indexer] = value instead\n",
      "\n",
      "See the the caveats in the documentation: http://pandas.pydata.org/pandas-docs/stable/indexing.html#indexing-view-versus-copy\n",
      "  app.launch_new_instance()\n"
     ]
    },
    {
     "data": {
      "text/plain": [
       "799"
      ]
     },
     "execution_count": 281,
     "metadata": {},
     "output_type": "execute_result"
    }
   ],
   "source": [
    "## Checking the calculation is right\n",
    "Park_boolean = train_df['PdDistrict'] == 'PARK'\n",
    "train_df_park = train_df[Park_boolean]\n",
    "train_df_park['street_corner_park'] = train_df_park[Park_boolean]['Address'].apply(lambda x: 1 if '/' in x else 0)\n",
    "len(train_df_park[train_df_park['street_corner_park'] == 0])"
   ]
  },
  {
   "cell_type": "code",
   "execution_count": 16,
   "metadata": {
    "collapsed": false
   },
   "outputs": [
    {
     "data": {
      "text/plain": [
       "Index(['Dates', 'Category', 'DayOfWeek', 'PdDistrict', 'X', 'Y',\n",
       "       'month_of_year', 'day_of_month', 'hour_of_day', 'min_of_hour',\n",
       "       'WeekdayWeeekend', 'TimeOfDay', 'Season', 'Crime_Type', 'District_Type',\n",
       "       'Weekday', 'Weekend', 'Afternoon', 'Midnight', 'Morning', 'Night',\n",
       "       'Autumn', 'Spring', 'Summer', 'Winter', 'BAYVIEW', 'CENTRAL',\n",
       "       'INGLESIDE', 'MISSION', 'NORTHERN', 'PARK', 'RICHMOND', 'SOUTHERN',\n",
       "       'TARAVAL', 'TENDERLOIN', 'Friday', 'Monday', 'Saturday', 'Sunday',\n",
       "       'Thursday', 'Tuesday', 'Wednesday', 'Blue', 'Other', 'White', 'Corner',\n",
       "       'Other', 'Street', 'dummy_Category'],\n",
       "      dtype='object')"
      ]
     },
     "execution_count": 16,
     "metadata": {},
     "output_type": "execute_result"
    }
   ],
   "source": [
    "train_df_new.columns"
   ]
  },
  {
   "cell_type": "code",
   "execution_count": 53,
   "metadata": {
    "collapsed": true
   },
   "outputs": [
    {
     "data": {
      "text/plain": [
       "[('LARCENY/THEFT', 9987),\n",
       " ('OTHER OFFENSES', 7194),\n",
       " ('NON-CRIMINAL', 5238),\n",
       " ('ASSAULT', 4404),\n",
       " ('DRUG/NARCOTIC', 3073),\n",
       " ('VEHICLE THEFT', 2951),\n",
       " ('VANDALISM', 2455),\n",
       " ('WARRANTS', 2427),\n",
       " ('BURGLARY', 2143),\n",
       " ('SUSPICIOUS OCC', 1819),\n",
       " ('MISSING PERSON', 1531),\n",
       " ('ROBBERY', 1257),\n",
       " ('FRAUD', 956),\n",
       " ('FORGERY/COUNTERFEITING', 627),\n",
       " ('SECONDARY CODES', 550),\n",
       " ('WEAPON LAWS', 482),\n",
       " ('TRESPASS', 419),\n",
       " ('PROSTITUTION', 408),\n",
       " ('SEX OFFENSES FORCIBLE', 289),\n",
       " ('DISORDERLY CONDUCT', 274),\n",
       " ('DRUNKENNESS', 255),\n",
       " ('STOLEN PROPERTY', 252),\n",
       " ('RECOVERED VEHICLE', 171),\n",
       " ('KIDNAPPING', 152),\n",
       " ('DRIVING UNDER THE INFLUENCE', 149),\n",
       " ('RUNAWAY', 102),\n",
       " ('LIQUOR LAWS', 95),\n",
       " ('ARSON', 82),\n",
       " ('EMBEZZLEMENT', 69),\n",
       " ('LOITERING', 60),\n",
       " ('SUICIDE', 31),\n",
       " ('BAD CHECKS', 24),\n",
       " ('FAMILY OFFENSES', 24),\n",
       " ('BRIBERY', 17),\n",
       " ('EXTORTION', 14),\n",
       " ('GAMBLING', 10),\n",
       " ('SEX OFFENSES NON FORCIBLE', 7),\n",
       " ('PORNOGRAPHY/OBSCENE MAT', 2)]"
      ]
     },
     "execution_count": 53,
     "metadata": {},
     "output_type": "execute_result"
    }
   ],
   "source": [
    "#Take a peek at the frequency of categories\n",
    "categories_dict = defaultdict(int)\n",
    "for item in train_df_new.Category:\n",
    "    categories_dict[item] += 1\n",
    "(sorted(categories_dict.items(), key=lambda x: x[1], reverse=True))"
   ]
  },
  {
   "cell_type": "markdown",
   "metadata": {
    "collapsed": true
   },
   "source": [
    "##Prediction"
   ]
  },
  {
   "cell_type": "markdown",
   "metadata": {},
   "source": [
    "### Feature Inclusion/Exclusion"
   ]
  },
  {
   "cell_type": "code",
   "execution_count": null,
   "metadata": {
    "collapsed": false
   },
   "outputs": [],
   "source": [
    "# Lat/Long\n",
    "X_feature = (True, 'X')\n",
    "Y_feature = (True, 'Y')\n",
    "\n",
    "# Time\n",
    "Month_feature = (True, 'month_of_year')\n",
    "Day_feature = (True, 'day_of_month')\n",
    "Hour_feature = (True, 'hour_of_day')\n",
    "Min_feature = (True, 'min_of_hour')\n",
    "\n",
    "# Day of Week\n",
    "Friday_feature = (True, 'Friday') \n",
    "Monday_feature = (True, 'Monday')\n",
    "Saturday_feature = (True, 'Saturday')\n",
    "Sunday_feature = (True, 'Sunday')\n",
    "Thursday_feature = (True, 'Thursday')\n",
    "Tuesday_feature = (True, 'Tuesday')\n",
    "Wednesday_feature = (True, 'Wednesday')\n",
    "\n",
    "#Weekday/Weekend\n",
    "Weekday_feature = (True, 'Weekday') \n",
    "Weekend_feature = (True, 'Weekend') \n",
    "\n",
    "#Season \n",
    "Autumn_feature = (True, 'Autumn') \n",
    "Spring_feature = (True, 'Spring') \n",
    "Summer_feature = (True, 'Summer') \n",
    "Winter_feature = (True, 'Winter') \n",
    "\n",
    "#Time of Day\n",
    "Midnight_feature = (True, 'Midnight') \n",
    "Morning_feature = (True, 'Morning') \n",
    "Afternoon_feature = (True, 'Afternoon') \n",
    "Night_feature = (True, 'Night') \n",
    "\n",
    "# District\n",
    "BAYV_feature = (True, 'BAYVIEW')\n",
    "CENT_feature = (True, 'CENTRAL')\n",
    "INGL_feature = (True, 'INGLESIDE')\n",
    "MISS_feature = (True, 'MISSION')\n",
    "NORT_feature = (True, 'NORTHERN')\n",
    "PARK_feature = (True, 'PARK')\n",
    "RICH_feature = (True, 'RICHMOND')\n",
    "SOUT_feature = (True, 'SOUTHERN')\n",
    "TARA_feature = (True, 'TARAVAL')\n",
    "TEND_feature = (True, 'TENDERLOIN')\n",
    "\n",
    "# Crime Type\n",
    "Blue_feature = (True, 'Blue')\n",
    "White_feature = (True, 'White')\n",
    "Other_feature = (True, 'Other')\n",
    "\n",
    "# District Type\n",
    "Corner_feature = (True, 'Corner')\n",
    "Street_feature = (True, 'Street')\n",
    "District_Other_feature = (True, 'Other')"
   ]
  },
  {
   "cell_type": "code",
   "execution_count": null,
   "metadata": {
    "collapsed": false
   },
   "outputs": [],
   "source": [
    "feature_list = [\n",
    "                X_feature, Y_feature,\n",
    "                #Month_feature, Day_feature, Hour_feature, Min_feature,\n",
    "                #Monday_feature, Tuesday_feature, Wednesday_feature, Thursday_feature, Friday_feature, \n",
    "                #Saturday_feature, Sunday_feature,\n",
    "                #Weekday_feature, Weekend_feature, \n",
    "                #Autumn_feature, Spring_feature, Summer_feature, Winter_feature,\n",
    "                #Midnight_feature, Morning_feature, Afternoon_feature, Night_feature, \n",
    "                BAYV_feature, CENT_feature, INGL_feature, MISS_feature, NORT_feature, PARK_feature, \n",
    "                RICH_feature, SOUT_feature, TARA_feature, TEND_feature,\n",
    "                Blue_feature, White_feature, Other_feature, \n",
    "                Corner_feature, Street_feature, District_Other_feature\n",
    "               ]\n",
    "features = [str(x[1]) for x in feature_list if x[0]]\n",
    "\n",
    "x_train, x_test, y_train, y_test = cross_validation.train_test_split(\n",
    "    train_df_new[features], train_df_new['dummy_Category'], test_size=0.2, random_state=0)\n",
    "\n",
    "knn = KNeighborsClassifier()\n",
    "knn.fit(x_train, y_train) \n",
    "knn.score(x_test, y_test) "
   ]
  },
  {
   "cell_type": "markdown",
   "metadata": {},
   "source": [
    "## SVM"
   ]
  },
  {
   "cell_type": "markdown",
   "metadata": {},
   "source": [
    "**1) svm with single fold**"
   ]
  },
  {
   "cell_type": "code",
   "execution_count": 133,
   "metadata": {
    "collapsed": false
   },
   "outputs": [],
   "source": []
  },
  {
   "cell_type": "code",
   "execution_count": 62,
   "metadata": {
    "collapsed": false
   },
   "outputs": [
    {
     "name": "stdout",
     "output_type": "stream",
     "text": [
      "(40000, 30)\n",
      "(10000, 30)\n",
      "(40000,)\n",
      "(10000,)\n"
     ]
    }
   ],
   "source": [
    "print(x_train.shape)\n",
    "print(x_test.shape)\n",
    "print(y_train.shape)\n",
    "print(y_test.shape)"
   ]
  },
  {
   "cell_type": "code",
   "execution_count": 63,
   "metadata": {
    "collapsed": false
   },
   "outputs": [
    {
     "data": {
      "text/plain": [
       "455140    20\n",
       "395885    32\n",
       "437828    16\n",
       "113639    20\n",
       "504910    16\n",
       "Name: dummy_Category, dtype: int64"
      ]
     },
     "execution_count": 63,
     "metadata": {},
     "output_type": "execute_result"
    }
   ],
   "source": [
    "y_train.head()"
   ]
  },
  {
   "cell_type": "code",
   "execution_count": 199,
   "metadata": {
    "collapsed": false
   },
   "outputs": [
    {
     "data": {
      "text/plain": [
       "0.24224999999999999"
      ]
     },
     "execution_count": 199,
     "metadata": {},
     "output_type": "execute_result"
    }
   ],
   "source": [
    "#KNN - gives lowest error; does well with tons of data; ratio does not go to infiniti; data, ratio, (30 max)\n",
    "# extra features on day: holiday; weekend; weekday; time of year; but do exploratory analyssi to find best features\n",
    "# randomforest and decision tree will tell you the importance of feature\n",
    "# 2D kernel density estimation\n",
    "\n",
    "svc_model = svm.SVC(kernel = 'rbf', C=10.0).fit(x_train, y_train)\n",
    "\n",
    "svc_model.score(x_test, y_test) "
   ]
  },
  {
   "cell_type": "markdown",
   "metadata": {},
   "source": [
    "**2) svm with crossfolds**"
   ]
  },
  {
   "cell_type": "code",
   "execution_count": 81,
   "metadata": {
    "collapsed": false
   },
   "outputs": [
    {
     "name": "stdout",
     "output_type": "stream",
     "text": [
      "(16000, 22) (16000,)\n",
      "(4000, 22) (4000,)\n"
     ]
    }
   ],
   "source": [
    "print(x_train.shape, y_train.shape)\n",
    "print(x_test.shape, y_test.shape)"
   ]
  },
  {
   "cell_type": "code",
   "execution_count": 82,
   "metadata": {
    "collapsed": false
   },
   "outputs": [
    {
     "data": {
      "text/plain": [
       "Index(['X', 'Y', 'Weekday', 'Weekend', 'Autumn', 'Spring', 'Summer', 'Winter',\n",
       "       'Midnight', 'Morning', 'Afternoon', 'Night', 'BAYVIEW', 'CENTRAL',\n",
       "       'INGLESIDE', 'MISSION', 'NORTHERN', 'PARK', 'RICHMOND', 'SOUTHERN',\n",
       "       'TARAVAL', 'TENDERLOIN'],\n",
       "      dtype='object')"
      ]
     },
     "execution_count": 82,
     "metadata": {},
     "output_type": "execute_result"
    }
   ],
   "source": [
    "x_train.columns"
   ]
  },
  {
   "cell_type": "code",
   "execution_count": 83,
   "metadata": {
    "collapsed": false
   },
   "outputs": [
    {
     "name": "stdout",
     "output_type": "stream",
     "text": [
      "(20000, 22)\n",
      "(20000,)\n"
     ]
    }
   ],
   "source": [
    "print(train_df_new[features].shape)\n",
    "print(train_df_new['dummy_Category'].shape)"
   ]
  },
  {
   "cell_type": "code",
   "execution_count": 84,
   "metadata": {
    "collapsed": false
   },
   "outputs": [
    {
     "name": "stderr",
     "output_type": "stream",
     "text": [
      "/Users/carlo_liquido/anaconda/lib/python3.4/site-packages/sklearn/cross_validation.py:417: Warning: The least populated class in y has only 3 members, which is too few. The minimum number of labels for any class cannot be less than n_folds=5.\n",
      "  % (min_labels, self.n_folds)), Warning)\n"
     ]
    },
    {
     "data": {
      "text/plain": [
       "array([ 0.22366127,  0.22815776,  0.22888556,  0.2244489 ,  0.22007528])"
      ]
     },
     "execution_count": 84,
     "metadata": {},
     "output_type": "execute_result"
    }
   ],
   "source": [
    "svm_2 = svm.SVC(kernel = 'rbf', C=90.0)\n",
    "scores = cross_validation.cross_val_score(\n",
    "    svm_2, train_df_new[features], train_df_new['dummy_Category'], cv=5)\n",
    "scores"
   ]
  },
  {
   "cell_type": "code",
   "execution_count": null,
   "metadata": {
    "collapsed": true
   },
   "outputs": [],
   "source": [
    "SVM_tuned_parameters = [{'kernel': ['rbf'],\n",
    "                     'gamma': [1e-1, 1e-2, 1e-3, 1e-4], 'C': [1, 10, 50, 100, 500, 1000]}\n",
    "                   ]\n",
    "\n",
    "SVM_scores = ['precision', 'recall']"
   ]
  },
  {
   "cell_type": "code",
   "execution_count": null,
   "metadata": {
    "collapsed": false
   },
   "outputs": [],
   "source": [
    "print(SVM_tuned_parameters)\n",
    "print(SVM_scores)"
   ]
  },
  {
   "cell_type": "code",
   "execution_count": null,
   "metadata": {
    "collapsed": false
   },
   "outputs": [],
   "source": [
    "for score in SVM_scores:\n",
    "    print(\"# Tuning hyper-parameters for %s\" % score)\n",
    "    print()\n",
    "\n",
    "    clf = GridSearchCV(svm.SVC(C=1), SVM_tuned_parameters, cv=5,\n",
    "                       scoring='%s_weighted' % score)\n",
    "    clf.fit(x_train, y_train)\n",
    "\n",
    "    print(\"Best parameters set found on development set:\")\n",
    "    print()\n",
    "    print(clf.best_params_)\n",
    "    print()\n",
    "    print(\"Grid scores on development set:\")\n",
    "    print()\n",
    "    for params, mean_score, scores in clf.grid_scores_:\n",
    "        print(\"%0.3f (+/-%0.03f) for %r\"\n",
    "              % (mean_score, scores.std() * 2, params))\n",
    "    print()\n",
    "\n",
    "    print(\"Detailed classification report:\")\n",
    "    print()\n",
    "    print(\"The model is trained on the full development set.\")\n",
    "    print(\"The scores are computed on the full evaluation set.\")\n",
    "    print()\n",
    "    y_true, y_pred = y_test, clf.predict(x_test)\n",
    "    print(classification_report(y_true, y_pred))\n",
    "    print()"
   ]
  },
  {
   "cell_type": "markdown",
   "metadata": {},
   "source": [
    "## KNN"
   ]
  },
  {
   "cell_type": "code",
   "execution_count": 143,
   "metadata": {
    "collapsed": false
   },
   "outputs": [
    {
     "data": {
      "text/plain": [
       "0.15859999999999999"
      ]
     },
     "execution_count": 143,
     "metadata": {},
     "output_type": "execute_result"
    }
   ],
   "source": [
    "knn = KNeighborsClassifier()\n",
    "knn.fit(x_train, y_train) \n",
    "knn.score(x_test, y_test) \n",
    "\n",
    "\n",
    "# KNeighborsClassifier(algorithm='auto', leaf_size=30, metric='minkowski',\n",
    "#            metric_params=None, n_jobs=1, n_neighbors=5, p=2,\n",
    "#            weights='uniform')\n",
    "\n",
    "# knn.predict(x_test)\n",
    "# array([1, 2, 1, 0, 0, 0, 2, 1, 2, 0])\n",
    "# y_test\n",
    "# array([1, 1, 1, 0, 0, 0, 2, 1, 2, 0])"
   ]
  },
  {
   "cell_type": "code",
   "execution_count": null,
   "metadata": {
    "collapsed": true
   },
   "outputs": [],
   "source": []
  }
 ],
 "metadata": {
  "kernelspec": {
   "display_name": "Python 3",
   "language": "python",
   "name": "python3"
  },
  "language_info": {
   "codemirror_mode": {
    "name": "ipython",
    "version": 3
   },
   "file_extension": ".py",
   "mimetype": "text/x-python",
   "name": "python",
   "nbconvert_exporter": "python",
   "pygments_lexer": "ipython3",
   "version": "3.3.5"
  }
 },
 "nbformat": 4,
 "nbformat_minor": 0
}
