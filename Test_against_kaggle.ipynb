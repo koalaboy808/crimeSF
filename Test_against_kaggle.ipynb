{
 "cells": [
  {
   "cell_type": "markdown",
   "metadata": {},
   "source": [
    "###Loading Library"
   ]
  },
  {
   "cell_type": "code",
   "execution_count": 1,
   "metadata": {
    "collapsed": false
   },
   "outputs": [],
   "source": [
    "# pandas\n",
    "import pandas as pd\n",
    "\n",
    "# numpy\n",
    "import numpy as np\n",
    "\n",
    "# defaultcit\n",
    "from collections import defaultdict\n",
    "\n",
    "# plot with folium\n",
    "import folium\n",
    "from IPython.core.display import HTML\n",
    "\n",
    "# parsing time\n",
    "from datetime import datetime, timedelta\n",
    "\n",
    "# plotting with matplotlib\n",
    "import matplotlib.pyplot as plt\n",
    "import matplotlib\n",
    "%matplotlib inline\n",
    "\n",
    "# plotting with pylab\n",
    "import pylab as P\n",
    "\n",
    "# Clustering\n",
    "from sklearn.cluster import MiniBatchKMeans, KMeans\n",
    "import time\n",
    "import json\n",
    "\n",
    "# change prediction categories into labels\n",
    "from sklearn import preprocessing\n",
    "from sklearn import cross_validation \n",
    "from sklearn import svm\n",
    "from sklearn.grid_search import GridSearchCV\n",
    "from sklearn.metrics import classification_report\n",
    "from sklearn.neighbors import KNeighborsClassifier"
   ]
  },
  {
   "cell_type": "markdown",
   "metadata": {},
   "source": [
    "###Loading Training/Testing Data"
   ]
  },
  {
   "cell_type": "code",
   "execution_count": 2,
   "metadata": {
    "collapsed": false
   },
   "outputs": [],
   "source": [
    "#test_df = pd.read_csv(\"test.csv\")\n",
    "train_df = pd.read_csv(\"train.csv\")\n",
    "train_df = train_df.sample(n = 20000, random_state = 666)"
   ]
  },
  {
   "cell_type": "code",
   "execution_count": 3,
   "metadata": {
    "collapsed": false
   },
   "outputs": [
    {
     "data": {
      "text/html": [
       "<div>\n",
       "<table border=\"1\" class=\"dataframe\">\n",
       "  <thead>\n",
       "    <tr style=\"text-align: right;\">\n",
       "      <th></th>\n",
       "      <th>Dates</th>\n",
       "      <th>Category</th>\n",
       "      <th>Descript</th>\n",
       "      <th>DayOfWeek</th>\n",
       "      <th>PdDistrict</th>\n",
       "      <th>Resolution</th>\n",
       "      <th>Address</th>\n",
       "      <th>X</th>\n",
       "      <th>Y</th>\n",
       "    </tr>\n",
       "  </thead>\n",
       "  <tbody>\n",
       "    <tr>\n",
       "      <th>0</th>\n",
       "      <td>2003-04-02 13:00:00</td>\n",
       "      <td>ASSAULT</td>\n",
       "      <td>THREATS AGAINST LIFE</td>\n",
       "      <td>Wednesday</td>\n",
       "      <td>PARK</td>\n",
       "      <td>NONE</td>\n",
       "      <td>500 Block of CORBETT AV</td>\n",
       "      <td>-122.444182</td>\n",
       "      <td>37.757346</td>\n",
       "    </tr>\n",
       "    <tr>\n",
       "      <th>1</th>\n",
       "      <td>2011-12-15 16:15:00</td>\n",
       "      <td>LARCENY/THEFT</td>\n",
       "      <td>GRAND THEFT PICKPOCKET</td>\n",
       "      <td>Thursday</td>\n",
       "      <td>CENTRAL</td>\n",
       "      <td>NONE</td>\n",
       "      <td>300 Block of BAY ST</td>\n",
       "      <td>-122.412804</td>\n",
       "      <td>37.805774</td>\n",
       "    </tr>\n",
       "    <tr>\n",
       "      <th>2</th>\n",
       "      <td>2015-03-04 01:55:00</td>\n",
       "      <td>LARCENY/THEFT</td>\n",
       "      <td>GRAND THEFT FROM PERSON</td>\n",
       "      <td>Wednesday</td>\n",
       "      <td>MISSION</td>\n",
       "      <td>NONE</td>\n",
       "      <td>400 Block of CASTRO ST</td>\n",
       "      <td>-122.435150</td>\n",
       "      <td>37.761760</td>\n",
       "    </tr>\n",
       "    <tr>\n",
       "      <th>3</th>\n",
       "      <td>2008-08-19 22:00:00</td>\n",
       "      <td>LARCENY/THEFT</td>\n",
       "      <td>GRAND THEFT FROM LOCKED AUTO</td>\n",
       "      <td>Tuesday</td>\n",
       "      <td>NORTHERN</td>\n",
       "      <td>NONE</td>\n",
       "      <td>2000 Block of WASHINGTON ST</td>\n",
       "      <td>-122.427007</td>\n",
       "      <td>37.792582</td>\n",
       "    </tr>\n",
       "    <tr>\n",
       "      <th>4</th>\n",
       "      <td>2014-04-16 12:58:00</td>\n",
       "      <td>DRUG/NARCOTIC</td>\n",
       "      <td>SALE OF BASE/ROCK COCAINE</td>\n",
       "      <td>Wednesday</td>\n",
       "      <td>TENDERLOIN</td>\n",
       "      <td>ARREST, BOOKED</td>\n",
       "      <td>TURK ST / HYDE ST</td>\n",
       "      <td>-122.415695</td>\n",
       "      <td>37.782585</td>\n",
       "    </tr>\n",
       "  </tbody>\n",
       "</table>\n",
       "</div>"
      ],
      "text/plain": [
       "                 Dates       Category                      Descript  \\\n",
       "0  2003-04-02 13:00:00        ASSAULT          THREATS AGAINST LIFE   \n",
       "1  2011-12-15 16:15:00  LARCENY/THEFT        GRAND THEFT PICKPOCKET   \n",
       "2  2015-03-04 01:55:00  LARCENY/THEFT       GRAND THEFT FROM PERSON   \n",
       "3  2008-08-19 22:00:00  LARCENY/THEFT  GRAND THEFT FROM LOCKED AUTO   \n",
       "4  2014-04-16 12:58:00  DRUG/NARCOTIC     SALE OF BASE/ROCK COCAINE   \n",
       "\n",
       "   DayOfWeek  PdDistrict      Resolution                      Address  \\\n",
       "0  Wednesday        PARK            NONE      500 Block of CORBETT AV   \n",
       "1   Thursday     CENTRAL            NONE          300 Block of BAY ST   \n",
       "2  Wednesday     MISSION            NONE       400 Block of CASTRO ST   \n",
       "3    Tuesday    NORTHERN            NONE  2000 Block of WASHINGTON ST   \n",
       "4  Wednesday  TENDERLOIN  ARREST, BOOKED            TURK ST / HYDE ST   \n",
       "\n",
       "            X          Y  \n",
       "0 -122.444182  37.757346  \n",
       "1 -122.412804  37.805774  \n",
       "2 -122.435150  37.761760  \n",
       "3 -122.427007  37.792582  \n",
       "4 -122.415695  37.782585  "
      ]
     },
     "execution_count": 3,
     "metadata": {},
     "output_type": "execute_result"
    }
   ],
   "source": [
    "train_df = pd.DataFrame(train_df)\n",
    "train_df = train_df.reset_index(drop=True)\n",
    "train_df.head()"
   ]
  },
  {
   "cell_type": "code",
   "execution_count": 4,
   "metadata": {
    "collapsed": false
   },
   "outputs": [
    {
     "data": {
      "text/plain": [
       "(20000, 9)"
      ]
     },
     "execution_count": 4,
     "metadata": {},
     "output_type": "execute_result"
    }
   ],
   "source": [
    "#Look at the shape\n",
    "train_df.shape"
   ]
  },
  {
   "cell_type": "code",
   "execution_count": 5,
   "metadata": {
    "collapsed": false
   },
   "outputs": [
    {
     "data": {
      "text/plain": [
       "(Index(['Dates', 'Category', 'Descript', 'DayOfWeek', 'PdDistrict',\n",
       "        'Resolution', 'Address', 'X', 'Y'],\n",
       "       dtype='object'), Dates          object\n",
       " Category       object\n",
       " Descript       object\n",
       " DayOfWeek      object\n",
       " PdDistrict     object\n",
       " Resolution     object\n",
       " Address        object\n",
       " X             float64\n",
       " Y             float64\n",
       " dtype: object)"
      ]
     },
     "execution_count": 5,
     "metadata": {},
     "output_type": "execute_result"
    }
   ],
   "source": [
    "train_df.columns, train_df.dtypes"
   ]
  },
  {
   "cell_type": "code",
   "execution_count": 6,
   "metadata": {
    "collapsed": false
   },
   "outputs": [
    {
     "data": {
      "text/plain": [
       "(array(['PARK', 'CENTRAL', 'MISSION', 'NORTHERN', 'TENDERLOIN', 'INGLESIDE',\n",
       "        'TARAVAL', 'SOUTHERN', 'BAYVIEW', 'RICHMOND'], dtype=object),\n",
       " array(['Wednesday', 'Thursday', 'Tuesday', 'Friday', 'Saturday', 'Monday',\n",
       "        'Sunday'], dtype=object),\n",
       " array(['ASSAULT', 'LARCENY/THEFT', 'DRUG/NARCOTIC', 'VEHICLE THEFT',\n",
       "        'ROBBERY', 'WARRANTS', 'BURGLARY', 'SEX OFFENSES FORCIBLE',\n",
       "        'VANDALISM', 'OTHER OFFENSES', 'PROSTITUTION', 'NON-CRIMINAL',\n",
       "        'MISSING PERSON', 'TRESPASS', 'SUSPICIOUS OCC', 'WEAPON LAWS',\n",
       "        'FORGERY/COUNTERFEITING', 'FRAUD', 'DISORDERLY CONDUCT',\n",
       "        'SEX OFFENSES NON FORCIBLE', 'SECONDARY CODES',\n",
       "        'DRIVING UNDER THE INFLUENCE', 'DRUNKENNESS', 'RUNAWAY', 'GAMBLING',\n",
       "        'RECOVERED VEHICLE', 'STOLEN PROPERTY', 'LOITERING', 'KIDNAPPING',\n",
       "        'EMBEZZLEMENT', 'ARSON', 'FAMILY OFFENSES', 'LIQUOR LAWS',\n",
       "        'BAD CHECKS', 'BRIBERY', 'SUICIDE', 'EXTORTION'], dtype=object),\n",
       " array(['NONE', 'ARREST, BOOKED', 'JUVENILE BOOKED',\n",
       "        'DISTRICT ATTORNEY REFUSES TO PROSECUTE', 'PSYCHOPATHIC CASE',\n",
       "        'LOCATED', 'ARREST, CITED',\n",
       "        'CLEARED-CONTACT JUVENILE FOR MORE INFO', 'JUVENILE CITED',\n",
       "        'COMPLAINANT REFUSES TO PROSECUTE', 'PROSECUTED BY OUTSIDE AGENCY',\n",
       "        'JUVENILE ADMONISHED', 'EXCEPTIONAL CLEARANCE', 'UNFOUNDED',\n",
       "        'NOT PROSECUTED', 'JUVENILE DIVERTED'], dtype=object))"
      ]
     },
     "execution_count": 6,
     "metadata": {},
     "output_type": "execute_result"
    }
   ],
   "source": [
    "#Listing Unique values for columns\n",
    "pd.unique(train_df.PdDistrict.ravel()), pd.unique(train_df.DayOfWeek.ravel()), pd.unique(train_df.Category.ravel()),\\\n",
    "pd.unique(train_df.Resolution .ravel())\n",
    "#pd.unique(train_df.hour_of_day.ravel())"
   ]
  },
  {
   "cell_type": "code",
   "execution_count": 7,
   "metadata": {
    "collapsed": false
   },
   "outputs": [
    {
     "data": {
      "text/plain": [
       "datetime.datetime(2015, 5, 13, 23, 53)"
      ]
     },
     "execution_count": 7,
     "metadata": {},
     "output_type": "execute_result"
    }
   ],
   "source": [
    "# dtDate = datetime.strptime(\"07-27-2012\",\"%m-%d-%Y\")\n",
    "datetime.strptime('2015-05-13 23:53:00', \"%Y-%m-%d %H:%M:%S\")"
   ]
  },
  {
   "cell_type": "markdown",
   "metadata": {},
   "source": [
    "###Getting Month of Year, Day of Month, Hour of Day, and Minute of Hour"
   ]
  },
  {
   "cell_type": "code",
   "execution_count": 8,
   "metadata": {
    "collapsed": false
   },
   "outputs": [],
   "source": [
    "## CHANGED temp, temp1, temp2, temp3 to match month_of_year, etc. since was throwing error\n",
    "\n",
    "type(train_df.Dates.values[0])\n",
    "month_of_year = []\n",
    "day_of_month =[]\n",
    "hour_of_day =[]\n",
    "min_of_hour =[]\n",
    "for i in range(len(train_df.Dates.values)):\n",
    "#     print(i)\n",
    "    moy = datetime.strptime(train_df.Dates.values[i], \"%Y-%m-%d %H:%M:%S\").month\n",
    "    dom = datetime.strptime(train_df.Dates.values[i], \"%Y-%m-%d %H:%M:%S\").day\n",
    "    hod = datetime.strptime(train_df.Dates.values[i], \"%Y-%m-%d %H:%M:%S\").hour\n",
    "    moh = datetime.strptime(train_df.Dates.values[i], \"%Y-%m-%d %H:%M:%S\").minute\n",
    "    month_of_year.append(moy)\n",
    "    day_of_month.append(dom)\n",
    "    hour_of_day.append(hod)\n",
    "    min_of_hour.append(moh)\n",
    "train_df['month_of_year'] = month_of_year\n",
    "train_df['day_of_month'] = day_of_month\n",
    "train_df['hour_of_day'] = hour_of_day\n",
    "train_df['min_of_hour'] = min_of_hour"
   ]
  },
  {
   "cell_type": "markdown",
   "metadata": {},
   "source": [
    "###Creating Weekday/Weekend Column"
   ]
  },
  {
   "cell_type": "code",
   "execution_count": 9,
   "metadata": {
    "collapsed": false
   },
   "outputs": [],
   "source": [
    "train_df['WeekdayWeeekend'] = train_df['DayOfWeek'].map( {'Monday': 'Weekday', 'Tuesday': 'Weekday', \\\n",
    "                                                          'Wednesday': 'Weekday', 'Thursday': 'Weekday', 'Friday': 'Weekend',\\\n",
    "                                                         'Saturday': 'Weekend', 'Sunday': 'Weekday'} ).astype(object)"
   ]
  },
  {
   "cell_type": "markdown",
   "metadata": {},
   "source": [
    "### Creating Midnight/Morning/Afternoon/Night Column"
   ]
  },
  {
   "cell_type": "code",
   "execution_count": 10,
   "metadata": {
    "collapsed": false
   },
   "outputs": [],
   "source": [
    "train_df['TimeOfDay'] = train_df['hour_of_day'].map({0: 'Midnight', 1: 'Midnight', 2:'Midnight', 3:'Midnight', 4:'Morning', \\\n",
    "                                                     5:'Morning', 6:'Morning', 7:'Morning', 8:'Morning', 9:'Morning', \\\n",
    "                                                     10:'Morning', 11:'Morning', 12:'Afternoon', 13:'Afternoon', 14:'Afternoon', \\\n",
    "                                                     15:'Afternoon', 16:'Afternoon', 17:'Afternoon', 18:'Night', 19:'Night', \\\n",
    "                                                     20:'Night', 21:'Night', 22:'Midnight', 23:'Midnight'}).astype(object)"
   ]
  },
  {
   "cell_type": "markdown",
   "metadata": {},
   "source": [
    "###Creating Season Column"
   ]
  },
  {
   "cell_type": "code",
   "execution_count": 11,
   "metadata": {
    "collapsed": false
   },
   "outputs": [],
   "source": [
    "train_df['Season'] = train_df['month_of_year'].map({1: 'Winter', 2: 'Winter', 3:'Spring', 4:'Spring', 5:'Spring', \\\n",
    "                                                     6:'Spring', 7:'Summer', 8:'Summer', 9:'Summer', 10:'Autumn', \\\n",
    "                                                     11:'Autumn', 12:'Winter'}).astype(object)"
   ]
  },
  {
   "cell_type": "code",
   "execution_count": 12,
   "metadata": {
    "collapsed": false
   },
   "outputs": [
    {
     "data": {
      "text/html": [
       "<div>\n",
       "<table border=\"1\" class=\"dataframe\">\n",
       "  <thead>\n",
       "    <tr style=\"text-align: right;\">\n",
       "      <th></th>\n",
       "      <th>Dates</th>\n",
       "      <th>Category</th>\n",
       "      <th>Descript</th>\n",
       "      <th>DayOfWeek</th>\n",
       "      <th>PdDistrict</th>\n",
       "      <th>Resolution</th>\n",
       "      <th>Address</th>\n",
       "      <th>X</th>\n",
       "      <th>Y</th>\n",
       "      <th>month_of_year</th>\n",
       "      <th>day_of_month</th>\n",
       "      <th>hour_of_day</th>\n",
       "      <th>min_of_hour</th>\n",
       "      <th>WeekdayWeeekend</th>\n",
       "      <th>TimeOfDay</th>\n",
       "      <th>Season</th>\n",
       "    </tr>\n",
       "  </thead>\n",
       "  <tbody>\n",
       "    <tr>\n",
       "      <th>0</th>\n",
       "      <td>2003-04-02 13:00:00</td>\n",
       "      <td>ASSAULT</td>\n",
       "      <td>THREATS AGAINST LIFE</td>\n",
       "      <td>Wednesday</td>\n",
       "      <td>PARK</td>\n",
       "      <td>NONE</td>\n",
       "      <td>500 Block of CORBETT AV</td>\n",
       "      <td>-122.444182</td>\n",
       "      <td>37.757346</td>\n",
       "      <td>4</td>\n",
       "      <td>2</td>\n",
       "      <td>13</td>\n",
       "      <td>0</td>\n",
       "      <td>Weekday</td>\n",
       "      <td>Afternoon</td>\n",
       "      <td>Spring</td>\n",
       "    </tr>\n",
       "    <tr>\n",
       "      <th>1</th>\n",
       "      <td>2011-12-15 16:15:00</td>\n",
       "      <td>LARCENY/THEFT</td>\n",
       "      <td>GRAND THEFT PICKPOCKET</td>\n",
       "      <td>Thursday</td>\n",
       "      <td>CENTRAL</td>\n",
       "      <td>NONE</td>\n",
       "      <td>300 Block of BAY ST</td>\n",
       "      <td>-122.412804</td>\n",
       "      <td>37.805774</td>\n",
       "      <td>12</td>\n",
       "      <td>15</td>\n",
       "      <td>16</td>\n",
       "      <td>15</td>\n",
       "      <td>Weekday</td>\n",
       "      <td>Afternoon</td>\n",
       "      <td>Winter</td>\n",
       "    </tr>\n",
       "    <tr>\n",
       "      <th>2</th>\n",
       "      <td>2015-03-04 01:55:00</td>\n",
       "      <td>LARCENY/THEFT</td>\n",
       "      <td>GRAND THEFT FROM PERSON</td>\n",
       "      <td>Wednesday</td>\n",
       "      <td>MISSION</td>\n",
       "      <td>NONE</td>\n",
       "      <td>400 Block of CASTRO ST</td>\n",
       "      <td>-122.435150</td>\n",
       "      <td>37.761760</td>\n",
       "      <td>3</td>\n",
       "      <td>4</td>\n",
       "      <td>1</td>\n",
       "      <td>55</td>\n",
       "      <td>Weekday</td>\n",
       "      <td>Midnight</td>\n",
       "      <td>Spring</td>\n",
       "    </tr>\n",
       "    <tr>\n",
       "      <th>3</th>\n",
       "      <td>2008-08-19 22:00:00</td>\n",
       "      <td>LARCENY/THEFT</td>\n",
       "      <td>GRAND THEFT FROM LOCKED AUTO</td>\n",
       "      <td>Tuesday</td>\n",
       "      <td>NORTHERN</td>\n",
       "      <td>NONE</td>\n",
       "      <td>2000 Block of WASHINGTON ST</td>\n",
       "      <td>-122.427007</td>\n",
       "      <td>37.792582</td>\n",
       "      <td>8</td>\n",
       "      <td>19</td>\n",
       "      <td>22</td>\n",
       "      <td>0</td>\n",
       "      <td>Weekday</td>\n",
       "      <td>Midnight</td>\n",
       "      <td>Summer</td>\n",
       "    </tr>\n",
       "    <tr>\n",
       "      <th>4</th>\n",
       "      <td>2014-04-16 12:58:00</td>\n",
       "      <td>DRUG/NARCOTIC</td>\n",
       "      <td>SALE OF BASE/ROCK COCAINE</td>\n",
       "      <td>Wednesday</td>\n",
       "      <td>TENDERLOIN</td>\n",
       "      <td>ARREST, BOOKED</td>\n",
       "      <td>TURK ST / HYDE ST</td>\n",
       "      <td>-122.415695</td>\n",
       "      <td>37.782585</td>\n",
       "      <td>4</td>\n",
       "      <td>16</td>\n",
       "      <td>12</td>\n",
       "      <td>58</td>\n",
       "      <td>Weekday</td>\n",
       "      <td>Afternoon</td>\n",
       "      <td>Spring</td>\n",
       "    </tr>\n",
       "  </tbody>\n",
       "</table>\n",
       "</div>"
      ],
      "text/plain": [
       "                 Dates       Category                      Descript  \\\n",
       "0  2003-04-02 13:00:00        ASSAULT          THREATS AGAINST LIFE   \n",
       "1  2011-12-15 16:15:00  LARCENY/THEFT        GRAND THEFT PICKPOCKET   \n",
       "2  2015-03-04 01:55:00  LARCENY/THEFT       GRAND THEFT FROM PERSON   \n",
       "3  2008-08-19 22:00:00  LARCENY/THEFT  GRAND THEFT FROM LOCKED AUTO   \n",
       "4  2014-04-16 12:58:00  DRUG/NARCOTIC     SALE OF BASE/ROCK COCAINE   \n",
       "\n",
       "   DayOfWeek  PdDistrict      Resolution                      Address  \\\n",
       "0  Wednesday        PARK            NONE      500 Block of CORBETT AV   \n",
       "1   Thursday     CENTRAL            NONE          300 Block of BAY ST   \n",
       "2  Wednesday     MISSION            NONE       400 Block of CASTRO ST   \n",
       "3    Tuesday    NORTHERN            NONE  2000 Block of WASHINGTON ST   \n",
       "4  Wednesday  TENDERLOIN  ARREST, BOOKED            TURK ST / HYDE ST   \n",
       "\n",
       "            X          Y  month_of_year  day_of_month  hour_of_day  \\\n",
       "0 -122.444182  37.757346              4             2           13   \n",
       "1 -122.412804  37.805774             12            15           16   \n",
       "2 -122.435150  37.761760              3             4            1   \n",
       "3 -122.427007  37.792582              8            19           22   \n",
       "4 -122.415695  37.782585              4            16           12   \n",
       "\n",
       "   min_of_hour WeekdayWeeekend  TimeOfDay  Season  \n",
       "0            0         Weekday  Afternoon  Spring  \n",
       "1           15         Weekday  Afternoon  Winter  \n",
       "2           55         Weekday   Midnight  Spring  \n",
       "3            0         Weekday   Midnight  Summer  \n",
       "4           58         Weekday  Afternoon  Spring  "
      ]
     },
     "execution_count": 12,
     "metadata": {},
     "output_type": "execute_result"
    }
   ],
   "source": [
    "train_df.head()"
   ]
  },
  {
   "cell_type": "markdown",
   "metadata": {},
   "source": [
    "###Some Basic Visual just to look at the data"
   ]
  },
  {
   "cell_type": "code",
   "execution_count": 13,
   "metadata": {
    "collapsed": false
   },
   "outputs": [
    {
     "data": {
      "image/png": "[encoded data removed]",
      "text/plain": [
       "<matplotlib.figure.Figure at 0x110eae550>"
      ]
     },
     "metadata": {},
     "output_type": "display_data"
    }
   ],
   "source": [
    "train_df['month_of_year'].hist(color = 'pink', alpha = .5, bins = 6, range = (1,12))\n",
    "P.show()"
   ]
  },
  {
   "cell_type": "code",
   "execution_count": 14,
   "metadata": {
    "collapsed": false
   },
   "outputs": [
    {
     "data": {
      "image/png": "[encoded data removed]",
      "text/plain": [
       "<matplotlib.figure.Figure at 0x10f236470>"
      ]
     },
     "metadata": {},
     "output_type": "display_data"
    }
   ],
   "source": [
    "train_df['hour_of_day'].hist(color = 'pink', alpha = .5, bins = 12, range = (0,24))\n",
    "P.show()"
   ]
  },
  {
   "cell_type": "code",
   "execution_count": 15,
   "metadata": {
    "collapsed": false
   },
   "outputs": [
    {
     "data": {
      "image/png": "[encoded data removed]",
      "text/plain": [
       "<matplotlib.figure.Figure at 0x10e75aac8>"
      ]
     },
     "metadata": {},
     "output_type": "display_data"
    }
   ],
   "source": [
    "train_df['day_of_month'].hist(color = 'pink', alpha = .5, bins = 10, range = (0,30))\n",
    "P.show()"
   ]
  },
  {
   "cell_type": "code",
   "execution_count": 16,
   "metadata": {
    "collapsed": false
   },
   "outputs": [
    {
     "data": {
      "text/plain": [
       "<matplotlib.axes._subplots.AxesSubplot at 0x10da99668>"
      ]
     },
     "execution_count": 16,
     "metadata": {},
     "output_type": "execute_result"
    },
    {
     "data": {
      "image/png": "[encoded data removed]",
      "text/plain": [
       "<matplotlib.figure.Figure at 0x1108824a8>"
      ]
     },
     "metadata": {},
     "output_type": "display_data"
    }
   ],
   "source": [
    "train_df['PdDistrict'].value_counts().plot(kind='bar')\n",
    "\n",
    "# train_df['PdDistrict'].hist(color = 'pink', alpha = .5)\n",
    "# P.show()"
   ]
  },
  {
   "cell_type": "code",
   "execution_count": 17,
   "metadata": {
    "collapsed": false
   },
   "outputs": [
    {
     "data": {
      "text/plain": [
       "<matplotlib.axes._subplots.AxesSubplot at 0x11143fa20>"
      ]
     },
     "execution_count": 17,
     "metadata": {},
     "output_type": "execute_result"
    },
    {
     "data": {
      "image/png": "[encoded data removed]",
      "text/plain": [
       "<matplotlib.figure.Figure at 0x112dcb358>"
      ]
     },
     "metadata": {},
     "output_type": "display_data"
    }
   ],
   "source": [
    "train_df['DayOfWeek'].value_counts().plot(kind='bar')"
   ]
  },
  {
   "cell_type": "markdown",
   "metadata": {},
   "source": [
    "###Crime versus Time of Day (Morning, Afternoon, Night, Midnight)"
   ]
  },
  {
   "cell_type": "code",
   "execution_count": 18,
   "metadata": {
    "collapsed": false
   },
   "outputs": [
    {
     "ename": "KeyError",
     "evalue": "\"['Year'] not in index\"",
     "output_type": "error",
     "traceback": [
      "\u001b[0;31m---------------------------------------------------------------------------\u001b[0m",
      "\u001b[0;31mKeyError\u001b[0m                                  Traceback (most recent call last)",
      "\u001b[0;32m<ipython-input-18-73f467252e2e>\u001b[0m in \u001b[0;36m<module>\u001b[0;34m()\u001b[0m\n\u001b[1;32m      1\u001b[0m \u001b[0;31m# Now let's look at the crime trend by year for each district. We have three features: 'Year', 'Category' and 'PdDistrict'. For each 'PdDistrict' and 'Year', we would like to see the crime composition instead of simply counts, since data are incomplete for 2015\u001b[0m\u001b[0;34m\u001b[0m\u001b[0;34m\u001b[0m\u001b[0m\n\u001b[0;32m----> 2\u001b[0;31m \u001b[0mfreq_by_d_c\u001b[0m\u001b[0;34m=\u001b[0m\u001b[0mpd\u001b[0m\u001b[0;34m.\u001b[0m\u001b[0mpivot_table\u001b[0m\u001b[0;34m(\u001b[0m\u001b[0mtrain_df\u001b[0m\u001b[0;34m[\u001b[0m\u001b[0;34m[\u001b[0m\u001b[0;34m'TimeOfDay'\u001b[0m\u001b[0;34m,\u001b[0m\u001b[0;34m'Category'\u001b[0m\u001b[0;34m,\u001b[0m\u001b[0;34m'Year'\u001b[0m\u001b[0;34m,\u001b[0m\u001b[0;34m'Dates'\u001b[0m\u001b[0;34m]\u001b[0m\u001b[0;34m]\u001b[0m\u001b[0;34m,\u001b[0m\u001b[0mvalues\u001b[0m\u001b[0;34m=\u001b[0m\u001b[0;34m'Dates'\u001b[0m\u001b[0;34m,\u001b[0m\u001b[0mcolumns\u001b[0m\u001b[0;34m=\u001b[0m\u001b[0;34m(\u001b[0m\u001b[0;34m'Year'\u001b[0m\u001b[0;34m)\u001b[0m\u001b[0;34m,\u001b[0m\u001b[0mindex\u001b[0m\u001b[0;34m=\u001b[0m\u001b[0;34m(\u001b[0m\u001b[0;34m'TimeOfDay'\u001b[0m\u001b[0;34m,\u001b[0m\u001b[0;34m'Category'\u001b[0m\u001b[0;34m)\u001b[0m\u001b[0;34m,\u001b[0m\u001b[0maggfunc\u001b[0m\u001b[0;34m=\u001b[0m\u001b[0;34m'count'\u001b[0m\u001b[0;34m)\u001b[0m\u001b[0;34m\u001b[0m\u001b[0m\n\u001b[0m\u001b[1;32m      3\u001b[0m \u001b[0mfreq_by_d_c\u001b[0m\u001b[0;34m=\u001b[0m\u001b[0mfreq_by_d_c\u001b[0m\u001b[0;34m.\u001b[0m\u001b[0mfillna\u001b[0m\u001b[0;34m(\u001b[0m\u001b[0;36m0\u001b[0m\u001b[0;34m)\u001b[0m\u001b[0;34m.\u001b[0m\u001b[0mapply\u001b[0m\u001b[0;34m(\u001b[0m\u001b[0;32mlambda\u001b[0m \u001b[0mx\u001b[0m\u001b[0;34m:\u001b[0m \u001b[0mx\u001b[0m\u001b[0;34m/\u001b[0m\u001b[0mnp\u001b[0m\u001b[0;34m.\u001b[0m\u001b[0msum\u001b[0m\u001b[0;34m(\u001b[0m\u001b[0mx\u001b[0m\u001b[0;34m)\u001b[0m\u001b[0;34m)\u001b[0m\u001b[0;34m\u001b[0m\u001b[0m\n\u001b[1;32m      4\u001b[0m \u001b[0mfreq_by_d_c\u001b[0m\u001b[0;34m=\u001b[0m\u001b[0mfreq_by_d_c\u001b[0m\u001b[0;34m.\u001b[0m\u001b[0mstack\u001b[0m\u001b[0;34m(\u001b[0m\u001b[0;34m)\u001b[0m\u001b[0;34m\u001b[0m\u001b[0m\n\u001b[1;32m      5\u001b[0m \u001b[0mfreq_by_d_c\u001b[0m\u001b[0;34m=\u001b[0m\u001b[0mfreq_by_d_c\u001b[0m\u001b[0;34m.\u001b[0m\u001b[0mreset_index\u001b[0m\u001b[0;34m(\u001b[0m\u001b[0;34m)\u001b[0m\u001b[0;34m\u001b[0m\u001b[0m\n",
      "\u001b[0;32m/Users/carlo_liquido/anaconda/lib/python3.4/site-packages/pandas/core/frame.py\u001b[0m in \u001b[0;36m__getitem__\u001b[0;34m(self, key)\u001b[0m\n\u001b[1;32m   1789\u001b[0m         \u001b[0;32mif\u001b[0m \u001b[0misinstance\u001b[0m\u001b[0;34m(\u001b[0m\u001b[0mkey\u001b[0m\u001b[0;34m,\u001b[0m \u001b[0;34m(\u001b[0m\u001b[0mSeries\u001b[0m\u001b[0;34m,\u001b[0m \u001b[0mnp\u001b[0m\u001b[0;34m.\u001b[0m\u001b[0mndarray\u001b[0m\u001b[0;34m,\u001b[0m \u001b[0mIndex\u001b[0m\u001b[0;34m,\u001b[0m \u001b[0mlist\u001b[0m\u001b[0;34m)\u001b[0m\u001b[0;34m)\u001b[0m\u001b[0;34m:\u001b[0m\u001b[0;34m\u001b[0m\u001b[0m\n\u001b[1;32m   1790\u001b[0m             \u001b[0;31m# either boolean or fancy integer index\u001b[0m\u001b[0;34m\u001b[0m\u001b[0;34m\u001b[0m\u001b[0m\n\u001b[0;32m-> 1791\u001b[0;31m             \u001b[0;32mreturn\u001b[0m \u001b[0mself\u001b[0m\u001b[0;34m.\u001b[0m\u001b[0m_getitem_array\u001b[0m\u001b[0;34m(\u001b[0m\u001b[0mkey\u001b[0m\u001b[0;34m)\u001b[0m\u001b[0;34m\u001b[0m\u001b[0m\n\u001b[0m\u001b[1;32m   1792\u001b[0m         \u001b[0;32melif\u001b[0m \u001b[0misinstance\u001b[0m\u001b[0;34m(\u001b[0m\u001b[0mkey\u001b[0m\u001b[0;34m,\u001b[0m \u001b[0mDataFrame\u001b[0m\u001b[0;34m)\u001b[0m\u001b[0;34m:\u001b[0m\u001b[0;34m\u001b[0m\u001b[0m\n\u001b[1;32m   1793\u001b[0m             \u001b[0;32mreturn\u001b[0m \u001b[0mself\u001b[0m\u001b[0;34m.\u001b[0m\u001b[0m_getitem_frame\u001b[0m\u001b[0;34m(\u001b[0m\u001b[0mkey\u001b[0m\u001b[0;34m)\u001b[0m\u001b[0;34m\u001b[0m\u001b[0m\n",
      "\u001b[0;32m/Users/carlo_liquido/anaconda/lib/python3.4/site-packages/pandas/core/frame.py\u001b[0m in \u001b[0;36m_getitem_array\u001b[0;34m(self, key)\u001b[0m\n\u001b[1;32m   1833\u001b[0m             \u001b[0;32mreturn\u001b[0m \u001b[0mself\u001b[0m\u001b[0;34m.\u001b[0m\u001b[0mtake\u001b[0m\u001b[0;34m(\u001b[0m\u001b[0mindexer\u001b[0m\u001b[0;34m,\u001b[0m \u001b[0maxis\u001b[0m\u001b[0;34m=\u001b[0m\u001b[0;36m0\u001b[0m\u001b[0;34m,\u001b[0m \u001b[0mconvert\u001b[0m\u001b[0;34m=\u001b[0m\u001b[0;32mFalse\u001b[0m\u001b[0;34m)\u001b[0m\u001b[0;34m\u001b[0m\u001b[0m\n\u001b[1;32m   1834\u001b[0m         \u001b[0;32melse\u001b[0m\u001b[0;34m:\u001b[0m\u001b[0;34m\u001b[0m\u001b[0m\n\u001b[0;32m-> 1835\u001b[0;31m             \u001b[0mindexer\u001b[0m \u001b[0;34m=\u001b[0m \u001b[0mself\u001b[0m\u001b[0;34m.\u001b[0m\u001b[0mix\u001b[0m\u001b[0;34m.\u001b[0m\u001b[0m_convert_to_indexer\u001b[0m\u001b[0;34m(\u001b[0m\u001b[0mkey\u001b[0m\u001b[0;34m,\u001b[0m \u001b[0maxis\u001b[0m\u001b[0;34m=\u001b[0m\u001b[0;36m1\u001b[0m\u001b[0;34m)\u001b[0m\u001b[0;34m\u001b[0m\u001b[0m\n\u001b[0m\u001b[1;32m   1836\u001b[0m             \u001b[0;32mreturn\u001b[0m \u001b[0mself\u001b[0m\u001b[0;34m.\u001b[0m\u001b[0mtake\u001b[0m\u001b[0;34m(\u001b[0m\u001b[0mindexer\u001b[0m\u001b[0;34m,\u001b[0m \u001b[0maxis\u001b[0m\u001b[0;34m=\u001b[0m\u001b[0;36m1\u001b[0m\u001b[0;34m,\u001b[0m \u001b[0mconvert\u001b[0m\u001b[0;34m=\u001b[0m\u001b[0;32mTrue\u001b[0m\u001b[0;34m)\u001b[0m\u001b[0;34m\u001b[0m\u001b[0m\n\u001b[1;32m   1837\u001b[0m \u001b[0;34m\u001b[0m\u001b[0m\n",
      "\u001b[0;32m/Users/carlo_liquido/anaconda/lib/python3.4/site-packages/pandas/core/indexing.py\u001b[0m in \u001b[0;36m_convert_to_indexer\u001b[0;34m(self, obj, axis, is_setter)\u001b[0m\n\u001b[1;32m   1110\u001b[0m                 \u001b[0mmask\u001b[0m \u001b[0;34m=\u001b[0m \u001b[0mcheck\u001b[0m \u001b[0;34m==\u001b[0m \u001b[0;34m-\u001b[0m\u001b[0;36m1\u001b[0m\u001b[0;34m\u001b[0m\u001b[0m\n\u001b[1;32m   1111\u001b[0m                 \u001b[0;32mif\u001b[0m \u001b[0mmask\u001b[0m\u001b[0;34m.\u001b[0m\u001b[0many\u001b[0m\u001b[0;34m(\u001b[0m\u001b[0;34m)\u001b[0m\u001b[0;34m:\u001b[0m\u001b[0;34m\u001b[0m\u001b[0m\n\u001b[0;32m-> 1112\u001b[0;31m                     \u001b[0;32mraise\u001b[0m \u001b[0mKeyError\u001b[0m\u001b[0;34m(\u001b[0m\u001b[0;34m'%s not in index'\u001b[0m \u001b[0;34m%\u001b[0m \u001b[0mobjarr\u001b[0m\u001b[0;34m[\u001b[0m\u001b[0mmask\u001b[0m\u001b[0;34m]\u001b[0m\u001b[0;34m)\u001b[0m\u001b[0;34m\u001b[0m\u001b[0m\n\u001b[0m\u001b[1;32m   1113\u001b[0m \u001b[0;34m\u001b[0m\u001b[0m\n\u001b[1;32m   1114\u001b[0m                 \u001b[0;32mreturn\u001b[0m \u001b[0m_values_from_object\u001b[0m\u001b[0;34m(\u001b[0m\u001b[0mindexer\u001b[0m\u001b[0;34m)\u001b[0m\u001b[0;34m\u001b[0m\u001b[0m\n",
      "\u001b[0;31mKeyError\u001b[0m: \"['Year'] not in index\""
     ]
    }
   ],
   "source": [
    "# Now let's look at the crime trend by year for each district. We have three features: 'Year', 'Category' and 'PdDistrict'. For each 'PdDistrict' and 'Year', we would like to see the crime composition instead of simply counts, since data are incomplete for 2015\n",
    "freq_by_d_c=pd.pivot_table(train_df[['TimeOfDay','Category','Year','Dates']],values='Dates',columns=('Year'),index=('TimeOfDay','Category'),aggfunc='count')\n",
    "freq_by_d_c=freq_by_d_c.fillna(0).apply(lambda x: x/np.sum(x))\n",
    "freq_by_d_c=freq_by_d_c.stack()\n",
    "freq_by_d_c=freq_by_d_c.reset_index()\n",
    "freq_by_d_c=freq_by_d_c.rename(columns={0:'Fraction'})\n",
    "most_common=freq_by_d_c[freq_by_d_c['Category'].isin(train_df['Category'].value_counts().head(10).index)]\n",
    "\n",
    "by_hour_for_months=sns.FacetGrid(most_common, hue='Category', col='TimeOfDay', col_wrap=5, sharex=True, sharey=False, size=4,\\\n",
    "                        aspect=0.9, palette='rainbow')\n",
    "by_hour_for_months=by_hour_for_months.map(plt.plot,'Year','Fraction').add_legend()\n",
    "plt.savefig('Crime_Trend_in_Time_of_Day.png')"
   ]
  },
  {
   "cell_type": "markdown",
   "metadata": {},
   "source": [
    "###Crime versus Weekend/Weeday"
   ]
  },
  {
   "cell_type": "code",
   "execution_count": 19,
   "metadata": {
    "collapsed": false
   },
   "outputs": [
    {
     "ename": "KeyError",
     "evalue": "\"['Year'] not in index\"",
     "output_type": "error",
     "traceback": [
      "\u001b[0;31m---------------------------------------------------------------------------\u001b[0m",
      "\u001b[0;31mKeyError\u001b[0m                                  Traceback (most recent call last)",
      "\u001b[0;32m<ipython-input-19-5d590614a29b>\u001b[0m in \u001b[0;36m<module>\u001b[0;34m()\u001b[0m\n\u001b[1;32m      1\u001b[0m \u001b[0;31m# Now let's look at the crime trend by year for each district. We have three features: 'Year', 'Category' and 'PdDistrict'. For each 'PdDistrict' and 'Year', we would like to see the crime composition instead of simply counts, since data are incomplete for 2015\u001b[0m\u001b[0;34m\u001b[0m\u001b[0;34m\u001b[0m\u001b[0m\n\u001b[0;32m----> 2\u001b[0;31m \u001b[0mfreq_by_d_c\u001b[0m\u001b[0;34m=\u001b[0m\u001b[0mpd\u001b[0m\u001b[0;34m.\u001b[0m\u001b[0mpivot_table\u001b[0m\u001b[0;34m(\u001b[0m\u001b[0mtrain_df\u001b[0m\u001b[0;34m[\u001b[0m\u001b[0;34m[\u001b[0m\u001b[0;34m'WeekdayWeeekend'\u001b[0m\u001b[0;34m,\u001b[0m\u001b[0;34m'Category'\u001b[0m\u001b[0;34m,\u001b[0m\u001b[0;34m'Year'\u001b[0m\u001b[0;34m,\u001b[0m\u001b[0;34m'Dates'\u001b[0m\u001b[0;34m]\u001b[0m\u001b[0;34m]\u001b[0m\u001b[0;34m,\u001b[0m\u001b[0mvalues\u001b[0m\u001b[0;34m=\u001b[0m\u001b[0;34m'Dates'\u001b[0m\u001b[0;34m,\u001b[0m\u001b[0mcolumns\u001b[0m\u001b[0;34m=\u001b[0m\u001b[0;34m(\u001b[0m\u001b[0;34m'Year'\u001b[0m\u001b[0;34m)\u001b[0m\u001b[0;34m,\u001b[0m\u001b[0mindex\u001b[0m\u001b[0;34m=\u001b[0m\u001b[0;34m(\u001b[0m\u001b[0;34m'WeekdayWeeekend'\u001b[0m\u001b[0;34m,\u001b[0m\u001b[0;34m'Category'\u001b[0m\u001b[0;34m)\u001b[0m\u001b[0;34m,\u001b[0m\u001b[0maggfunc\u001b[0m\u001b[0;34m=\u001b[0m\u001b[0;34m'count'\u001b[0m\u001b[0;34m)\u001b[0m\u001b[0;34m\u001b[0m\u001b[0m\n\u001b[0m\u001b[1;32m      3\u001b[0m \u001b[0mfreq_by_d_c\u001b[0m\u001b[0;34m=\u001b[0m\u001b[0mfreq_by_d_c\u001b[0m\u001b[0;34m.\u001b[0m\u001b[0mfillna\u001b[0m\u001b[0;34m(\u001b[0m\u001b[0;36m0\u001b[0m\u001b[0;34m)\u001b[0m\u001b[0;34m.\u001b[0m\u001b[0mapply\u001b[0m\u001b[0;34m(\u001b[0m\u001b[0;32mlambda\u001b[0m \u001b[0mx\u001b[0m\u001b[0;34m:\u001b[0m \u001b[0mx\u001b[0m\u001b[0;34m/\u001b[0m\u001b[0mnp\u001b[0m\u001b[0;34m.\u001b[0m\u001b[0msum\u001b[0m\u001b[0;34m(\u001b[0m\u001b[0mx\u001b[0m\u001b[0;34m)\u001b[0m\u001b[0;34m)\u001b[0m\u001b[0;34m\u001b[0m\u001b[0m\n\u001b[1;32m      4\u001b[0m \u001b[0mfreq_by_d_c\u001b[0m\u001b[0;34m=\u001b[0m\u001b[0mfreq_by_d_c\u001b[0m\u001b[0;34m.\u001b[0m\u001b[0mstack\u001b[0m\u001b[0;34m(\u001b[0m\u001b[0;34m)\u001b[0m\u001b[0;34m\u001b[0m\u001b[0m\n\u001b[1;32m      5\u001b[0m \u001b[0mfreq_by_d_c\u001b[0m\u001b[0;34m=\u001b[0m\u001b[0mfreq_by_d_c\u001b[0m\u001b[0;34m.\u001b[0m\u001b[0mreset_index\u001b[0m\u001b[0;34m(\u001b[0m\u001b[0;34m)\u001b[0m\u001b[0;34m\u001b[0m\u001b[0m\n",
      "\u001b[0;32m/Users/carlo_liquido/anaconda/lib/python3.4/site-packages/pandas/core/frame.py\u001b[0m in \u001b[0;36m__getitem__\u001b[0;34m(self, key)\u001b[0m\n\u001b[1;32m   1789\u001b[0m         \u001b[0;32mif\u001b[0m \u001b[0misinstance\u001b[0m\u001b[0;34m(\u001b[0m\u001b[0mkey\u001b[0m\u001b[0;34m,\u001b[0m \u001b[0;34m(\u001b[0m\u001b[0mSeries\u001b[0m\u001b[0;34m,\u001b[0m \u001b[0mnp\u001b[0m\u001b[0;34m.\u001b[0m\u001b[0mndarray\u001b[0m\u001b[0;34m,\u001b[0m \u001b[0mIndex\u001b[0m\u001b[0;34m,\u001b[0m \u001b[0mlist\u001b[0m\u001b[0;34m)\u001b[0m\u001b[0;34m)\u001b[0m\u001b[0;34m:\u001b[0m\u001b[0;34m\u001b[0m\u001b[0m\n\u001b[1;32m   1790\u001b[0m             \u001b[0;31m# either boolean or fancy integer index\u001b[0m\u001b[0;34m\u001b[0m\u001b[0;34m\u001b[0m\u001b[0m\n\u001b[0;32m-> 1791\u001b[0;31m             \u001b[0;32mreturn\u001b[0m \u001b[0mself\u001b[0m\u001b[0;34m.\u001b[0m\u001b[0m_getitem_array\u001b[0m\u001b[0;34m(\u001b[0m\u001b[0mkey\u001b[0m\u001b[0;34m)\u001b[0m\u001b[0;34m\u001b[0m\u001b[0m\n\u001b[0m\u001b[1;32m   1792\u001b[0m         \u001b[0;32melif\u001b[0m \u001b[0misinstance\u001b[0m\u001b[0;34m(\u001b[0m\u001b[0mkey\u001b[0m\u001b[0;34m,\u001b[0m \u001b[0mDataFrame\u001b[0m\u001b[0;34m)\u001b[0m\u001b[0;34m:\u001b[0m\u001b[0;34m\u001b[0m\u001b[0m\n\u001b[1;32m   1793\u001b[0m             \u001b[0;32mreturn\u001b[0m \u001b[0mself\u001b[0m\u001b[0;34m.\u001b[0m\u001b[0m_getitem_frame\u001b[0m\u001b[0;34m(\u001b[0m\u001b[0mkey\u001b[0m\u001b[0;34m)\u001b[0m\u001b[0;34m\u001b[0m\u001b[0m\n",
      "\u001b[0;32m/Users/carlo_liquido/anaconda/lib/python3.4/site-packages/pandas/core/frame.py\u001b[0m in \u001b[0;36m_getitem_array\u001b[0;34m(self, key)\u001b[0m\n\u001b[1;32m   1833\u001b[0m             \u001b[0;32mreturn\u001b[0m \u001b[0mself\u001b[0m\u001b[0;34m.\u001b[0m\u001b[0mtake\u001b[0m\u001b[0;34m(\u001b[0m\u001b[0mindexer\u001b[0m\u001b[0;34m,\u001b[0m \u001b[0maxis\u001b[0m\u001b[0;34m=\u001b[0m\u001b[0;36m0\u001b[0m\u001b[0;34m,\u001b[0m \u001b[0mconvert\u001b[0m\u001b[0;34m=\u001b[0m\u001b[0;32mFalse\u001b[0m\u001b[0;34m)\u001b[0m\u001b[0;34m\u001b[0m\u001b[0m\n\u001b[1;32m   1834\u001b[0m         \u001b[0;32melse\u001b[0m\u001b[0;34m:\u001b[0m\u001b[0;34m\u001b[0m\u001b[0m\n\u001b[0;32m-> 1835\u001b[0;31m             \u001b[0mindexer\u001b[0m \u001b[0;34m=\u001b[0m \u001b[0mself\u001b[0m\u001b[0;34m.\u001b[0m\u001b[0mix\u001b[0m\u001b[0;34m.\u001b[0m\u001b[0m_convert_to_indexer\u001b[0m\u001b[0;34m(\u001b[0m\u001b[0mkey\u001b[0m\u001b[0;34m,\u001b[0m \u001b[0maxis\u001b[0m\u001b[0;34m=\u001b[0m\u001b[0;36m1\u001b[0m\u001b[0;34m)\u001b[0m\u001b[0;34m\u001b[0m\u001b[0m\n\u001b[0m\u001b[1;32m   1836\u001b[0m             \u001b[0;32mreturn\u001b[0m \u001b[0mself\u001b[0m\u001b[0;34m.\u001b[0m\u001b[0mtake\u001b[0m\u001b[0;34m(\u001b[0m\u001b[0mindexer\u001b[0m\u001b[0;34m,\u001b[0m \u001b[0maxis\u001b[0m\u001b[0;34m=\u001b[0m\u001b[0;36m1\u001b[0m\u001b[0;34m,\u001b[0m \u001b[0mconvert\u001b[0m\u001b[0;34m=\u001b[0m\u001b[0;32mTrue\u001b[0m\u001b[0;34m)\u001b[0m\u001b[0;34m\u001b[0m\u001b[0m\n\u001b[1;32m   1837\u001b[0m \u001b[0;34m\u001b[0m\u001b[0m\n",
      "\u001b[0;32m/Users/carlo_liquido/anaconda/lib/python3.4/site-packages/pandas/core/indexing.py\u001b[0m in \u001b[0;36m_convert_to_indexer\u001b[0;34m(self, obj, axis, is_setter)\u001b[0m\n\u001b[1;32m   1110\u001b[0m                 \u001b[0mmask\u001b[0m \u001b[0;34m=\u001b[0m \u001b[0mcheck\u001b[0m \u001b[0;34m==\u001b[0m \u001b[0;34m-\u001b[0m\u001b[0;36m1\u001b[0m\u001b[0;34m\u001b[0m\u001b[0m\n\u001b[1;32m   1111\u001b[0m                 \u001b[0;32mif\u001b[0m \u001b[0mmask\u001b[0m\u001b[0;34m.\u001b[0m\u001b[0many\u001b[0m\u001b[0;34m(\u001b[0m\u001b[0;34m)\u001b[0m\u001b[0;34m:\u001b[0m\u001b[0;34m\u001b[0m\u001b[0m\n\u001b[0;32m-> 1112\u001b[0;31m                     \u001b[0;32mraise\u001b[0m \u001b[0mKeyError\u001b[0m\u001b[0;34m(\u001b[0m\u001b[0;34m'%s not in index'\u001b[0m \u001b[0;34m%\u001b[0m \u001b[0mobjarr\u001b[0m\u001b[0;34m[\u001b[0m\u001b[0mmask\u001b[0m\u001b[0;34m]\u001b[0m\u001b[0;34m)\u001b[0m\u001b[0;34m\u001b[0m\u001b[0m\n\u001b[0m\u001b[1;32m   1113\u001b[0m \u001b[0;34m\u001b[0m\u001b[0m\n\u001b[1;32m   1114\u001b[0m                 \u001b[0;32mreturn\u001b[0m \u001b[0m_values_from_object\u001b[0m\u001b[0;34m(\u001b[0m\u001b[0mindexer\u001b[0m\u001b[0;34m)\u001b[0m\u001b[0;34m\u001b[0m\u001b[0m\n",
      "\u001b[0;31mKeyError\u001b[0m: \"['Year'] not in index\""
     ]
    }
   ],
   "source": [
    "# Now let's look at the crime trend by year for each district. We have three features: 'Year', 'Category' and 'PdDistrict'. For each 'PdDistrict' and 'Year', we would like to see the crime composition instead of simply counts, since data are incomplete for 2015\n",
    "freq_by_d_c=pd.pivot_table(train_df[['WeekdayWeeekend','Category','Year','Dates']],values='Dates',columns=('Year'),index=('WeekdayWeeekend','Category'),aggfunc='count')\n",
    "freq_by_d_c=freq_by_d_c.fillna(0).apply(lambda x: x/np.sum(x))\n",
    "freq_by_d_c=freq_by_d_c.stack()\n",
    "freq_by_d_c=freq_by_d_c.reset_index()\n",
    "freq_by_d_c=freq_by_d_c.rename(columns={0:'Fraction'})\n",
    "most_common=freq_by_d_c[freq_by_d_c['Category'].isin(train_df['Category'].value_counts().head(10).index)]\n",
    "\n",
    "by_hour_for_months=sns.FacetGrid(most_common, hue='Category', col='WeekdayWeeekend', col_wrap=5, sharex=True, sharey=False, size=4,\\\n",
    "                        aspect=0.9, palette='rainbow')\n",
    "by_hour_for_months=by_hour_for_months.map(plt.plot,'Year','Fraction').add_legend()\n",
    "plt.savefig('Crime_Trend_in_Weekend_Weekday.png')"
   ]
  },
  {
   "cell_type": "markdown",
   "metadata": {},
   "source": [
    "###Crime versus Season(Spring/Summer/Winter/Autumn)"
   ]
  },
  {
   "cell_type": "code",
   "execution_count": 20,
   "metadata": {
    "collapsed": false
   },
   "outputs": [
    {
     "ename": "KeyError",
     "evalue": "\"['Year'] not in index\"",
     "output_type": "error",
     "traceback": [
      "\u001b[0;31m---------------------------------------------------------------------------\u001b[0m",
      "\u001b[0;31mKeyError\u001b[0m                                  Traceback (most recent call last)",
      "\u001b[0;32m<ipython-input-20-281fb23609e2>\u001b[0m in \u001b[0;36m<module>\u001b[0;34m()\u001b[0m\n\u001b[1;32m      1\u001b[0m \u001b[0;31m# Now let's look at the crime trend by year for each district. We have three features: 'Year', 'Category' and 'PdDistrict'. For each 'PdDistrict' and 'Year', we would like to see the crime composition instead of simply counts, since data are incomplete for 2015\u001b[0m\u001b[0;34m\u001b[0m\u001b[0;34m\u001b[0m\u001b[0m\n\u001b[0;32m----> 2\u001b[0;31m \u001b[0mfreq_by_d_c\u001b[0m\u001b[0;34m=\u001b[0m\u001b[0mpd\u001b[0m\u001b[0;34m.\u001b[0m\u001b[0mpivot_table\u001b[0m\u001b[0;34m(\u001b[0m\u001b[0mtrain_df\u001b[0m\u001b[0;34m[\u001b[0m\u001b[0;34m[\u001b[0m\u001b[0;34m'Season'\u001b[0m\u001b[0;34m,\u001b[0m\u001b[0;34m'Category'\u001b[0m\u001b[0;34m,\u001b[0m\u001b[0;34m'Year'\u001b[0m\u001b[0;34m,\u001b[0m\u001b[0;34m'Dates'\u001b[0m\u001b[0;34m]\u001b[0m\u001b[0;34m]\u001b[0m\u001b[0;34m,\u001b[0m\u001b[0mvalues\u001b[0m\u001b[0;34m=\u001b[0m\u001b[0;34m'Dates'\u001b[0m\u001b[0;34m,\u001b[0m\u001b[0mcolumns\u001b[0m\u001b[0;34m=\u001b[0m\u001b[0;34m(\u001b[0m\u001b[0;34m'Year'\u001b[0m\u001b[0;34m)\u001b[0m\u001b[0;34m,\u001b[0m\u001b[0mindex\u001b[0m\u001b[0;34m=\u001b[0m\u001b[0;34m(\u001b[0m\u001b[0;34m'Season'\u001b[0m\u001b[0;34m,\u001b[0m\u001b[0;34m'Category'\u001b[0m\u001b[0;34m)\u001b[0m\u001b[0;34m,\u001b[0m\u001b[0maggfunc\u001b[0m\u001b[0;34m=\u001b[0m\u001b[0;34m'count'\u001b[0m\u001b[0;34m)\u001b[0m\u001b[0;34m\u001b[0m\u001b[0m\n\u001b[0m\u001b[1;32m      3\u001b[0m \u001b[0mfreq_by_d_c\u001b[0m\u001b[0;34m=\u001b[0m\u001b[0mfreq_by_d_c\u001b[0m\u001b[0;34m.\u001b[0m\u001b[0mfillna\u001b[0m\u001b[0;34m(\u001b[0m\u001b[0;36m0\u001b[0m\u001b[0;34m)\u001b[0m\u001b[0;34m.\u001b[0m\u001b[0mapply\u001b[0m\u001b[0;34m(\u001b[0m\u001b[0;32mlambda\u001b[0m \u001b[0mx\u001b[0m\u001b[0;34m:\u001b[0m \u001b[0mx\u001b[0m\u001b[0;34m/\u001b[0m\u001b[0mnp\u001b[0m\u001b[0;34m.\u001b[0m\u001b[0msum\u001b[0m\u001b[0;34m(\u001b[0m\u001b[0mx\u001b[0m\u001b[0;34m)\u001b[0m\u001b[0;34m)\u001b[0m\u001b[0;34m\u001b[0m\u001b[0m\n\u001b[1;32m      4\u001b[0m \u001b[0mfreq_by_d_c\u001b[0m\u001b[0;34m=\u001b[0m\u001b[0mfreq_by_d_c\u001b[0m\u001b[0;34m.\u001b[0m\u001b[0mstack\u001b[0m\u001b[0;34m(\u001b[0m\u001b[0;34m)\u001b[0m\u001b[0;34m\u001b[0m\u001b[0m\n\u001b[1;32m      5\u001b[0m \u001b[0mfreq_by_d_c\u001b[0m\u001b[0;34m=\u001b[0m\u001b[0mfreq_by_d_c\u001b[0m\u001b[0;34m.\u001b[0m\u001b[0mreset_index\u001b[0m\u001b[0;34m(\u001b[0m\u001b[0;34m)\u001b[0m\u001b[0;34m\u001b[0m\u001b[0m\n",
      "\u001b[0;32m/Users/carlo_liquido/anaconda/lib/python3.4/site-packages/pandas/core/frame.py\u001b[0m in \u001b[0;36m__getitem__\u001b[0;34m(self, key)\u001b[0m\n\u001b[1;32m   1789\u001b[0m         \u001b[0;32mif\u001b[0m \u001b[0misinstance\u001b[0m\u001b[0;34m(\u001b[0m\u001b[0mkey\u001b[0m\u001b[0;34m,\u001b[0m \u001b[0;34m(\u001b[0m\u001b[0mSeries\u001b[0m\u001b[0;34m,\u001b[0m \u001b[0mnp\u001b[0m\u001b[0;34m.\u001b[0m\u001b[0mndarray\u001b[0m\u001b[0;34m,\u001b[0m \u001b[0mIndex\u001b[0m\u001b[0;34m,\u001b[0m \u001b[0mlist\u001b[0m\u001b[0;34m)\u001b[0m\u001b[0;34m)\u001b[0m\u001b[0;34m:\u001b[0m\u001b[0;34m\u001b[0m\u001b[0m\n\u001b[1;32m   1790\u001b[0m             \u001b[0;31m# either boolean or fancy integer index\u001b[0m\u001b[0;34m\u001b[0m\u001b[0;34m\u001b[0m\u001b[0m\n\u001b[0;32m-> 1791\u001b[0;31m             \u001b[0;32mreturn\u001b[0m \u001b[0mself\u001b[0m\u001b[0;34m.\u001b[0m\u001b[0m_getitem_array\u001b[0m\u001b[0;34m(\u001b[0m\u001b[0mkey\u001b[0m\u001b[0;34m)\u001b[0m\u001b[0;34m\u001b[0m\u001b[0m\n\u001b[0m\u001b[1;32m   1792\u001b[0m         \u001b[0;32melif\u001b[0m \u001b[0misinstance\u001b[0m\u001b[0;34m(\u001b[0m\u001b[0mkey\u001b[0m\u001b[0;34m,\u001b[0m \u001b[0mDataFrame\u001b[0m\u001b[0;34m)\u001b[0m\u001b[0;34m:\u001b[0m\u001b[0;34m\u001b[0m\u001b[0m\n\u001b[1;32m   1793\u001b[0m             \u001b[0;32mreturn\u001b[0m \u001b[0mself\u001b[0m\u001b[0;34m.\u001b[0m\u001b[0m_getitem_frame\u001b[0m\u001b[0;34m(\u001b[0m\u001b[0mkey\u001b[0m\u001b[0;34m)\u001b[0m\u001b[0;34m\u001b[0m\u001b[0m\n",
      "\u001b[0;32m/Users/carlo_liquido/anaconda/lib/python3.4/site-packages/pandas/core/frame.py\u001b[0m in \u001b[0;36m_getitem_array\u001b[0;34m(self, key)\u001b[0m\n\u001b[1;32m   1833\u001b[0m             \u001b[0;32mreturn\u001b[0m \u001b[0mself\u001b[0m\u001b[0;34m.\u001b[0m\u001b[0mtake\u001b[0m\u001b[0;34m(\u001b[0m\u001b[0mindexer\u001b[0m\u001b[0;34m,\u001b[0m \u001b[0maxis\u001b[0m\u001b[0;34m=\u001b[0m\u001b[0;36m0\u001b[0m\u001b[0;34m,\u001b[0m \u001b[0mconvert\u001b[0m\u001b[0;34m=\u001b[0m\u001b[0;32mFalse\u001b[0m\u001b[0;34m)\u001b[0m\u001b[0;34m\u001b[0m\u001b[0m\n\u001b[1;32m   1834\u001b[0m         \u001b[0;32melse\u001b[0m\u001b[0;34m:\u001b[0m\u001b[0;34m\u001b[0m\u001b[0m\n\u001b[0;32m-> 1835\u001b[0;31m             \u001b[0mindexer\u001b[0m \u001b[0;34m=\u001b[0m \u001b[0mself\u001b[0m\u001b[0;34m.\u001b[0m\u001b[0mix\u001b[0m\u001b[0;34m.\u001b[0m\u001b[0m_convert_to_indexer\u001b[0m\u001b[0;34m(\u001b[0m\u001b[0mkey\u001b[0m\u001b[0;34m,\u001b[0m \u001b[0maxis\u001b[0m\u001b[0;34m=\u001b[0m\u001b[0;36m1\u001b[0m\u001b[0;34m)\u001b[0m\u001b[0;34m\u001b[0m\u001b[0m\n\u001b[0m\u001b[1;32m   1836\u001b[0m             \u001b[0;32mreturn\u001b[0m \u001b[0mself\u001b[0m\u001b[0;34m.\u001b[0m\u001b[0mtake\u001b[0m\u001b[0;34m(\u001b[0m\u001b[0mindexer\u001b[0m\u001b[0;34m,\u001b[0m \u001b[0maxis\u001b[0m\u001b[0;34m=\u001b[0m\u001b[0;36m1\u001b[0m\u001b[0;34m,\u001b[0m \u001b[0mconvert\u001b[0m\u001b[0;34m=\u001b[0m\u001b[0;32mTrue\u001b[0m\u001b[0;34m)\u001b[0m\u001b[0;34m\u001b[0m\u001b[0m\n\u001b[1;32m   1837\u001b[0m \u001b[0;34m\u001b[0m\u001b[0m\n",
      "\u001b[0;32m/Users/carlo_liquido/anaconda/lib/python3.4/site-packages/pandas/core/indexing.py\u001b[0m in \u001b[0;36m_convert_to_indexer\u001b[0;34m(self, obj, axis, is_setter)\u001b[0m\n\u001b[1;32m   1110\u001b[0m                 \u001b[0mmask\u001b[0m \u001b[0;34m=\u001b[0m \u001b[0mcheck\u001b[0m \u001b[0;34m==\u001b[0m \u001b[0;34m-\u001b[0m\u001b[0;36m1\u001b[0m\u001b[0;34m\u001b[0m\u001b[0m\n\u001b[1;32m   1111\u001b[0m                 \u001b[0;32mif\u001b[0m \u001b[0mmask\u001b[0m\u001b[0;34m.\u001b[0m\u001b[0many\u001b[0m\u001b[0;34m(\u001b[0m\u001b[0;34m)\u001b[0m\u001b[0;34m:\u001b[0m\u001b[0;34m\u001b[0m\u001b[0m\n\u001b[0;32m-> 1112\u001b[0;31m                     \u001b[0;32mraise\u001b[0m \u001b[0mKeyError\u001b[0m\u001b[0;34m(\u001b[0m\u001b[0;34m'%s not in index'\u001b[0m \u001b[0;34m%\u001b[0m \u001b[0mobjarr\u001b[0m\u001b[0;34m[\u001b[0m\u001b[0mmask\u001b[0m\u001b[0;34m]\u001b[0m\u001b[0;34m)\u001b[0m\u001b[0;34m\u001b[0m\u001b[0m\n\u001b[0m\u001b[1;32m   1113\u001b[0m \u001b[0;34m\u001b[0m\u001b[0m\n\u001b[1;32m   1114\u001b[0m                 \u001b[0;32mreturn\u001b[0m \u001b[0m_values_from_object\u001b[0m\u001b[0;34m(\u001b[0m\u001b[0mindexer\u001b[0m\u001b[0;34m)\u001b[0m\u001b[0;34m\u001b[0m\u001b[0m\n",
      "\u001b[0;31mKeyError\u001b[0m: \"['Year'] not in index\""
     ]
    }
   ],
   "source": [
    "# Now let's look at the crime trend by year for each district. We have three features: 'Year', 'Category' and 'PdDistrict'. For each 'PdDistrict' and 'Year', we would like to see the crime composition instead of simply counts, since data are incomplete for 2015\n",
    "freq_by_d_c=pd.pivot_table(train_df[['Season','Category','Year','Dates']],values='Dates',columns=('Year'),index=('Season','Category'),aggfunc='count')\n",
    "freq_by_d_c=freq_by_d_c.fillna(0).apply(lambda x: x/np.sum(x))\n",
    "freq_by_d_c=freq_by_d_c.stack()\n",
    "freq_by_d_c=freq_by_d_c.reset_index()\n",
    "freq_by_d_c=freq_by_d_c.rename(columns={0:'Fraction'})\n",
    "most_common=freq_by_d_c[freq_by_d_c['Category'].isin(train_df['Category'].value_counts().head(10).index)]\n",
    "\n",
    "by_hour_for_months=sns.FacetGrid(most_common, hue='Category', col='Season', col_wrap=5, sharex=True, sharey=False, size=4,\\\n",
    "                        aspect=0.9, palette='rainbow')\n",
    "by_hour_for_months=by_hour_for_months.map(plt.plot,'Year','Fraction').add_legend()\n",
    "plt.savefig('Crime_Trend_in_Season.png')"
   ]
  },
  {
   "cell_type": "markdown",
   "metadata": {},
   "source": [
    "###Distribution of Crime by Hour in different months"
   ]
  },
  {
   "cell_type": "code",
   "execution_count": 21,
   "metadata": {
    "collapsed": false
   },
   "outputs": [
    {
     "data": {
      "image/png": "[encoded data removed]",
      "text/plain": [
       "<matplotlib.figure.Figure at 0x10ae2b2e8>"
      ]
     },
     "metadata": {},
     "output_type": "display_data"
    }
   ],
   "source": [
    "# We can first visualize the distribution of crimes over a day (by hours) in different months:\n",
    "import re\n",
    "def parse_date(date):\n",
    "    mo=re.search(r'^([0-9]{4})-([0-9]{2})-[0-9]{2}\\s+([0-9]{2}):[0-9]{2}:[0-9]{2}$',date)\n",
    "    return map(int,(mo.group(1),mo.group(2),mo.group(3)))\n",
    "\n",
    "# Extract 'Year', 'Month' and 'Hour' columns for later use\n",
    "month_dict={1:'Jan',2:'Feb',3:'Mar',4:'Apr',5:'May',6:'Jun',7:'Jul',8:'Aug',9:'Sep',10:'Oct',11:'Nov',12:'Dec'}\n",
    "train_df['Year'],train_df['Month'],train_df['Hour']=zip(*train_df.loc[:,'Dates'].map(parse_date))\n",
    "\n",
    "data_month_hour=pd.crosstab(train_df['Hour'],train_df['Month'])\n",
    "axhandles=data_month_hour.plot(kind='bar',subplots=True,layout=(4,3),figsize=(16,12),sharex=True,sharey=True,xticks=range(0,24,4),rot=0)\n",
    "\n",
    "# Note here the subplots are based on columns, each column a new subplot\n",
    "i=1\n",
    "for axrow in axhandles:\n",
    "    for ax in axrow:\n",
    "        ax.set_xticklabels(range(0,24,4))\n",
    "        ax.legend([month_dict[i]],loc='best')\n",
    "        # Note here the argument has to be a list or a tuple, e.g. (month_dict[i],).\n",
    "        # From Matplotlib official documentation: To make a legend for lines which already exist on the axes (via plot for instance),\n",
    "        #    simply call this function with an ITERABLE of strings, one for each legend item.\n",
    "        ax.set_title(\"\")\n",
    "        i+=1\n",
    "plt.suptitle('Distribution of Crimes by Hour',size=20)\n",
    "plt.tight_layout()\n",
    "plt.subplots_adjust(top=0.95)\n",
    "plt.savefig('Distribution_of_Crimes_by_Hour.png')\n",
    "#source: https://www.kaggle.com/lllinger/sf-crime/crimedistribution-temporal-spatial/code"
   ]
  },
  {
   "cell_type": "markdown",
   "metadata": {},
   "source": [
    "###Distribution of Ten Most Common Crimes in Each District"
   ]
  },
  {
   "cell_type": "code",
   "execution_count": 22,
   "metadata": {
    "collapsed": false
   },
   "outputs": [
    {
     "data": {
      "image/png": "[encoded data removed]",
      "text/plain": [
       "<matplotlib.figure.Figure at 0x10c53eda0>"
      ]
     },
     "metadata": {},
     "output_type": "display_data"
    }
   ],
   "source": [
    "# Next, let's explore the spatial distribution of crimes. We can create a simple crosstab table and look at the count distribution\n",
    "# Let's try to look at the city-wide 10 most common crimes in SF and a breakdown by district\n",
    "\n",
    "ten_most_common=train_df[train_df['Category'].isin(train_df['Category'].value_counts().head(10).index)]\n",
    "\n",
    "ten_most_crime_by_district=pd.crosstab(ten_most_common['PdDistrict'],ten_most_common['Category'])\n",
    "ten_most_crime_by_district.plot(kind='barh',figsize=(16,10),stacked=True,colormap='Greens',title='Disbribution of the City-wide Ten Most Common Crimes in Each District')\n",
    "plt.savefig('Disbribution_of_the_City-wide_Ten_Most_Common_Crimes_in_Each_District.png')\n",
    "#source: https://www.kaggle.com/lllinger/sf-crime/crimedistribution-temporal-spatial/code"
   ]
  },
  {
   "cell_type": "markdown",
   "metadata": {},
   "source": [
    "###Crime Trend By Year and District"
   ]
  },
  {
   "cell_type": "code",
   "execution_count": 23,
   "metadata": {
    "collapsed": false
   },
   "outputs": [
    {
     "ename": "NameError",
     "evalue": "name 'sns' is not defined",
     "output_type": "error",
     "traceback": [
      "\u001b[0;31m---------------------------------------------------------------------------\u001b[0m",
      "\u001b[0;31mNameError\u001b[0m                                 Traceback (most recent call last)",
      "\u001b[0;32m<ipython-input-23-0d15549de77e>\u001b[0m in \u001b[0;36m<module>\u001b[0;34m()\u001b[0m\n\u001b[1;32m      7\u001b[0m \u001b[0mmost_common\u001b[0m\u001b[0;34m=\u001b[0m\u001b[0mfreq_by_d_c\u001b[0m\u001b[0;34m[\u001b[0m\u001b[0mfreq_by_d_c\u001b[0m\u001b[0;34m[\u001b[0m\u001b[0;34m'Category'\u001b[0m\u001b[0;34m]\u001b[0m\u001b[0;34m.\u001b[0m\u001b[0misin\u001b[0m\u001b[0;34m(\u001b[0m\u001b[0mtrain_df\u001b[0m\u001b[0;34m[\u001b[0m\u001b[0;34m'Category'\u001b[0m\u001b[0;34m]\u001b[0m\u001b[0;34m.\u001b[0m\u001b[0mvalue_counts\u001b[0m\u001b[0;34m(\u001b[0m\u001b[0;34m)\u001b[0m\u001b[0;34m.\u001b[0m\u001b[0mhead\u001b[0m\u001b[0;34m(\u001b[0m\u001b[0;36m10\u001b[0m\u001b[0;34m)\u001b[0m\u001b[0;34m.\u001b[0m\u001b[0mindex\u001b[0m\u001b[0;34m)\u001b[0m\u001b[0;34m]\u001b[0m\u001b[0;34m\u001b[0m\u001b[0m\n\u001b[1;32m      8\u001b[0m \u001b[0;34m\u001b[0m\u001b[0m\n\u001b[0;32m----> 9\u001b[0;31m \u001b[0mby_hour_for_months\u001b[0m\u001b[0;34m=\u001b[0m\u001b[0msns\u001b[0m\u001b[0;34m.\u001b[0m\u001b[0mFacetGrid\u001b[0m\u001b[0;34m(\u001b[0m\u001b[0mmost_common\u001b[0m\u001b[0;34m,\u001b[0m \u001b[0mhue\u001b[0m\u001b[0;34m=\u001b[0m\u001b[0;34m'Category'\u001b[0m\u001b[0;34m,\u001b[0m \u001b[0mcol\u001b[0m\u001b[0;34m=\u001b[0m\u001b[0;34m'PdDistrict'\u001b[0m\u001b[0;34m,\u001b[0m \u001b[0mcol_wrap\u001b[0m\u001b[0;34m=\u001b[0m\u001b[0;36m5\u001b[0m\u001b[0;34m,\u001b[0m \u001b[0msharex\u001b[0m\u001b[0;34m=\u001b[0m\u001b[0;32mTrue\u001b[0m\u001b[0;34m,\u001b[0m \u001b[0msharey\u001b[0m\u001b[0;34m=\u001b[0m\u001b[0;32mFalse\u001b[0m\u001b[0;34m,\u001b[0m \u001b[0msize\u001b[0m\u001b[0;34m=\u001b[0m\u001b[0;36m4\u001b[0m\u001b[0;34m,\u001b[0m                        \u001b[0maspect\u001b[0m\u001b[0;34m=\u001b[0m\u001b[0;36m0.9\u001b[0m\u001b[0;34m,\u001b[0m \u001b[0mpalette\u001b[0m\u001b[0;34m=\u001b[0m\u001b[0;34m'rainbow'\u001b[0m\u001b[0;34m)\u001b[0m\u001b[0;34m\u001b[0m\u001b[0m\n\u001b[0m\u001b[1;32m     10\u001b[0m \u001b[0mby_hour_for_months\u001b[0m\u001b[0;34m=\u001b[0m\u001b[0mby_hour_for_months\u001b[0m\u001b[0;34m.\u001b[0m\u001b[0mmap\u001b[0m\u001b[0;34m(\u001b[0m\u001b[0mplt\u001b[0m\u001b[0;34m.\u001b[0m\u001b[0mplot\u001b[0m\u001b[0;34m,\u001b[0m\u001b[0;34m'Year'\u001b[0m\u001b[0;34m,\u001b[0m\u001b[0;34m'Fraction'\u001b[0m\u001b[0;34m)\u001b[0m\u001b[0;34m.\u001b[0m\u001b[0madd_legend\u001b[0m\u001b[0;34m(\u001b[0m\u001b[0;34m)\u001b[0m\u001b[0;34m\u001b[0m\u001b[0m\n\u001b[1;32m     11\u001b[0m \u001b[0mplt\u001b[0m\u001b[0;34m.\u001b[0m\u001b[0msavefig\u001b[0m\u001b[0;34m(\u001b[0m\u001b[0;34m'Crime_Trend_in_Each_District.png'\u001b[0m\u001b[0;34m)\u001b[0m\u001b[0;34m\u001b[0m\u001b[0m\n",
      "\u001b[0;31mNameError\u001b[0m: name 'sns' is not defined"
     ]
    }
   ],
   "source": [
    "# Now let's look at the crime trend by year for each district. We have three features: 'Year', 'Category' and 'PdDistrict'. For each 'PdDistrict' and 'Year', we would like to see the crime composition instead of simply counts, since data are incomplete for 2015\n",
    "freq_by_d_c=pd.pivot_table(train_df[['PdDistrict','Category','Year','Dates']],values='Dates',columns=('Year'),index=('PdDistrict','Category'),aggfunc='count')\n",
    "freq_by_d_c=freq_by_d_c.fillna(0).apply(lambda x: x/np.sum(x))\n",
    "freq_by_d_c=freq_by_d_c.stack()\n",
    "freq_by_d_c=freq_by_d_c.reset_index()\n",
    "freq_by_d_c=freq_by_d_c.rename(columns={0:'Fraction'})\n",
    "most_common=freq_by_d_c[freq_by_d_c['Category'].isin(train_df['Category'].value_counts().head(10).index)]\n",
    "\n",
    "by_hour_for_months=sns.FacetGrid(most_common, hue='Category', col='PdDistrict', col_wrap=5, sharex=True, sharey=False, size=4,\\\n",
    "                        aspect=0.9, palette='rainbow')\n",
    "by_hour_for_months=by_hour_for_months.map(plt.plot,'Year','Fraction').add_legend()\n",
    "plt.savefig('Crime_Trend_in_Each_District.png')\n",
    "#source: https://www.kaggle.com/lllinger/sf-crime/crimedistribution-temporal-spatial/code"
   ]
  },
  {
   "cell_type": "markdown",
   "metadata": {},
   "source": [
    "### Creating new data frame to get all new features"
   ]
  },
  {
   "cell_type": "code",
   "execution_count": 46,
   "metadata": {
    "collapsed": false
   },
   "outputs": [
    {
     "name": "stdout",
     "output_type": "stream",
     "text": [
      "(20000, 19)\n",
      "(20000, 2)\n",
      "(20000, 4)\n",
      "(20000, 4)\n",
      "(20000, 10)\n",
      "(20000, 7)\n",
      "(20000, 46)\n"
     ]
    }
   ],
   "source": [
    "WeekdayWeekend_dummies = pd.get_dummies(train_df.WeekdayWeeekend)\n",
    "TimeOfDay_dummies = pd.get_dummies(train_df.TimeOfDay)\n",
    "season_dummies = pd.get_dummies(train_df.Season)\n",
    "district_dummies = pd.get_dummies(train_df.PdDistrict)\n",
    "week_dummies = pd.get_dummies(train_df.DayOfWeek)\n",
    "\n",
    "train_df_new = pd.concat([train_df, WeekdayWeekend_dummies, TimeOfDay_dummies, season_dummies, district_dummies, week_dummies], axis=1, join_axes=[train_df.index])\n",
    "print(train_df.shape)\n",
    "print(WeekdayWeekend_dummies.shape)\n",
    "print(TimeOfDay_dummies.shape)\n",
    "print(season_dummies.shape)\n",
    "print(district_dummies.shape)\n",
    "print(week_dummies.shape)\n",
    "print(train_df_new.shape)"
   ]
  },
  {
   "cell_type": "code",
   "execution_count": 47,
   "metadata": {
    "collapsed": false
   },
   "outputs": [
    {
     "data": {
      "text/html": [
       "<div>\n",
       "<table border=\"1\" class=\"dataframe\">\n",
       "  <thead>\n",
       "    <tr style=\"text-align: right;\">\n",
       "      <th></th>\n",
       "      <th>Dates</th>\n",
       "      <th>Category</th>\n",
       "      <th>Descript</th>\n",
       "      <th>DayOfWeek</th>\n",
       "      <th>PdDistrict</th>\n",
       "      <th>Resolution</th>\n",
       "      <th>Address</th>\n",
       "      <th>X</th>\n",
       "      <th>Y</th>\n",
       "      <th>month_of_year</th>\n",
       "      <th>...</th>\n",
       "      <th>TARAVAL</th>\n",
       "      <th>TENDERLOIN</th>\n",
       "      <th>Friday</th>\n",
       "      <th>Monday</th>\n",
       "      <th>Saturday</th>\n",
       "      <th>Sunday</th>\n",
       "      <th>Thursday</th>\n",
       "      <th>Tuesday</th>\n",
       "      <th>Wednesday</th>\n",
       "      <th>dummy_Category</th>\n",
       "    </tr>\n",
       "  </thead>\n",
       "  <tbody>\n",
       "    <tr>\n",
       "      <th>0</th>\n",
       "      <td>2003-04-02 13:00:00</td>\n",
       "      <td>ASSAULT</td>\n",
       "      <td>THREATS AGAINST LIFE</td>\n",
       "      <td>Wednesday</td>\n",
       "      <td>PARK</td>\n",
       "      <td>NONE</td>\n",
       "      <td>500 Block of CORBETT AV</td>\n",
       "      <td>-122.444182</td>\n",
       "      <td>37.757346</td>\n",
       "      <td>4</td>\n",
       "      <td>...</td>\n",
       "      <td>0</td>\n",
       "      <td>0</td>\n",
       "      <td>0</td>\n",
       "      <td>0</td>\n",
       "      <td>0</td>\n",
       "      <td>0</td>\n",
       "      <td>0</td>\n",
       "      <td>0</td>\n",
       "      <td>1</td>\n",
       "      <td>1</td>\n",
       "    </tr>\n",
       "    <tr>\n",
       "      <th>1</th>\n",
       "      <td>2011-12-15 16:15:00</td>\n",
       "      <td>LARCENY/THEFT</td>\n",
       "      <td>GRAND THEFT PICKPOCKET</td>\n",
       "      <td>Thursday</td>\n",
       "      <td>CENTRAL</td>\n",
       "      <td>NONE</td>\n",
       "      <td>300 Block of BAY ST</td>\n",
       "      <td>-122.412804</td>\n",
       "      <td>37.805774</td>\n",
       "      <td>12</td>\n",
       "      <td>...</td>\n",
       "      <td>0</td>\n",
       "      <td>0</td>\n",
       "      <td>0</td>\n",
       "      <td>0</td>\n",
       "      <td>0</td>\n",
       "      <td>0</td>\n",
       "      <td>1</td>\n",
       "      <td>0</td>\n",
       "      <td>0</td>\n",
       "      <td>16</td>\n",
       "    </tr>\n",
       "    <tr>\n",
       "      <th>2</th>\n",
       "      <td>2015-03-04 01:55:00</td>\n",
       "      <td>LARCENY/THEFT</td>\n",
       "      <td>GRAND THEFT FROM PERSON</td>\n",
       "      <td>Wednesday</td>\n",
       "      <td>MISSION</td>\n",
       "      <td>NONE</td>\n",
       "      <td>400 Block of CASTRO ST</td>\n",
       "      <td>-122.435150</td>\n",
       "      <td>37.761760</td>\n",
       "      <td>3</td>\n",
       "      <td>...</td>\n",
       "      <td>0</td>\n",
       "      <td>0</td>\n",
       "      <td>0</td>\n",
       "      <td>0</td>\n",
       "      <td>0</td>\n",
       "      <td>0</td>\n",
       "      <td>0</td>\n",
       "      <td>0</td>\n",
       "      <td>1</td>\n",
       "      <td>16</td>\n",
       "    </tr>\n",
       "    <tr>\n",
       "      <th>3</th>\n",
       "      <td>2008-08-19 22:00:00</td>\n",
       "      <td>LARCENY/THEFT</td>\n",
       "      <td>GRAND THEFT FROM LOCKED AUTO</td>\n",
       "      <td>Tuesday</td>\n",
       "      <td>NORTHERN</td>\n",
       "      <td>NONE</td>\n",
       "      <td>2000 Block of WASHINGTON ST</td>\n",
       "      <td>-122.427007</td>\n",
       "      <td>37.792582</td>\n",
       "      <td>8</td>\n",
       "      <td>...</td>\n",
       "      <td>0</td>\n",
       "      <td>0</td>\n",
       "      <td>0</td>\n",
       "      <td>0</td>\n",
       "      <td>0</td>\n",
       "      <td>0</td>\n",
       "      <td>0</td>\n",
       "      <td>1</td>\n",
       "      <td>0</td>\n",
       "      <td>16</td>\n",
       "    </tr>\n",
       "    <tr>\n",
       "      <th>4</th>\n",
       "      <td>2014-04-16 12:58:00</td>\n",
       "      <td>DRUG/NARCOTIC</td>\n",
       "      <td>SALE OF BASE/ROCK COCAINE</td>\n",
       "      <td>Wednesday</td>\n",
       "      <td>TENDERLOIN</td>\n",
       "      <td>ARREST, BOOKED</td>\n",
       "      <td>TURK ST / HYDE ST</td>\n",
       "      <td>-122.415695</td>\n",
       "      <td>37.782585</td>\n",
       "      <td>4</td>\n",
       "      <td>...</td>\n",
       "      <td>0</td>\n",
       "      <td>1</td>\n",
       "      <td>0</td>\n",
       "      <td>0</td>\n",
       "      <td>0</td>\n",
       "      <td>0</td>\n",
       "      <td>0</td>\n",
       "      <td>0</td>\n",
       "      <td>1</td>\n",
       "      <td>7</td>\n",
       "    </tr>\n",
       "  </tbody>\n",
       "</table>\n",
       "<p>5 rows × 47 columns</p>\n",
       "</div>"
      ],
      "text/plain": [
       "                 Dates       Category                      Descript  \\\n",
       "0  2003-04-02 13:00:00        ASSAULT          THREATS AGAINST LIFE   \n",
       "1  2011-12-15 16:15:00  LARCENY/THEFT        GRAND THEFT PICKPOCKET   \n",
       "2  2015-03-04 01:55:00  LARCENY/THEFT       GRAND THEFT FROM PERSON   \n",
       "3  2008-08-19 22:00:00  LARCENY/THEFT  GRAND THEFT FROM LOCKED AUTO   \n",
       "4  2014-04-16 12:58:00  DRUG/NARCOTIC     SALE OF BASE/ROCK COCAINE   \n",
       "\n",
       "   DayOfWeek  PdDistrict      Resolution                      Address  \\\n",
       "0  Wednesday        PARK            NONE      500 Block of CORBETT AV   \n",
       "1   Thursday     CENTRAL            NONE          300 Block of BAY ST   \n",
       "2  Wednesday     MISSION            NONE       400 Block of CASTRO ST   \n",
       "3    Tuesday    NORTHERN            NONE  2000 Block of WASHINGTON ST   \n",
       "4  Wednesday  TENDERLOIN  ARREST, BOOKED            TURK ST / HYDE ST   \n",
       "\n",
       "            X          Y  month_of_year       ...        TARAVAL  TENDERLOIN  \\\n",
       "0 -122.444182  37.757346              4       ...              0           0   \n",
       "1 -122.412804  37.805774             12       ...              0           0   \n",
       "2 -122.435150  37.761760              3       ...              0           0   \n",
       "3 -122.427007  37.792582              8       ...              0           0   \n",
       "4 -122.415695  37.782585              4       ...              0           1   \n",
       "\n",
       "   Friday Monday Saturday Sunday  Thursday  Tuesday  Wednesday  dummy_Category  \n",
       "0       0      0        0      0         0        0          1               1  \n",
       "1       0      0        0      0         1        0          0              16  \n",
       "2       0      0        0      0         0        0          1              16  \n",
       "3       0      0        0      0         0        1          0              16  \n",
       "4       0      0        0      0         0        0          1               7  \n",
       "\n",
       "[5 rows x 47 columns]"
      ]
     },
     "execution_count": 47,
     "metadata": {},
     "output_type": "execute_result"
    }
   ],
   "source": [
    "le_crime = preprocessing.LabelEncoder()\n",
    "crime = le_crime.fit_transform(train_df_new.Category)\n",
    "train_df_new['dummy_Category'] = crime\n",
    "train_df_new.head()"
   ]
  },
  {
   "cell_type": "code",
   "execution_count": 48,
   "metadata": {
    "collapsed": false
   },
   "outputs": [
    {
     "data": {
      "text/plain": [
       "Index(['Dates', 'Category', 'Descript', 'DayOfWeek', 'PdDistrict',\n",
       "       'Resolution', 'Address', 'X', 'Y', 'month_of_year', 'day_of_month',\n",
       "       'hour_of_day', 'min_of_hour', 'WeekdayWeeekend', 'TimeOfDay', 'Season',\n",
       "       'Year', 'Month', 'Hour', 'Weekday', 'Weekend', 'Afternoon', 'Midnight',\n",
       "       'Morning', 'Night', 'Autumn', 'Spring', 'Summer', 'Winter', 'BAYVIEW',\n",
       "       'CENTRAL', 'INGLESIDE', 'MISSION', 'NORTHERN', 'PARK', 'RICHMOND',\n",
       "       'SOUTHERN', 'TARAVAL', 'TENDERLOIN', 'Friday', 'Monday', 'Saturday',\n",
       "       'Sunday', 'Thursday', 'Tuesday', 'Wednesday', 'dummy_Category'],\n",
       "      dtype='object')"
      ]
     },
     "execution_count": 48,
     "metadata": {},
     "output_type": "execute_result"
    }
   ],
   "source": [
    "train_df_new.columns"
   ]
  },
  {
   "cell_type": "code",
   "execution_count": 49,
   "metadata": {
    "collapsed": false
   },
   "outputs": [],
   "source": [
    "# categories = list(raw_sfpd.Category.unique())\n",
    "# print(categories)"
   ]
  },
  {
   "cell_type": "code",
   "execution_count": 50,
   "metadata": {
    "collapsed": false
   },
   "outputs": [
    {
     "data": {
      "text/plain": [
       "[('LARCENY/THEFT', 4043),\n",
       " ('OTHER OFFENSES', 2805),\n",
       " ('NON-CRIMINAL', 2081),\n",
       " ('ASSAULT', 1789),\n",
       " ('DRUG/NARCOTIC', 1250),\n",
       " ('VEHICLE THEFT', 1181),\n",
       " ('VANDALISM', 1042),\n",
       " ('WARRANTS', 967),\n",
       " ('BURGLARY', 832),\n",
       " ('SUSPICIOUS OCC', 718),\n",
       " ('MISSING PERSON', 614),\n",
       " ('ROBBERY', 488),\n",
       " ('FRAUD', 368),\n",
       " ('FORGERY/COUNTERFEITING', 259),\n",
       " ('SECONDARY CODES', 226),\n",
       " ('WEAPON LAWS', 186),\n",
       " ('TRESPASS', 179),\n",
       " ('PROSTITUTION', 157),\n",
       " ('SEX OFFENSES FORCIBLE', 123),\n",
       " ('DISORDERLY CONDUCT', 116),\n",
       " ('STOLEN PROPERTY', 98),\n",
       " ('DRUNKENNESS', 96),\n",
       " ('DRIVING UNDER THE INFLUENCE', 70),\n",
       " ('RECOVERED VEHICLE', 61),\n",
       " ('KIDNAPPING', 59),\n",
       " ('LIQUOR LAWS', 38),\n",
       " ('RUNAWAY', 38),\n",
       " ('ARSON', 31),\n",
       " ('EMBEZZLEMENT', 30),\n",
       " ('LOITERING', 19),\n",
       " ('SUICIDE', 10),\n",
       " ('BRIBERY', 6),\n",
       " ('BAD CHECKS', 5),\n",
       " ('SEX OFFENSES NON FORCIBLE', 5),\n",
       " ('FAMILY OFFENSES', 4),\n",
       " ('GAMBLING', 3),\n",
       " ('EXTORTION', 3)]"
      ]
     },
     "execution_count": 50,
     "metadata": {},
     "output_type": "execute_result"
    }
   ],
   "source": [
    "# counts = dict()\n",
    "# for i in items:\n",
    "#   counts[i] = counts.get(i, 0) + 1\n",
    "categories_dict = defaultdict(int)\n",
    "for item in train_df_new.Category:\n",
    "    categories_dict[item] += 1\n",
    "    \n",
    "(sorted(categories_dict.items(), key=lambda x: x[1], reverse=True))"
   ]
  },
  {
   "cell_type": "code",
   "execution_count": 51,
   "metadata": {
    "collapsed": true
   },
   "outputs": [],
   "source": [
    "def inline_map(m, width=650, height=500):\n",
    "    \"\"\"Takes a folium instance and embed HTML.\"\"\"\n",
    "    m._build_map()\n",
    "    srcdoc = m.HTML.replace('\"', '&quot;')\n",
    "    embed = HTML('<iframe srcdoc=\"{}\" '\n",
    "                 'style=\"width: {}px; height: {}px; '\n",
    "                 'border: none\"></iframe>'.format(srcdoc, width, height))\n",
    "    return embed"
   ]
  },
  {
   "cell_type": "code",
   "execution_count": 52,
   "metadata": {
    "collapsed": false
   },
   "outputs": [
    {
     "data": {
      "text/html": [
       "<iframe srcdoc=\"<!DOCTYPE html>\n",
       "<head>\n",
       "   <meta http-equiv=&quot;content-type&quot; content=&quot;text/html; charset=UTF-8&quot; />\n",
       "   <link rel=&quot;stylesheet&quot; href=&quot;https://cdnjs.cloudflare.com/ajax/libs/leaflet/0.7.3/leaflet.css&quot; />\n",
       "   <script src=&quot;https://cdnjs.cloudflare.com/ajax/libs/leaflet/0.7.3/leaflet.js&quot;></script>\n",
       "\n",
       "   <script src=&quot;https://ajax.googleapis.com/ajax/libs/jquery/1.11.1/jquery.min.js&quot;></script>\n",
       "\n",
       "   <link rel=&quot;stylesheet&quot; href=&quot;https://maxcdn.bootstrapcdn.com/bootstrap/3.2.0/css/bootstrap.min.css&quot;>\n",
       "   <link rel=&quot;stylesheet&quot; href=&quot;https://maxcdn.bootstrapcdn.com/bootstrap/3.2.0/css/bootstrap-theme.min.css&quot;>\n",
       "   <script src=&quot;https://maxcdn.bootstrapcdn.com/bootstrap/3.2.0/js/bootstrap.min.js&quot;></script>\n",
       "\n",
       "   <link href=&quot;https://maxcdn.bootstrapcdn.com/font-awesome/4.1.0/css/font-awesome.min.css&quot; rel=&quot;stylesheet&quot;>\n",
       "\n",
       "   <link rel=&quot;stylesheet&quot; href=&quot;https://rawgit.com/lvoogdt/Leaflet.awesome-markers/2.0/develop/dist/leaflet.awesome-markers.css&quot;>\n",
       "   <script src=&quot;https://rawgithub.com/lvoogdt/Leaflet.awesome-markers/2.0/develop/dist/leaflet.awesome-markers.js&quot;></script>\n",
       "\n",
       "\n",
       "   <link rel=&quot;stylesheet&quot; href=&quot;https://cdnjs.cloudflare.com/ajax/libs/leaflet.markercluster/0.4.0/MarkerCluster.Default.css&quot;>\n",
       "   <link rel=&quot;stylesheet&quot; href=&quot;https://cdnjs.cloudflare.com/ajax/libs/leaflet.markercluster/0.4.0/MarkerCluster.css&quot;>\n",
       "   <script src=&quot;https://cdnjs.cloudflare.com/ajax/libs/leaflet.markercluster/0.4.0/leaflet.markercluster-src.js&quot;></script>\n",
       "   <script src=&quot;https://cdnjs.cloudflare.com/ajax/libs/leaflet.markercluster/0.4.0/leaflet.markercluster.js&quot;></script>\n",
       "\n",
       "   <link rel=&quot;stylesheet&quot; href=&quot;https://birdage.github.io/Leaflet.awesome-markers/dist/leaflet.awesome.rotate.css&quot;>\n",
       "\n",
       "   \n",
       "   \n",
       "   \n",
       "   \n",
       "\n",
       "   <style>\n",
       "\n",
       "      html, body {\n",
       "        width: 100%;\n",
       "        height: 100%;\n",
       "        margin: 0;\n",
       "        padding: 0;\n",
       "      }\n",
       "\n",
       "      #map {\n",
       "        position:absolute;\n",
       "        top:0;\n",
       "        bottom:0;\n",
       "        right:0;\n",
       "        left:0;\n",
       "      }\n",
       "\n",
       "   </style>\n",
       "</head>\n",
       "\n",
       "<body>\n",
       "\n",
       "   <div class=&quot;folium-map&quot; id=&quot;folium_249076440c244316ad863ba071e37451&quot; style=&quot;width: 750px; height: 450px&quot;></div>\n",
       "\n",
       "   <script>\n",
       "\n",
       "      \n",
       "\n",
       "      var base_tile = L.tileLayer('https://{s}.tile.openstreetmap.org/{z}/{x}/{y}.png', {\n",
       "          maxZoom: 18,\n",
       "          minZoom: 1,\n",
       "          attribution: 'Map data (c) <a href=&quot;http://openstreetmap.org&quot;>OpenStreetMap</a> contributors'\n",
       "      });\n",
       "\n",
       "      var baseLayer = {\n",
       "        &quot;Base Layer&quot;: base_tile\n",
       "      };\n",
       "\n",
       "      /*\n",
       "      addition of the wms layers\n",
       "      */\n",
       "\n",
       "      \n",
       "\n",
       "      /*\n",
       "      addition of the tile layers\n",
       "      */\n",
       "      \n",
       "\n",
       "      /*\n",
       "      list of layers to be added\n",
       "      */\n",
       "      var layer_list = {\n",
       "      \n",
       "      };\n",
       "\n",
       "      /*\n",
       "      Bounding box.\n",
       "      */\n",
       "      var southWest = L.latLng(-90, -180),\n",
       "          northEast = L.latLng(90, 180),\n",
       "          bounds = L.latLngBounds(southWest, northEast);\n",
       "\n",
       "      /*\n",
       "      Creates the map and adds the selected layers\n",
       "      */\n",
       "      var map = L.map('folium_249076440c244316ad863ba071e37451', {\n",
       "                                       center:[37.759953, -122.44147],\n",
       "                                       zoom: 12,\n",
       "                                       maxBounds: bounds,\n",
       "                                       layers: [base_tile]\n",
       "                                     });\n",
       "\n",
       "      L.control.layers(baseLayer, layer_list).addTo(map);\n",
       "\n",
       "      //cluster group\n",
       "      var clusteredmarkers = L.markerClusterGroup();\n",
       "      //section for adding clustered markers\n",
       "      \n",
       "      //add the clustered markers to the group anyway\n",
       "      map.addLayer(clusteredmarkers);\n",
       "\n",
       "      \n",
       "\n",
       "      \n",
       "\n",
       "      \n",
       "\n",
       "      \n",
       "\n",
       "      \n",
       "\n",
       "      \n",
       "\n",
       "\n",
       "\n",
       "   </script>\n",
       "\n",
       "</body>\" style=\"width: 750px; height: 450px; border: none\"></iframe>"
      ],
      "text/plain": [
       "<IPython.core.display.HTML object>"
      ]
     },
     "execution_count": 52,
     "metadata": {},
     "output_type": "execute_result"
    }
   ],
   "source": [
    "# testing base map\n",
    "width, height = 750, 450\n",
    "taxi_loc = folium.Map(location=[37.759953, -122.44147], zoom_start=12,\n",
    "                    tiles='OpenStreetMap', width=width, height=height)\n",
    "\n",
    "# for c,e in zip(clustering_end2.cluster_centers_, end_normalized):\n",
    "#     taxi_loc.circle_marker(location=(c[0],c[1]), radius=(300 * (e + 0.3)), line_color=None, fill_color='red', fill_opacity=0.5)\n",
    "\n",
    "# for c,s in zip(clustering_start2.cluster_centers_, start_normalized):\n",
    "#     taxi_loc.circle_marker(location=(c[0],c[1]), radius=(300 * (s + 0.3)), line_color=None, fill_color='white', fill_opacity=0.9)\n",
    "\n",
    "# taxi_loc.geo_json(geo_path='TAZ.geojson', fill_opacity=0.2, line_opacity=0.2)\n",
    "    \n",
    "inline_map(taxi_loc, width, height)"
   ]
  },
  {
   "cell_type": "code",
   "execution_count": 53,
   "metadata": {
    "collapsed": true
   },
   "outputs": [],
   "source": [
    "# plot using matplotlib"
   ]
  },
  {
   "cell_type": "code",
   "execution_count": 54,
   "metadata": {
    "collapsed": false
   },
   "outputs": [],
   "source": [
    "matplotlib.style.use('ggplot')"
   ]
  },
  {
   "cell_type": "code",
   "execution_count": 55,
   "metadata": {
    "collapsed": false
   },
   "outputs": [
    {
     "data": {
      "text/plain": [
       "defaultdict(int,\n",
       "            {'ARSON': 31,\n",
       "             'ASSAULT': 1789,\n",
       "             'BAD CHECKS': 5,\n",
       "             'BRIBERY': 6,\n",
       "             'BURGLARY': 832,\n",
       "             'DISORDERLY CONDUCT': 116,\n",
       "             'DRIVING UNDER THE INFLUENCE': 70,\n",
       "             'DRUG/NARCOTIC': 1250,\n",
       "             'DRUNKENNESS': 96,\n",
       "             'EMBEZZLEMENT': 30,\n",
       "             'EXTORTION': 3,\n",
       "             'FAMILY OFFENSES': 4,\n",
       "             'FORGERY/COUNTERFEITING': 259,\n",
       "             'FRAUD': 368,\n",
       "             'GAMBLING': 3,\n",
       "             'KIDNAPPING': 59,\n",
       "             'LARCENY/THEFT': 4043,\n",
       "             'LIQUOR LAWS': 38,\n",
       "             'LOITERING': 19,\n",
       "             'MISSING PERSON': 614,\n",
       "             'NON-CRIMINAL': 2081,\n",
       "             'OTHER OFFENSES': 2805,\n",
       "             'PROSTITUTION': 157,\n",
       "             'RECOVERED VEHICLE': 61,\n",
       "             'ROBBERY': 488,\n",
       "             'RUNAWAY': 38,\n",
       "             'SECONDARY CODES': 226,\n",
       "             'SEX OFFENSES FORCIBLE': 123,\n",
       "             'SEX OFFENSES NON FORCIBLE': 5,\n",
       "             'STOLEN PROPERTY': 98,\n",
       "             'SUICIDE': 10,\n",
       "             'SUSPICIOUS OCC': 718,\n",
       "             'TRESPASS': 179,\n",
       "             'VANDALISM': 1042,\n",
       "             'VEHICLE THEFT': 1181,\n",
       "             'WARRANTS': 967,\n",
       "             'WEAPON LAWS': 186})"
      ]
     },
     "execution_count": 55,
     "metadata": {},
     "output_type": "execute_result"
    }
   ],
   "source": [
    "categories_dict"
   ]
  },
  {
   "cell_type": "code",
   "execution_count": 56,
   "metadata": {
    "collapsed": false
   },
   "outputs": [],
   "source": [
    "# # df.plot.barh(raw_sfpd)\n",
    "\n",
    "# plt.figure(figsize=(15,5))\n",
    "\n",
    "# # population_counties = sorted(population_counties, key=lambda tup:tup[1])\n",
    "\n",
    "# # counties_list = [county[0] for county in population_counties]\n",
    "# # per_capita_pop = [pop[1] for pop in population_counties]\n",
    "\n",
    "# N = len(categories_dict.items())\n",
    "\n",
    "# # counties_list = [county[0] for county in population_counties]\n",
    "# # per_capita_pop = [pop[1] for pop in population_counties]\n",
    "\n",
    "# ind = np.arange(N)  # the x locations for the groups\n",
    "# width = 0.5       # the width of the bars\n",
    "\n",
    "# #fig, ax = plt.subplots()\n",
    "# rects1 = plt.bar(ind, categories_dict.values(), width=width, color='r')\n",
    "\n",
    "# # plt.xticks(N + width, ('A', 'B', 'C', 'D', 'E'))\n",
    "# plt.xticks(range(N), list(categories_dict.keys(), rotation=90)\n",
    "\n",
    "# plt.show()"
   ]
  },
  {
   "cell_type": "markdown",
   "metadata": {},
   "source": [
    "### Static Map ###"
   ]
  },
  {
   "cell_type": "code",
   "execution_count": 57,
   "metadata": {
    "collapsed": false
   },
   "outputs": [
    {
     "name": "stdout",
     "output_type": "stream",
     "text": [
      "Current size: [10.0, 10.0]\n"
     ]
    }
   ],
   "source": [
    "fig_size = plt.rcParams[\"figure.figsize\"]\n",
    " \n",
    "# Prints: [8.0, 6.0]\n",
    "print(\"Current size:\", fig_size)\n",
    "\n",
    "# Set figure width to 12 and height to 9\n",
    "fig_size[0] = 10\n",
    "fig_size[1] = 10\n",
    "plt.rcParams[\"figure.figsize\"] = fig_size"
   ]
  },
  {
   "cell_type": "code",
   "execution_count": 58,
   "metadata": {
    "collapsed": false
   },
   "outputs": [
    {
     "data": {
      "text/plain": [
       "<matplotlib.collections.PathCollection at 0x10d2ad898>"
      ]
     },
     "execution_count": 58,
     "metadata": {},
     "output_type": "execute_result"
    },
    {
     "data": {
      "image/png": "[encoded data removed]",
      "text/plain": [
       "<matplotlib.figure.Figure at 0x10d258b00>"
      ]
     },
     "metadata": {},
     "output_type": "display_data"
    }
   ],
   "source": [
    "# change into meters\n",
    "# pair_coordinates = [[item[0]*89.7, item[1]*112.7] for item in pair_coordinates]\n",
    "# create scater plot\n",
    "lat = train_df_new.Y*89.7\n",
    "long = train_df_new.X*112.7\n",
    "category_cluster = train_df_new.Category\n",
    "# set axes range\n",
    "plt.xlim(3380, 3395)\n",
    "plt.ylim(-13810, -13785)\n",
    "plt.scatter(lat, long, marker=u'.')"
   ]
  },
  {
   "cell_type": "markdown",
   "metadata": {},
   "source": [
    "### Apply Mini Batch ###"
   ]
  },
  {
   "cell_type": "markdown",
   "metadata": {},
   "source": [
    "** first, zip lat and long into list for clustering **"
   ]
  },
  {
   "cell_type": "code",
   "execution_count": 59,
   "metadata": {
    "collapsed": false
   },
   "outputs": [
    {
     "data": {
      "text/plain": [
       "[(3386.8339002919597, -13799.45930667832),\n",
       " (3391.1779266849935, -13795.922982963099)]"
      ]
     },
     "execution_count": 59,
     "metadata": {},
     "output_type": "execute_result"
    }
   ],
   "source": [
    "pair_coordinates = list(zip(lat,long))\n",
    "# lat = raw_sfpd.Y*89.7\n",
    "# long = raw_sfpd.X*112.7\n",
    "pair_coordinates[:2]"
   ]
  },
  {
   "cell_type": "markdown",
   "metadata": {},
   "source": [
    "** two functions **\n",
    "* mbk_time only outputs time... to find optimal batch size given cluster size 3 in the example\n",
    "* optimal_mbk_time uses optimal batch size and cluster to output desired variables"
   ]
  },
  {
   "cell_type": "code",
   "execution_count": 60,
   "metadata": {
    "collapsed": true
   },
   "outputs": [],
   "source": [
    "# create mini batch function that takes clustersize and batchsize as parameters\n",
    "def mbk_time(cluster_size, batch_size):\n",
    "    mbk = MiniBatchKMeans(init='k-means++', n_clusters=cluster_size, batch_size=batch_size,\n",
    "                      n_init=10, max_no_improvement=10, verbose=0)\n",
    "    t0 = time.time()\n",
    "    mbk.fit(pair_coordinates)\n",
    "    t_mini_batch = time.time() - t0\n",
    "    return t_mini_batch\n",
    "\n",
    "# create mini batch function that takes clustersize and batchsize as parameters\n",
    "def optimal_mbk_time(cluster_size, batch_size):\n",
    "    mbk = MiniBatchKMeans(init='k-means++', n_clusters=cluster_size, batch_size=batch_size,\n",
    "                      n_init=10, max_no_improvement=10, verbose=0)\n",
    "    t0 = time.time()\n",
    "    mbk.fit(pair_coordinates)\n",
    "    t_mini_batch = time.time() - t0\n",
    "    mbk_means_labels = mbk.labels_\n",
    "    mbk_means_cluster_centers = mbk.cluster_centers_\n",
    "    mbk_means_labels_unique = np.unique(mbk_means_labels)\n",
    "    return t_mini_batch, mbk_means_labels, mbk_means_cluster_centers, mbk_means_labels_unique"
   ]
  },
  {
   "cell_type": "markdown",
   "metadata": {},
   "source": [
    "** find optimal cluster size by using for loop **"
   ]
  },
  {
   "cell_type": "code",
   "execution_count": 61,
   "metadata": {
    "collapsed": false
   },
   "outputs": [],
   "source": [
    "mbk_means_batch = []\n",
    "x = 100\n",
    "while x < 10000:\n",
    "    mbk_means_batch.append((x,round(mbk_time(cluster_size=3, batch_size=x),2)))\n",
    "    x += 200"
   ]
  },
  {
   "cell_type": "code",
   "execution_count": 62,
   "metadata": {
    "collapsed": false
   },
   "outputs": [
    {
     "data": {
      "text/plain": [
       "[(100, 0.07), (300, 0.07)]"
      ]
     },
     "execution_count": 62,
     "metadata": {},
     "output_type": "execute_result"
    }
   ],
   "source": [
    "mbk_means_batch[:2]"
   ]
  },
  {
   "cell_type": "code",
   "execution_count": 63,
   "metadata": {
    "collapsed": false
   },
   "outputs": [
    {
     "data": {
      "text/plain": [
       "<matplotlib.axes._subplots.AxesSubplot at 0x10d54ff98>"
      ]
     },
     "execution_count": 63,
     "metadata": {},
     "output_type": "execute_result"
    },
    {
     "data": {
      "image/png": "[encoded data removed]",
      "text/plain": [
       "<matplotlib.figure.Figure at 0x10cbb2978>"
      ]
     },
     "metadata": {},
     "output_type": "display_data"
    }
   ],
   "source": [
    "# plot optimal max batch size\n",
    "mbk_batch_df = pd.DataFrame(mbk_means_batch)\n",
    "mbk_batch_df.columns = ['batch_size', 'mbk_time_batch']\n",
    "mbk_batch_df.plot(x = 'batch_size',y = 'mbk_time_batch')"
   ]
  },
  {
   "cell_type": "code",
   "execution_count": 64,
   "metadata": {
    "collapsed": false
   },
   "outputs": [
    {
     "name": "stdout",
     "output_type": "stream",
     "text": [
      "[ 500 1100]\n"
     ]
    }
   ],
   "source": [
    "# minimum batch around 3000\n",
    "min_batch = mbk_batch_df['batch_size'][mbk_batch_df['mbk_time_batch']==mbk_batch_df['mbk_time_batch'].min()].values\n",
    "print(min_batch)"
   ]
  },
  {
   "cell_type": "markdown",
   "metadata": {},
   "source": [
    "** apply clusters **"
   ]
  },
  {
   "cell_type": "code",
   "execution_count": 65,
   "metadata": {
    "collapsed": false
   },
   "outputs": [],
   "source": [
    "optimal_time, optimal_labels, optimal_centers, optimal_unique_labels = optimal_mbk_time(200,3000)"
   ]
  },
  {
   "cell_type": "code",
   "execution_count": 66,
   "metadata": {
    "collapsed": false
   },
   "outputs": [],
   "source": [
    "full_list = list(zip(optimal_labels, pair_coordinates, category_cluster))"
   ]
  },
  {
   "cell_type": "code",
   "execution_count": 67,
   "metadata": {
    "collapsed": false
   },
   "outputs": [
    {
     "data": {
      "image/png": "[encoded data removed]",
      "text/plain": [
       "<matplotlib.figure.Figure at 0x10a961e10>"
      ]
     },
     "metadata": {},
     "output_type": "display_data"
    }
   ],
   "source": [
    "cluster_color = [item[0] for item in full_list ]\n",
    "lat_mini = [item[1][0] for item in full_list]\n",
    "long_mini = [item[1][1] for item in full_list]\n",
    "\n",
    "# df = pandas.DataFrame(dict(lat_mini=lat_mini, long_mini=long_mini, cluster_color=cluster_color))\n",
    "\n",
    "# #df = pandas.DataFrame(lat_mini=lat_mini, long_mini=long_mini, cluster_color=cluster_color)\n",
    "# df.plot(kind='scatter', x='lat_mini', y='long_mini', color='DarkBlue')\n",
    "\n",
    "df_clustering = pd.DataFrame(dict(lat_mini=lat_mini, long_mini=long_mini, cluster_color=cluster_color, category=category_cluster))\n",
    "\n",
    "groups = df_clustering.groupby('cluster_color')\n",
    "\n",
    "# Plot\n",
    "fig, ax = plt.subplots()\n",
    "ax.margins(0.05) # Optional, just adds 5% padding to the autoscaling\n",
    "for name, group in groups:\n",
    "    ax.plot(group.lat_mini, group.long_mini, marker='.', linestyle='', ms=2, label=name)\n",
    "#ax.legend()\n",
    "plt.xlim(3380, 3395)\n",
    "plt.ylim(-13810, -13785)\n",
    "plt.show()"
   ]
  },
  {
   "cell_type": "code",
   "execution_count": 68,
   "metadata": {
    "collapsed": false
   },
   "outputs": [
    {
     "data": {
      "text/html": [
       "<div>\n",
       "<table border=\"1\" class=\"dataframe\">\n",
       "  <thead>\n",
       "    <tr style=\"text-align: right;\">\n",
       "      <th></th>\n",
       "      <th>category</th>\n",
       "      <th>cluster_color</th>\n",
       "      <th>lat_mini</th>\n",
       "      <th>long_mini</th>\n",
       "    </tr>\n",
       "  </thead>\n",
       "  <tbody>\n",
       "    <tr>\n",
       "      <th>0</th>\n",
       "      <td>ASSAULT</td>\n",
       "      <td>3</td>\n",
       "      <td>3386.833900</td>\n",
       "      <td>-13799.459307</td>\n",
       "    </tr>\n",
       "    <tr>\n",
       "      <th>1</th>\n",
       "      <td>LARCENY/THEFT</td>\n",
       "      <td>141</td>\n",
       "      <td>3391.177927</td>\n",
       "      <td>-13795.922983</td>\n",
       "    </tr>\n",
       "    <tr>\n",
       "      <th>2</th>\n",
       "      <td>LARCENY/THEFT</td>\n",
       "      <td>192</td>\n",
       "      <td>3387.229847</td>\n",
       "      <td>-13798.441416</td>\n",
       "    </tr>\n",
       "    <tr>\n",
       "      <th>3</th>\n",
       "      <td>LARCENY/THEFT</td>\n",
       "      <td>92</td>\n",
       "      <td>3389.994575</td>\n",
       "      <td>-13797.523729</td>\n",
       "    </tr>\n",
       "    <tr>\n",
       "      <th>4</th>\n",
       "      <td>DRUG/NARCOTIC</td>\n",
       "      <td>147</td>\n",
       "      <td>3389.097892</td>\n",
       "      <td>-13796.248818</td>\n",
       "    </tr>\n",
       "  </tbody>\n",
       "</table>\n",
       "</div>"
      ],
      "text/plain": [
       "        category  cluster_color     lat_mini     long_mini\n",
       "0        ASSAULT              3  3386.833900 -13799.459307\n",
       "1  LARCENY/THEFT            141  3391.177927 -13795.922983\n",
       "2  LARCENY/THEFT            192  3387.229847 -13798.441416\n",
       "3  LARCENY/THEFT             92  3389.994575 -13797.523729\n",
       "4  DRUG/NARCOTIC            147  3389.097892 -13796.248818"
      ]
     },
     "execution_count": 68,
     "metadata": {},
     "output_type": "execute_result"
    }
   ],
   "source": [
    "df_clustering.head()"
   ]
  },
  {
   "cell_type": "code",
   "execution_count": 69,
   "metadata": {
    "collapsed": false
   },
   "outputs": [
    {
     "data": {
      "image/png": "[encoded data removed]",
      "text/plain": [
       "<matplotlib.figure.Figure at 0x10c212278>"
      ]
     },
     "metadata": {},
     "output_type": "display_data"
    }
   ],
   "source": [
    "df_clustering2 = pd.DataFrame(dict(lat_mini=lat_mini, long_mini=long_mini, cluster_color=cluster_color, category=category_cluster))\n",
    "df_clustering2 = df_clustering2[df_clustering2.category==\"ASSAULT\"]\n",
    "\n",
    "groups2 = df_clustering2.groupby('cluster_color')\n",
    "\n",
    "# Plot\n",
    "fig, ax = plt.subplots()\n",
    "ax.margins(0.05) # Optional, just adds 5% padding to the autoscaling\n",
    "for name, group in groups2:\n",
    "    ax.plot(group.lat_mini, group.long_mini, marker='.', linestyle='', ms=2, label=name)\n",
    "#ax.legend()\n",
    "plt.xlim(3380, 3395)\n",
    "plt.ylim(-13810, -13785)\n",
    "plt.show()"
   ]
  },
  {
   "cell_type": "markdown",
   "metadata": {
    "collapsed": true
   },
   "source": [
    "### use format_sfpd to start predicting"
   ]
  },
  {
   "cell_type": "code",
   "execution_count": 70,
   "metadata": {
    "collapsed": false
   },
   "outputs": [
    {
     "data": {
      "text/html": [
       "<div>\n",
       "<table border=\"1\" class=\"dataframe\">\n",
       "  <thead>\n",
       "    <tr style=\"text-align: right;\">\n",
       "      <th></th>\n",
       "      <th>Dates</th>\n",
       "      <th>Category</th>\n",
       "      <th>Descript</th>\n",
       "      <th>DayOfWeek</th>\n",
       "      <th>PdDistrict</th>\n",
       "      <th>Resolution</th>\n",
       "      <th>Address</th>\n",
       "      <th>X</th>\n",
       "      <th>Y</th>\n",
       "      <th>month_of_year</th>\n",
       "      <th>...</th>\n",
       "      <th>TARAVAL</th>\n",
       "      <th>TENDERLOIN</th>\n",
       "      <th>Friday</th>\n",
       "      <th>Monday</th>\n",
       "      <th>Saturday</th>\n",
       "      <th>Sunday</th>\n",
       "      <th>Thursday</th>\n",
       "      <th>Tuesday</th>\n",
       "      <th>Wednesday</th>\n",
       "      <th>dummy_Category</th>\n",
       "    </tr>\n",
       "  </thead>\n",
       "  <tbody>\n",
       "    <tr>\n",
       "      <th>0</th>\n",
       "      <td>2003-04-02 13:00:00</td>\n",
       "      <td>ASSAULT</td>\n",
       "      <td>THREATS AGAINST LIFE</td>\n",
       "      <td>Wednesday</td>\n",
       "      <td>PARK</td>\n",
       "      <td>NONE</td>\n",
       "      <td>500 Block of CORBETT AV</td>\n",
       "      <td>-122.444182</td>\n",
       "      <td>37.757346</td>\n",
       "      <td>4</td>\n",
       "      <td>...</td>\n",
       "      <td>0</td>\n",
       "      <td>0</td>\n",
       "      <td>0</td>\n",
       "      <td>0</td>\n",
       "      <td>0</td>\n",
       "      <td>0</td>\n",
       "      <td>0</td>\n",
       "      <td>0</td>\n",
       "      <td>1</td>\n",
       "      <td>1</td>\n",
       "    </tr>\n",
       "    <tr>\n",
       "      <th>1</th>\n",
       "      <td>2011-12-15 16:15:00</td>\n",
       "      <td>LARCENY/THEFT</td>\n",
       "      <td>GRAND THEFT PICKPOCKET</td>\n",
       "      <td>Thursday</td>\n",
       "      <td>CENTRAL</td>\n",
       "      <td>NONE</td>\n",
       "      <td>300 Block of BAY ST</td>\n",
       "      <td>-122.412804</td>\n",
       "      <td>37.805774</td>\n",
       "      <td>12</td>\n",
       "      <td>...</td>\n",
       "      <td>0</td>\n",
       "      <td>0</td>\n",
       "      <td>0</td>\n",
       "      <td>0</td>\n",
       "      <td>0</td>\n",
       "      <td>0</td>\n",
       "      <td>1</td>\n",
       "      <td>0</td>\n",
       "      <td>0</td>\n",
       "      <td>16</td>\n",
       "    </tr>\n",
       "    <tr>\n",
       "      <th>2</th>\n",
       "      <td>2015-03-04 01:55:00</td>\n",
       "      <td>LARCENY/THEFT</td>\n",
       "      <td>GRAND THEFT FROM PERSON</td>\n",
       "      <td>Wednesday</td>\n",
       "      <td>MISSION</td>\n",
       "      <td>NONE</td>\n",
       "      <td>400 Block of CASTRO ST</td>\n",
       "      <td>-122.435150</td>\n",
       "      <td>37.761760</td>\n",
       "      <td>3</td>\n",
       "      <td>...</td>\n",
       "      <td>0</td>\n",
       "      <td>0</td>\n",
       "      <td>0</td>\n",
       "      <td>0</td>\n",
       "      <td>0</td>\n",
       "      <td>0</td>\n",
       "      <td>0</td>\n",
       "      <td>0</td>\n",
       "      <td>1</td>\n",
       "      <td>16</td>\n",
       "    </tr>\n",
       "    <tr>\n",
       "      <th>3</th>\n",
       "      <td>2008-08-19 22:00:00</td>\n",
       "      <td>LARCENY/THEFT</td>\n",
       "      <td>GRAND THEFT FROM LOCKED AUTO</td>\n",
       "      <td>Tuesday</td>\n",
       "      <td>NORTHERN</td>\n",
       "      <td>NONE</td>\n",
       "      <td>2000 Block of WASHINGTON ST</td>\n",
       "      <td>-122.427007</td>\n",
       "      <td>37.792582</td>\n",
       "      <td>8</td>\n",
       "      <td>...</td>\n",
       "      <td>0</td>\n",
       "      <td>0</td>\n",
       "      <td>0</td>\n",
       "      <td>0</td>\n",
       "      <td>0</td>\n",
       "      <td>0</td>\n",
       "      <td>0</td>\n",
       "      <td>1</td>\n",
       "      <td>0</td>\n",
       "      <td>16</td>\n",
       "    </tr>\n",
       "    <tr>\n",
       "      <th>4</th>\n",
       "      <td>2014-04-16 12:58:00</td>\n",
       "      <td>DRUG/NARCOTIC</td>\n",
       "      <td>SALE OF BASE/ROCK COCAINE</td>\n",
       "      <td>Wednesday</td>\n",
       "      <td>TENDERLOIN</td>\n",
       "      <td>ARREST, BOOKED</td>\n",
       "      <td>TURK ST / HYDE ST</td>\n",
       "      <td>-122.415695</td>\n",
       "      <td>37.782585</td>\n",
       "      <td>4</td>\n",
       "      <td>...</td>\n",
       "      <td>0</td>\n",
       "      <td>1</td>\n",
       "      <td>0</td>\n",
       "      <td>0</td>\n",
       "      <td>0</td>\n",
       "      <td>0</td>\n",
       "      <td>0</td>\n",
       "      <td>0</td>\n",
       "      <td>1</td>\n",
       "      <td>7</td>\n",
       "    </tr>\n",
       "  </tbody>\n",
       "</table>\n",
       "<p>5 rows × 47 columns</p>\n",
       "</div>"
      ],
      "text/plain": [
       "                 Dates       Category                      Descript  \\\n",
       "0  2003-04-02 13:00:00        ASSAULT          THREATS AGAINST LIFE   \n",
       "1  2011-12-15 16:15:00  LARCENY/THEFT        GRAND THEFT PICKPOCKET   \n",
       "2  2015-03-04 01:55:00  LARCENY/THEFT       GRAND THEFT FROM PERSON   \n",
       "3  2008-08-19 22:00:00  LARCENY/THEFT  GRAND THEFT FROM LOCKED AUTO   \n",
       "4  2014-04-16 12:58:00  DRUG/NARCOTIC     SALE OF BASE/ROCK COCAINE   \n",
       "\n",
       "   DayOfWeek  PdDistrict      Resolution                      Address  \\\n",
       "0  Wednesday        PARK            NONE      500 Block of CORBETT AV   \n",
       "1   Thursday     CENTRAL            NONE          300 Block of BAY ST   \n",
       "2  Wednesday     MISSION            NONE       400 Block of CASTRO ST   \n",
       "3    Tuesday    NORTHERN            NONE  2000 Block of WASHINGTON ST   \n",
       "4  Wednesday  TENDERLOIN  ARREST, BOOKED            TURK ST / HYDE ST   \n",
       "\n",
       "            X          Y  month_of_year       ...        TARAVAL  TENDERLOIN  \\\n",
       "0 -122.444182  37.757346              4       ...              0           0   \n",
       "1 -122.412804  37.805774             12       ...              0           0   \n",
       "2 -122.435150  37.761760              3       ...              0           0   \n",
       "3 -122.427007  37.792582              8       ...              0           0   \n",
       "4 -122.415695  37.782585              4       ...              0           1   \n",
       "\n",
       "   Friday Monday Saturday Sunday  Thursday  Tuesday  Wednesday  dummy_Category  \n",
       "0       0      0        0      0         0        0          1               1  \n",
       "1       0      0        0      0         1        0          0              16  \n",
       "2       0      0        0      0         0        0          1              16  \n",
       "3       0      0        0      0         0        1          0              16  \n",
       "4       0      0        0      0         0        0          1               7  \n",
       "\n",
       "[5 rows x 47 columns]"
      ]
     },
     "execution_count": 70,
     "metadata": {},
     "output_type": "execute_result"
    }
   ],
   "source": [
    "train_df_new.head()"
   ]
  },
  {
   "cell_type": "markdown",
   "metadata": {},
   "source": [
    "## Train on smaller dataset"
   ]
  },
  {
   "cell_type": "code",
   "execution_count": 71,
   "metadata": {
    "collapsed": false
   },
   "outputs": [
    {
     "data": {
      "text/plain": [
       "(20000, 47)"
      ]
     },
     "execution_count": 71,
     "metadata": {},
     "output_type": "execute_result"
    }
   ],
   "source": [
    "train_df_new.shape"
   ]
  },
  {
   "cell_type": "code",
   "execution_count": 72,
   "metadata": {
    "collapsed": true
   },
   "outputs": [],
   "source": [
    "#training_data = format_sfpd[:10000]"
   ]
  },
  {
   "cell_type": "code",
   "execution_count": 73,
   "metadata": {
    "collapsed": false
   },
   "outputs": [],
   "source": [
    "#training_data.shape"
   ]
  },
  {
   "cell_type": "code",
   "execution_count": 74,
   "metadata": {
    "collapsed": false
   },
   "outputs": [
    {
     "data": {
      "text/plain": [
       "Index(['Dates', 'Category', 'Descript', 'DayOfWeek', 'PdDistrict',\n",
       "       'Resolution', 'Address', 'X', 'Y', 'month_of_year', 'day_of_month',\n",
       "       'hour_of_day', 'min_of_hour', 'WeekdayWeeekend', 'TimeOfDay', 'Season',\n",
       "       'Year', 'Month', 'Hour', 'Weekday', 'Weekend', 'Afternoon', 'Midnight',\n",
       "       'Morning', 'Night', 'Autumn', 'Spring', 'Summer', 'Winter', 'BAYVIEW',\n",
       "       'CENTRAL', 'INGLESIDE', 'MISSION', 'NORTHERN', 'PARK', 'RICHMOND',\n",
       "       'SOUTHERN', 'TARAVAL', 'TENDERLOIN', 'Friday', 'Monday', 'Saturday',\n",
       "       'Sunday', 'Thursday', 'Tuesday', 'Wednesday', 'dummy_Category'],\n",
       "      dtype='object')"
      ]
     },
     "execution_count": 74,
     "metadata": {},
     "output_type": "execute_result"
    }
   ],
   "source": [
    "train_df_new.columns"
   ]
  },
  {
   "cell_type": "code",
   "execution_count": 86,
   "metadata": {
    "collapsed": false
   },
   "outputs": [],
   "source": [
    "# Lat/Long\n",
    "X_feature = (True, 'X')\n",
    "Y_feature = (True, 'Y')\n",
    "\n",
    "# Time\n",
    "Month_feature = (False, 'month_of_year')\n",
    "Day_feature = (False, 'day_of_month')\n",
    "Hour_feature = (False, 'hour_of_day')\n",
    "Min_feature = (False, 'min_of_hour')\n",
    "\n",
    "# Day of Week\n",
    "Friday_feature = (True, 'Friday') \n",
    "Monday_feature = (True, 'Monday')\n",
    "Saturday_feature = (True, 'Saturday')\n",
    "Sunday_feature = (True, 'Sunday')\n",
    "Thursday_feature = (True, 'Thursday')\n",
    "Tuesday_feature = (True, 'Tuesday')\n",
    "Wednesday_feature = (True, 'Wednesday')\n",
    "\n",
    "#Weekday/Weekend\n",
    "Weekday_feature = (True, 'Weekday') \n",
    "Weekend_feature = (True, 'Weekend') \n",
    "\n",
    "#Season \n",
    "Autumn_feature = (True, 'Autumn') \n",
    "Spring_feature = (True, 'Spring') \n",
    "Summer_feature = (True, 'Summer') \n",
    "Winter_feature = (True, 'Winter') \n",
    "\n",
    "#Time of Day\n",
    "Midnight_feature = (True, 'Midnight') \n",
    "Morning_feature = (True, 'Morning') \n",
    "Afternoon_feature = (True, 'Afternoon') \n",
    "Night_feature = (True, 'Night') \n",
    "\n",
    "# District\n",
    "BAYV_feature = (True, 'BAYVIEW')\n",
    "CENT_feature = (True, 'CENTRAL')\n",
    "INGL_feature = (True, 'INGLESIDE')\n",
    "MISS_feature = (True, 'MISSION')\n",
    "NORT_feature = (True, 'NORTHERN')\n",
    "PARK_feature = (True, 'PARK')\n",
    "RICH_feature = (True, 'RICHMOND')\n",
    "SOUT_feature = (True, 'SOUTHERN')\n",
    "TARA_feature = (True, 'TARAVAL')\n",
    "TEND_feature = (True, 'TENDERLOIN')"
   ]
  },
  {
   "cell_type": "code",
   "execution_count": 87,
   "metadata": {
    "collapsed": false
   },
   "outputs": [
    {
     "data": {
      "text/plain": [
       "['X',\n",
       " 'Y',\n",
       " 'Monday',\n",
       " 'Friday',\n",
       " 'Monday',\n",
       " 'Saturday',\n",
       " 'Sunday',\n",
       " 'Thursday',\n",
       " 'Tuesday',\n",
       " 'Wednesday',\n",
       " 'Weekday',\n",
       " 'Weekend',\n",
       " 'Autumn',\n",
       " 'Spring',\n",
       " 'Summer',\n",
       " 'Winter',\n",
       " 'Midnight',\n",
       " 'Morning',\n",
       " 'Afternoon',\n",
       " 'Night',\n",
       " 'BAYVIEW',\n",
       " 'CENTRAL',\n",
       " 'INGLESIDE',\n",
       " 'MISSION',\n",
       " 'NORTHERN',\n",
       " 'PARK',\n",
       " 'RICHMOND',\n",
       " 'SOUTHERN',\n",
       " 'TARAVAL',\n",
       " 'TENDERLOIN']"
      ]
     },
     "execution_count": 87,
     "metadata": {},
     "output_type": "execute_result"
    }
   ],
   "source": [
    "#feature_list = [X_feature, Y_feature, Monday_feature, Day_feature, Hour_feature, Min_feature,\n",
    "#               Friday_feature, Monday_feature, Saturday_feature, Sunday_feature, Thursday_feature,\n",
    "#               Tuesday_feature, Wednesday_feature, BAYV_feature, CENT_feature, INGL_feature,\n",
    "#               MISS_feature, NORT_feature, PARK_feature, RICH_feature, SOUT_feature, TARA_feature, \n",
    "#               TEND_feature]\n",
    "\n",
    "feature_list = [X_feature, Y_feature,\n",
    "                Monday_feature, Day_feature, Hour_feature, Min_feature,\n",
    "                Friday_feature, Monday_feature, Saturday_feature, Sunday_feature, Thursday_feature,\n",
    "                Tuesday_feature, Wednesday_feature,Weekday_feature, Weekend_feature, Autumn_feature, Spring_feature,\n",
    "                Summer_feature, Winter_feature, Midnight_feature, Morning_feature, Afternoon_feature,\n",
    "                Night_feature, BAYV_feature, CENT_feature, INGL_feature,\n",
    "                MISS_feature, NORT_feature, PARK_feature, RICH_feature, SOUT_feature, TARA_feature, \n",
    "                TEND_feature]\n",
    "\n",
    "features = [str(x[1]) for x in feature_list if x[0]]\n",
    "features"
   ]
  },
  {
   "cell_type": "code",
   "execution_count": 88,
   "metadata": {
    "collapsed": true
   },
   "outputs": [],
   "source": [
    "# features = ['X', 'Y', 'month_of_year', 'day_of_month',\n",
    "#             'hour_of_day', 'min_of_hour', 'Friday', 'Monday', 'Saturday', 'Sunday',\n",
    "#             'Thursday', 'Tuesday', 'Wednesday']"
   ]
  },
  {
   "cell_type": "markdown",
   "metadata": {},
   "source": [
    "## SVM"
   ]
  },
  {
   "cell_type": "markdown",
   "metadata": {},
   "source": [
    "**1) svm with single fold**"
   ]
  },
  {
   "cell_type": "code",
   "execution_count": 89,
   "metadata": {
    "collapsed": false
   },
   "outputs": [],
   "source": [
    "x_train, x_test, y_train, y_test = cross_validation.train_test_split(\n",
    "    train_df_new[features], train_df_new['dummy_Category'], test_size=0.2, random_state=0)"
   ]
  },
  {
   "cell_type": "code",
   "execution_count": 90,
   "metadata": {
    "collapsed": false
   },
   "outputs": [
    {
     "name": "stdout",
     "output_type": "stream",
     "text": [
      "(16000, 30)\n",
      "(4000, 30)\n",
      "(16000,)\n",
      "(4000,)\n"
     ]
    }
   ],
   "source": [
    "print(x_train.shape)\n",
    "print(x_test.shape)\n",
    "print(y_train.shape)\n",
    "print(y_test.shape)"
   ]
  },
  {
   "cell_type": "code",
   "execution_count": 96,
   "metadata": {
    "collapsed": false
   },
   "outputs": [
    {
     "data": {
      "text/plain": [
       "17815    27\n",
       "18370    31\n",
       "1379     12\n",
       "14763    26\n",
       "7346     20\n",
       "Name: dummy_Category, dtype: int64"
      ]
     },
     "execution_count": 96,
     "metadata": {},
     "output_type": "execute_result"
    }
   ],
   "source": [
    "y_train.head()"
   ]
  },
  {
   "cell_type": "code",
   "execution_count": 97,
   "metadata": {
    "collapsed": false
   },
   "outputs": [
    {
     "data": {
      "text/plain": [
       "0.24399999999999999"
      ]
     },
     "execution_count": 97,
     "metadata": {},
     "output_type": "execute_result"
    }
   ],
   "source": [
    "#KNN - gives lowest error; does well with tons of data; ratio does not go to infiniti; data, ratio, (30 max)\n",
    "# extra features on day: holiday; weekend; weekday; time of year; but do exploratory analyssi to find best features\n",
    "# randomforest and decision tree will tell you the importance of feature\n",
    "# 2D kernel density estimation\n",
    "\n",
    "svc_model = svm.SVC(kernel = 'rbf', C=10.0).fit(x_train, y_train)\n",
    "\n",
    "svc_model.score(x_test, y_test) "
   ]
  },
  {
   "cell_type": "markdown",
   "metadata": {},
   "source": [
    "**2) svm with crossfolds**"
   ]
  },
  {
   "cell_type": "code",
   "execution_count": 81,
   "metadata": {
    "collapsed": false
   },
   "outputs": [
    {
     "name": "stdout",
     "output_type": "stream",
     "text": [
      "(16000, 22) (16000,)\n",
      "(4000, 22) (4000,)\n"
     ]
    }
   ],
   "source": [
    "print(x_train.shape, y_train.shape)\n",
    "print(x_test.shape, y_test.shape)"
   ]
  },
  {
   "cell_type": "code",
   "execution_count": 82,
   "metadata": {
    "collapsed": false
   },
   "outputs": [
    {
     "data": {
      "text/plain": [
       "Index(['X', 'Y', 'Weekday', 'Weekend', 'Autumn', 'Spring', 'Summer', 'Winter',\n",
       "       'Midnight', 'Morning', 'Afternoon', 'Night', 'BAYVIEW', 'CENTRAL',\n",
       "       'INGLESIDE', 'MISSION', 'NORTHERN', 'PARK', 'RICHMOND', 'SOUTHERN',\n",
       "       'TARAVAL', 'TENDERLOIN'],\n",
       "      dtype='object')"
      ]
     },
     "execution_count": 82,
     "metadata": {},
     "output_type": "execute_result"
    }
   ],
   "source": [
    "x_train.columns"
   ]
  },
  {
   "cell_type": "code",
   "execution_count": 83,
   "metadata": {
    "collapsed": false
   },
   "outputs": [
    {
     "name": "stdout",
     "output_type": "stream",
     "text": [
      "(20000, 22)\n",
      "(20000,)\n"
     ]
    }
   ],
   "source": [
    "print(train_df_new[features].shape)\n",
    "print(train_df_new['dummy_Category'].shape)"
   ]
  },
  {
   "cell_type": "code",
   "execution_count": 84,
   "metadata": {
    "collapsed": false
   },
   "outputs": [
    {
     "name": "stderr",
     "output_type": "stream",
     "text": [
      "/Users/carlo_liquido/anaconda/lib/python3.4/site-packages/sklearn/cross_validation.py:417: Warning: The least populated class in y has only 3 members, which is too few. The minimum number of labels for any class cannot be less than n_folds=5.\n",
      "  % (min_labels, self.n_folds)), Warning)\n"
     ]
    },
    {
     "data": {
      "text/plain": [
       "array([ 0.22366127,  0.22815776,  0.22888556,  0.2244489 ,  0.22007528])"
      ]
     },
     "execution_count": 84,
     "metadata": {},
     "output_type": "execute_result"
    }
   ],
   "source": [
    "svm_2 = svm.SVC(kernel = 'rbf', C=90.0)\n",
    "scores = cross_validation.cross_val_score(\n",
    "    svm_2, train_df_new[features], train_df_new['dummy_Category'], cv=5)\n",
    "scores"
   ]
  },
  {
   "cell_type": "code",
   "execution_count": null,
   "metadata": {
    "collapsed": true
   },
   "outputs": [],
   "source": [
    "SVM_tuned_parameters = [{'kernel': ['rbf'],\n",
    "                     'gamma': [1e-1, 1e-2, 1e-3, 1e-4], 'C': [1, 10, 50, 100, 500, 1000]}\n",
    "                   ]\n",
    "\n",
    "SVM_scores = ['precision', 'recall']"
   ]
  },
  {
   "cell_type": "code",
   "execution_count": null,
   "metadata": {
    "collapsed": false
   },
   "outputs": [],
   "source": [
    "print(SVM_tuned_parameters)\n",
    "print(SVM_scores)"
   ]
  },
  {
   "cell_type": "code",
   "execution_count": null,
   "metadata": {
    "collapsed": false
   },
   "outputs": [],
   "source": [
    "for score in SVM_scores:\n",
    "    print(\"# Tuning hyper-parameters for %s\" % score)\n",
    "    print()\n",
    "\n",
    "    clf = GridSearchCV(svm.SVC(C=1), SVM_tuned_parameters, cv=5,\n",
    "                       scoring='%s_weighted' % score)\n",
    "    clf.fit(x_train, y_train)\n",
    "\n",
    "    print(\"Best parameters set found on development set:\")\n",
    "    print()\n",
    "    print(clf.best_params_)\n",
    "    print()\n",
    "    print(\"Grid scores on development set:\")\n",
    "    print()\n",
    "    for params, mean_score, scores in clf.grid_scores_:\n",
    "        print(\"%0.3f (+/-%0.03f) for %r\"\n",
    "              % (mean_score, scores.std() * 2, params))\n",
    "    print()\n",
    "\n",
    "    print(\"Detailed classification report:\")\n",
    "    print()\n",
    "    print(\"The model is trained on the full development set.\")\n",
    "    print(\"The scores are computed on the full evaluation set.\")\n",
    "    print()\n",
    "    y_true, y_pred = y_test, clf.predict(x_test)\n",
    "    print(classification_report(y_true, y_pred))\n",
    "    print()"
   ]
  },
  {
   "cell_type": "markdown",
   "metadata": {},
   "source": [
    "## KNN"
   ]
  },
  {
   "cell_type": "code",
   "execution_count": 85,
   "metadata": {
    "collapsed": false
   },
   "outputs": [
    {
     "data": {
      "text/plain": [
       "0.17899999999999999"
      ]
     },
     "execution_count": 85,
     "metadata": {},
     "output_type": "execute_result"
    }
   ],
   "source": [
    "knn = KNeighborsClassifier()\n",
    "knn.fit(x_train, y_train) \n",
    "# KNeighborsClassifier(algorithm='auto', leaf_size=30, metric='minkowski',\n",
    "#            metric_params=None, n_jobs=1, n_neighbors=5, p=2,\n",
    "#            weights='uniform')\n",
    "knn.score(x_test, y_test) \n",
    "\n",
    "# knn.predict(x_test)\n",
    "# array([1, 2, 1, 0, 0, 0, 2, 1, 2, 0])\n",
    "# y_test\n",
    "# array([1, 1, 1, 0, 0, 0, 2, 1, 2, 0])"
   ]
  },
  {
   "cell_type": "code",
   "execution_count": null,
   "metadata": {
    "collapsed": true
   },
   "outputs": [],
   "source": []
  }
 ],
 "metadata": {
  "kernelspec": {
   "display_name": "Python 3",
   "language": "python",
   "name": "python3"
  },
  "language_info": {
   "codemirror_mode": {
    "name": "ipython",
    "version": 3
   },
   "file_extension": ".py",
   "mimetype": "text/x-python",
   "name": "python",
   "nbconvert_exporter": "python",
   "pygments_lexer": "ipython3",
   "version": "3.4.3"
  }
 },
 "nbformat": 4,
 "nbformat_minor": 0
}
